{
 "cells": [
  {
   "cell_type": "markdown",
   "id": "ad93e86f",
   "metadata": {},
   "source": [
    "# Creating Complex Numbers"
   ]
  },
  {
   "cell_type": "code",
   "execution_count": 5,
   "id": "0e692e3a",
   "metadata": {},
   "outputs": [],
   "source": [
    "# Using literals\n",
    "z1 = 3 + 4j\n",
    "z2 = 5 - 2j\n",
    "\n",
    "# Using constructor\n",
    "z3 = complex(3, 4)  # same as 3+4j\n",
    "z4 = complex(5, -2)"
   ]
  },
  {
   "cell_type": "code",
   "execution_count": 6,
   "id": "b211631a",
   "metadata": {},
   "outputs": [
    {
     "name": "stdout",
     "output_type": "stream",
     "text": [
      "3.0\n",
      "4.0\n"
     ]
    }
   ],
   "source": [
    "print(z1.real)  # Output: 3.0\n",
    "print(z1.imag)  # Output: 4.0"
   ]
  },
  {
   "cell_type": "markdown",
   "id": "efbad358",
   "metadata": {},
   "source": [
    "# Built-in Functions"
   ]
  },
  {
   "cell_type": "code",
   "execution_count": 4,
   "id": "80fc7a37",
   "metadata": {},
   "outputs": [
    {
     "name": "stdout",
     "output_type": "stream",
     "text": [
      "5.0\n",
      "(3-4j)\n"
     ]
    }
   ],
   "source": [
    "z = 3 + 4j\n",
    "print(abs(z))          # Output: 5.0 (magnitude)\n",
    "print(z.conjugate())   # Output: (3-4j)"
   ]
  },
  {
   "cell_type": "code",
   "execution_count": null,
   "id": "8aadd793",
   "metadata": {},
   "outputs": [],
   "source": []
  }
 ],
 "metadata": {
  "kernelspec": {
   "display_name": "Python 3 (ipykernel)",
   "language": "python",
   "name": "python3"
  },
  "language_info": {
   "codemirror_mode": {
    "name": "ipython",
    "version": 3
   },
   "file_extension": ".py",
   "mimetype": "text/x-python",
   "name": "python",
   "nbconvert_exporter": "python",
   "pygments_lexer": "ipython3",
   "version": "3.7.3"
  }
 },
 "nbformat": 4,
 "nbformat_minor": 5
}
