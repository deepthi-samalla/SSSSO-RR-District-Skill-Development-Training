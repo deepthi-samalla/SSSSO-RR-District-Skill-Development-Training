{
 "cells": [
  {
   "cell_type": "code",
   "execution_count": 1,
   "id": "9528d1dc",
   "metadata": {},
   "outputs": [
    {
     "name": "stdout",
     "output_type": "stream",
     "text": [
      "This line is present in example text file\n"
     ]
    }
   ],
   "source": [
    "# Example 1: Reading entire file content\n",
    "with open('example.txt', 'r') as file:\n",
    "    content = file.read()\n",
    "    print(content)"
   ]
  },
  {
   "cell_type": "code",
   "execution_count": 2,
   "id": "78d6871f",
   "metadata": {},
   "outputs": [
    {
     "name": "stdout",
     "output_type": "stream",
     "text": [
      "This is the first line in example text file\n",
      "This is the second line in example text file\n",
      "This is the third line in example text file\n",
      "This is the fourth line in example text file\n"
     ]
    }
   ],
   "source": [
    "# Example 2: Reading file line by line using readline()\n",
    "with open('example.txt', 'r') as file:\n",
    "    line = file.readline()\n",
    "    while line:\n",
    "        print(line.strip())\n",
    "        line = file.readline()"
   ]
  },
  {
   "cell_type": "code",
   "execution_count": 5,
   "id": "75424455",
   "metadata": {},
   "outputs": [
    {
     "name": "stdout",
     "output_type": "stream",
     "text": [
      "['This is the first line in example text file\\n', 'This is the second line in example text file\\n', 'This is the third line in example text file\\n', 'This is the fourth line in example text file']\n",
      "This is the first line in example text file\n",
      "This is the second line in example text file\n",
      "This is the third line in example text file\n",
      "This is the fourth line in example text file\n"
     ]
    }
   ],
   "source": [
    "# Example 3: Reading all lines into a list\n",
    "with open('example.txt', 'r') as file:\n",
    "    lines = file.readlines()\n",
    "    print(lines)\n",
    "    for line in lines:\n",
    "        print(line.strip())"
   ]
  },
  {
   "cell_type": "code",
   "execution_count": 6,
   "id": "c8621d7e",
   "metadata": {},
   "outputs": [
    {
     "name": "stdout",
     "output_type": "stream",
     "text": [
      "This is the first line in example text file\n",
      "This is the second line in example text file\n",
      "This is the third line in example text file\n",
      "This is the fourth line in example text file\n"
     ]
    }
   ],
   "source": [
    "# Example 4: Using a for loop directly on the file object\n",
    "with open('example.txt', 'r') as file:\n",
    "    for line in file:\n",
    "        print(line.strip())"
   ]
  },
  {
   "cell_type": "code",
   "execution_count": 7,
   "id": "033a421e",
   "metadata": {},
   "outputs": [
    {
     "name": "stdout",
     "output_type": "stream",
     "text": [
      "This is the first line in example text file\n",
      "This is the second line in example text file\n",
      "This is the\n"
     ]
    }
   ],
   "source": [
    "# Example 5: Reading a specific number of characters\n",
    "with open('example.txt', 'r') as file:\n",
    "    content = file.read(100)  # read first 100 characters\n",
    "    print(content)"
   ]
  },
  {
   "cell_type": "code",
   "execution_count": null,
   "id": "921233f5",
   "metadata": {},
   "outputs": [
    {
     "name": "stdout",
     "output_type": "stream",
     "text": [
      "224566 bytes read\n"
     ]
    }
   ],
   "source": [
    "# Example 6: Reading file in binary mode\n",
    "#image.png --> 220KB\n",
    "with open('image.png', 'rb') as file:\n",
    "    data = file.read()\n",
    "    print(len(data), \"bytes read\")"
   ]
  },
  {
   "cell_type": "code",
   "execution_count": null,
   "id": "e13afacf",
   "metadata": {},
   "outputs": [],
   "source": []
  },
  {
   "cell_type": "markdown",
   "id": "74401859",
   "metadata": {},
   "source": [
    "Encoding is required when reading files because computers store text as sequences of bytes, and different encoding schemes map those bytes to different characters. Without specifying the correct encoding, the computer might interpret the bytes incorrectly, leading to corrupted or unreadable text. \n",
    "Here's a more detailed explanation:\n",
    "Files are stored as bytes:\n",
    "At the lowest level, files contain sequences of bytes (0s and 1s). \n",
    "Encoding translates bytes to characters:\n",
    "Character encodings (like UTF-8, ASCII, etc.) define how these bytes should be interpreted as characters (letters, numbers, symbols). \n",
    "Different encodings, different interpretations:\n",
    "Different encodings may assign different characters to the same sequence of bytes. \n",
    "Incorrect encoding leads to errors:\n",
    "If you try to read a file using the wrong encoding, the computer will misinterpret the bytes, resulting in incorrect characters or even garbled text. \n",
    "Example:\n",
    "If a file was saved using UTF-8 encoding, but you try to read it using ASCII, characters outside the ASCII range (e.g., accented characters, symbols) will be displayed incorrectly or not at all. \n",
    "Importance of specifying encoding:\n",
    "By specifying the correct encoding when reading a file, you ensure that the computer correctly translates the bytes into the intended characters, preserving the original text. "
   ]
  },
  {
   "cell_type": "markdown",
   "id": "56a27f0d",
   "metadata": {},
   "source": [
    "### Writing Files in Python"
   ]
  },
  {
   "cell_type": "code",
   "execution_count": null,
   "id": "8c26b998",
   "metadata": {},
   "outputs": [],
   "source": [
    "# Example 1: Writing a string to a file\n",
    "with open('output.txt', 'w') as file:\n",
    "    file.write(\"Hello, world!\\n\")"
   ]
  },
  {
   "cell_type": "markdown",
   "id": "24e7bb99",
   "metadata": {},
   "source": [
    "### Json Files"
   ]
  },
  {
   "cell_type": "code",
   "execution_count": 22,
   "id": "d12efeaf",
   "metadata": {},
   "outputs": [],
   "source": [
    "import json\n",
    "\n",
    "data = {'name': 'John', 'age': 40, 'city': 'Boston'}\n",
    "with open('data.json', 'w') as f:\n",
    "    json.dump(data, f)"
   ]
  },
  {
   "cell_type": "markdown",
   "id": "edc78475",
   "metadata": {},
   "source": [
    "CSV Files"
   ]
  },
  {
   "cell_type": "code",
   "execution_count": 23,
   "id": "4870ae27",
   "metadata": {},
   "outputs": [],
   "source": [
    "import csv\n",
    "\n",
    "with open('output.csv', 'w', newline='') as csvfile:\n",
    "    writer = csv.writer(csvfile)\n",
    "    writer.writerow(['Name', 'Age', 'City'])\n",
    "    writer.writerow(['Alice', 30, 'New York'])"
   ]
  },
  {
   "cell_type": "code",
   "execution_count": 24,
   "id": "897d56d9",
   "metadata": {},
   "outputs": [
    {
     "name": "stdout",
     "output_type": "stream",
     "text": [
      "This is the first line in example text file\n",
      "This is the second line in example text file\n",
      "This is the third line in example text file\n",
      "This is the fourth line in example text file\n"
     ]
    }
   ],
   "source": [
    "with open('example.txt', 'r') as file:\n",
    "    content = file.read()\n",
    "    print(content)"
   ]
  },
  {
   "cell_type": "code",
   "execution_count": 25,
   "id": "7731e3bc",
   "metadata": {},
   "outputs": [
    {
     "name": "stdout",
     "output_type": "stream",
     "text": [
      "line : This is the first line in example text file\n",
      "\n",
      "This is the first line in example text file\n",
      "This is the second line in example text file\n",
      "This is the third line in example text file\n",
      "This is the fourth line in example text file\n"
     ]
    }
   ],
   "source": [
    "# Example 2: Reading file line by line using readline()\n",
    "with open('example.txt', 'r') as file:\n",
    "    line = file.readline()\n",
    "    print(f\"line : {line}\" )\n",
    "    while line:\n",
    "        print(line.strip())\n",
    "        line = file.readline()"
   ]
  },
  {
   "cell_type": "code",
   "execution_count": 26,
   "id": "3416e8bf",
   "metadata": {},
   "outputs": [
    {
     "name": "stdout",
     "output_type": "stream",
     "text": [
      "['This is the first line in example text file\\n', 'This is the second line in example text file\\n', 'This is the third line in example text file\\n', 'This is the fourth line in example text file']\n",
      "This is the first line in example text file\n",
      "This is the second line in example text file\n",
      "This is the third line in example text file\n",
      "This is the fourth line in example text file\n"
     ]
    }
   ],
   "source": [
    "# Example 3: Reading all lines into a list\n",
    "\n",
    "with open('example.txt', 'r') as file:\n",
    "    lines = file.readlines()\n",
    "    print(lines)\n",
    "    for line in lines:\n",
    "        print(line.strip())"
   ]
  },
  {
   "cell_type": "code",
   "execution_count": 27,
   "id": "3894d8c4",
   "metadata": {},
   "outputs": [
    {
     "name": "stdout",
     "output_type": "stream",
     "text": [
      "This is the first line in example text file\n",
      "This is the second line in example text file\n",
      "This is the third line in example text file\n",
      "This is the fourth line in example text file\n"
     ]
    }
   ],
   "source": [
    "# Example 4: Using a for loop directly on the file object\n",
    "with open('example.txt', 'r') as file:\n",
    "    for line in file:\n",
    "        print(line.strip())"
   ]
  },
  {
   "cell_type": "code",
   "execution_count": 28,
   "id": "e2348ac9",
   "metadata": {},
   "outputs": [
    {
     "name": "stdout",
     "output_type": "stream",
     "text": [
      "This is the first line in example text file\n",
      "This is the second line in example text file\n",
      "This is the\n"
     ]
    }
   ],
   "source": [
    "# Example 5: Reading a specific number of characters\n",
    "with open('example.txt', 'r') as file:\n",
    "    content = file.read(100)  # read first 100 characters\n",
    "    print(content)"
   ]
  },
  {
   "cell_type": "code",
   "execution_count": 29,
   "id": "14e8ad94",
   "metadata": {},
   "outputs": [
    {
     "name": "stdout",
     "output_type": "stream",
     "text": [
      "224566 bytes read\n"
     ]
    }
   ],
   "source": [
    "# Example 6: Reading file in binary mode\n",
    "with open('image.png', 'rb') as file:\n",
    "    data = file.read()\n",
    "    print(len(data), \"bytes read\")"
   ]
  },
  {
   "cell_type": "code",
   "execution_count": 30,
   "id": "62c42f9b",
   "metadata": {},
   "outputs": [
    {
     "name": "stdout",
     "output_type": "stream",
     "text": [
      "File not found!\n"
     ]
    }
   ],
   "source": [
    "# Example 10: Handling file not found error\n",
    "try:\n",
    "    with open('missing.txt', 'r') as file:\n",
    "        content = file.read()\n",
    "except FileNotFoundError:\n",
    "    print(\"File not found!\")"
   ]
  },
  {
   "cell_type": "markdown",
   "id": "57f54fb1",
   "metadata": {},
   "source": [
    "Writing Files in Python"
   ]
  },
  {
   "cell_type": "code",
   "execution_count": 33,
   "id": "bcda9670",
   "metadata": {},
   "outputs": [],
   "source": [
    "# Example 1: Writing a string to a file\n",
    "with open('output.txt', 'w') as file:\n",
    "    file.write(\"Hello, world!\\n\")"
   ]
  },
  {
   "cell_type": "code",
   "execution_count": 32,
   "id": "203de2ce",
   "metadata": {},
   "outputs": [],
   "source": [
    "with open('output.txt', 'w') as file:\n",
    "    file.write(\"Hello second world!\\n\")"
   ]
  },
  {
   "cell_type": "code",
   "execution_count": 34,
   "id": "5eb393fc",
   "metadata": {},
   "outputs": [],
   "source": [
    "with open('output.txt', 'w') as file:\n",
    "    file.write(\"Hello Third world!\\n\")"
   ]
  },
  {
   "cell_type": "code",
   "execution_count": 35,
   "id": "f840cc28",
   "metadata": {},
   "outputs": [],
   "source": [
    "with open('output.txt', 'a') as file:\n",
    "    file.write(\"Hello Fourth world!\\n\")\n",
    "    file.write(\"Hello Fifth world!\\n\")"
   ]
  },
  {
   "cell_type": "code",
   "execution_count": null,
   "id": "74629cf0",
   "metadata": {},
   "outputs": [],
   "source": [
    "# opencv -> read, write, modify images\n",
    "# pandas -> read, write, modify dataframes, excel files, csv files, etc\n"
   ]
  },
  {
   "cell_type": "code",
   "execution_count": 36,
   "id": "d0f2e673",
   "metadata": {},
   "outputs": [],
   "source": [
    "# Example 9: Writing lines from user input\n",
    "with open('user_input.txt', 'w') as file:\n",
    "    for _ in range(3):\n",
    "        line = input(\"Enter a line: \")\n",
    "        file.write(line + '\\\\n')"
   ]
  },
  {
   "cell_type": "code",
   "execution_count": 37,
   "id": "03000098",
   "metadata": {},
   "outputs": [],
   "source": [
    "# Example 10: Overwriting a file with empty content\n",
    "with open('output.txt', 'w') as file:\n",
    "    pass  # this truncates the file, making it empty"
   ]
  },
  {
   "cell_type": "code",
   "execution_count": 38,
   "id": "b7045ba3",
   "metadata": {},
   "outputs": [],
   "source": [
    "# Example 8: Delete files with specific extension in a directory\n",
    "import os\n",
    "folder = 'logs'\n",
    "for filename in os.listdir(folder):\n",
    "    if filename.endswith('.log'):\n",
    "        os.remove(os.path.join(folder, filename))"
   ]
  },
  {
   "cell_type": "code",
   "execution_count": 43,
   "id": "b528d901",
   "metadata": {},
   "outputs": [
    {
     "name": "stdout",
     "output_type": "stream",
     "text": [
      "['example.txt', 'example1.csv', 'example1.json', 'example1.log']\n",
      "example.txt\n",
      "example1.csv\n",
      "example1.json\n",
      "example1.log\n"
     ]
    }
   ],
   "source": [
    "# Example 8: Delete files with specific extension in a directory\n",
    "import os\n",
    "folder = 'logs'\n",
    "print(os.listdir(folder))\n",
    "\n",
    "for filename in os.listdir(folder):\n",
    "    print(filename)\n",
    "    if filename.endswith('.log'):\n",
    "        os.remove(os.path.join(folder, filename))\n"
   ]
  },
  {
   "cell_type": "code",
   "execution_count": null,
   "id": "bc9a98ba",
   "metadata": {},
   "outputs": [],
   "source": [
    "# Uses context manager to open a file and write to it\n",
    "with open('output.txt', 'w') as file:\n",
    "    file.write(\"Hello Third world!\\n\")"
   ]
  },
  {
   "cell_type": "code",
   "execution_count": null,
   "id": "990edf5f",
   "metadata": {},
   "outputs": [],
   "source": [
    "file1 = open('output.txt', 'w')\n",
    "file1.write(\"Hello Fourth world!\\n\")\n",
    "# file1.close()\n",
    "\n",
    "file2 = open('output.txt', 'w')\n",
    "file2 = open('output.txt', 'w')\n",
    "\n",
    "file3.write(\"Hello Fourth world!\\n\")\n",
    "file3.write(\"Hello Fourth world!\\n\")\n",
    "\n",
    "file1.close()\n",
    "file2.close()   \n",
    "file3.close()"
   ]
  },
  {
   "cell_type": "code",
   "execution_count": 44,
   "id": "284b2bbf",
   "metadata": {},
   "outputs": [],
   "source": [
    "import json # JavaScript Object Notation\n",
    "data = {\n",
    "    'name': 'Alice', \n",
    "    'age': 30,\n",
    "    'city': 'New York',\n",
    "    'skills': ['Python', 'JavaScript', 'SQL'],\n",
    "    'is_active': True,\n",
    "    'balance': 100.50\n",
    "    }\n",
    "with open('data.json', 'w') as file:\n",
    "    json.dump(data, file)"
   ]
  },
  {
   "cell_type": "markdown",
   "id": "fa1076db",
   "metadata": {},
   "source": [
    "### Working with Json"
   ]
  },
  {
   "cell_type": "code",
   "execution_count": null,
   "id": "00800cc2",
   "metadata": {},
   "outputs": [
    {
     "name": "stdout",
     "output_type": "stream",
     "text": [
      "<class 'dict'>\n",
      "{\"name\": \"Alice\", \"age\": 30, \"city\": \"New York\"}\n",
      "<class 'str'>\n"
     ]
    }
   ],
   "source": [
    "#Example 1: Convert Python dict to JSON string\n",
    "import json\n",
    "\n",
    "data = {'name': 'Alice', 'age': 30, 'city': 'New York'}\n",
    "print(type(data))\n",
    "json_str = json.dumps(data)\n",
    "print(json_str)\n",
    "print(type(json_str))"
   ]
  },
  {
   "cell_type": "code",
   "execution_count": null,
   "id": "39d301b8",
   "metadata": {},
   "outputs": [
    {
     "name": "stdout",
     "output_type": "stream",
     "text": [
      "<class 'str'>\n",
      "<class 'dict'>\n",
      "Bob\n"
     ]
    }
   ],
   "source": [
    "#Example 2: Convert JSON string to Python dict\n",
    "import json\n",
    "\n",
    "json_str = '{\"name\": \"Bob\", \"age\": 25, \"city\": \"Chicago\"}'\n",
    "print(type(json_str))\n",
    "data = json.loads(json_str)\n",
    "print(type(data))\n",
    "print(data['name'])"
   ]
  },
  {
   "cell_type": "code",
   "execution_count": 49,
   "id": "93dcdd7a",
   "metadata": {},
   "outputs": [],
   "source": [
    "# Example 3: Write JSON to a file\n",
    "import json\n",
    "\n",
    "data = {'name': 'John', 'age': 40, 'city': 'Boston'}\n",
    "with open('john_data.json', 'w') as f:\n",
    "    json.dump(data, f)"
   ]
  },
  {
   "cell_type": "code",
   "execution_count": 50,
   "id": "0fc84d78",
   "metadata": {},
   "outputs": [
    {
     "name": "stdout",
     "output_type": "stream",
     "text": [
      "{'name': 'John', 'age': 40, 'city': 'Boston'}\n"
     ]
    }
   ],
   "source": [
    "# Example 4: Read JSON from a file\n",
    "import json\n",
    "\n",
    "with open('john_data.json', 'r') as f:\n",
    "    data = json.load(f)\n",
    "print(data)"
   ]
  },
  {
   "cell_type": "code",
   "execution_count": 51,
   "id": "49ae231b",
   "metadata": {},
   "outputs": [
    {
     "name": "stdout",
     "output_type": "stream",
     "text": [
      "{\n",
      "    \"name\": \"Eve\",\n",
      "    \"age\": 22,\n",
      "    \"languages\": [\n",
      "        \"Python\",\n",
      "        \"JavaScript\"\n",
      "    ]\n",
      "}\n"
     ]
    }
   ],
   "source": [
    "# Example 5: Pretty-print JSON string with indentation\n",
    "import json\n",
    "\n",
    "data = {'name': 'Eve', 'age': 22, 'languages': ['Python', 'JavaScript']}\n",
    "json_str = json.dumps(data, indent=4)\n",
    "print(json_str)"
   ]
  },
  {
   "cell_type": "code",
   "execution_count": 52,
   "id": "115dd03d",
   "metadata": {},
   "outputs": [
    {
     "name": "stdout",
     "output_type": "stream",
     "text": [
      "{\"name\": \"José\", \"city\": \"München\"}\n"
     ]
    }
   ],
   "source": [
    "# Example 6: JSON with non-ASCII characters\n",
    "# ASCII - American Standard Code for Information Interchange\n",
    "# UTF-8 - Unicode Transformation Format\n",
    "\n",
    "import json\n",
    "\n",
    "data = {'name': 'José', 'city': 'München'}\n",
    "json_str = json.dumps(data, ensure_ascii=False)\n",
    "print(json_str)"
   ]
  },
  {
   "cell_type": "code",
   "execution_count": null,
   "id": "4de0dddd",
   "metadata": {},
   "outputs": [
    {
     "name": "stdout",
     "output_type": "stream",
     "text": [
      "{\"name\": \"Anna\", \"age\": 28}\n"
     ]
    }
   ],
   "source": [
    "# Example 7: Serialize custom Python object\n",
    "# Serialization - converting an object into a format that can be easily stored or transmitted\n",
    "# Deserialization - converting the stored or transmitted format back into an object\n",
    "import json\n",
    "\n",
    "class Person:\n",
    "    def __init__(self, name, age):\n",
    "        self.name = name\n",
    "        self.age = age\n",
    "\n",
    "def person_encoder(obj):\n",
    "    if isinstance(obj, Person):\n",
    "        return {'name': obj.name, 'age': obj.age}\n",
    "    raise TypeError('Object not serializable')\n",
    "\n",
    "p = Person('Anna', 28)\n",
    "json_str = json.dumps(p, default=person_encoder)\n",
    "print(json_str)"
   ]
  },
  {
   "cell_type": "code",
   "execution_count": null,
   "id": "71052239",
   "metadata": {},
   "outputs": [],
   "source": [
    "# Example 8: Deserialize JSON to custom Python object\n",
    "import json\n",
    "\n",
    "class Person:\n",
    "    def __init__(self, name, age):\n",
    "        self.name = name\n",
    "        self.age = age\n",
    "\n",
    "def person_decoder(d):\n",
    "    return Person(d['name'], d['age'])\n",
    "\n",
    "json_str = '{\"name\": \"Anna\", \"age\": 28}'\n",
    "p = json.loads(json_str, object_hook=person_decoder)\n",
    "print(p.name, p.age)"
   ]
  },
  {
   "cell_type": "code",
   "execution_count": 54,
   "id": "57faf5b1",
   "metadata": {},
   "outputs": [
    {
     "name": "stdout",
     "output_type": "stream",
     "text": [
      "Alice\n",
      "Bob\n",
      "Charlie\n"
     ]
    }
   ],
   "source": [
    "# Example 9: Handling JSON arrays\n",
    "import json\n",
    "\n",
    "json_str = '[{\"name\": \"Alice\"}, {\"name\": \"Bob\"}, {\"name\": \"Charlie\"}]'\n",
    "data = json.loads(json_str)\n",
    "for item in data:\n",
    "    print(item['name'])"
   ]
  },
  {
   "cell_type": "code",
   "execution_count": 55,
   "id": "54031b98",
   "metadata": {},
   "outputs": [
    {
     "name": "stdout",
     "output_type": "stream",
     "text": [
      "{\"numbers\": [1, 2, 3]}\n"
     ]
    }
   ],
   "source": [
    "# Example 10: Encoding Python sets (not supported natively)\n",
    "import json\n",
    "\n",
    "def set_encoder(obj):\n",
    "    if isinstance(obj, set):\n",
    "        return list(obj)\n",
    "    raise TypeError('Type not serializable')\n",
    "\n",
    "data = {'numbers': {1, 2, 3}}\n",
    "json_str = json.dumps(data, default=set_encoder)\n",
    "print(json_str)"
   ]
  }
 ],
 "metadata": {
  "kernelspec": {
   "display_name": "Python 3",
   "language": "python",
   "name": "python3"
  },
  "language_info": {
   "codemirror_mode": {
    "name": "ipython",
    "version": 3
   },
   "file_extension": ".py",
   "mimetype": "text/x-python",
   "name": "python",
   "nbconvert_exporter": "python",
   "pygments_lexer": "ipython3",
   "version": "3.13.4"
  }
 },
 "nbformat": 4,
 "nbformat_minor": 5
}
