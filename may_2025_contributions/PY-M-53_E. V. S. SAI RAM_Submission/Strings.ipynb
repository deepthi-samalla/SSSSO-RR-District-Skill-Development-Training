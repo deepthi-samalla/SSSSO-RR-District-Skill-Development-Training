{
 "cells": [
  {
   "cell_type": "code",
   "execution_count": 1,
   "id": "8f3d314d-4207-4987-a276-b6d6f1569b0e",
   "metadata": {},
   "outputs": [
    {
     "name": "stdin",
     "output_type": "stream",
     "text": [
      "enter a string :  python\n"
     ]
    },
    {
     "name": "stdout",
     "output_type": "stream",
     "text": [
      " first character of string python is p and last character is n\n"
     ]
    }
   ],
   "source": [
    "\"\"\"1. Write a Python program to get the first and last character of a string.\"\"\"\n",
    "\n",
    "str1 = input(\"enter a string : \")\n",
    "print(f\" first character of string {str1} is {str1[0]} and last character is {str1[-1]}\")"
   ]
  },
  {
   "cell_type": "code",
   "execution_count": 2,
   "id": "695078ea-ff01-4afc-bde8-c70585edb69a",
   "metadata": {},
   "outputs": [
    {
     "name": "stdin",
     "output_type": "stream",
     "text": [
      "enter a string :  madam\n"
     ]
    },
    {
     "name": "stdout",
     "output_type": "stream",
     "text": [
      "String is a palindrome\n"
     ]
    }
   ],
   "source": [
    "\"\"\"2. Check whether a string is palindrome or not (e.g., \"madam\").\"\"\"\n",
    "str2 = input(\"enter a string : \")\n",
    "\n",
    "if str2 == str2[::-1]:\n",
    "    print(\"String is a palindrome\")\n",
    "else:\n",
    "    print(\"String is not a palindrome\")    \n"
   ]
  },
  {
   "cell_type": "code",
   "execution_count": 3,
   "id": "87817071-5433-411c-b1a5-f495772b35ff",
   "metadata": {},
   "outputs": [
    {
     "name": "stdin",
     "output_type": "stream",
     "text": [
      "enter a string :  hello\n"
     ]
    },
    {
     "name": "stdout",
     "output_type": "stream",
     "text": [
      " length of string hello is 5\n"
     ]
    }
   ],
   "source": [
    "\"\"\"3. Use len() to find the length of any input string.\"\"\"\n",
    "str3 = input(\"enter a string : \")\n",
    "print(f\" length of string {str3} is {len(str3)}\")"
   ]
  },
  {
   "cell_type": "code",
   "execution_count": 4,
   "id": "1e8b75f9-d941-4939-8670-0a95d39c64df",
   "metadata": {},
   "outputs": [
    {
     "name": "stdin",
     "output_type": "stream",
     "text": [
      "enter a string :  sairam\n"
     ]
    },
    {
     "name": "stdout",
     "output_type": "stream",
     "text": [
      " UpperCase of string sairam is SAIRAM\n"
     ]
    }
   ],
   "source": [
    "\"\"\"4. Convert a given string to uppercase and lowercase using string methods\"\"\"\n",
    "str4 = input(\"enter a string : \")\n",
    "print(f\" UpperCase of string {str4} is {str4.upper()}\")"
   ]
  },
  {
   "cell_type": "code",
   "execution_count": 5,
   "id": "3a9886dc-c1dc-40ef-af31-75bc6ce9d639",
   "metadata": {},
   "outputs": [
    {
     "name": "stdin",
     "output_type": "stream",
     "text": [
      "enter a string :  hello\n",
      "enter a string :  hi\n"
     ]
    },
    {
     "name": "stdout",
     "output_type": "stream",
     "text": [
      "concatenated string is              hellohi\n"
     ]
    }
   ],
   "source": [
    "\"\"\" 5. Concatenate two strings using + operator and .format() \"\"\"\n",
    "str5a = input(\"enter a string : \")\n",
    "str5b = input(\"enter a string : \")\n",
    "final = str5a+str5b\n",
    "print(\"concatenated string is {:>20}\".format(final))"
   ]
  },
  {
   "cell_type": "code",
   "execution_count": 6,
   "id": "7f5b5298-8f6c-42c7-b405-bfcdc052dc98",
   "metadata": {},
   "outputs": [
    {
     "name": "stdin",
     "output_type": "stream",
     "text": [
      "enter a string :  python\n"
     ]
    },
    {
     "name": "stdout",
     "output_type": "stream",
     "text": [
      " index 0 element is p\n",
      " index 1 element is y\n",
      " index 2 element is t\n",
      " index 3 element is h\n",
      " index 4 element is o\n",
      " index 5 element is n\n"
     ]
    }
   ],
   "source": [
    "\"\"\" 6.Print each character in a string using indexing and a loop \"\"\"\n",
    "str6 = input(\"enter a string : \")\n",
    "for i in range(len(str6)):\n",
    "    print(f\" index {i} element is {str6[i]}\")"
   ]
  },
  {
   "cell_type": "code",
   "execution_count": 7,
   "id": "af03b3ad-94eb-4664-96d3-685bad4f939f",
   "metadata": {},
   "outputs": [
    {
     "name": "stdin",
     "output_type": "stream",
     "text": [
      "enter a string :  sairamsir\n"
     ]
    },
    {
     "name": "stdout",
     "output_type": "stream",
     "text": [
      " index 0 element is s\n",
      " index 2 element is i\n",
      " index 4 element is a\n",
      " index 6 element is s\n",
      " index 8 element is r\n"
     ]
    }
   ],
   "source": [
    "\"\"\" 7.Slice a string to get every second character from index 1 to 10 \"\"\"\n",
    "str7 = input(\"enter a string : \")\n",
    "\n",
    "for i in range(0, len(str7), 2):\n",
    "    if i <11:\n",
    "        print(f\" index {i} element is {str7[i]}\")    "
   ]
  },
  {
   "cell_type": "code",
   "execution_count": 8,
   "id": "7bfc9321-ce64-4906-8c98-2b037a0d1e0e",
   "metadata": {},
   "outputs": [
    {
     "name": "stdin",
     "output_type": "stream",
     "text": [
      "enter a string :  sairam\n",
      "enter a char :  a\n"
     ]
    },
    {
     "name": "stdout",
     "output_type": "stream",
     "text": [
      " in string sairam occurances of a is 2 times\n"
     ]
    }
   ],
   "source": [
    "\"\"\"8. Use count() to find the number of occurrences of a character in a string.\"\"\"\n",
    "str8 = input(\"enter a string : \")\n",
    "\n",
    "char = input(\"enter a char : \") \n",
    "\n",
    "print(f\" in string {str8} occurances of {char} is {str8.count(char)} times\")"
   ]
  },
  {
   "cell_type": "code",
   "execution_count": 9,
   "id": "3023b402-a084-4545-8432-bda92f3ee4d7",
   "metadata": {},
   "outputs": [
    {
     "name": "stdin",
     "output_type": "stream",
     "text": [
      "enter a string :  sairam help needed\n",
      "enter a sub string :  help\n"
     ]
    },
    {
     "name": "stdout",
     "output_type": "stream",
     "text": [
      "True\n"
     ]
    }
   ],
   "source": [
    "\"\"\"9. Check if a substring is present in a given string using in.\"\"\"\n",
    "str9 = input(\"enter a string : \")\n",
    "str9sub =  input(\"enter a sub string : \")\n",
    "print(str9sub in str9)"
   ]
  },
  {
   "cell_type": "code",
   "execution_count": 10,
   "id": "0f5d3846-51e8-40ce-84fd-0841c2830691",
   "metadata": {},
   "outputs": [
    {
     "name": "stdin",
     "output_type": "stream",
     "text": [
      "enter a name :  sairam\n"
     ]
    },
    {
     "name": "stdout",
     "output_type": "stream",
     "text": [
      "greetings                           sairam\n"
     ]
    }
   ],
   "source": [
    "\"\"\"10. Take a user's name as input and print a greeting using .format()\"\"\"\n",
    "str10 = input(\"enter a name : \")\n",
    "print(\"{:<20}  {:>20}\".format(\"greetings\" , str10))"
   ]
  },
  {
   "cell_type": "code",
   "execution_count": 11,
   "id": "05494991-b7f1-428f-80a3-93009c238d73",
   "metadata": {},
   "outputs": [
    {
     "name": "stdin",
     "output_type": "stream",
     "text": [
      "enter a string :  sairam\n"
     ]
    },
    {
     "name": "stdout",
     "output_type": "stream",
     "text": [
      "reverse of sairam is marias\n"
     ]
    }
   ],
   "source": [
    "\"\"\"11. Write a function to reverse a string using slicing\"\"\"\n",
    "\n",
    "def reverse_string(s):\n",
    "    return s[::-1]\n",
    "\n",
    "str11 = input(\"enter a string : \")\n",
    "reversed_string = reverse_string(str11)\n",
    "print(f\"reverse of {str10} is {reversed_string}\")"
   ]
  },
  {
   "cell_type": "code",
   "execution_count": 12,
   "id": "697e0fdf-8474-4669-9678-0285ba1de45b",
   "metadata": {},
   "outputs": [
    {
     "name": "stdin",
     "output_type": "stream",
     "text": [
      "enter a string :  123456\n"
     ]
    },
    {
     "name": "stdout",
     "output_type": "stream",
     "text": [
      "The string contains only digits.\n"
     ]
    }
   ],
   "source": [
    "\"\"\"12. Check whether a string contains only digits using built-in functions\"\"\"\n",
    "\n",
    "str12 = input(\"enter a string : \")\n",
    "\n",
    "if str12.isdigit():\n",
    "    print(\"The string contains only digits.\")\n",
    "else:\n",
    "    print(\"The string contains non-digit characters aswell.\")\n"
   ]
  },
  {
   "cell_type": "code",
   "execution_count": 13,
   "id": "c7e6bb2a-62cb-4948-b30b-f437ec1fc3de",
   "metadata": {},
   "outputs": [
    {
     "name": "stdin",
     "output_type": "stream",
     "text": [
      "enter a string :  sai ram\n"
     ]
    },
    {
     "name": "stdout",
     "output_type": "stream",
     "text": [
      "updated string is sai-ram\n"
     ]
    }
   ],
   "source": [
    "\"\"\"13. Replace all spaces in a string with dashes\"\"\"\n",
    "str13 = input(\"enter a string : \")\n",
    "new_str13 = str13.replace(\" \", \"-\")\n",
    "print(f\"updated string is {new_str13}\")"
   ]
  },
  {
   "cell_type": "code",
   "execution_count": 14,
   "id": "7ea1c964-e27d-4148-b099-d1a7296eb196",
   "metadata": {},
   "outputs": [
    {
     "name": "stdin",
     "output_type": "stream",
     "text": [
      "enter a string :  sairam how are you\n"
     ]
    },
    {
     "name": "stdout",
     "output_type": "stream",
     "text": [
      "capitalized string is Sairam How Are You\n"
     ]
    }
   ],
   "source": [
    "\"\"\"14. Capitalize the first letter of every word in a sentence using title()\"\"\"\n",
    "str14 = input(\"enter a string : \")\n",
    "print(f\"capitalized string is {str14.title()}\")\n"
   ]
  },
  {
   "cell_type": "code",
   "execution_count": 15,
   "id": "95f77e3e-227a-4994-98d2-c537d41da0a9",
   "metadata": {},
   "outputs": [
    {
     "name": "stdin",
     "output_type": "stream",
     "text": [
      "enter a string :  hello\n",
      "enter a string :  Hello\n"
     ]
    },
    {
     "name": "stdout",
     "output_type": "stream",
     "text": [
      "both strings are same\n"
     ]
    }
   ],
   "source": [
    "\"\"\"15. Compare two strings for equality, ignoring case sensitivity\"\"\"\n",
    "str15a = input(\"enter a string : \")\n",
    "str15b = input(\"enter a string : \")\n",
    "\n",
    "if str15a.lower() == str15b.lower():\n",
    "    print(\"both strings are same\")\n",
    "else:\n",
    "    print(\"both strings are different\")"
   ]
  },
  {
   "cell_type": "code",
   "execution_count": 16,
   "id": "027901f9-bd41-499c-b310-75fb15e6ab49",
   "metadata": {},
   "outputs": [
    {
     "name": "stdin",
     "output_type": "stream",
     "text": [
      "enter a string :  hello,sairam,hi\n"
     ]
    },
    {
     "name": "stdout",
     "output_type": "stream",
     "text": [
      "['hello', 'sairam', 'hi']\n"
     ]
    }
   ],
   "source": [
    "\"\"\"16. Split a string on a comma and print each element\"\"\"\n",
    "str16 = input(\"enter a string : \")\n",
    "\n",
    "print(str16.split(','))"
   ]
  },
  {
   "cell_type": "code",
   "execution_count": 17,
   "id": "50659a91-2029-4245-8673-e4669f089ba8",
   "metadata": {},
   "outputs": [
    {
     "name": "stdin",
     "output_type": "stream",
     "text": [
      "enter a string :  hello! \"I know\"\n"
     ]
    },
    {
     "name": "stdout",
     "output_type": "stream",
     "text": [
      "after removing punctuation : hello I know\n"
     ]
    }
   ],
   "source": [
    "\"\"\"17. Remove all punctuation from a sentence (hint: use string.punctuation)\"\"\"\n",
    "import string # module to be imported to use its content\n",
    "str17 = input(\"enter a string : \")\n",
    "str17_copy = str17\n",
    "\n",
    "for i in range(0,len(str17)):\n",
    "    if str17[i] in string.punctuation :\n",
    "        str17_copy = str17_copy.replace(str17[i], '')\n",
    "\n",
    "print(f\"after removing punctuation : {str17_copy}\")"
   ]
  },
  {
   "cell_type": "code",
   "execution_count": 18,
   "id": "08b8ffb9-aa76-4b8a-a5bd-770e18953f88",
   "metadata": {},
   "outputs": [
    {
     "name": "stdin",
     "output_type": "stream",
     "text": [
      "enter a emailid :  sairam@gmail.com\n"
     ]
    },
    {
     "name": "stdout",
     "output_type": "stream",
     "text": [
      "domain is gmail.com\n"
     ]
    }
   ],
   "source": [
    "\"\"\"18. Extract the domain from an email address using slicing and split()\"\"\"\n",
    "str18 = input(\"enter a emailid : \")\n",
    "print(f\"domain is {str18.split('@')[1]}\")"
   ]
  },
  {
   "cell_type": "code",
   "execution_count": 19,
   "id": "2bdf7005-75c2-471a-8472-2f4514330aa1",
   "metadata": {},
   "outputs": [
    {
     "name": "stdin",
     "output_type": "stream",
     "text": [
      "enter a string :  apples\n"
     ]
    },
    {
     "name": "stdout",
     "output_type": "stream",
     "text": [
      "string starts with vowel and ends with consonent\n"
     ]
    }
   ],
   "source": [
    "\"\"\"19. Check if a string starts with a vowel and ends with a consonant\"\"\"\n",
    "str19 = input(\"enter a string : \")\n",
    "vowels = ['a','e','i','o','u']\n",
    "if str19[0] in vowels and str19[-1] not in vowels:\n",
    "    print(\"string starts with vowel and ends with consonent\")\n",
    "else:\n",
    "    print('\"string starts with vowel and ends with consonent\" condition not met')"
   ]
  },
  {
   "cell_type": "code",
   "execution_count": 20,
   "id": "f25cd32d-d696-4534-9a4e-016873b09d58",
   "metadata": {},
   "outputs": [
    {
     "name": "stdin",
     "output_type": "stream",
     "text": [
      "enter a sentence :  help sairam\n"
     ]
    },
    {
     "name": "stdout",
     "output_type": "stream",
     "text": [
      "sairam\n"
     ]
    }
   ],
   "source": [
    "\"\"\"20. Write a function that takes a sentence and returns only the words with more than 4 letters\"\"\"\n",
    "str20 = input(\"enter a sentence : \")\n",
    "str20_words = str20.split(' ')\n",
    "\n",
    "for i in str20_words:\n",
    "    if len(i) > 4:\n",
    "        print(i)"
   ]
  },
  {
   "cell_type": "code",
   "execution_count": 21,
   "id": "b52938e9-79d8-4a25-a332-0bc078237868",
   "metadata": {},
   "outputs": [
    {
     "name": "stdout",
     "output_type": "stream",
     "text": [
      "hello brother    My name is     sairam\n"
     ]
    }
   ],
   "source": [
    "\"\"\"21. Create a custom string formatting function using format() and positional arguments\"\"\"\n",
    "\n",
    "def custom_format(string, *args):\n",
    "    \"\"\"\n",
    "    Custom formatting function that inserts positional arguments into the format string.\n",
    "    \"\"\"\n",
    "    return string.format(*args)\n",
    "\n",
    "\n",
    "string = custom_format(\"hello {0:<10} My name is {1:>10}\", \"brother\", \"sairam\")\n",
    "print(string)"
   ]
  },
  {
   "cell_type": "code",
   "execution_count": 22,
   "id": "8ce2a83c-1f1c-4623-aa95-ab53d74b9c24",
   "metadata": {},
   "outputs": [
    {
     "name": "stdin",
     "output_type": "stream",
     "text": [
      "enter a sentence :  hello sairam im learning python\n"
     ]
    },
    {
     "name": "stdout",
     "output_type": "stream",
     "text": [
      "longest word in sentence is : learning\n"
     ]
    }
   ],
   "source": [
    "\"\"\"22. Write a program to find the longest word in a sentence\"\"\"\n",
    "str22 = input(\"enter a sentence : \")\n",
    "str22_words = str22.split(' ')\n",
    "\n",
    "longest_word =  str22_words[0]\n",
    "\n",
    "for i in str22_words:\n",
    "    if len(i) > len(longest_word):\n",
    "        longest_word = i\n",
    "print(f\"longest word in sentence is : {longest_word}\")"
   ]
  },
  {
   "cell_type": "code",
   "execution_count": 23,
   "id": "31058242-72ae-4d99-afe4-e763eb058962",
   "metadata": {},
   "outputs": [
    {
     "name": "stdin",
     "output_type": "stream",
     "text": [
      "enter a string :  hello sairam\n"
     ]
    },
    {
     "name": "stdout",
     "output_type": "stream",
     "text": [
      "{'h': 1, 'e': 1, 'l': 2, 'o': 1, ' ': 1, 's': 1, 'a': 2, 'i': 1, 'r': 1, 'm': 1}\n"
     ]
    }
   ],
   "source": [
    "\"\"\"23. Count the frequency of each character in a string and display as a dictionary\"\"\"\n",
    "str23 = input(\"enter a string : \")\n",
    "dict_string = {}\n",
    "for i in str23:\n",
    "    dict_string[i]=str23.count(i)\n",
    "\n",
    "print(dict_string)"
   ]
  },
  {
   "cell_type": "code",
   "execution_count": 24,
   "id": "901965e6-b04e-407a-8692-8704116cbb0e",
   "metadata": {},
   "outputs": [
    {
     "name": "stdin",
     "output_type": "stream",
     "text": [
      "enter a string :  apple\n"
     ]
    },
    {
     "name": "stdout",
     "output_type": "stream",
     "text": [
      "encrypted text : crrng\n"
     ]
    }
   ],
   "source": [
    "\"\"\"24. Implement a Caesar cipher (basic encryption by shifting characters)\"\"\"\n",
    "def caesar_cipher(string, shift):\n",
    "    str_copy = ''\n",
    "    for i in string:\n",
    "        str_copy = str_copy + (chr(ord(i) + shift))\n",
    "    return str_copy\n",
    "\n",
    "str24 = input(\"enter a string : \")\n",
    "\n",
    "print(f\"encrypted text : {caesar_cipher(str24,2)}\")"
   ]
  },
  {
   "cell_type": "code",
   "execution_count": 25,
   "id": "c5990dcc-ad93-46f7-9366-acd69bc1ad24",
   "metadata": {},
   "outputs": [
    {
     "name": "stdin",
     "output_type": "stream",
     "text": [
      "enter a sentence :  hello   how    are you\n"
     ]
    },
    {
     "name": "stdout",
     "output_type": "stream",
     "text": [
      "normalized value :  hello how are you\n"
     ]
    }
   ],
   "source": [
    "\"\"\"25. Write a function to normalize whitespace in a string (multiple spaces to one)\"\"\"\n",
    "\n",
    "def normalize_string(string):\n",
    "    new_str = ''\n",
    "    for i in str25.split():\n",
    "        new_str = new_str + \" \" + i\n",
    "    return new_str\n",
    "\n",
    "\n",
    "str25 = input(\"enter a sentence : \")\n",
    "\n",
    "print(f\"normalized value : {normalize_string(str25)}\" )\n"
   ]
  },
  {
   "cell_type": "code",
   "execution_count": 26,
   "id": "ee1b311e-2fec-4917-b8db-a1d50fec73ff",
   "metadata": {},
   "outputs": [
    {
     "name": "stdin",
     "output_type": "stream",
     "text": [
      "enter a string :  sai\n"
     ]
    },
    {
     "name": "stdout",
     "output_type": "stream",
     "text": [
      " hash value of sai : 6311203760996430594\n"
     ]
    }
   ],
   "source": [
    "\"\"\"26. Generate a unique hash from a string using hash() and explain its use case\"\"\"\n",
    "\"\"\" hash() is a built in fuction in python that returns a hashed integer value of a given input\"\"\"\n",
    "str26 = input(\"enter a string : \")\n",
    "\n",
    "print(f\" hash value of {str26} : {hash(str26)}\")\n"
   ]
  },
  {
   "cell_type": "code",
   "execution_count": 27,
   "id": "fd09637c-bf09-46ee-957b-6f920b2b2fba",
   "metadata": {},
   "outputs": [
    {
     "name": "stdin",
     "output_type": "stream",
     "text": [
      "enter a string :  sairam sai brother\n",
      "enter lenth of sub string :  3\n"
     ]
    },
    {
     "name": "stdout",
     "output_type": "stream",
     "text": [
      "['sai', 'air', 'ira', 'ram', 'am ', 'm s', ' sa', 'ai ', 'i b', ' br', 'bro', 'rot', 'oth', 'the', 'her']\n"
     ]
    }
   ],
   "source": [
    "\"\"\"27.Find all unique substrings of length k in a given string\"\"\"\n",
    "str27 = input(\"enter a string : \")\n",
    "char_len = int(input('enter lenth of sub string : '))\n",
    "\n",
    "unique = []\n",
    "for i in range(len(str27) - char_len  + 1):\n",
    "    substring = str27[i:i+char_len]\n",
    "    if substring not in unique:\n",
    "        unique.append(substring)\n",
    "print(unique)"
   ]
  },
  {
   "cell_type": "code",
   "execution_count": 28,
   "id": "7dc6a97f-b317-4428-b26a-2358cd674798",
   "metadata": {},
   "outputs": [
    {
     "name": "stdin",
     "output_type": "stream",
     "text": [
      "enter a string :  sairam\n",
      "enter a string :  ramsai\n"
     ]
    },
    {
     "name": "stdout",
     "output_type": "stream",
     "text": [
      "second string is rotation of first string\n"
     ]
    }
   ],
   "source": [
    "\"\"\"28.Check if one string is a rotation of another (e.g., \"abc\" and \"cab\")\"\"\"\n",
    "str28a = input(\"enter a string : \")\n",
    "str28b = input(\"enter a string : \")\n",
    "rotation = ''\n",
    "for i in str28b:\n",
    "    if i in str28a:\n",
    "        rotation += i\n",
    "if len(str28a) == len(rotation):\n",
    "    print(\"second string is rotation of first string\")\n",
    "else:\n",
    "    print(\"second string is not rotation of first string\")    \n",
    "\n"
   ]
  },
  {
   "cell_type": "code",
   "execution_count": 42,
   "id": "6a47cc74-5492-4585-916a-060237e34360",
   "metadata": {},
   "outputs": [
    {
     "name": "stdin",
     "output_type": "stream",
     "text": [
      "enter a string :  abbcccdddde\n"
     ]
    },
    {
     "name": "stdout",
     "output_type": "stream",
     "text": [
      "compressed string : a1b2c3d4e1\n"
     ]
    }
   ],
   "source": [
    "\"\"\"29.Implement a string compression algorithm (e.g., \"aaabbb\" → \"a3b3\")\"\"\"\n",
    "str29 = input(\"enter a string : \")\n",
    "counter = 0\n",
    "prev = str29[0]\n",
    "comp_string = ''\n",
    "\n",
    "for i in range(len(str29)):\n",
    "    \n",
    "    if str29[i] == prev:\n",
    "        counter += 1\n",
    "    else:\n",
    "        comp_string = comp_string + prev + str(counter)\n",
    "        prev = str29[i]\n",
    "        counter = 1\n",
    "    if i==len(str29)-1:\n",
    "        comp_string = comp_string + prev + str(counter)\n",
    "\n",
    "\n",
    "print(f\"compressed string : {comp_string}\")"
   ]
  },
  {
   "cell_type": "code",
   "execution_count": 54,
   "id": "09fbdbfc-61b2-4f5c-8db5-2f5690c41a33",
   "metadata": {},
   "outputs": [
    {
     "name": "stdout",
     "output_type": "stream",
     "text": [
      "Function: reverse_string\n",
      "Input: hello\n",
      "Output: olleh\n",
      "Function: caesar_cipher\n",
      "Input: sai 3\n",
      "Output: vdl\n"
     ]
    }
   ],
   "source": [
    "\"\"\"30.Write a decorator that logs the input and output of any string processing function\"\"\"\n",
    "\n",
    "def log_io(func):\n",
    "    def wrapper(*args):\n",
    "        print(f\"Function: {func.__name__}\")\n",
    "        print(\"Input:\", *args)\n",
    "        result = func(*args)\n",
    "        print(\"Output:\", result)\n",
    "    return wrapper\n",
    "\n",
    "\n",
    "@log_io\n",
    "def reverse_string(s):\n",
    "    return s[::-1]\n",
    "\n",
    "@log_io\n",
    "def caesar_cipher(string, shift):\n",
    "    str_copy = ''\n",
    "    for i in string:\n",
    "        str_copy = str_copy + (chr(ord(i) + shift))\n",
    "    return str_copy\n",
    "\n",
    "\n",
    "reverse_string(\"hello\")\n",
    "\n",
    "caesar_cipher('sai',3)"
   ]
  },
  {
   "cell_type": "code",
   "execution_count": null,
   "id": "3520db11-e53f-4fdf-9222-ea7b97c0846b",
   "metadata": {},
   "outputs": [],
   "source": []
  }
 ],
 "metadata": {
  "kernelspec": {
   "display_name": "Python 3 (ipykernel)",
   "language": "python",
   "name": "python3"
  },
  "language_info": {
   "codemirror_mode": {
    "name": "ipython",
    "version": 3
   },
   "file_extension": ".py",
   "mimetype": "text/x-python",
   "name": "python",
   "nbconvert_exporter": "python",
   "pygments_lexer": "ipython3",
   "version": "3.12.7"
  }
 },
 "nbformat": 4,
 "nbformat_minor": 5
}
