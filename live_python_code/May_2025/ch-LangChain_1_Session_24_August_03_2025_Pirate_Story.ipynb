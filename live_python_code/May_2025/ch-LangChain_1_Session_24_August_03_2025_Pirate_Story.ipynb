{
 "cells": [
  {
   "cell_type": "markdown",
   "id": "f16cb5b6",
   "metadata": {},
   "source": [
    "### Chat API : OpenAI\n",
    "Let's start with a direct API calls to OpenAI.\n",
    "\n",
    "\n",
    "Very Useful Link : https://learn.deeplearning.ai/courses/langchain/lesson/u9olq/introduction\n",
    "open source : https://ollama.com/\n",
    "LangChain Intro Link : https://www.geeksforgeeks.org/artificial-intelligence/introduction-to-langchain/ \n",
    "LangChain : https://www.langchain.com/ \n",
    "LangChain GitHub repo : https://github.com/langchain-ai/langchain "
   ]
  },
  {
   "cell_type": "code",
   "execution_count": 1,
   "id": "a8bc5d2c",
   "metadata": {},
   "outputs": [
    {
     "name": "stdout",
     "output_type": "stream",
     "text": [
      "Python 3.13.4\n",
      "Requirement already satisfied: langchain in e:\\sssso-rr-district-skill-development-training\\.venv\\lib\\site-packages (0.3.27)\n",
      "Requirement already satisfied: langchain-core<1.0.0,>=0.3.72 in e:\\sssso-rr-district-skill-development-training\\.venv\\lib\\site-packages (from langchain) (0.3.72)\n",
      "Requirement already satisfied: langchain-text-splitters<1.0.0,>=0.3.9 in e:\\sssso-rr-district-skill-development-training\\.venv\\lib\\site-packages (from langchain) (0.3.9)\n",
      "Requirement already satisfied: langsmith>=0.1.17 in e:\\sssso-rr-district-skill-development-training\\.venv\\lib\\site-packages (from langchain) (0.4.10)\n",
      "Requirement already satisfied: pydantic<3.0.0,>=2.7.4 in e:\\sssso-rr-district-skill-development-training\\.venv\\lib\\site-packages (from langchain) (2.11.7)\n",
      "Requirement already satisfied: SQLAlchemy<3,>=1.4 in e:\\sssso-rr-district-skill-development-training\\.venv\\lib\\site-packages (from langchain) (2.0.42)\n",
      "Requirement already satisfied: requests<3,>=2 in e:\\sssso-rr-district-skill-development-training\\.venv\\lib\\site-packages (from langchain) (2.32.4)\n",
      "Requirement already satisfied: PyYAML>=5.3 in e:\\sssso-rr-district-skill-development-training\\.venv\\lib\\site-packages (from langchain) (6.0.2)\n",
      "Requirement already satisfied: tenacity!=8.4.0,<10.0.0,>=8.1.0 in e:\\sssso-rr-district-skill-development-training\\.venv\\lib\\site-packages (from langchain-core<1.0.0,>=0.3.72->langchain) (9.1.2)\n",
      "Requirement already satisfied: jsonpatch<2.0,>=1.33 in e:\\sssso-rr-district-skill-development-training\\.venv\\lib\\site-packages (from langchain-core<1.0.0,>=0.3.72->langchain) (1.33)\n",
      "Requirement already satisfied: typing-extensions>=4.7 in e:\\sssso-rr-district-skill-development-training\\.venv\\lib\\site-packages (from langchain-core<1.0.0,>=0.3.72->langchain) (4.14.1)\n",
      "Requirement already satisfied: packaging>=23.2 in e:\\sssso-rr-district-skill-development-training\\.venv\\lib\\site-packages (from langchain-core<1.0.0,>=0.3.72->langchain) (25.0)\n",
      "Requirement already satisfied: jsonpointer>=1.9 in e:\\sssso-rr-district-skill-development-training\\.venv\\lib\\site-packages (from jsonpatch<2.0,>=1.33->langchain-core<1.0.0,>=0.3.72->langchain) (3.0.0)\n",
      "Requirement already satisfied: annotated-types>=0.6.0 in e:\\sssso-rr-district-skill-development-training\\.venv\\lib\\site-packages (from pydantic<3.0.0,>=2.7.4->langchain) (0.7.0)\n",
      "Requirement already satisfied: pydantic-core==2.33.2 in e:\\sssso-rr-district-skill-development-training\\.venv\\lib\\site-packages (from pydantic<3.0.0,>=2.7.4->langchain) (2.33.2)\n",
      "Requirement already satisfied: typing-inspection>=0.4.0 in e:\\sssso-rr-district-skill-development-training\\.venv\\lib\\site-packages (from pydantic<3.0.0,>=2.7.4->langchain) (0.4.1)\n",
      "Requirement already satisfied: charset_normalizer<4,>=2 in e:\\sssso-rr-district-skill-development-training\\.venv\\lib\\site-packages (from requests<3,>=2->langchain) (3.4.2)\n",
      "Requirement already satisfied: idna<4,>=2.5 in e:\\sssso-rr-district-skill-development-training\\.venv\\lib\\site-packages (from requests<3,>=2->langchain) (3.10)\n",
      "Requirement already satisfied: urllib3<3,>=1.21.1 in e:\\sssso-rr-district-skill-development-training\\.venv\\lib\\site-packages (from requests<3,>=2->langchain) (2.5.0)\n",
      "Requirement already satisfied: certifi>=2017.4.17 in e:\\sssso-rr-district-skill-development-training\\.venv\\lib\\site-packages (from requests<3,>=2->langchain) (2025.7.14)\n",
      "Requirement already satisfied: greenlet>=1 in e:\\sssso-rr-district-skill-development-training\\.venv\\lib\\site-packages (from SQLAlchemy<3,>=1.4->langchain) (3.2.3)\n",
      "Requirement already satisfied: httpx<1,>=0.23.0 in e:\\sssso-rr-district-skill-development-training\\.venv\\lib\\site-packages (from langsmith>=0.1.17->langchain) (0.28.1)\n",
      "Requirement already satisfied: orjson>=3.9.14 in e:\\sssso-rr-district-skill-development-training\\.venv\\lib\\site-packages (from langsmith>=0.1.17->langchain) (3.11.1)\n",
      "Requirement already satisfied: requests-toolbelt>=1.0.0 in e:\\sssso-rr-district-skill-development-training\\.venv\\lib\\site-packages (from langsmith>=0.1.17->langchain) (1.0.0)\n",
      "Requirement already satisfied: zstandard>=0.23.0 in e:\\sssso-rr-district-skill-development-training\\.venv\\lib\\site-packages (from langsmith>=0.1.17->langchain) (0.23.0)\n",
      "Requirement already satisfied: anyio in e:\\sssso-rr-district-skill-development-training\\.venv\\lib\\site-packages (from httpx<1,>=0.23.0->langsmith>=0.1.17->langchain) (4.9.0)\n",
      "Requirement already satisfied: httpcore==1.* in e:\\sssso-rr-district-skill-development-training\\.venv\\lib\\site-packages (from httpx<1,>=0.23.0->langsmith>=0.1.17->langchain) (1.0.9)\n",
      "Requirement already satisfied: h11>=0.16 in e:\\sssso-rr-district-skill-development-training\\.venv\\lib\\site-packages (from httpcore==1.*->httpx<1,>=0.23.0->langsmith>=0.1.17->langchain) (0.16.0)\n",
      "Requirement already satisfied: sniffio>=1.1 in e:\\sssso-rr-district-skill-development-training\\.venv\\lib\\site-packages (from anyio->httpx<1,>=0.23.0->langsmith>=0.1.17->langchain) (1.3.1)\n",
      "Requirement already satisfied: openai in e:\\sssso-rr-district-skill-development-training\\.venv\\lib\\site-packages (1.98.0)\n",
      "Requirement already satisfied: anyio<5,>=3.5.0 in e:\\sssso-rr-district-skill-development-training\\.venv\\lib\\site-packages (from openai) (4.9.0)\n",
      "Requirement already satisfied: distro<2,>=1.7.0 in e:\\sssso-rr-district-skill-development-training\\.venv\\lib\\site-packages (from openai) (1.9.0)\n",
      "Requirement already satisfied: httpx<1,>=0.23.0 in e:\\sssso-rr-district-skill-development-training\\.venv\\lib\\site-packages (from openai) (0.28.1)\n",
      "Requirement already satisfied: jiter<1,>=0.4.0 in e:\\sssso-rr-district-skill-development-training\\.venv\\lib\\site-packages (from openai) (0.10.0)\n",
      "Requirement already satisfied: pydantic<3,>=1.9.0 in e:\\sssso-rr-district-skill-development-training\\.venv\\lib\\site-packages (from openai) (2.11.7)\n",
      "Requirement already satisfied: sniffio in e:\\sssso-rr-district-skill-development-training\\.venv\\lib\\site-packages (from openai) (1.3.1)\n",
      "Requirement already satisfied: tqdm>4 in e:\\sssso-rr-district-skill-development-training\\.venv\\lib\\site-packages (from openai) (4.67.1)\n",
      "Requirement already satisfied: typing-extensions<5,>=4.11 in e:\\sssso-rr-district-skill-development-training\\.venv\\lib\\site-packages (from openai) (4.14.1)\n",
      "Requirement already satisfied: idna>=2.8 in e:\\sssso-rr-district-skill-development-training\\.venv\\lib\\site-packages (from anyio<5,>=3.5.0->openai) (3.10)\n",
      "Requirement already satisfied: certifi in e:\\sssso-rr-district-skill-development-training\\.venv\\lib\\site-packages (from httpx<1,>=0.23.0->openai) (2025.7.14)\n",
      "Requirement already satisfied: httpcore==1.* in e:\\sssso-rr-district-skill-development-training\\.venv\\lib\\site-packages (from httpx<1,>=0.23.0->openai) (1.0.9)\n",
      "Requirement already satisfied: h11>=0.16 in e:\\sssso-rr-district-skill-development-training\\.venv\\lib\\site-packages (from httpcore==1.*->httpx<1,>=0.23.0->openai) (0.16.0)\n",
      "Requirement already satisfied: annotated-types>=0.6.0 in e:\\sssso-rr-district-skill-development-training\\.venv\\lib\\site-packages (from pydantic<3,>=1.9.0->openai) (0.7.0)\n",
      "Requirement already satisfied: pydantic-core==2.33.2 in e:\\sssso-rr-district-skill-development-training\\.venv\\lib\\site-packages (from pydantic<3,>=1.9.0->openai) (2.33.2)\n",
      "Requirement already satisfied: typing-inspection>=0.4.0 in e:\\sssso-rr-district-skill-development-training\\.venv\\lib\\site-packages (from pydantic<3,>=1.9.0->openai) (0.4.1)\n",
      "Requirement already satisfied: colorama in e:\\sssso-rr-district-skill-development-training\\.venv\\lib\\site-packages (from tqdm>4->openai) (0.4.6)\n",
      "Requirement already satisfied: python-dotenv in e:\\sssso-rr-district-skill-development-training\\.venv\\lib\\site-packages (1.1.1)\n"
     ]
    }
   ],
   "source": [
    "!python --version\n",
    "\n",
    "!pip install langchain\n",
    "!pip install openai\n",
    "!pip install python-dotenv"
   ]
  },
  {
   "cell_type": "code",
   "execution_count": 2,
   "id": "3e681a3a",
   "metadata": {},
   "outputs": [
    {
     "name": "stdout",
     "output_type": "stream",
     "text": [
      "OPENAI_API_KEY is set.\n",
      "1 + 1 equals 2.\n"
     ]
    }
   ],
   "source": [
    "import os\n",
    "from openai import OpenAI\n",
    "client = OpenAI()\n",
    "\n",
    "from dotenv import load_dotenv, find_dotenv\n",
    "_ = load_dotenv(find_dotenv()) # read local .env file\n",
    "\n",
    "def get_completion(prompt, model=\"gpt-4o-mini\"):\n",
    "    messages = [{\"role\": \"user\", \"content\": prompt}]\n",
    "    response = client.chat.completions.create(\n",
    "        model=model,\n",
    "        messages=messages,\n",
    "        temperature=0\n",
    "    )\n",
    "    return response.choices[0].message.content\n",
    "\n",
    "\n",
    "# Read API key from environment variable\n",
    "# Ensure you have set the OPENAI_API_KEY in your .env file\n",
    "if \"OPENAI_API_KEY\" not in os.environ:\n",
    "    raise ValueError(\"Please set the OPENAI_API_KEY environment variable in your .env file.\")\n",
    "else:\n",
    "    print(\"OPENAI_API_KEY is set.\")\n",
    "\n",
    "client = OpenAI(api_key=os.environ[\"OPENAI_API_KEY\"])\n",
    "# client -> object to interact with OpenAI API\n",
    "\n",
    "prompt = \"What is 1+1?\"\n",
    "print(get_completion(prompt))\n",
    "\n",
    "# prompt -> LLM application (API Call)\n",
    "# completion -> response from LLM application\n"
   ]
  },
  {
   "cell_type": "markdown",
   "id": "ac85dcdb",
   "metadata": {},
   "source": [
    "Function to call the OpenAI LLM"
   ]
  },
  {
   "cell_type": "code",
   "execution_count": null,
   "id": "200842d2",
   "metadata": {},
   "outputs": [],
   "source": [
    "def get_completion(prompt, model=\"gpt-4o-mini\"):\n",
    "    messages = [{\"role\": \"user\", \"content\": prompt}]\n",
    "    response = client.chat.completions.create(\n",
    "        model=model,\n",
    "        messages=messages,\n",
    "        temperature=0\n",
    "    )\n",
    "    return response.choices[0].message.content\n"
   ]
  },
  {
   "cell_type": "code",
   "execution_count": null,
   "id": "90f8c245",
   "metadata": {},
   "outputs": [
    {
     "data": {
      "text/plain": [
       "'1 + 1 equals 2.'"
      ]
     },
     "execution_count": 17,
     "metadata": {},
     "output_type": "execute_result"
    }
   ],
   "source": [
    "# Test the function\n",
    "prompt = \"What is 1+1?\"\n",
    "llm_response = get_completion(prompt)\n",
    "print(f\"LLM Response: {llm_response}\")"
   ]
  },
  {
   "cell_type": "markdown",
   "id": "01c5249a",
   "metadata": {},
   "source": [
    "Use Case : \n",
    "The below email is an example of a customer complaint.\n",
    "customer is angry and frustrated about the blender lid flying off and making a mess.\n",
    "The language used is informal and includes pirate slang.\n",
    "\n",
    "Exact english translation:\n",
    "I am very angry that the lid of my blender flew off and made a mess in my kitchen with smoothie! And to make matters worse, the warranty does not cover the cost of cleaning up my kitchen. I need your help right now!"
   ]
  },
  {
   "cell_type": "code",
   "execution_count": 3,
   "id": "68869496",
   "metadata": {},
   "outputs": [],
   "source": [
    "customer_email = \"\"\"\n",
    "Arrr, I be fuming that me blender lid \\\n",
    "flew off and splattered me kitchen walls \\\n",
    "with smoothie! And to make matters worse,\\\n",
    "the warranty don't cover the cost of \\\n",
    "cleaning up me kitchen. I need yer help \\\n",
    "right now, matey!\n",
    "\"\"\""
   ]
  },
  {
   "cell_type": "code",
   "execution_count": 6,
   "id": "ab46c422",
   "metadata": {},
   "outputs": [
    {
     "name": "stdout",
     "output_type": "stream",
     "text": [
      "Prompt to LLM: Translate the text that is delimited by triple backticks into a style that is American English in a calm and respectful tone. text: ```\n",
      "Arrr, I be fuming that me blender lid flew off and splattered me kitchen walls with smoothie! And to make matters worse,the warranty don't cover the cost of cleaning up me kitchen. I need yer help right now, matey!\n",
      "```\n"
     ]
    }
   ],
   "source": [
    "output_style = \"\"\"American English in a calm and respectful tone\"\"\"\n",
    "\n",
    "prompt_to_llm = f\"\"\"Translate the text that is delimited by triple backticks into a style that is {output_style}. text: ```{customer_email}```\"\"\"\n",
    "\n",
    "print(f\"Prompt to LLM: {prompt_to_llm}\")\n",
    "\n",
    "\n",
    "\n",
    "# Prompt to LLM: \n",
    "# Translate the text that is delimited by triple backticks into a style that is American English in a calm and respectful tone. text: ```\n",
    "# Arrr, I be fuming that me blender lid flew off and splattered me kitchen walls with smoothie! And to make matters worse,the warranty don't cover the cost of cleaning up me kitchen. I need yer help right now, matey!"
   ]
  },
  {
   "cell_type": "code",
   "execution_count": null,
   "id": "25803e74",
   "metadata": {},
   "outputs": [
    {
     "name": "stdout",
     "output_type": "stream",
     "text": [
      "LLM Response Translation: I am quite frustrated that the lid of my blender came off and splattered my kitchen walls with smoothie. To make matters worse, the warranty does not cover the cost of cleaning up my kitchen. I would really appreciate your assistance with this issue. Thank you!\n"
     ]
    }
   ],
   "source": [
    "llm_response_translation = get_completion(prompt_to_llm)\n",
    "print(f\"LLM Response Translation: {llm_response_translation}\")\n",
    "\n",
    "# I am quite frustrated that the lid of my blender came off and splattered my kitchen walls with smoothie. To make matters worse, the warranty does not cover the cost of cleaning up my kitchen. I would really appreciate your assistance with this issue. Thank you!\n",
    "\n",
    "# LLM Application"
   ]
  },
  {
   "cell_type": "markdown",
   "id": "7d649013",
   "metadata": {},
   "source": [
    "LLM Response: I am quite frustrated that the lid of my blender came off and splattered my kitchen walls with smoothie. To make matters worse, the warranty does not cover the cost of cleaning up my kitchen. I would really appreciate your assistance with this issue. Thank you!"
   ]
  },
  {
   "cell_type": "markdown",
   "id": "4c975250",
   "metadata": {},
   "source": [
    "### Chat API : LangChain\n",
    "Let's try how we can do the same using LangChain.\n",
    "\n",
    "- chatmodels have been moved to langchain-openai\n",
    "- Will be deprecated in future versions\n",
    "- Ensure you have the latest version of langchain-openai"
   ]
  },
  {
   "cell_type": "code",
   "execution_count": 8,
   "id": "c327770f",
   "metadata": {},
   "outputs": [
    {
     "name": "stdout",
     "output_type": "stream",
     "text": [
      "Requirement already satisfied: langchain in e:\\sssso-rr-district-skill-development-training\\.venv\\lib\\site-packages (0.3.27)\n",
      "Requirement already satisfied: langchain-core<1.0.0,>=0.3.72 in e:\\sssso-rr-district-skill-development-training\\.venv\\lib\\site-packages (from langchain) (0.3.72)\n",
      "Requirement already satisfied: langchain-text-splitters<1.0.0,>=0.3.9 in e:\\sssso-rr-district-skill-development-training\\.venv\\lib\\site-packages (from langchain) (0.3.9)\n",
      "Requirement already satisfied: langsmith>=0.1.17 in e:\\sssso-rr-district-skill-development-training\\.venv\\lib\\site-packages (from langchain) (0.4.10)\n",
      "Requirement already satisfied: pydantic<3.0.0,>=2.7.4 in e:\\sssso-rr-district-skill-development-training\\.venv\\lib\\site-packages (from langchain) (2.11.7)\n",
      "Requirement already satisfied: SQLAlchemy<3,>=1.4 in e:\\sssso-rr-district-skill-development-training\\.venv\\lib\\site-packages (from langchain) (2.0.42)\n",
      "Requirement already satisfied: requests<3,>=2 in e:\\sssso-rr-district-skill-development-training\\.venv\\lib\\site-packages (from langchain) (2.32.4)\n",
      "Requirement already satisfied: PyYAML>=5.3 in e:\\sssso-rr-district-skill-development-training\\.venv\\lib\\site-packages (from langchain) (6.0.2)\n",
      "Requirement already satisfied: tenacity!=8.4.0,<10.0.0,>=8.1.0 in e:\\sssso-rr-district-skill-development-training\\.venv\\lib\\site-packages (from langchain-core<1.0.0,>=0.3.72->langchain) (9.1.2)\n",
      "Requirement already satisfied: jsonpatch<2.0,>=1.33 in e:\\sssso-rr-district-skill-development-training\\.venv\\lib\\site-packages (from langchain-core<1.0.0,>=0.3.72->langchain) (1.33)\n",
      "Requirement already satisfied: typing-extensions>=4.7 in e:\\sssso-rr-district-skill-development-training\\.venv\\lib\\site-packages (from langchain-core<1.0.0,>=0.3.72->langchain) (4.14.1)\n",
      "Requirement already satisfied: packaging>=23.2 in e:\\sssso-rr-district-skill-development-training\\.venv\\lib\\site-packages (from langchain-core<1.0.0,>=0.3.72->langchain) (25.0)\n",
      "Requirement already satisfied: jsonpointer>=1.9 in e:\\sssso-rr-district-skill-development-training\\.venv\\lib\\site-packages (from jsonpatch<2.0,>=1.33->langchain-core<1.0.0,>=0.3.72->langchain) (3.0.0)\n",
      "Requirement already satisfied: annotated-types>=0.6.0 in e:\\sssso-rr-district-skill-development-training\\.venv\\lib\\site-packages (from pydantic<3.0.0,>=2.7.4->langchain) (0.7.0)\n",
      "Requirement already satisfied: pydantic-core==2.33.2 in e:\\sssso-rr-district-skill-development-training\\.venv\\lib\\site-packages (from pydantic<3.0.0,>=2.7.4->langchain) (2.33.2)\n",
      "Requirement already satisfied: typing-inspection>=0.4.0 in e:\\sssso-rr-district-skill-development-training\\.venv\\lib\\site-packages (from pydantic<3.0.0,>=2.7.4->langchain) (0.4.1)\n",
      "Requirement already satisfied: charset_normalizer<4,>=2 in e:\\sssso-rr-district-skill-development-training\\.venv\\lib\\site-packages (from requests<3,>=2->langchain) (3.4.2)\n",
      "Requirement already satisfied: idna<4,>=2.5 in e:\\sssso-rr-district-skill-development-training\\.venv\\lib\\site-packages (from requests<3,>=2->langchain) (3.10)\n",
      "Requirement already satisfied: urllib3<3,>=1.21.1 in e:\\sssso-rr-district-skill-development-training\\.venv\\lib\\site-packages (from requests<3,>=2->langchain) (2.5.0)\n",
      "Requirement already satisfied: certifi>=2017.4.17 in e:\\sssso-rr-district-skill-development-training\\.venv\\lib\\site-packages (from requests<3,>=2->langchain) (2025.7.14)\n",
      "Requirement already satisfied: greenlet>=1 in e:\\sssso-rr-district-skill-development-training\\.venv\\lib\\site-packages (from SQLAlchemy<3,>=1.4->langchain) (3.2.3)\n",
      "Requirement already satisfied: httpx<1,>=0.23.0 in e:\\sssso-rr-district-skill-development-training\\.venv\\lib\\site-packages (from langsmith>=0.1.17->langchain) (0.28.1)\n",
      "Requirement already satisfied: orjson>=3.9.14 in e:\\sssso-rr-district-skill-development-training\\.venv\\lib\\site-packages (from langsmith>=0.1.17->langchain) (3.11.1)\n",
      "Requirement already satisfied: requests-toolbelt>=1.0.0 in e:\\sssso-rr-district-skill-development-training\\.venv\\lib\\site-packages (from langsmith>=0.1.17->langchain) (1.0.0)\n",
      "Requirement already satisfied: zstandard>=0.23.0 in e:\\sssso-rr-district-skill-development-training\\.venv\\lib\\site-packages (from langsmith>=0.1.17->langchain) (0.23.0)\n",
      "Requirement already satisfied: anyio in e:\\sssso-rr-district-skill-development-training\\.venv\\lib\\site-packages (from httpx<1,>=0.23.0->langsmith>=0.1.17->langchain) (4.9.0)\n",
      "Requirement already satisfied: httpcore==1.* in e:\\sssso-rr-district-skill-development-training\\.venv\\lib\\site-packages (from httpx<1,>=0.23.0->langsmith>=0.1.17->langchain) (1.0.9)\n",
      "Requirement already satisfied: h11>=0.16 in e:\\sssso-rr-district-skill-development-training\\.venv\\lib\\site-packages (from httpcore==1.*->httpx<1,>=0.23.0->langsmith>=0.1.17->langchain) (0.16.0)\n",
      "Requirement already satisfied: sniffio>=1.1 in e:\\sssso-rr-district-skill-development-training\\.venv\\lib\\site-packages (from anyio->httpx<1,>=0.23.0->langsmith>=0.1.17->langchain) (1.3.1)\n",
      "Requirement already satisfied: langchain-community in e:\\sssso-rr-district-skill-development-training\\.venv\\lib\\site-packages (0.3.27)\n",
      "Requirement already satisfied: langchain-core<1.0.0,>=0.3.66 in e:\\sssso-rr-district-skill-development-training\\.venv\\lib\\site-packages (from langchain-community) (0.3.72)\n",
      "Requirement already satisfied: langchain<1.0.0,>=0.3.26 in e:\\sssso-rr-district-skill-development-training\\.venv\\lib\\site-packages (from langchain-community) (0.3.27)\n",
      "Requirement already satisfied: SQLAlchemy<3,>=1.4 in e:\\sssso-rr-district-skill-development-training\\.venv\\lib\\site-packages (from langchain-community) (2.0.42)\n",
      "Requirement already satisfied: requests<3,>=2 in e:\\sssso-rr-district-skill-development-training\\.venv\\lib\\site-packages (from langchain-community) (2.32.4)\n",
      "Requirement already satisfied: PyYAML>=5.3 in e:\\sssso-rr-district-skill-development-training\\.venv\\lib\\site-packages (from langchain-community) (6.0.2)\n",
      "Requirement already satisfied: aiohttp<4.0.0,>=3.8.3 in e:\\sssso-rr-district-skill-development-training\\.venv\\lib\\site-packages (from langchain-community) (3.12.15)\n",
      "Requirement already satisfied: tenacity!=8.4.0,<10,>=8.1.0 in e:\\sssso-rr-district-skill-development-training\\.venv\\lib\\site-packages (from langchain-community) (9.1.2)\n",
      "Requirement already satisfied: dataclasses-json<0.7,>=0.5.7 in e:\\sssso-rr-district-skill-development-training\\.venv\\lib\\site-packages (from langchain-community) (0.6.7)\n",
      "Requirement already satisfied: pydantic-settings<3.0.0,>=2.4.0 in e:\\sssso-rr-district-skill-development-training\\.venv\\lib\\site-packages (from langchain-community) (2.10.1)\n",
      "Requirement already satisfied: langsmith>=0.1.125 in e:\\sssso-rr-district-skill-development-training\\.venv\\lib\\site-packages (from langchain-community) (0.4.10)\n",
      "Requirement already satisfied: httpx-sse<1.0.0,>=0.4.0 in e:\\sssso-rr-district-skill-development-training\\.venv\\lib\\site-packages (from langchain-community) (0.4.1)\n",
      "Requirement already satisfied: numpy>=2.1.0 in e:\\sssso-rr-district-skill-development-training\\.venv\\lib\\site-packages (from langchain-community) (2.3.2)\n",
      "Requirement already satisfied: aiohappyeyeballs>=2.5.0 in e:\\sssso-rr-district-skill-development-training\\.venv\\lib\\site-packages (from aiohttp<4.0.0,>=3.8.3->langchain-community) (2.6.1)\n",
      "Requirement already satisfied: aiosignal>=1.4.0 in e:\\sssso-rr-district-skill-development-training\\.venv\\lib\\site-packages (from aiohttp<4.0.0,>=3.8.3->langchain-community) (1.4.0)\n",
      "Requirement already satisfied: attrs>=17.3.0 in e:\\sssso-rr-district-skill-development-training\\.venv\\lib\\site-packages (from aiohttp<4.0.0,>=3.8.3->langchain-community) (25.3.0)\n",
      "Requirement already satisfied: frozenlist>=1.1.1 in e:\\sssso-rr-district-skill-development-training\\.venv\\lib\\site-packages (from aiohttp<4.0.0,>=3.8.3->langchain-community) (1.7.0)\n",
      "Requirement already satisfied: multidict<7.0,>=4.5 in e:\\sssso-rr-district-skill-development-training\\.venv\\lib\\site-packages (from aiohttp<4.0.0,>=3.8.3->langchain-community) (6.6.3)\n",
      "Requirement already satisfied: propcache>=0.2.0 in e:\\sssso-rr-district-skill-development-training\\.venv\\lib\\site-packages (from aiohttp<4.0.0,>=3.8.3->langchain-community) (0.3.2)\n",
      "Requirement already satisfied: yarl<2.0,>=1.17.0 in e:\\sssso-rr-district-skill-development-training\\.venv\\lib\\site-packages (from aiohttp<4.0.0,>=3.8.3->langchain-community) (1.20.1)\n",
      "Requirement already satisfied: marshmallow<4.0.0,>=3.18.0 in e:\\sssso-rr-district-skill-development-training\\.venv\\lib\\site-packages (from dataclasses-json<0.7,>=0.5.7->langchain-community) (3.26.1)\n",
      "Requirement already satisfied: typing-inspect<1,>=0.4.0 in e:\\sssso-rr-district-skill-development-training\\.venv\\lib\\site-packages (from dataclasses-json<0.7,>=0.5.7->langchain-community) (0.9.0)\n",
      "Requirement already satisfied: langchain-text-splitters<1.0.0,>=0.3.9 in e:\\sssso-rr-district-skill-development-training\\.venv\\lib\\site-packages (from langchain<1.0.0,>=0.3.26->langchain-community) (0.3.9)\n",
      "Requirement already satisfied: pydantic<3.0.0,>=2.7.4 in e:\\sssso-rr-district-skill-development-training\\.venv\\lib\\site-packages (from langchain<1.0.0,>=0.3.26->langchain-community) (2.11.7)\n",
      "Requirement already satisfied: jsonpatch<2.0,>=1.33 in e:\\sssso-rr-district-skill-development-training\\.venv\\lib\\site-packages (from langchain-core<1.0.0,>=0.3.66->langchain-community) (1.33)\n",
      "Requirement already satisfied: typing-extensions>=4.7 in e:\\sssso-rr-district-skill-development-training\\.venv\\lib\\site-packages (from langchain-core<1.0.0,>=0.3.66->langchain-community) (4.14.1)\n",
      "Requirement already satisfied: packaging>=23.2 in e:\\sssso-rr-district-skill-development-training\\.venv\\lib\\site-packages (from langchain-core<1.0.0,>=0.3.66->langchain-community) (25.0)\n",
      "Requirement already satisfied: jsonpointer>=1.9 in e:\\sssso-rr-district-skill-development-training\\.venv\\lib\\site-packages (from jsonpatch<2.0,>=1.33->langchain-core<1.0.0,>=0.3.66->langchain-community) (3.0.0)\n",
      "Requirement already satisfied: annotated-types>=0.6.0 in e:\\sssso-rr-district-skill-development-training\\.venv\\lib\\site-packages (from pydantic<3.0.0,>=2.7.4->langchain<1.0.0,>=0.3.26->langchain-community) (0.7.0)\n",
      "Requirement already satisfied: pydantic-core==2.33.2 in e:\\sssso-rr-district-skill-development-training\\.venv\\lib\\site-packages (from pydantic<3.0.0,>=2.7.4->langchain<1.0.0,>=0.3.26->langchain-community) (2.33.2)\n",
      "Requirement already satisfied: typing-inspection>=0.4.0 in e:\\sssso-rr-district-skill-development-training\\.venv\\lib\\site-packages (from pydantic<3.0.0,>=2.7.4->langchain<1.0.0,>=0.3.26->langchain-community) (0.4.1)\n",
      "Requirement already satisfied: python-dotenv>=0.21.0 in e:\\sssso-rr-district-skill-development-training\\.venv\\lib\\site-packages (from pydantic-settings<3.0.0,>=2.4.0->langchain-community) (1.1.1)\n",
      "Requirement already satisfied: charset_normalizer<4,>=2 in e:\\sssso-rr-district-skill-development-training\\.venv\\lib\\site-packages (from requests<3,>=2->langchain-community) (3.4.2)\n",
      "Requirement already satisfied: idna<4,>=2.5 in e:\\sssso-rr-district-skill-development-training\\.venv\\lib\\site-packages (from requests<3,>=2->langchain-community) (3.10)\n",
      "Requirement already satisfied: urllib3<3,>=1.21.1 in e:\\sssso-rr-district-skill-development-training\\.venv\\lib\\site-packages (from requests<3,>=2->langchain-community) (2.5.0)\n",
      "Requirement already satisfied: certifi>=2017.4.17 in e:\\sssso-rr-district-skill-development-training\\.venv\\lib\\site-packages (from requests<3,>=2->langchain-community) (2025.7.14)\n",
      "Requirement already satisfied: greenlet>=1 in e:\\sssso-rr-district-skill-development-training\\.venv\\lib\\site-packages (from SQLAlchemy<3,>=1.4->langchain-community) (3.2.3)\n",
      "Requirement already satisfied: mypy-extensions>=0.3.0 in e:\\sssso-rr-district-skill-development-training\\.venv\\lib\\site-packages (from typing-inspect<1,>=0.4.0->dataclasses-json<0.7,>=0.5.7->langchain-community) (1.1.0)\n",
      "Requirement already satisfied: httpx<1,>=0.23.0 in e:\\sssso-rr-district-skill-development-training\\.venv\\lib\\site-packages (from langsmith>=0.1.125->langchain-community) (0.28.1)\n",
      "Requirement already satisfied: orjson>=3.9.14 in e:\\sssso-rr-district-skill-development-training\\.venv\\lib\\site-packages (from langsmith>=0.1.125->langchain-community) (3.11.1)\n",
      "Requirement already satisfied: requests-toolbelt>=1.0.0 in e:\\sssso-rr-district-skill-development-training\\.venv\\lib\\site-packages (from langsmith>=0.1.125->langchain-community) (1.0.0)\n",
      "Requirement already satisfied: zstandard>=0.23.0 in e:\\sssso-rr-district-skill-development-training\\.venv\\lib\\site-packages (from langsmith>=0.1.125->langchain-community) (0.23.0)\n",
      "Requirement already satisfied: anyio in e:\\sssso-rr-district-skill-development-training\\.venv\\lib\\site-packages (from httpx<1,>=0.23.0->langsmith>=0.1.125->langchain-community) (4.9.0)\n",
      "Requirement already satisfied: httpcore==1.* in e:\\sssso-rr-district-skill-development-training\\.venv\\lib\\site-packages (from httpx<1,>=0.23.0->langsmith>=0.1.125->langchain-community) (1.0.9)\n",
      "Requirement already satisfied: h11>=0.16 in e:\\sssso-rr-district-skill-development-training\\.venv\\lib\\site-packages (from httpcore==1.*->httpx<1,>=0.23.0->langsmith>=0.1.125->langchain-community) (0.16.0)\n",
      "Requirement already satisfied: sniffio>=1.1 in e:\\sssso-rr-district-skill-development-training\\.venv\\lib\\site-packages (from anyio->httpx<1,>=0.23.0->langsmith>=0.1.125->langchain-community) (1.3.1)\n",
      "Requirement already satisfied: langchain-openai in e:\\sssso-rr-district-skill-development-training\\.venv\\lib\\site-packages (0.3.28)\n",
      "Requirement already satisfied: langchain-core<1.0.0,>=0.3.68 in e:\\sssso-rr-district-skill-development-training\\.venv\\lib\\site-packages (from langchain-openai) (0.3.72)\n",
      "Requirement already satisfied: openai<2.0.0,>=1.86.0 in e:\\sssso-rr-district-skill-development-training\\.venv\\lib\\site-packages (from langchain-openai) (1.98.0)\n",
      "Requirement already satisfied: tiktoken<1,>=0.7 in e:\\sssso-rr-district-skill-development-training\\.venv\\lib\\site-packages (from langchain-openai) (0.9.0)\n",
      "Requirement already satisfied: langsmith>=0.3.45 in e:\\sssso-rr-district-skill-development-training\\.venv\\lib\\site-packages (from langchain-core<1.0.0,>=0.3.68->langchain-openai) (0.4.10)\n",
      "Requirement already satisfied: tenacity!=8.4.0,<10.0.0,>=8.1.0 in e:\\sssso-rr-district-skill-development-training\\.venv\\lib\\site-packages (from langchain-core<1.0.0,>=0.3.68->langchain-openai) (9.1.2)\n",
      "Requirement already satisfied: jsonpatch<2.0,>=1.33 in e:\\sssso-rr-district-skill-development-training\\.venv\\lib\\site-packages (from langchain-core<1.0.0,>=0.3.68->langchain-openai) (1.33)\n",
      "Requirement already satisfied: PyYAML>=5.3 in e:\\sssso-rr-district-skill-development-training\\.venv\\lib\\site-packages (from langchain-core<1.0.0,>=0.3.68->langchain-openai) (6.0.2)\n",
      "Requirement already satisfied: typing-extensions>=4.7 in e:\\sssso-rr-district-skill-development-training\\.venv\\lib\\site-packages (from langchain-core<1.0.0,>=0.3.68->langchain-openai) (4.14.1)\n",
      "Requirement already satisfied: packaging>=23.2 in e:\\sssso-rr-district-skill-development-training\\.venv\\lib\\site-packages (from langchain-core<1.0.0,>=0.3.68->langchain-openai) (25.0)\n",
      "Requirement already satisfied: pydantic>=2.7.4 in e:\\sssso-rr-district-skill-development-training\\.venv\\lib\\site-packages (from langchain-core<1.0.0,>=0.3.68->langchain-openai) (2.11.7)\n",
      "Requirement already satisfied: jsonpointer>=1.9 in e:\\sssso-rr-district-skill-development-training\\.venv\\lib\\site-packages (from jsonpatch<2.0,>=1.33->langchain-core<1.0.0,>=0.3.68->langchain-openai) (3.0.0)\n",
      "Requirement already satisfied: anyio<5,>=3.5.0 in e:\\sssso-rr-district-skill-development-training\\.venv\\lib\\site-packages (from openai<2.0.0,>=1.86.0->langchain-openai) (4.9.0)\n",
      "Requirement already satisfied: distro<2,>=1.7.0 in e:\\sssso-rr-district-skill-development-training\\.venv\\lib\\site-packages (from openai<2.0.0,>=1.86.0->langchain-openai) (1.9.0)\n",
      "Requirement already satisfied: httpx<1,>=0.23.0 in e:\\sssso-rr-district-skill-development-training\\.venv\\lib\\site-packages (from openai<2.0.0,>=1.86.0->langchain-openai) (0.28.1)\n",
      "Requirement already satisfied: jiter<1,>=0.4.0 in e:\\sssso-rr-district-skill-development-training\\.venv\\lib\\site-packages (from openai<2.0.0,>=1.86.0->langchain-openai) (0.10.0)\n",
      "Requirement already satisfied: sniffio in e:\\sssso-rr-district-skill-development-training\\.venv\\lib\\site-packages (from openai<2.0.0,>=1.86.0->langchain-openai) (1.3.1)\n",
      "Requirement already satisfied: tqdm>4 in e:\\sssso-rr-district-skill-development-training\\.venv\\lib\\site-packages (from openai<2.0.0,>=1.86.0->langchain-openai) (4.67.1)\n",
      "Requirement already satisfied: idna>=2.8 in e:\\sssso-rr-district-skill-development-training\\.venv\\lib\\site-packages (from anyio<5,>=3.5.0->openai<2.0.0,>=1.86.0->langchain-openai) (3.10)\n",
      "Requirement already satisfied: certifi in e:\\sssso-rr-district-skill-development-training\\.venv\\lib\\site-packages (from httpx<1,>=0.23.0->openai<2.0.0,>=1.86.0->langchain-openai) (2025.7.14)\n",
      "Requirement already satisfied: httpcore==1.* in e:\\sssso-rr-district-skill-development-training\\.venv\\lib\\site-packages (from httpx<1,>=0.23.0->openai<2.0.0,>=1.86.0->langchain-openai) (1.0.9)\n",
      "Requirement already satisfied: h11>=0.16 in e:\\sssso-rr-district-skill-development-training\\.venv\\lib\\site-packages (from httpcore==1.*->httpx<1,>=0.23.0->openai<2.0.0,>=1.86.0->langchain-openai) (0.16.0)\n",
      "Requirement already satisfied: annotated-types>=0.6.0 in e:\\sssso-rr-district-skill-development-training\\.venv\\lib\\site-packages (from pydantic>=2.7.4->langchain-core<1.0.0,>=0.3.68->langchain-openai) (0.7.0)\n",
      "Requirement already satisfied: pydantic-core==2.33.2 in e:\\sssso-rr-district-skill-development-training\\.venv\\lib\\site-packages (from pydantic>=2.7.4->langchain-core<1.0.0,>=0.3.68->langchain-openai) (2.33.2)\n",
      "Requirement already satisfied: typing-inspection>=0.4.0 in e:\\sssso-rr-district-skill-development-training\\.venv\\lib\\site-packages (from pydantic>=2.7.4->langchain-core<1.0.0,>=0.3.68->langchain-openai) (0.4.1)\n",
      "Requirement already satisfied: regex>=2022.1.18 in e:\\sssso-rr-district-skill-development-training\\.venv\\lib\\site-packages (from tiktoken<1,>=0.7->langchain-openai) (2025.7.34)\n",
      "Requirement already satisfied: requests>=2.26.0 in e:\\sssso-rr-district-skill-development-training\\.venv\\lib\\site-packages (from tiktoken<1,>=0.7->langchain-openai) (2.32.4)\n",
      "Requirement already satisfied: orjson>=3.9.14 in e:\\sssso-rr-district-skill-development-training\\.venv\\lib\\site-packages (from langsmith>=0.3.45->langchain-core<1.0.0,>=0.3.68->langchain-openai) (3.11.1)\n",
      "Requirement already satisfied: requests-toolbelt>=1.0.0 in e:\\sssso-rr-district-skill-development-training\\.venv\\lib\\site-packages (from langsmith>=0.3.45->langchain-core<1.0.0,>=0.3.68->langchain-openai) (1.0.0)\n",
      "Requirement already satisfied: zstandard>=0.23.0 in e:\\sssso-rr-district-skill-development-training\\.venv\\lib\\site-packages (from langsmith>=0.3.45->langchain-core<1.0.0,>=0.3.68->langchain-openai) (0.23.0)\n",
      "Requirement already satisfied: charset_normalizer<4,>=2 in e:\\sssso-rr-district-skill-development-training\\.venv\\lib\\site-packages (from requests>=2.26.0->tiktoken<1,>=0.7->langchain-openai) (3.4.2)\n",
      "Requirement already satisfied: urllib3<3,>=1.21.1 in e:\\sssso-rr-district-skill-development-training\\.venv\\lib\\site-packages (from requests>=2.26.0->tiktoken<1,>=0.7->langchain-openai) (2.5.0)\n",
      "Requirement already satisfied: colorama in e:\\sssso-rr-district-skill-development-training\\.venv\\lib\\site-packages (from tqdm>4->openai<2.0.0,>=1.86.0->langchain-openai) (0.4.6)\n"
     ]
    }
   ],
   "source": [
    "!pip install --upgrade langchain \n",
    "!pip install langchain-community \n",
    "!pip install -U langchain-openai "
   ]
  },
  {
   "cell_type": "code",
   "execution_count": null,
   "id": "783a45eb",
   "metadata": {},
   "outputs": [
    {
     "name": "stdout",
     "output_type": "stream",
     "text": [
      "1 + 1 equals 2.\n"
     ]
    }
   ],
   "source": [
    "from langchain_openai import ChatOpenAI\n",
    "\n",
    "# To control the randomness and creativity of the generated\n",
    "# text by an LLM, use temperature = 0.0\n",
    "chat = ChatOpenAI(model=\"gpt-4o-mini\", temperature=0) \n",
    "\n",
    "# temperature = 0.0 -> output is deterministic\n",
    "# temperature = 0.7 -> output is more creative and varied\n",
    "# temperature = 1.0 -> output is very creative and varied\n",
    "\n",
    "prompt = \"What is 1+1?\"\n",
    "response = chat.invoke(prompt)\n",
    "print(response.content)"
   ]
  },
  {
   "cell_type": "markdown",
   "id": "527f8b77",
   "metadata": {},
   "source": [
    "#### Prompt template"
   ]
  },
  {
   "cell_type": "code",
   "execution_count": null,
   "id": "c8b1f19b",
   "metadata": {},
   "outputs": [],
   "source": [
    "\n",
    "\n",
    "# prompt_to_llm = f\"\"\"Translate the text that is delimited by triple backticks into a style that is {output_style}. text: ```{customer_email}```\"\"\"\n",
    "# llm_response_translation = get_completion(prompt_to_llm)\n",
    "# print(f\"LLM Response Translation: {llm_response_translation}\")\n",
    "# ^^^^^^^^^^^^^^^^^^^ PREVIOUS CODE - WITHOUT LANGCHAIN ^^^^^^^^^^^^^^^^^^^"
   ]
  },
  {
   "cell_type": "code",
   "execution_count": null,
   "id": "0cf51999",
   "metadata": {},
   "outputs": [],
   "source": [
    "customer_email = \"\"\"\n",
    "Arrr, I be fuming that me blender lid \\\n",
    "flew off and splattered me kitchen walls \\\n",
    "with smoothie! And to make matters worse,\\\n",
    "the warranty don't cover the cost of \\\n",
    "cleaning up me kitchen. I need yer help \\\n",
    "right now, matey!\n",
    "\"\"\"\n",
    "\n",
    "output_style = \"\"\"American English in a calm and respectful tone\"\"\"\n",
    "\n",
    "# No formatting needed for the template string. Observe that we did not use f-string here. Compare the following with prompt_to_llm above.\n",
    "template_string = \"\"\"Translate the text \\\n",
    "that is delimited by triple backticks \\\n",
    "into a style that is {output_style}. \\\n",
    "text: ```{customer_email}```\n",
    "\"\"\""
   ]
  },
  {
   "cell_type": "code",
   "execution_count": 11,
   "id": "e3a19daf",
   "metadata": {},
   "outputs": [
    {
     "name": "stdout",
     "output_type": "stream",
     "text": [
      "item: ('name', None)\n",
      "item: ('input_variables', ['customer_email', 'output_style'])\n",
      "item: ('optional_variables', [])\n",
      "item: ('input_types', {})\n",
      "item: ('output_parser', None)\n",
      "item: ('partial_variables', {})\n",
      "item: ('metadata', None)\n",
      "item: ('tags', None)\n",
      "item: ('messages', [HumanMessagePromptTemplate(prompt=PromptTemplate(input_variables=['customer_email', 'output_style'], input_types={}, partial_variables={}, template='Translate the text that is delimited by triple backticks into a style that is {output_style}. text: ```{customer_email}```\\n'), additional_kwargs={})])\n",
      "item: ('validate_template', False)\n"
     ]
    }
   ],
   "source": [
    "from langchain.prompts import ChatPromptTemplate\n",
    "\n",
    "prompt_template = ChatPromptTemplate.from_template(template_string)\n",
    "\n",
    "for item in prompt_template:\n",
    "    print(f\"item: {item}\")\n"
   ]
  },
  {
   "cell_type": "code",
   "execution_count": 12,
   "id": "bc575a4d",
   "metadata": {},
   "outputs": [
    {
     "name": "stdout",
     "output_type": "stream",
     "text": [
      "==================================================\n",
      "Messages in the prompt template:\n",
      "item[0]: messages\n",
      "item[1]: [HumanMessagePromptTemplate(prompt=PromptTemplate(input_variables=['customer_email', 'output_style'], input_types={}, partial_variables={}, template='Translate the text that is delimited by triple backticks into a style that is {output_style}. text: ```{customer_email}```\\n'), additional_kwargs={})]\n"
     ]
    }
   ],
   "source": [
    "# Accessing the messages in the prompt template\n",
    "print(\"=\"*50)\n",
    "print(\"Messages in the prompt template:\")\n",
    "for item in prompt_template:\n",
    "    if item[0] == \"messages\":\n",
    "        print(f\"item[0]: {item[0]}\")\n",
    "        print(f\"item[1]: {item[1]}\")"
   ]
  },
  {
   "cell_type": "code",
   "execution_count": 13,
   "id": "9b4a617c",
   "metadata": {},
   "outputs": [
    {
     "name": "stdout",
     "output_type": "stream",
     "text": [
      "<class 'langchain_core.prompts.chat.ChatPromptTemplate'>\n"
     ]
    }
   ],
   "source": [
    "print(type(prompt_template))"
   ]
  },
  {
   "cell_type": "code",
   "execution_count": 14,
   "id": "1e5e4c82",
   "metadata": {},
   "outputs": [
    {
     "name": "stdout",
     "output_type": "stream",
     "text": [
      "input_variables=['customer_email', 'output_style'] input_types={} partial_variables={} template='Translate the text that is delimited by triple backticks into a style that is {output_style}. text: ```{customer_email}```\\n'\n"
     ]
    }
   ],
   "source": [
    "print(prompt_template.messages[0].prompt)"
   ]
  },
  {
   "cell_type": "code",
   "execution_count": 15,
   "id": "5792624c",
   "metadata": {},
   "outputs": [
    {
     "name": "stdout",
     "output_type": "stream",
     "text": [
      "['customer_email', 'output_style']\n"
     ]
    }
   ],
   "source": [
    "print(prompt_template.messages[0].prompt.input_variables)"
   ]
  },
  {
   "cell_type": "code",
   "execution_count": 16,
   "id": "75dea81e",
   "metadata": {},
   "outputs": [],
   "source": [
    "customer_email = \"\"\"\n",
    "Arrr, I be fuming that me blender lid \\\n",
    "flew off and splattered me kitchen walls \\\n",
    "with smoothie! And to make matters worse,\\\n",
    "the warranty don't cover the cost of \\\n",
    "cleaning up me kitchen. I need yer help \\\n",
    "right now, matey!\n",
    "\"\"\"\n",
    "\n",
    "output_style = \"\"\"American English in a calm and respectful tone\"\"\"\n",
    "\n",
    "# No formatting needed for the template string. Observe that we did not use f-string here. Compare the following with prompt_to_llm above.\n",
    "template_string = \"\"\"Translate the text \\\n",
    "that is delimited by triple backticks \\\n",
    "into a style that is {output_style}. \\\n",
    "text: ```{customer_email}```\n",
    "\"\"\"\n",
    "\n",
    "\n",
    "customer_messages = prompt_template.format_messages(\n",
    "    output_style=output_style,\n",
    "    customer_email=customer_email\n",
    ")\n"
   ]
  },
  {
   "cell_type": "code",
   "execution_count": null,
   "id": "d70f9418",
   "metadata": {},
   "outputs": [
    {
     "name": "stdout",
     "output_type": "stream",
     "text": [
      "<class 'list'>\n",
      "Message >>>>>>>>>>>>>>> content=\"Translate the text that is delimited by triple backticks into a style that is American English in a calm and respectful tone. text: ```\\nArrr, I be fuming that me blender lid flew off and splattered me kitchen walls with smoothie! And to make matters worse,the warranty don't cover the cost of cleaning up me kitchen. I need yer help right now, matey!\\n```\\n\" additional_kwargs={} response_metadata={}\n"
     ]
    }
   ],
   "source": [
    "print(type(customer_messages))\n",
    "for message in customer_messages:\n",
    "    print(f\"Message >>>>>>>>>>>>>>> {message}\")\n",
    "\n",
    "# Message >>>>>>>>>>>>>>> content=\"Translate the text that is delimited by triple backticks into a style that is American English in a calm and respectful tone. text: ```\\nArrr, I be fuming that me blender lid flew off and splattered me kitchen walls with smoothie! And to make matters worse,the warranty don't cover the cost of cleaning up me kitchen. I need yer help right now, matey!\\n```\\n\" additional_kwargs={} response_metadata={}"
   ]
  },
  {
   "cell_type": "code",
   "execution_count": 18,
   "id": "075f903f",
   "metadata": {},
   "outputs": [
    {
     "name": "stdout",
     "output_type": "stream",
     "text": [
      "content=\"Translate the text that is delimited by triple backticks into a style that is American English in a calm and respectful tone. text: ```\\nArrr, I be fuming that me blender lid flew off and splattered me kitchen walls with smoothie! And to make matters worse,the warranty don't cover the cost of cleaning up me kitchen. I need yer help right now, matey!\\n```\\n\" additional_kwargs={} response_metadata={}\n"
     ]
    }
   ],
   "source": [
    "print(customer_messages[0])"
   ]
  },
  {
   "cell_type": "code",
   "execution_count": 19,
   "id": "03bb3446",
   "metadata": {},
   "outputs": [],
   "source": [
    "# chat = ChatOpenAI(model=\"gpt-4o-mini\", temperature=0)\n",
    "# response = chat.invoke(\"What is 1+1?\")\n",
    "# ^^^^^^^^^^^^^^^^^^^^^^^^^^^^^^^^^^ PREVIOUS TESTING CODE ^^^^^^^^^^^^^^^^^^^\n",
    "\n",
    "# Call the LLM to translate to the style of the customer message\n",
    "customer_response = chat.invoke(customer_messages)"
   ]
  },
  {
   "cell_type": "code",
   "execution_count": null,
   "id": "eba61aa4",
   "metadata": {},
   "outputs": [
    {
     "name": "stdout",
     "output_type": "stream",
     "text": [
      "I’m quite frustrated that the lid of my blender came off and splattered smoothie all over my kitchen walls. To make matters worse, the warranty doesn’t cover the cost of cleaning up my kitchen. I could really use your help right now.\n"
     ]
    }
   ],
   "source": [
    "print(customer_response.content)\n",
    "\n",
    "\n",
    "# I’m quite frustrated that the lid of my blender came off and splattered smoothie all over my kitchen walls. \n",
    "# To make matters worse, the warranty doesn’t cover the cost of cleaning up my kitchen. I could really use your help right now.\n"
   ]
  },
  {
   "cell_type": "code",
   "execution_count": 21,
   "id": "189a2096",
   "metadata": {},
   "outputs": [
    {
     "name": "stdout",
     "output_type": "stream",
     "text": [
      "Translate the text that is delimited by triple backticks into a style that is a polite tone that speaks in English Pirate. text: ```Hey there customer, the warranty does not cover cleaning expenses for your kitchen because it's your fault that you misused your blender by forgetting to put the lid on before starting the blender. Tough luck! See ya!\n",
      "```\n",
      "\n"
     ]
    }
   ],
   "source": [
    "service_reply = \"\"\"Hey there customer, \\\n",
    "the warranty does not cover \\\n",
    "cleaning expenses for your kitchen \\\n",
    "because it's your fault that \\\n",
    "you misused your blender \\\n",
    "by forgetting to put the lid on before \\\n",
    "starting the blender. \\\n",
    "Tough luck! See ya!\n",
    "\"\"\"\n",
    "\n",
    "service_style_pirate = \"\"\"\\\n",
    "a polite tone \\\n",
    "that speaks in English Pirate\\\n",
    "\"\"\"\n",
    "\n",
    "# AI Engineer = \"\"\"\\a polite tone \\\n",
    "# that speaks in English Pirate\\\"\"\"\n",
    "\n",
    "# customer_messages = prompt_template.format_messages(\n",
    "#     output_style=output_style,\n",
    "#     customer_email=customer_email\n",
    "# )\n",
    "\n",
    "service_messages = prompt_template.format_messages(\n",
    "    output_style=service_style_pirate,\n",
    "    customer_email=service_reply)\n",
    "\n",
    "print(service_messages[0].content)\n",
    "\n",
    "# Translate the text that is delimited by triple backticks into a style that is a polite tone that speaks in English Pirate. text: \n",
    "# ```Hey there customer, the warranty does not cover cleaning expenses for your kitchen because it's your fault that you \n",
    "# misused your blender by forgetting to put the lid on before starting the blender. Tough luck! See ya!\n",
    "# ```\n"
   ]
  },
  {
   "cell_type": "code",
   "execution_count": null,
   "id": "54121f77",
   "metadata": {},
   "outputs": [
    {
     "name": "stderr",
     "output_type": "stream",
     "text": [
      "C:\\Users\\admin\\AppData\\Local\\Temp\\ipykernel_17544\\92171669.py:1: LangChainDeprecationWarning: The method `BaseChatModel.__call__` was deprecated in langchain-core 0.1.7 and will be removed in 1.0. Use :meth:`~invoke` instead.\n",
      "  service_response = chat(service_messages)\n"
     ]
    },
    {
     "name": "stdout",
     "output_type": "stream",
     "text": [
      "Ahoy, me hearty! I be sorry to inform ye that the warranty be not coverin' the expenses fer cleanin' yer galley, as it seems ye may have misused yer blender by forgettin' to secure the lid afore settin' it to whirl. Aye, 'tis a bit of tough luck, indeed! Fair winds to ye, and may yer future blends be lid-secured!\n"
     ]
    }
   ],
   "source": [
    "service_response = chat(service_messages)\n",
    "print(service_response.content)\n",
    "\n",
    "# Ahoy, me hearty! I be sorry to inform ye that the warranty be not coverin' the expenses fer cleanin' yer galley, \n",
    "# as it seems ye may have misused yer blender by forgettin' to secure the lid afore settin' it to whirl. Aye, \n",
    "# 'tis a bit of tough luck, indeed! Fair winds to ye, and may yer future blends be lid-secured!"
   ]
  }
 ],
 "metadata": {
  "kernelspec": {
   "display_name": ".venv",
   "language": "python",
   "name": "python3"
  },
  "language_info": {
   "codemirror_mode": {
    "name": "ipython",
    "version": 3
   },
   "file_extension": ".py",
   "mimetype": "text/x-python",
   "name": "python",
   "nbconvert_exporter": "python",
   "pygments_lexer": "ipython3",
   "version": "3.13.4"
  }
 },
 "nbformat": 4,
 "nbformat_minor": 5
}
