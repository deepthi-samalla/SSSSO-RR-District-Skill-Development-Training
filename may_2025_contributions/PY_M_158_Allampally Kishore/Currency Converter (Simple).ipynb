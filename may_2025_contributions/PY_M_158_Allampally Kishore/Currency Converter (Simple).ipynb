{
 "cells": [
  {
   "cell_type": "code",
   "execution_count": 2,
   "id": "3df02348",
   "metadata": {},
   "outputs": [
    {
     "name": "stdout",
     "output_type": "stream",
     "text": [
      "\n",
      "💱 10.0 EUR = 976.47 INR\n"
     ]
    }
   ],
   "source": [
    "# Simple Currency Converter\n",
    "\n",
    "# Predefined exchange rates (example: 1 USD to others)\n",
    "rates = {\n",
    "    'USD': 1.0,\n",
    "    'EUR': 0.85,\n",
    "    'INR': 83.0,\n",
    "    'GBP': 0.75,\n",
    "    'JPY': 110.0\n",
    "}\n",
    "\n",
    "# User input\n",
    "amount = float(input(\"Enter amount: \"))\n",
    "from_currency = input(\"From currency (USD, EUR, INR, GBP, JPY): \").upper()\n",
    "to_currency = input(\"To currency (USD, EUR, INR, GBP, JPY): \").upper()\n",
    "\n",
    "# Conversion\n",
    "if from_currency in rates and to_currency in rates:\n",
    "    converted = amount / rates[from_currency] * rates[to_currency]\n",
    "    print(f\"\\n💱 {amount} {from_currency} = {converted:.2f} {to_currency}\")\n",
    "else:\n",
    "    print(\"❌ Invalid currency code.\")\n"
   ]
  }
 ],
 "metadata": {
  "kernelspec": {
   "display_name": "Python 3",
   "language": "python",
   "name": "python3"
  },
  "language_info": {
   "codemirror_mode": {
    "name": "ipython",
    "version": 3
   },
   "file_extension": ".py",
   "mimetype": "text/x-python",
   "name": "python",
   "nbconvert_exporter": "python",
   "pygments_lexer": "ipython3",
   "version": "3.13.3"
  }
 },
 "nbformat": 4,
 "nbformat_minor": 5
}
