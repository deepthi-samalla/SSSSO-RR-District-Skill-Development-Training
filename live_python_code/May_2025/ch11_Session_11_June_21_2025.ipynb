{
 "cells": [
  {
   "cell_type": "markdown",
   "id": "1ad5f8c5",
   "metadata": {},
   "source": [
    "Chapter 11 : Exception Handling"
   ]
  },
  {
   "cell_type": "code",
   "execution_count": 37,
   "id": "b237dd06",
   "metadata": {},
   "outputs": [
    {
     "name": "stdout",
     "output_type": "stream",
     "text": [
      "Cannot divide by zero\n",
      "Continuing execution after handling the error\n"
     ]
    }
   ],
   "source": [
    "# Example 1: Basic try-except\n",
    "\n",
    "try:\n",
    "  x = 1 / 0\n",
    "except ZeroDivisionError:\n",
    "  print(\"Cannot divide by zero\")\n",
    "  # continue execution after handling the error\n",
    "print(\"Continuing execution after handling the error\")"
   ]
  },
  {
   "cell_type": "code",
   "execution_count": 36,
   "id": "e8ed95f0",
   "metadata": {},
   "outputs": [
    {
     "ename": "ZeroDivisionError",
     "evalue": "division by zero",
     "output_type": "error",
     "traceback": [
      "\u001b[31m---------------------------------------------------------------------------\u001b[39m",
      "\u001b[31mZeroDivisionError\u001b[39m                         Traceback (most recent call last)",
      "\u001b[36mCell\u001b[39m\u001b[36m \u001b[39m\u001b[32mIn[36]\u001b[39m\u001b[32m, line 1\u001b[39m\n\u001b[32m----> \u001b[39m\u001b[32m1\u001b[39m x = \u001b[32;43m1\u001b[39;49m\u001b[43m \u001b[49m\u001b[43m/\u001b[49m\u001b[43m \u001b[49m\u001b[32;43m0\u001b[39;49m\n",
      "\u001b[31mZeroDivisionError\u001b[39m: division by zero"
     ]
    }
   ],
   "source": [
    "x = 1 / 0"
   ]
  },
  {
   "cell_type": "code",
   "execution_count": 38,
   "id": "575b8c2a",
   "metadata": {},
   "outputs": [
    {
     "name": "stdout",
     "output_type": "stream",
     "text": [
      "Error: invalid literal for int() with base 10: 'abc'\n"
     ]
    }
   ],
   "source": [
    "# Example 2: Catching multiple exceptions\n",
    "\n",
    "# A try block either raises one exception, or none at all.\n",
    "# The except clause handles only the one exception that was actually raised.\n",
    "# Python doesn't raise multiple exceptions at the same time from a single expression.\n",
    "# The following is a way to catch one of multiple possible exceptions.\n",
    "\n",
    "\n",
    "try:\n",
    "  int(\"abc\")\n",
    "except (ValueError, TypeError) as e:\n",
    "  print(f\"Error: {e}\")"
   ]
  },
  {
   "cell_type": "code",
   "execution_count": 39,
   "id": "4b687b48",
   "metadata": {},
   "outputs": [
    {
     "name": "stdout",
     "output_type": "stream",
     "text": [
      "No error\n"
     ]
    }
   ],
   "source": [
    "# Example 3: Using else block\n",
    "# The else block runs if the try block does not raise an exception.\n",
    "try:\n",
    "  x = 10\n",
    "except:\n",
    "  print(\"Error\")\n",
    "else:\n",
    "  print(\"No error\")"
   ]
  },
  {
   "cell_type": "code",
   "execution_count": 41,
   "id": "00efeb53",
   "metadata": {},
   "outputs": [
    {
     "name": "stdout",
     "output_type": "stream",
     "text": [
      "Finished\n"
     ]
    }
   ],
   "source": [
    "# Example 4: Finally block\n",
    "# The finally block always runs, regardless of whether an exception was raised or not.\n",
    "# It is often used for cleanup actions, like closing files or releasing resources.\n",
    "\n",
    "# Difference between else and finally:\n",
    "# The else block runs only if the try block succeeds without exceptions.\n",
    "# The finally block runs no matter what, even if an exception occurs.\n",
    "\n",
    "try:\n",
    "  # f = open(\"file.txt\")\n",
    "  f = open(\"example.txt\")\n",
    "except FileNotFoundError:\n",
    "  print(\"File not found\")\n",
    "finally:\n",
    "  print(\"Finished\")"
   ]
  },
  {
   "cell_type": "code",
   "execution_count": 42,
   "id": "bfc8020d",
   "metadata": {},
   "outputs": [
    {
     "ename": "ValueError",
     "evalue": "Negative value not allowed",
     "output_type": "error",
     "traceback": [
      "\u001b[31m---------------------------------------------------------------------------\u001b[39m",
      "\u001b[31mValueError\u001b[39m                                Traceback (most recent call last)",
      "\u001b[36mCell\u001b[39m\u001b[36m \u001b[39m\u001b[32mIn[42]\u001b[39m\u001b[32m, line 4\u001b[39m\n\u001b[32m      2\u001b[39m x = -\u001b[32m1\u001b[39m\n\u001b[32m      3\u001b[39m \u001b[38;5;28;01mif\u001b[39;00m x < \u001b[32m0\u001b[39m:\n\u001b[32m----> \u001b[39m\u001b[32m4\u001b[39m   \u001b[38;5;28;01mraise\u001b[39;00m \u001b[38;5;167;01mValueError\u001b[39;00m(\u001b[33m\"\u001b[39m\u001b[33mNegative value not allowed\u001b[39m\u001b[33m\"\u001b[39m)\n",
      "\u001b[31mValueError\u001b[39m: Negative value not allowed"
     ]
    }
   ],
   "source": [
    "# Example 5: Raising exceptions manually\n",
    "x = -1\n",
    "if x < 0:\n",
    "  raise ValueError(\"Negative value not allowed\")"
   ]
  },
  {
   "cell_type": "code",
   "execution_count": 43,
   "id": "6ed82da4",
   "metadata": {},
   "outputs": [
    {
     "name": "stdout",
     "output_type": "stream",
     "text": [
      "First Error : Custom error occurred: User chose to quit.\n"
     ]
    },
    {
     "ename": "CustomFileQuitError",
     "evalue": "Second Error : User chose to quit.",
     "output_type": "error",
     "traceback": [
      "\u001b[31m---------------------------------------------------------------------------\u001b[39m",
      "\u001b[31mCustomFileQuitError\u001b[39m                       Traceback (most recent call last)",
      "\u001b[36mCell\u001b[39m\u001b[36m \u001b[39m\u001b[32mIn[43]\u001b[39m\u001b[32m, line 19\u001b[39m\n\u001b[32m     15\u001b[39m     \u001b[38;5;28mprint\u001b[39m(\u001b[33mf\u001b[39m\u001b[33m\"\u001b[39m\u001b[33mFirst Error : Custom error occurred: \u001b[39m\u001b[38;5;132;01m{\u001b[39;00me\u001b[38;5;132;01m}\u001b[39;00m\u001b[33m\"\u001b[39m)\n\u001b[32m     18\u001b[39m \u001b[38;5;28;01mif\u001b[39;00m x == \u001b[33m'\u001b[39m\u001b[33mq\u001b[39m\u001b[33m'\u001b[39m:\n\u001b[32m---> \u001b[39m\u001b[32m19\u001b[39m     \u001b[38;5;28;01mraise\u001b[39;00m CustomFileQuitError(\u001b[33m\"\u001b[39m\u001b[33mSecond Error : User chose to quit.\u001b[39m\u001b[33m\"\u001b[39m)\n\u001b[32m     21\u001b[39m \u001b[38;5;66;03m# In the above code, the first exception is caught and handled,\u001b[39;00m\n\u001b[32m     22\u001b[39m \u001b[38;5;66;03m# but the second one is raised after the try-except block,\u001b[39;00m\n\u001b[32m     23\u001b[39m \u001b[38;5;66;03m# which will not be caught by the previous except clause.\u001b[39;00m\n\u001b[32m   (...)\u001b[39m\u001b[32m     27\u001b[39m \u001b[38;5;66;03m# it will propagate up the call stack until it is caught by an appropriate handler,\u001b[39;00m\n\u001b[32m     28\u001b[39m \u001b[38;5;66;03m# or it will terminate the program if uncaught.\u001b[39;00m\n",
      "\u001b[31mCustomFileQuitError\u001b[39m: Second Error : User chose to quit."
     ]
    }
   ],
   "source": [
    "# Example 6: Custom exceptions\n",
    "class CustomFileQuitError(Exception): #inherits from Exception -> Inheritance is a key feature of Python object-oriented programming\n",
    "    \"\"\"Custom exception class for specific error handling.\"\"\"\n",
    "    pass\n",
    "\n",
    "x = input(\"Enter a value (or 'q' to quit): \")\n",
    "\n",
    "try:\n",
    "    if x == 'q':\n",
    "        raise CustomFileQuitError(\"User chose to quit.\")\n",
    "    else:\n",
    "        print(f\"You entered: {x}\")\n",
    "        print(\"Code will continue to run.\")\n",
    "except CustomFileQuitError as e:\n",
    "    print(f\"First Error : Custom error occurred: {e}\")\n",
    "\n",
    "\n",
    "if x == 'q':\n",
    "    raise CustomFileQuitError(\"Second Error : User chose to quit.\")\n",
    "\n",
    "# In the above code, the first exception is caught and handled,\n",
    "# but the second one is raised after the try-except block,\n",
    "# which will not be caught by the previous except clause.\n",
    "\n",
    "# This demonstrates that exceptions can be raised at any point in the code.\n",
    "# If an exception is raised outside of a try-except block,\n",
    "# it will propagate up the call stack until it is caught by an appropriate handler,\n",
    "# or it will terminate the program if uncaught."
   ]
  },
  {
   "cell_type": "code",
   "execution_count": null,
   "id": "9f7347bd",
   "metadata": {},
   "outputs": [
    {
     "name": "stdout",
     "output_type": "stream",
     "text": [
      "Inner error\n"
     ]
    }
   ],
   "source": [
    "# Example 7: Nested try-except\n",
    "try:\n",
    "  try:\n",
    "    x = 1 / 0 # This will raise a ZeroDivisionError\n",
    "  except ZeroDivisionError:\n",
    "    print(\"Inner error\")\n",
    "except:\n",
    "  print(\"Outer error\")"
   ]
  },
  {
   "cell_type": "code",
   "execution_count": 45,
   "id": "62d1bc19",
   "metadata": {},
   "outputs": [
    {
     "ename": "AssertionError",
     "evalue": "x should be greater than 10",
     "output_type": "error",
     "traceback": [
      "\u001b[31m---------------------------------------------------------------------------\u001b[39m",
      "\u001b[31mAssertionError\u001b[39m                            Traceback (most recent call last)",
      "\u001b[36mCell\u001b[39m\u001b[36m \u001b[39m\u001b[32mIn[45]\u001b[39m\u001b[32m, line 3\u001b[39m\n\u001b[32m      1\u001b[39m \u001b[38;5;66;03m# Example 8: Using assert\u001b[39;00m\n\u001b[32m      2\u001b[39m x = \u001b[32m5\u001b[39m\n\u001b[32m----> \u001b[39m\u001b[32m3\u001b[39m \u001b[38;5;28;01massert\u001b[39;00m x > \u001b[32m10\u001b[39m, \u001b[33m\"\u001b[39m\u001b[33mx should be greater than 10\u001b[39m\u001b[33m\"\u001b[39m\n\u001b[32m      5\u001b[39m \u001b[38;5;66;03m# The assert statement raises an AssertionError if the condition is false.\u001b[39;00m\n\u001b[32m      6\u001b[39m \u001b[38;5;66;03m# It is often used for debugging purposes to check conditions that should always be true.\u001b[39;00m\n\u001b[32m      7\u001b[39m \u001b[38;5;66;03m# If the condition is false, it raises an AssertionError with the provided message.\u001b[39;00m\n\u001b[32m   (...)\u001b[39m\u001b[32m     30\u001b[39m \u001b[38;5;66;03m# 1. Use try-except blocks to catch and handle exceptions gracefully.\u001b[39;00m\n\u001b[32m     31\u001b[39m \u001b[38;5;66;03m# 2. Use specific exception types to catch known errors.\u001b[39;00m\n",
      "\u001b[31mAssertionError\u001b[39m: x should be greater than 10"
     ]
    }
   ],
   "source": [
    "# Example 8: Using assert\n",
    "x = 5\n",
    "assert x > 10, \"x should be greater than 10\"\n",
    "\n",
    "# The assert statement raises an AssertionError if the condition is false.\n",
    "# It is often used for debugging purposes to check conditions that should always be true.\n",
    "# If the condition is false, it raises an AssertionError with the provided message.\n",
    "\n",
    "# When using assert, it is important to note that assertions can be globally disabled with the -O (optimize) flag when running Python scripts.\n",
    "# This means that assertions should not be used for runtime error handling or input validation,\n",
    "# but rather for conditions that should never occur in a correctly functioning program.\n",
    "\n",
    "# Difference between assert and raise:\n",
    "# - assert is used to check conditions that should always be true during development and debugging.\n",
    "# - raise is used to explicitly raise exceptions when an error condition occurs in the program.\n",
    "# Assertions can be disabled, while raised exceptions will always be checked at runtime.\n",
    "\n",
    "# Difference between assert and sys.exit(0):\n",
    "# - assert is used to check conditions and raise an AssertionError if the condition is false.\n",
    "# - sys.exit(0) is used to terminate the program gracefully, returning a status code (0 indicates success).\n",
    "# sys.exit() does not raise an exception; it simply exits the program.\n",
    "# It is often used to exit from a script or program when a certain condition is met, without raising an error.\n",
    "\n",
    "# When to use assert vs when to use sys.exit(0):\n",
    "# - Use assert when you want to check conditions that should always be true during development and debugging.\n",
    "# - Use sys.exit(0) when you want to terminate the program gracefully, especially in scripts or command-line applications.\n",
    "#   It is not used for error handling but rather for normal program termination.\n",
    "\n",
    "# Ideal way to handle errors in Python:\n",
    "# 1. Use try-except blocks to catch and handle exceptions gracefully.\n",
    "# 2. Use specific exception types to catch known errors.\n",
    "\n"
   ]
  },
  {
   "cell_type": "code",
   "execution_count": 46,
   "id": "118f465a",
   "metadata": {},
   "outputs": [
    {
     "name": "stdout",
     "output_type": "stream",
     "text": [
      "Caught\n"
     ]
    },
    {
     "ename": "ValueError",
     "evalue": "Invalid input",
     "output_type": "error",
     "traceback": [
      "\u001b[31m---------------------------------------------------------------------------\u001b[39m",
      "\u001b[31mValueError\u001b[39m                                Traceback (most recent call last)",
      "\u001b[36mCell\u001b[39m\u001b[36m \u001b[39m\u001b[32mIn[46]\u001b[39m\u001b[32m, line 3\u001b[39m\n\u001b[32m      1\u001b[39m \u001b[38;5;66;03m# Example 9: Re-raising exception\u001b[39;00m\n\u001b[32m      2\u001b[39m \u001b[38;5;28;01mtry\u001b[39;00m:\n\u001b[32m----> \u001b[39m\u001b[32m3\u001b[39m   \u001b[38;5;28;01mraise\u001b[39;00m \u001b[38;5;167;01mValueError\u001b[39;00m(\u001b[33m\"\u001b[39m\u001b[33mInvalid input\u001b[39m\u001b[33m\"\u001b[39m)\n\u001b[32m      4\u001b[39m \u001b[38;5;28;01mexcept\u001b[39;00m \u001b[38;5;167;01mValueError\u001b[39;00m \u001b[38;5;28;01mas\u001b[39;00m e:\n\u001b[32m      5\u001b[39m   \u001b[38;5;28mprint\u001b[39m(\u001b[33m\"\u001b[39m\u001b[33mCaught\u001b[39m\u001b[33m\"\u001b[39m)\n",
      "\u001b[31mValueError\u001b[39m: Invalid input"
     ]
    }
   ],
   "source": [
    "# Example 9: Re-raising exception\n",
    "try:\n",
    "  raise ValueError(\"Invalid input\")\n",
    "except ValueError as e:\n",
    "  print(\"Caught\")\n",
    "  raise"
   ]
  },
  {
   "cell_type": "code",
   "execution_count": 47,
   "id": "19ecf3ad",
   "metadata": {},
   "outputs": [
    {
     "name": "stderr",
     "output_type": "stream",
     "text": [
      "ERROR:root:Exception occurred\n",
      "Traceback (most recent call last):\n",
      "  File \"C:\\Users\\admin\\AppData\\Local\\Temp\\ipykernel_19480\\4129387935.py\", line 4, in <module>\n",
      "    1 / 0\n",
      "    ~~^~~\n",
      "ZeroDivisionError: division by zero\n"
     ]
    }
   ],
   "source": [
    "# Example 10: Logging exceptions\n",
    "import logging\n",
    "try:\n",
    "  1 / 0\n",
    "except ZeroDivisionError as e:\n",
    "  logging.error(\"Exception occurred\", exc_info=True)"
   ]
  },
  {
   "cell_type": "markdown",
   "id": "4aacdd19",
   "metadata": {},
   "source": [
    "Regular Expressions"
   ]
  },
  {
   "cell_type": "code",
   "execution_count": 48,
   "id": "f2806624",
   "metadata": {},
   "outputs": [
    {
     "name": "stdout",
     "output_type": "stream",
     "text": [
      "<re.Match object; span=(9, 14), match='apple'>\n"
     ]
    }
   ],
   "source": [
    "# Example 1: Match a word\n",
    "import re\n",
    "pattern = r\"apple\"\n",
    "text = \"I ate an apple.\"\n",
    "print(re.search(pattern, text))"
   ]
  },
  {
   "cell_type": "code",
   "execution_count": 51,
   "id": "1e6c0455",
   "metadata": {},
   "outputs": [
    {
     "name": "stdout",
     "output_type": "stream",
     "text": [
      "['24']\n",
      "['2', '4']\n"
     ]
    }
   ],
   "source": [
    "# Example 2: Match digits\n",
    "pattern = r\"\\d+\"\n",
    "text = \"There are 24 apples\"\n",
    "print(re.findall(pattern, text))\n",
    "\n",
    "pattern = r\"\\d\"\n",
    "text = \"There are 24 apples\"\n",
    "print(re.findall(pattern, text))"
   ]
  },
  {
   "cell_type": "code",
   "execution_count": null,
   "id": "1f17d4ad",
   "metadata": {},
   "outputs": [
    {
     "name": "stdout",
     "output_type": "stream",
     "text": [
      "<re.Match object; span=(16, 32), match='info@example.com'>\n",
      "<re.Match object; span=(16, 32), match='info@example.com'>\n"
     ]
    }
   ],
   "source": [
    "# Example 3: Match email address\n",
    "pattern = r\"[\\w.-]+@[\\w.-]+\\.\\w+\" # - (hyphen) matches # a hyphen in the email address, and \\w matches alphanumeric characters and underscores.\n",
    "text = \"Contact - us at info@example.com\"\n",
    "print(re.search(pattern, text))\n",
    "\n",
    "\n",
    "pattern = r\"[\\w.-]+@[\\w.-]+\\.\\w+\" # - (hyphen) matches # a hyphen in the email address, and \\w matches alphanumeric characters and underscores.\n",
    "text = \"Contact - us at info@example.com\"\n",
    "print(re.search(pattern, text))"
   ]
  },
  {
   "cell_type": "code",
   "execution_count": 57,
   "id": "874b368b",
   "metadata": {},
   "outputs": [
    {
     "name": "stdout",
     "output_type": "stream",
     "text": [
      "<re.Match object; span=(13, 23), match='9876543210'>\n"
     ]
    }
   ],
   "source": [
    "# Example 4: Validate phone number\n",
    "pattern = r\"\\d{10}\"\n",
    "text = \"My number is 9876543210\"\n",
    "print(re.search(pattern, text))"
   ]
  },
  {
   "cell_type": "code",
   "execution_count": 63,
   "id": "81b7f83f",
   "metadata": {},
   "outputs": [
    {
     "name": "stdout",
     "output_type": "stream",
     "text": [
      "['apple', 'and']\n"
     ]
    }
   ],
   "source": [
    "# Example 5: Match words starting with 'a'\n",
    "pattern = r\"\\ba\\w*\"\n",
    "text = \"apple and banana\"\n",
    "print(re.findall(pattern, text))"
   ]
  },
  {
   "cell_type": "code",
   "execution_count": null,
   "id": "59cd8a4c",
   "metadata": {},
   "outputs": [],
   "source": [
    "# Example 6: Extract domain from URL\n",
    "pattern = r\"https?://(\\w+\\.\\w+)\"\n",
    "text = \"Visit https://example.com for more\"\n",
    "print(re.search(pattern, text).group(1))"
   ]
  },
  {
   "cell_type": "code",
   "execution_count": 64,
   "id": "67ba0633",
   "metadata": {},
   "outputs": [
    {
     "name": "stdout",
     "output_type": "stream",
     "text": [
      "Phone: #####\n"
     ]
    }
   ],
   "source": [
    "# Example 7: Replace digits with '#' symbol\n",
    "pattern = r\"\\d\"\n",
    "text = \"Phone: 12345\"\n",
    "print(re.sub(pattern, \"#\", text))"
   ]
  },
  {
   "cell_type": "code",
   "execution_count": 66,
   "id": "4cca3f6c",
   "metadata": {},
   "outputs": [
    {
     "name": "stdout",
     "output_type": "stream",
     "text": [
      "['aaa', 'aa', 'aaaa']\n",
      "['aaa', 'aa', 'aaaaa']\n"
     ]
    }
   ],
   "source": [
    "# Example 8: Match repeated characters\n",
    "pattern = r\"a{2,4}\"\n",
    "text = \"aaa aa aaaaa\"\n",
    "print(re.findall(pattern, text))\n",
    "\n",
    "pattern = r\"a{2,5}\"\n",
    "text = \"aaa aa aaaaa\"\n",
    "print(re.findall(pattern, text))"
   ]
  },
  {
   "cell_type": "code",
   "execution_count": 67,
   "id": "83176111",
   "metadata": {},
   "outputs": [
    {
     "name": "stdout",
     "output_type": "stream",
     "text": [
      "<re.Match object; span=(7, 13), match='Python'>\n"
     ]
    }
   ],
   "source": [
    "# Example 9: Ignore case while matching\n",
    "pattern = r\"python\"\n",
    "text = \"I love Python\"\n",
    "print(re.search(pattern, text, re.IGNORECASE))"
   ]
  },
  {
   "cell_type": "code",
   "execution_count": 68,
   "id": "b4619b42",
   "metadata": {},
   "outputs": [
    {
     "name": "stdout",
     "output_type": "stream",
     "text": [
      "['color', 'colour']\n"
     ]
    }
   ],
   "source": [
    "# Example 10: Match optional character\n",
    "pattern = r\"colou?r\"\n",
    "text = \"color and colour are both accepted\"\n",
    "print(re.findall(pattern, text))"
   ]
  },
  {
   "cell_type": "code",
   "execution_count": null,
   "id": "a1883cd9",
   "metadata": {},
   "outputs": [],
   "source": [
    "# Example 11: Match a specific pattern\n",
    "pattern = r\"\\b\\d{3}-\\d{2}-\\d{4}\\b\"\n",
    "text = \"My SSN is 123-45-6789\"\n",
    "print(re.search(pattern, text))"
   ]
  },
  {
   "cell_type": "code",
   "execution_count": 69,
   "id": "b04d8c97",
   "metadata": {},
   "outputs": [
    {
     "name": "stdout",
     "output_type": "stream",
     "text": [
      "<re.Match object; span=(6, 29), match='https://www.example.com'>\n"
     ]
    }
   ],
   "source": [
    "# Example 12: Match a URL\n",
    "pattern = r\"https?://[^\\s]+\"\n",
    "text = \"Visit https://www.example.com for more info\"\n",
    "print(re.search(pattern, text))"
   ]
  },
  {
   "cell_type": "code",
   "execution_count": 70,
   "id": "e8c76b2f",
   "metadata": {},
   "outputs": [
    {
     "name": "stdout",
     "output_type": "stream",
     "text": [
      "First Name: John, Last Name: Doe\n"
     ]
    }
   ],
   "source": [
    "# example 13 : named groups\n",
    "pattern = r\"(?P<first>\\w+) (?P<last>\\w+)\"\n",
    "text = \"John Doe\"\n",
    "match = re.search(pattern, text)\n",
    "if match:\n",
    "    print(f\"First Name: {match.group('first')}, Last Name: {match.group('last')}\")"
   ]
  },
  {
   "cell_type": "code",
   "execution_count": 71,
   "id": "0628108f",
   "metadata": {},
   "outputs": [
    {
     "name": "stdout",
     "output_type": "stream",
     "text": [
      "Name: Alice, Age: 30\n"
     ]
    }
   ],
   "source": [
    "# Example 14 : Named capturing groups\n",
    "pattern = r\"(?P<name>\\w+) (?P<age>\\d+)\"\n",
    "text = \"Alice 30\"   \n",
    "match = re.search(pattern, text)\n",
    "if match:\n",
    "    print(f\"Name: {match.group('name')}, Age: {match.group('age')}\")"
   ]
  },
  {
   "cell_type": "code",
   "execution_count": null,
   "id": "9103d465",
   "metadata": {},
   "outputs": [
    {
     "name": "stdout",
     "output_type": "stream",
     "text": [
      "['abc12', 'def45', 'ghi78']\n"
     ]
    }
   ],
   "source": [
    "# Example 15 : Positive lookahead assertion\n",
    "# This matches a word that is followed by a digit.\n",
    "# removes the digit from the match result.\n",
    "pattern = r\"\\w+(?=\\d)\"\n",
    "text = \"abc123 def456 ghi789\"\n",
    "print(re.findall(pattern, text))"
   ]
  },
  {
   "cell_type": "code",
   "execution_count": 73,
   "id": "174ecbc1",
   "metadata": {},
   "outputs": [
    {
     "name": "stdout",
     "output_type": "stream",
     "text": [
      "['abc123', 'def456', 'ghi789']\n"
     ]
    }
   ],
   "source": [
    "# Example 16 : Negative lookahead assertion\n",
    "pattern = r\"\\w+(?!\\d)\"\n",
    "text = \"abc123 def456 ghi789\"\n",
    "print(re.findall(pattern, text))"
   ]
  },
  {
   "cell_type": "code",
   "execution_count": null,
   "id": "bbde8421",
   "metadata": {},
   "outputs": [],
   "source": [
    "# Example 17 : Positive lookbehind assertion\n",
    "pattern = r\"(?<=\\d{3})\\w+\"\n",
    "text = \"123abc 456def 789ghi\"\n",
    "print(re.findall(pattern, text))"
   ]
  },
  {
   "cell_type": "code",
   "execution_count": null,
   "id": "5a76156c",
   "metadata": {},
   "outputs": [],
   "source": [
    "# Example 18 : Negative lookbehind assertion\n",
    "pattern = r\"(?<!\\d{3})\\w+\"\n",
    "text = \"123abc 456def 789ghi\"\n",
    "print(re.findall(pattern, text))"
   ]
  },
  {
   "cell_type": "code",
   "execution_count": 74,
   "id": "65a9e4fe",
   "metadata": {},
   "outputs": [
    {
     "name": "stdout",
     "output_type": "stream",
     "text": [
      "Name: 3, Age: 0\n"
     ]
    }
   ],
   "source": [
    "# Example 19 : Verbose mode\n",
    "pattern = r\"\"\"(?P<name>\\w+)  # Match a name\n",
    "(?P<age>\\d+)  # Match an age\n",
    "\"\"\"\n",
    "text = \"Alice 30\"   \n",
    "match = re.search(pattern, text, re.VERBOSE)\n",
    "if match:\n",
    "    print(f\"Name: {match.group('name')}, Age: {match.group('age')}\")"
   ]
  },
  {
   "cell_type": "code",
   "execution_count": 75,
   "id": "791797d6",
   "metadata": {},
   "outputs": [
    {
     "name": "stdout",
     "output_type": "stream",
     "text": [
      "<re.Match object; span=(7, 13), match='Python'>\n"
     ]
    }
   ],
   "source": [
    "# Example 20 : Using flags\n",
    "pattern = r\"python\"\n",
    "text = \"I love Python\"\n",
    "print(re.search(pattern, text, re.IGNORECASE))"
   ]
  },
  {
   "cell_type": "code",
   "execution_count": null,
   "id": "86f24945",
   "metadata": {},
   "outputs": [],
   "source": [
    "# Example 21 : Match a word boundary\n",
    "pattern = r\"\\bword\\b\"\n",
    "text = \"This is a word in a sentence.\"\n",
    "print(re.search(pattern, text))"
   ]
  },
  {
   "cell_type": "code",
   "execution_count": null,
   "id": "fcee43ae",
   "metadata": {},
   "outputs": [],
   "source": [
    "# Example 22 : Match a non-word boundary\n",
    "pattern = r\"\\Bword\\B\"\n",
    "text = \"This is a word in a sentence.\"\n",
    "print(re.search(pattern, text))"
   ]
  },
  {
   "cell_type": "code",
   "execution_count": 76,
   "id": "d62c003f",
   "metadata": {},
   "outputs": [
    {
     "name": "stdout",
     "output_type": "stream",
     "text": [
      "['i', 'i', 'a', 'e']\n"
     ]
    }
   ],
   "source": [
    "# Example 23 : Match a specific character set\n",
    "pattern = r\"[aeiou]\"\n",
    "text = \"This is a test.\"\n",
    "print(re.findall(pattern, text))"
   ]
  },
  {
   "cell_type": "code",
   "execution_count": 77,
   "id": "747ef4bd",
   "metadata": {},
   "outputs": [
    {
     "name": "stdout",
     "output_type": "stream",
     "text": [
      "['h', 'i', 's', 'i', 's', 'a', 't', 'e', 's', 't']\n"
     ]
    }
   ],
   "source": [
    "# Example 24 : Match a specific range of characters\n",
    "pattern = r\"[a-z]\"\n",
    "text = \"This is a test.\"\n",
    "print(re.findall(pattern, text))"
   ]
  },
  {
   "cell_type": "code",
   "execution_count": null,
   "id": "50546398",
   "metadata": {},
   "outputs": [],
   "source": [
    "# Example 25 : Match a specific character class\n",
    "pattern = r\"\\d{3}-\\d{2}-\\d{4}\"\n",
    "text = \"My SSN is 123-45-6789\"\n",
    "print(re.search(pattern, text))"
   ]
  },
  {
   "cell_type": "code",
   "execution_count": null,
   "id": "9d6a1cc3",
   "metadata": {},
   "outputs": [],
   "source": [
    "# Example 26 : Match a specific character set with negation\n",
    "pattern = r\"[^aeiou]\"\n",
    "text = \"This is a test.\"\n",
    "print(re.findall(pattern, text))"
   ]
  },
  {
   "cell_type": "code",
   "execution_count": null,
   "id": "2d98f7ff",
   "metadata": {},
   "outputs": [],
   "source": [
    "# Example 27 : Match a specific character set with quantifiers\n",
    "pattern = r\"[a-z]{2,4}\"\n",
    "text = \"This is a test.\"\n",
    "print(re.findall(pattern, text))"
   ]
  },
  {
   "cell_type": "code",
   "execution_count": null,
   "id": "614d9394",
   "metadata": {},
   "outputs": [],
   "source": [
    "# Example 28 : Match a specific character set with repetition\n",
    "pattern = r\"[a-z]{2,}\"\n",
    "text = \"This is a test.\"\n",
    "print(re.findall(pattern, text))"
   ]
  },
  {
   "cell_type": "code",
   "execution_count": null,
   "id": "9271c95c",
   "metadata": {},
   "outputs": [],
   "source": [
    "# Example 29 : Match a specific character set with optional characters\n",
    "pattern = r\"[a-z]{2,4}?\"\n",
    "text = \"This is a test.\"\n",
    "print(re.findall(pattern, text))"
   ]
  },
  {
   "cell_type": "code",
   "execution_count": null,
   "id": "0709d74c",
   "metadata": {},
   "outputs": [],
   "source": [
    "# Example 30 : Match a specific character set with greedy matching\n",
    "pattern = r\"[a-z]{2,4}+\"\n",
    "text = \"This is a test.\"\n",
    "print(re.findall(pattern, text))"
   ]
  },
  {
   "cell_type": "markdown",
   "id": "890755bb",
   "metadata": {},
   "source": [
    "filter in Python"
   ]
  },
  {
   "cell_type": "code",
   "execution_count": 78,
   "id": "835fb32a",
   "metadata": {},
   "outputs": [
    {
     "name": "stdout",
     "output_type": "stream",
     "text": [
      "<filter object at 0x0000022A24EE38B0>\n",
      "[2, 4, 6]\n"
     ]
    }
   ],
   "source": [
    "# 1. Filtering even numbers from a list\n",
    "numbers = [1, 2, 3, 4, 5, 6]\n",
    "even_numbers = filter(lambda x: x % 2 == 0, numbers) #The filter() function constructs an iterator from elements \n",
    "print(even_numbers)\n",
    "print(list(even_numbers))  # Output: [2, 4, 6]"
   ]
  },
  {
   "cell_type": "code",
   "execution_count": 79,
   "id": "2d1a848c",
   "metadata": {},
   "outputs": [
    {
     "name": "stdout",
     "output_type": "stream",
     "text": [
      "<filter object at 0x0000022A24EE24D0>\n",
      "['apple', 'banana', 'cherry']\n"
     ]
    }
   ],
   "source": [
    "# 2. Filtering out empty strings\n",
    "words = [\"apple\", \"\", \"banana\", None, \"cherry\", \"\"]\n",
    "non_empty = filter(None, words)\n",
    "print(non_empty)\n",
    "print(list(non_empty))  # Output: ['apple', 'banana', 'cherry']"
   ]
  },
  {
   "cell_type": "code",
   "execution_count": 80,
   "id": "d655430d",
   "metadata": {},
   "outputs": [
    {
     "name": "stdout",
     "output_type": "stream",
     "text": [
      "[3, 5]\n"
     ]
    }
   ],
   "source": [
    "# 3. Using filter with a named function\n",
    "def is_positive(n):\n",
    "    return n > 0\n",
    "\n",
    "numbers = [-2, 0, 3, 5, -1]\n",
    "positive_numbers = filter(is_positive, numbers)\n",
    "print(list(positive_numbers))  # Output: [3, 5]"
   ]
  },
  {
   "cell_type": "code",
   "execution_count": 82,
   "id": "ddd8bb2a",
   "metadata": {},
   "outputs": [
    {
     "name": "stdout",
     "output_type": "stream",
     "text": [
      "abc\n"
     ]
    }
   ],
   "source": [
    "# 4. Filtering characters from a string\n",
    "chars = filter(lambda c: c.isalpha(), \"a1b2c3\")\n",
    "print(''.join(chars))  # Output: abc\n",
    "\n",
    "# lambda c: c.isalpha()\n",
    "\n",
    "# def is_alpha(c):\n",
    "#     return c.isalpha()\n",
    "\n",
    "# chars = is_alpha(\"a1b2c3\")\n",
    "# print(chars)"
   ]
  },
  {
   "cell_type": "code",
   "execution_count": 83,
   "id": "b0ae3c70",
   "metadata": {},
   "outputs": [
    {
     "name": "stdout",
     "output_type": "stream",
     "text": [
      "[1, True, 'Hello']\n"
     ]
    }
   ],
   "source": [
    "# 5. Filtering using None as function\n",
    "values = [0, 1, False, True, '', 'Hello']\n",
    "filtered = filter(None, values)\n",
    "print(list(filtered))  # Output: [1, True, 'Hello']"
   ]
  },
  {
   "cell_type": "markdown",
   "id": "2f6fb7d4",
   "metadata": {},
   "source": [
    "lambda"
   ]
  },
  {
   "cell_type": "code",
   "execution_count": 84,
   "id": "cb3c7a53",
   "metadata": {},
   "outputs": [
    {
     "name": "stdout",
     "output_type": "stream",
     "text": [
      "25\n",
      "25\n"
     ]
    }
   ],
   "source": [
    "# 1. Basic lambda function\n",
    "square = lambda x: x * x\n",
    "print(square(5))  # Output: 25\n",
    "\n",
    "def square(x):\n",
    "    return x*x\n",
    "square = square(5)\n",
    "\n",
    "print(square)"
   ]
  },
  {
   "cell_type": "code",
   "execution_count": 85,
   "id": "2d1edc53",
   "metadata": {},
   "outputs": [
    {
     "name": "stdout",
     "output_type": "stream",
     "text": [
      "7\n"
     ]
    }
   ],
   "source": [
    "# 2. Lambda with multiple arguments\n",
    "add = lambda x, y: x + y\n",
    "print(add(3, 4))  # Output: 7\n",
    "  "
   ]
  },
  {
   "cell_type": "code",
   "execution_count": 86,
   "id": "7532282e",
   "metadata": {},
   "outputs": [
    {
     "name": "stdout",
     "output_type": "stream",
     "text": [
      "[1, 4, 9]\n"
     ]
    }
   ],
   "source": [
    "# 3. Using lambda with map\n",
    "numbers = [1, 2, 3]\n",
    "squares = map(lambda x: x ** 2, numbers)\n",
    "print(list(squares))  # Output: [1, 4, 9]"
   ]
  },
  {
   "cell_type": "code",
   "execution_count": 87,
   "id": "f87c04ee",
   "metadata": {},
   "outputs": [
    {
     "name": "stdout",
     "output_type": "stream",
     "text": [
      "[2, 4]\n"
     ]
    }
   ],
   "source": [
    "# 4. Using lambda with filter\n",
    "nums = [1, 2, 3, 4, 5]\n",
    "even = filter(lambda x: x % 2 == 0, nums)\n",
    "print(list(even))  # Output: [2, 4]"
   ]
  },
  {
   "cell_type": "code",
   "execution_count": null,
   "id": "e95af640",
   "metadata": {},
   "outputs": [
    {
     "name": "stdout",
     "output_type": "stream",
     "text": [
      "[1, 3, 5, 76, 89]\n",
      "[(1, 'one'), (3, 'three'), (2, 'two')]\n"
     ]
    }
   ],
   "source": [
    "print(sorted([1,3, 76, 89, 5]))\n",
    "\n",
    "# 5. Using lambda with sorted\n",
    "pairs = [(1, 'one'), (3, 'three'), (2, 'two')]\n",
    "sorted_pairs = sorted(pairs, key=lambda x: x[1])\n",
    "print(sorted_pairs)  "
   ]
  },
  {
   "cell_type": "markdown",
   "id": "5c1ae054",
   "metadata": {},
   "source": [
    "map"
   ]
  },
  {
   "cell_type": "code",
   "execution_count": null,
   "id": "17857946",
   "metadata": {},
   "outputs": [],
   "source": [
    "# 1. Using map with a built-in function\n",
    "numbers = [1, 2, 3, 4]\n",
    "squares = map(pow, numbers, [2]*len(numbers))\n",
    "print(list(squares))  # Output: [1, 4, 9, 16]"
   ]
  },
  {
   "cell_type": "code",
   "execution_count": null,
   "id": "fb1a4ada",
   "metadata": {},
   "outputs": [],
   "source": [
    "# 2. Using map with a lambda function\n",
    "numbers = [1, 2, 3, 4]\n",
    "doubled = map(lambda x: x * 2, numbers)\n",
    "print(list(doubled))  # Output: [2, 4, 6, 8]"
   ]
  },
  {
   "cell_type": "code",
   "execution_count": null,
   "id": "9ea3fe82",
   "metadata": {},
   "outputs": [],
   "source": [
    "# 3. Converting strings to integers\n",
    "str_nums = [\"1\", \"2\", \"3\"]\n",
    "int_nums = map(int, str_nums)\n",
    "print(list(int_nums))  # Output: [1, 2, 3]"
   ]
  },
  {
   "cell_type": "code",
   "execution_count": null,
   "id": "67f1acd0",
   "metadata": {},
   "outputs": [],
   "source": [
    "# 4. Applying map to multiple iterables\n",
    "a = [1, 2, 3]\n",
    "b = [4, 5, 6]\n",
    "result = map(lambda x, y: x + y, a, b)\n",
    "print(list(result))  # Output: [5, 7, 9]"
   ]
  },
  {
   "cell_type": "code",
   "execution_count": null,
   "id": "645494f7",
   "metadata": {},
   "outputs": [],
   "source": [
    "# 5. Using map to strip whitespace from strings\n",
    "names = [\" Alice \", \" Bob \", \" Charlie \"]\n",
    "clean_names = map(str.strip, names)\n",
    "print(list(clean_names))  # Output: ['Alice', 'Bob', 'Charlie']"
   ]
  },
  {
   "cell_type": "markdown",
   "id": "65b8f18c",
   "metadata": {},
   "source": [
    "reduce"
   ]
  },
  {
   "cell_type": "code",
   "execution_count": null,
   "id": "c8e736da",
   "metadata": {},
   "outputs": [],
   "source": [
    "# 1. Summing elements\n",
    "from functools import reduce\n",
    "numbers = [1, 2, 3, 4]\n",
    "total = reduce(lambda x, y: x + y, numbers)\n",
    "print(total)  # Output: 10"
   ]
  },
  {
   "cell_type": "code",
   "execution_count": null,
   "id": "3cffd26a",
   "metadata": {},
   "outputs": [],
   "source": [
    "# 2. Multiplying elements\n",
    "numbers = [1, 2, 3, 4]\n",
    "product = reduce(lambda x, y: x * y, numbers)\n",
    "print(product)  # Output: 24"
   ]
  },
  {
   "cell_type": "code",
   "execution_count": null,
   "id": "27f9586d",
   "metadata": {},
   "outputs": [],
   "source": [
    "# 3. Finding the maximum value\n",
    "numbers = [3, 8, 2, 5]\n",
    "maximum = reduce(lambda x, y: x if x > y else y, numbers)\n",
    "print(maximum)  # Output: 8"
   ]
  },
  {
   "cell_type": "code",
   "execution_count": null,
   "id": "7959cc8b",
   "metadata": {},
   "outputs": [],
   "source": [
    "# 4. Using an initializer\n",
    "numbers = [1, 2, 3]\n",
    "total = reduce(lambda x, y: x + y, numbers, 10)\n",
    "print(total)  # Output: 16 (10 + 1 + 2 + 3)"
   ]
  },
  {
   "cell_type": "code",
   "execution_count": null,
   "id": "c5df2762",
   "metadata": {},
   "outputs": [],
   "source": [
    "# 5. Concatenating strings\n",
    "words = [\"Hello\", \"World\", \"!\"]\n",
    "sentence = reduce(lambda x, y: x + \" \" + y, words)\n",
    "print(sentence)  # Output: Hello World !"
   ]
  }
 ],
 "metadata": {
  "kernelspec": {
   "display_name": "Python 3",
   "language": "python",
   "name": "python3"
  },
  "language_info": {
   "codemirror_mode": {
    "name": "ipython",
    "version": 3
   },
   "file_extension": ".py",
   "mimetype": "text/x-python",
   "name": "python",
   "nbconvert_exporter": "python",
   "pygments_lexer": "ipython3",
   "version": "3.13.4"
  }
 },
 "nbformat": 4,
 "nbformat_minor": 5
}
