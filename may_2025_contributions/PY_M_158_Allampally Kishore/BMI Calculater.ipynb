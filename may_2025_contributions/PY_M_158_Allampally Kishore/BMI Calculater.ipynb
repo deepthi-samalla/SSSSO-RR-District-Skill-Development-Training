{
 "cells": [
  {
   "cell_type": "code",
   "execution_count": 1,
   "id": "d4117564",
   "metadata": {},
   "outputs": [
    {
     "name": "stdout",
     "output_type": "stream",
     "text": [
      "\n",
      "✅ Your BMI is: 35.71\n",
      "📊 Category: Obese\n"
     ]
    }
   ],
   "source": [
    "# BMI Calculator in Jupyter Notebook\n",
    "\n",
    "def calculate_bmi(weight, height):\n",
    "    if height <= 0:\n",
    "        return None, \"Height must be greater than zero.\"\n",
    "    bmi = weight / (height ** 2)\n",
    "    if bmi < 18.5:\n",
    "        category = \"Underweight\"\n",
    "    elif bmi < 25:\n",
    "        category = \"Normal weight\"\n",
    "    elif bmi < 30:\n",
    "        category = \"Overweight\"\n",
    "    else:\n",
    "        category = \"Obese\"\n",
    "    return round(bmi, 2), category\n",
    "\n",
    "def get_user_input():\n",
    "    try:\n",
    "        weight = float(input(\"Enter your weight in kilograms (kg): \"))\n",
    "        height = float(input(\"Enter your height in meters (m): \"))\n",
    "        if weight <= 0 or height <= 0:\n",
    "            print(\"❌ Please enter positive values for weight and height.\")\n",
    "            return None, None\n",
    "        return weight, height\n",
    "    except ValueError:\n",
    "        print(\"❌ Invalid input. Please enter numeric values.\")\n",
    "        return None, None\n",
    "\n",
    "# Run the calculator\n",
    "weight, height = get_user_input()\n",
    "if weight and height:\n",
    "    bmi, category = calculate_bmi(weight, height)\n",
    "    print(f\"\\n✅ Your BMI is: {bmi}\")\n",
    "    print(f\"📊 Category: {category}\")\n"
   ]
  },
  {
   "cell_type": "code",
   "execution_count": 2,
   "id": "bab4b8f3",
   "metadata": {},
   "outputs": [
    {
     "name": "stdout",
     "output_type": "stream",
     "text": [
      "BMI: 65.00 (Obese)\n"
     ]
    }
   ],
   "source": [
    "# Simple BMI Calculator\n",
    "\n",
    "w = float(input(\"Weight (kg): \"))\n",
    "h = float(input(\"Height (m): \"))\n",
    "bmi = w / h**2\n",
    "\n",
    "if bmi < 18.5:\n",
    "    cat = \"Underweight\"\n",
    "elif bmi < 25:\n",
    "    cat = \"Normal\"\n",
    "elif bmi < 30:\n",
    "    cat = \"Overweight\"\n",
    "else:\n",
    "    cat = \"Obese\"\n",
    "\n",
    "print(f\"BMI: {bmi:.2f} ({cat})\")\n"
   ]
  }
 ],
 "metadata": {
  "kernelspec": {
   "display_name": "Python 3",
   "language": "python",
   "name": "python3"
  },
  "language_info": {
   "codemirror_mode": {
    "name": "ipython",
    "version": 3
   },
   "file_extension": ".py",
   "mimetype": "text/x-python",
   "name": "python",
   "nbconvert_exporter": "python",
   "pygments_lexer": "ipython3",
   "version": "3.13.3"
  }
 },
 "nbformat": 4,
 "nbformat_minor": 5
}
