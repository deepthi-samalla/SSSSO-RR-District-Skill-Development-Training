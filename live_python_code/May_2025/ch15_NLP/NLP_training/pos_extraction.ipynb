{
 "cells": [
  {
   "cell_type": "code",
   "execution_count": 1,
   "id": "7b6a39c0-7d89-4565-bca6-b6a6eeb5bc8e",
   "metadata": {},
   "outputs": [],
   "source": [
    "import nltk\n",
    "from nltk.tokenize import word_tokenize\n",
    "from nltk import pos_tag\n",
    "\n",
    "text = \"The quick brown fox jumps over the lazy dog.\"\n",
    "tokens = word_tokenize(text)"
   ]
  },
  {
   "cell_type": "code",
   "execution_count": 2,
   "id": "2a17500d-4248-499c-af6b-12735d978189",
   "metadata": {},
   "outputs": [
    {
     "name": "stdout",
     "output_type": "stream",
     "text": [
      "[('The', 'DT'), ('quick', 'JJ'), ('brown', 'NN'), ('fox', 'NN'), ('jumps', 'VBZ'), ('over', 'IN'), ('the', 'DT'), ('lazy', 'JJ'), ('dog', 'NN'), ('.', '.')]\n"
     ]
    }
   ],
   "source": [
    "# Example 1: Basic POS tagging\n",
    "tagged = pos_tag(tokens)\n",
    "print(tagged)"
   ]
  },
  {
   "cell_type": "code",
   "execution_count": 3,
   "id": "cdfbe4a1-0ba5-4152-9beb-27fb1e10372d",
   "metadata": {},
   "outputs": [
    {
     "name": "stdout",
     "output_type": "stream",
     "text": [
      "[('I', 'PRP'), ('love', 'VBP'), ('Python', 'NNP'), ('programming', 'NN'), ('.', '.')]\n",
      "[('She', 'PRP'), ('is', 'VBZ'), ('reading', 'VBG'), ('a', 'DT'), ('book', 'NN'), ('.', '.')]\n"
     ]
    }
   ],
   "source": [
    "# Example 2: Tagging multiple sentences\n",
    "sentences = [\n",
    "    \"I love Python programming.\",\n",
    "    \"She is reading a book.\"\n",
    "]\n",
    "for sent in sentences:\n",
    "    print(pos_tag(word_tokenize(sent)))"
   ]
  },
  {
   "cell_type": "code",
   "execution_count": 8,
   "id": "39c78172-ec27-4693-9c19-4081797d1318",
   "metadata": {},
   "outputs": [
    {
     "name": "stdout",
     "output_type": "stream",
     "text": [
      "Nouns: ['quick', 'brown', 'fox', 'lazy', 'dog']\n"
     ]
    }
   ],
   "source": [
    "# Example 3: Extracting nouns from text\n",
    "nouns = [word for word, pos in tagged if pos.startswith(('NN','JJ'))]\n",
    "print(\"Nouns:\", nouns)"
   ]
  },
  {
   "cell_type": "code",
   "execution_count": 9,
   "id": "a28e932c-0b1a-4241-8ea4-58484df3784e",
   "metadata": {},
   "outputs": [
    {
     "name": "stdout",
     "output_type": "stream",
     "text": [
      "Verbs: ['jumps']\n"
     ]
    }
   ],
   "source": [
    "# Example 4: Extracting verbs from text\n",
    "verbs = [word for word, pos in tagged if pos.startswith('VB')]\n",
    "print(\"Verbs:\", verbs)"
   ]
  },
  {
   "cell_type": "code",
   "execution_count": null,
   "id": "207ce411-057a-43a3-b438-9828b5e5a41e",
   "metadata": {},
   "outputs": [],
   "source": []
  }
 ],
 "metadata": {
  "kernelspec": {
   "display_name": "Python 3 (ipykernel)",
   "language": "python",
   "name": "python3"
  },
  "language_info": {
   "codemirror_mode": {
    "name": "ipython",
    "version": 3
   },
   "file_extension": ".py",
   "mimetype": "text/x-python",
   "name": "python",
   "nbconvert_exporter": "python",
   "pygments_lexer": "ipython3",
   "version": "3.13.5"
  }
 },
 "nbformat": 4,
 "nbformat_minor": 5
}
