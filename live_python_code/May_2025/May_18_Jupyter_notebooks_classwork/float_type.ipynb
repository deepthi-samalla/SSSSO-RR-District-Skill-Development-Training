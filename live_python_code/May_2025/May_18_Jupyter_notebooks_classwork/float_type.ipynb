{
 "cells": [
  {
   "cell_type": "markdown",
   "id": "f6bd1468",
   "metadata": {},
   "source": [
    "# Creating Float Values"
   ]
  },
  {
   "cell_type": "code",
   "execution_count": 8,
   "id": "647151c9",
   "metadata": {},
   "outputs": [
    {
     "name": "stdout",
     "output_type": "stream",
     "text": [
      "3.14 -2.5 0.0 0.005\n"
     ]
    }
   ],
   "source": [
    "# Examples of float literals\n",
    "a = 3.14\n",
    "b = -2.5\n",
    "c = 0.0\n",
    "d = 5e-3    # 5 × 10⁻³ = 0.005\n",
    "print(a, b, c, d)"
   ]
  },
  {
   "cell_type": "markdown",
   "id": "38555509",
   "metadata": {},
   "source": [
    "# Creating Float Values"
   ]
  },
  {
   "cell_type": "code",
   "execution_count": 2,
   "id": "a99c3c25",
   "metadata": {},
   "outputs": [
    {
     "name": "stdout",
     "output_type": "stream",
     "text": [
      "3.14 -2.5 0.0 0.005\n"
     ]
    }
   ],
   "source": [
    "# Examples of float literals\n",
    "a = 3.14\n",
    "b = -2.5\n",
    "c = 0.0\n",
    "d = 5e-3    # 5 × 10⁻³ = 0.005\n",
    "print(a, b, c, d)"
   ]
  },
  {
   "cell_type": "markdown",
   "id": "61b28363",
   "metadata": {},
   "source": [
    "# Operations with Floats"
   ]
  },
  {
   "cell_type": "code",
   "execution_count": 9,
   "id": "44111366",
   "metadata": {},
   "outputs": [
    {
     "name": "stdout",
     "output_type": "stream",
     "text": [
      "7.5\n",
      "3.5\n",
      "11.0\n",
      "2.75\n"
     ]
    }
   ],
   "source": [
    "x = 5.5\n",
    "y = 2.0\n",
    "\n",
    "print(x + y)  # Addition, output: 7.5\n",
    "print(x - y)  # Subtraction, output: 3.5\n",
    "print(x * y)  # Multiplication, output: 11.0\n",
    "print(x / y)  # Division, output: 2.75"
   ]
  },
  {
   "cell_type": "markdown",
   "id": "5eb22c3f",
   "metadata": {},
   "source": [
    "# Mixing Integers and Floats"
   ]
  },
  {
   "cell_type": "code",
   "execution_count": 4,
   "id": "eac319bc",
   "metadata": {},
   "outputs": [
    {
     "name": "stdout",
     "output_type": "stream",
     "text": [
      "9.5\n",
      "<class 'float'>\n"
     ]
    }
   ],
   "source": [
    "i = 7      # int\n",
    "f = 2.5    # float\n",
    "\n",
    "result = i + f\n",
    "print(result)       # Output: 9.5 (float)\n",
    "print(type(result)) # <class 'float'>"
   ]
  },
  {
   "cell_type": "markdown",
   "id": "75600cd0",
   "metadata": {},
   "source": [
    "# Precision and Floating Point Errors"
   ]
  },
  {
   "cell_type": "code",
   "execution_count": 5,
   "id": "c2039cb8",
   "metadata": {},
   "outputs": [
    {
     "name": "stdout",
     "output_type": "stream",
     "text": [
      "0.30000000000000004\n"
     ]
    }
   ],
   "source": [
    "print(0.1 + 0.2)  # Output: 0.30000000000000004"
   ]
  },
  {
   "cell_type": "markdown",
   "id": "80a3f168",
   "metadata": {},
   "source": [
    "# Rounding Floats"
   ]
  },
  {
   "cell_type": "code",
   "execution_count": 10,
   "id": "1daab25a",
   "metadata": {},
   "outputs": [
    {
     "name": "stdout",
     "output_type": "stream",
     "text": [
      "3.64\n",
      "4\n"
     ]
    }
   ],
   "source": [
    "num = 3.64159\n",
    "print(round(num, 2))  # Output: 3.14 (round to 2 decimal places)\n",
    "print(round(num))     # Output: 3 (round to nearest integer)"
   ]
  },
  {
   "cell_type": "markdown",
   "id": "96b56d8a",
   "metadata": {},
   "source": [
    "# Converting to Float"
   ]
  },
  {
   "cell_type": "code",
   "execution_count": 7,
   "id": "d10a38a8",
   "metadata": {},
   "outputs": [
    {
     "name": "stdout",
     "output_type": "stream",
     "text": [
      "5.0\n",
      "3.14\n",
      "2000.0\n"
     ]
    }
   ],
   "source": [
    "print(float(5))       # 5.0\n",
    "print(float(\"3.14\"))  # 3.14 (from string)\n",
    "print(float(\"2e3\"))   # 2000.0 (scientific notation string)\n",
    "#It is equivalent to 2 multiplied by 10 raised to the power of 3 (2 * 10^3),"
   ]
  },
  {
   "cell_type": "code",
   "execution_count": null,
   "id": "225db6fe",
   "metadata": {},
   "outputs": [],
   "source": []
  }
 ],
 "metadata": {
  "kernelspec": {
   "display_name": "Python 3 (ipykernel)",
   "language": "python",
   "name": "python3"
  },
  "language_info": {
   "codemirror_mode": {
    "name": "ipython",
    "version": 3
   },
   "file_extension": ".py",
   "mimetype": "text/x-python",
   "name": "python",
   "nbconvert_exporter": "python",
   "pygments_lexer": "ipython3",
   "version": "3.7.3"
  }
 },
 "nbformat": 4,
 "nbformat_minor": 5
}
