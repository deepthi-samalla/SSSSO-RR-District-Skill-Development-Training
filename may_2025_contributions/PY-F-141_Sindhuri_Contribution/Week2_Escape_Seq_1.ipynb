{
 "cells": [
  {
   "cell_type": "code",
   "execution_count": 1,
   "id": "93d8f036-7156-452e-bc25-11b8ff470b66",
   "metadata": {},
   "outputs": [
    {
     "name": "stdout",
     "output_type": "stream",
     "text": [
      "Hello, world!\n",
      "Welcome to Python programming.\n"
     ]
    }
   ],
   "source": [
    "\n",
    "# This program prints a string with a newline character\n",
    "print(\"Hello, world!\\nWelcome to Python programming.\")\n"
   ]
  },
  {
   "cell_type": "code",
   "execution_count": 2,
   "id": "bd39b897-7314-4f8e-bea5-dc4d5a41acbc",
   "metadata": {},
   "outputs": [
    {
     "name": "stdout",
     "output_type": "stream",
     "text": [
      "Name\t\tAge\tCity\n",
      "Alice\t\t30\tNew York\n",
      "Bob\t\t25\tLos Angeles\n",
      "Charlie\t\t35\tChicago\n"
     ]
    }
   ],
   "source": [
    "\n",
    "# Using \\t to align text in columns\n",
    "print(\"Name\\t\\tAge\\tCity\")\n",
    "print(\"Alice\\t\\t30\\tNew York\")\n",
    "print(\"Bob\\t\\t25\\tLos Angeles\")\n",
    "print(\"Charlie\\t\\t35\\tChicago\")\n"
   ]
  },
  {
   "cell_type": "code",
   "execution_count": 3,
   "id": "f2abc6fb-7b7a-4e1c-a537-e359ca355893",
   "metadata": {},
   "outputs": [
    {
     "name": "stdout",
     "output_type": "stream",
     "text": [
      "This is a backslash: \\\n"
     ]
    }
   ],
   "source": [
    "\n",
    "# Printing a backslash in a string\n",
    "print(\"This is a backslash: \\\\\")\n",
    "\n"
   ]
  },
  {
   "cell_type": "code",
   "execution_count": 4,
   "id": "4ed24b72-d3d2-4da6-be0f-5fe14068a609",
   "metadata": {},
   "outputs": [
    {
     "name": "stdout",
     "output_type": "stream",
     "text": [
      "It's a beautiful day!\n"
     ]
    }
   ],
   "source": [
    "\n",
    "# Using \\' to include a single quote inside single-quoted string\n",
    "print('It\\'s a beautiful day!')\n",
    "\n"
   ]
  },
  {
   "cell_type": "code",
   "execution_count": 5,
   "id": "6a622ed1-a82b-42cf-9945-2324dbd350dc",
   "metadata": {},
   "outputs": [
    {
     "name": "stdout",
     "output_type": "stream",
     "text": [
      "She said, \"Python is fun!\" with a big smile.\n"
     ]
    }
   ],
   "source": [
    "\n",
    "# Using \\\" to include double quotes inside a double-quoted string\n",
    "print(\"She said, \\\"Python is fun!\\\" with a big smile.\")\n"
   ]
  },
  {
   "cell_type": "code",
   "execution_count": 6,
   "id": "64d40c06-f2cc-4f6b-87f7-6c65fdb3732d",
   "metadata": {},
   "outputs": [
    {
     "name": "stdout",
     "output_type": "stream",
     "text": [
      "Hillo, world!\n"
     ]
    }
   ],
   "source": [
    "\n",
    "# Using \\r to demonstrate carriage return\n",
    "print(\"Hello, world!\\rHi\")\n"
   ]
  },
  {
   "cell_type": "code",
   "execution_count": 7,
   "id": "04b27fda-c905-4fa6-85ca-0c412a2e666b",
   "metadata": {},
   "outputs": [
    {
     "name": "stdout",
     "output_type": "stream",
     "text": [
      "Hello, World   \n"
     ]
    }
   ],
   "source": [
    "\n",
    "# Using \\b to simulate backspace\n",
    "print(\"Hello, World!\\b\\b\\b   \")\n"
   ]
  },
  {
   "cell_type": "code",
   "execution_count": 8,
   "id": "64d12783-b0e1-4a64-acf7-6ec694647538",
   "metadata": {},
   "outputs": [
    {
     "name": "stdout",
     "output_type": "stream",
     "text": [
      "She said, \"It's a lovely day!\"\n"
     ]
    }
   ],
   "source": [
    "\n",
    "# Printing both single and double quotes using escape sequences\n",
    "print('She said, \\\"It\\'s a lovely day!\\\"')\n"
   ]
  },
  {
   "cell_type": "code",
   "execution_count": 9,
   "id": "c5510808-ab35-4f7a-aed0-36dca14198e1",
   "metadata": {},
   "outputs": [
    {
     "name": "stdout",
     "output_type": "stream",
     "text": [
      "Warning! Something went wrong.\u0007\n"
     ]
    }
   ],
   "source": [
    "\n",
    "# Using \\a to trigger an alert sound\n",
    "print(\"Warning! Something went wrong.\\a\")\n",
    "\n"
   ]
  },
  {
   "cell_type": "code",
   "execution_count": 10,
   "id": "151a260a-e767-467e-b66a-300516f8221a",
   "metadata": {},
   "outputs": [
    {
     "name": "stdout",
     "output_type": "stream",
     "text": [
      "Line 1: Welcome to Python programming.\n",
      "Line 2: This is a multi-line string.\n",
      "Line 3: Enjoy coding!\n"
     ]
    }
   ],
   "source": [
    "\n",
    "# Multi-line string using \\n\n",
    "print(\"Line 1: Welcome to Python programming.\\nLine 2: This is a multi-line string.\\nLine 3: Enjoy coding!\")\n",
    "\n"
   ]
  },
  {
   "cell_type": "code",
   "execution_count": 11,
   "id": "e431f513-1a39-4894-9ac7-b04910d0ad7c",
   "metadata": {},
   "outputs": [
    {
     "name": "stdout",
     "output_type": "stream",
     "text": [
      "Name\t\tAge\tCity\n",
      "John Doe\t25\tNew York\n",
      "Jane Smith\t30\tLos Angeles\n",
      "Alice Brown\t28\tChicago\n"
     ]
    }
   ],
   "source": [
    "\n",
    "# Printing a formatted table using \\t and \\n\n",
    "print(\"Name\\t\\tAge\\tCity\\nJohn Doe\\t25\\tNew York\\nJane Smith\\t30\\tLos Angeles\\nAlice Brown\\t28\\tChicago\")\n",
    "\n"
   ]
  },
  {
   "cell_type": "code",
   "execution_count": 12,
   "id": "96bba90b-7639-417a-831a-c54870eae996",
   "metadata": {},
   "outputs": [
    {
     "name": "stdout",
     "output_type": "stream",
     "text": [
      "Original Path: C:\\Users\\John\\Documents\\Project\\file.txt\n",
      "Escaped Path: C:\\\\Users\\\\John\\\\Documents\\\\Project\\\\file.txt\n"
     ]
    }
   ],
   "source": [
    "\n",
    "# Replace single backslashes with double backslashes in a Windows file path\n",
    "file_path = \"C:\\\\Users\\\\John\\\\Documents\\\\Project\\\\file.txt\"\n",
    "# Or if input is raw: file_path = r\"C:\\Users\\John\\Documents\\Project\\file.txt\"\n",
    "\n",
    "# Replace backslashes\n",
    "escaped_path = file_path.replace(\"\\\\\", \"\\\\\\\\\")\n",
    "print(\"Original Path:\", file_path)\n",
    "print(\"Escaped Path:\", escaped_path)\n"
   ]
  },
  {
   "cell_type": "code",
   "execution_count": 14,
   "id": "aa1c5a46-2f45-45bd-b197-e7b6e435c402",
   "metadata": {},
   "outputs": [
    {
     "name": "stdout",
     "output_type": "stream",
     "text": [
      "Hifriendorld!\n"
     ]
    }
   ],
   "source": [
    "\n",
    "# Using \\r to demonstrate carriage return\n",
    "print(\"Hello, world!\\rHifriend\")\n"
   ]
  },
  {
   "cell_type": "code",
   "execution_count": 15,
   "id": "c6c81d5c-e4ad-47d6-abb3-ea88cfaa395c",
   "metadata": {},
   "outputs": [
    {
     "name": "stdout",
     "output_type": "stream",
     "text": [
      "She said, \"It's amazing!\"\n",
      "Path to the file:\tC:\\Users\\John\\Documents\\notes.txt\n"
     ]
    }
   ],
   "source": [
    "\n",
    "# Printing a complex string with mixed escaped characters\n",
    "print(\"She said, \\\"It\\'s amazing!\\\"\\nPath to the file:\\tC:\\\\Users\\\\John\\\\Documents\\\\notes.txt\")\n"
   ]
  },
  {
   "cell_type": "code",
   "execution_count": 16,
   "id": "cba7ed9e-2374-4270-b1e9-93be79e1cdbc",
   "metadata": {},
   "outputs": [
    {
     "name": "stdout",
     "output_type": "stream",
     "text": [
      "Line 1\n",
      "Line 2\tTabbed\n",
      "Path: C:\\Users\\John\n",
      "Line 1\\nLine 2\\tTabbed\\nPath: C:\\Users\\John\n"
     ]
    }
   ],
   "source": [
    "\n",
    "# Normal string with escape sequences\n",
    "print(\"Line 1\\nLine 2\\tTabbed\\nPath: C:\\\\Users\\\\John\")\n",
    "\n",
    "# Raw string (escape sequences are not processed)\n",
    "print(r\"Line 1\\nLine 2\\tTabbed\\nPath: C:\\Users\\John\")\n"
   ]
  },
  {
   "cell_type": "code",
   "execution_count": 18,
   "id": "1a70e643-ab40-44ad-aabc-c5936a1db57c",
   "metadata": {},
   "outputs": [
    {
     "name": "stdout",
     "output_type": "stream",
     "text": [
      "Progress: [####################] 100%\n",
      "Done!\n"
     ]
    }
   ],
   "source": [
    "\n",
    "import sys\n",
    "\n",
    "# Function to display a progress bar\n",
    "def progress_bar(total=20, delay=0.1):\n",
    "     for i in range(total + 1):\n",
    "          percent = int((i / total) * 100)\n",
    "          bar = '#' * i + '-' * (total - i)\n",
    "          sys.stdout.write(f'\\rProgress: [{bar}] {percent}%')\n",
    "          sys.stdout.flush()\n",
    "          time.sleep(delay)\n",
    "     print(\"\\nDone!\")\n",
    "\n",
    "# Run the progress bar\n",
    "progress_bar()\n"
   ]
  },
  {
   "cell_type": "code",
   "execution_count": 20,
   "id": "2a3b7903-4389-4d77-87f8-8de52ab9e7ef",
   "metadata": {},
   "outputs": [
    {
     "name": "stdout",
     "output_type": "stream",
     "text": [
      "Person A:\tHey, how are you?\n",
      "Person B:\tI'm good, thanks! How about you?\n",
      "Person A:\tDoing well. Did you finish the project?\n",
      "Person B:\tYes, just submitted it this morning.\n",
      "Person A:\tGreat! Let's grab lunch to celebrate.\n",
      "Person B:\tSounds like a plan!\n"
     ]
    }
   ],
   "source": [
    "\n",
    "# Dialogue using newline and tab escape sequences\n",
    "print(\"Person A:\\tHey, how are you?\\nPerson B:\\tI\\'m good, thanks! How about you?\\nPerson A:\\tDoing well. Did you finish the project?\\nPerson B:\\tYes, just submitted it this morning.\\nPerson A:\\tGreat! Let\\'s grab lunch to celebrate.\\nPerson B:\\tSounds like a plan!\")\n"
   ]
  },
  {
   "cell_type": "code",
   "execution_count": null,
   "id": "4c40bf31-968e-4c83-9d74-e23c4a5a6237",
   "metadata": {},
   "outputs": [],
   "source": []
  }
 ],
 "metadata": {
  "kernelspec": {
   "display_name": "Python 3 (ipykernel)",
   "language": "python",
   "name": "python3"
  },
  "language_info": {
   "codemirror_mode": {
    "name": "ipython",
    "version": 3
   },
   "file_extension": ".py",
   "mimetype": "text/x-python",
   "name": "python",
   "nbconvert_exporter": "python",
   "pygments_lexer": "ipython3",
   "version": "3.12.7"
  }
 },
 "nbformat": 4,
 "nbformat_minor": 5
}
