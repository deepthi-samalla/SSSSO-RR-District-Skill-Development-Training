{
 "cells": [
  {
   "cell_type": "code",
   "execution_count": 1,
   "id": "cb0d38f2-9b01-40a7-8555-aab5a583a7cb",
   "metadata": {},
   "outputs": [
    {
     "name": "stdout",
     "output_type": "stream",
     "text": [
      "['run', 'run', 'runner', 'easili', 'fairli', 'cat', 'studi', 'studi']\n"
     ]
    }
   ],
   "source": [
    "from nltk.stem import PorterStemmer, SnowballStemmer, LancasterStemmer\n",
    "\n",
    "words = [\"running\", \"runs\", \"runner\", \"easily\", \"fairly\", \"cats\", \"studies\", \"studying\"]\n",
    "\n",
    "# Example 1: Using Porter Stemmer\n",
    "porter = PorterStemmer()\n",
    "print([porter.stem(word) for word in words])"
   ]
  },
  {
   "cell_type": "code",
   "execution_count": 2,
   "id": "127c2797-3e7d-4507-bd66-547f01da96f2",
   "metadata": {},
   "outputs": [
    {
     "name": "stdout",
     "output_type": "stream",
     "text": [
      "['run', 'run', 'runner', 'easili', 'fair', 'cat', 'studi', 'studi']\n"
     ]
    }
   ],
   "source": [
    "# Example 2: Using Snowball Stemmer (English)\n",
    "snowball = SnowballStemmer(\"english\")\n",
    "print([snowball.stem(word) for word in words])"
   ]
  },
  {
   "cell_type": "code",
   "execution_count": 3,
   "id": "c4e7bf1d-4db2-4735-9e6d-d5efc95799c2",
   "metadata": {},
   "outputs": [
    {
     "name": "stdout",
     "output_type": "stream",
     "text": [
      "['run', 'run', 'run', 'easy', 'fair', 'cat', 'study', 'study']\n"
     ]
    }
   ],
   "source": [
    "# Example 3: Using Lancaster Stemmer\n",
    "lancaster = LancasterStemmer()\n",
    "print([lancaster.stem(word) for word in words])\n"
   ]
  },
  {
   "cell_type": "code",
   "execution_count": 5,
   "id": "f213c919-0724-4cea-b7a5-95e142e2141f",
   "metadata": {},
   "outputs": [
    {
     "name": "stdout",
     "output_type": "stream",
     "text": [
      "Porter: commun\n",
      "Snowball: communic\n",
      "Lancaster: commun\n"
     ]
    }
   ],
   "source": [
    "# Example 4: Comparing stemmers on a verb\n",
    "word = \"communication\"\n",
    "print(\"Porter:\", porter.stem(word))\n",
    "print(\"Snowball:\", snowball.stem(word))\n",
    "print(\"Lancaster:\", lancaster.stem(word))"
   ]
  },
  {
   "cell_type": "code",
   "execution_count": 6,
   "id": "62a43c6c-bf2e-414e-8476-ed172da36b91",
   "metadata": {},
   "outputs": [
    {
     "name": "stdout",
     "output_type": "stream",
     "text": [
      "gees\n",
      "wolv\n"
     ]
    }
   ],
   "source": [
    "# Example 5: Stemming plural nouns\n",
    "print(porter.stem(\"geese\"))\n",
    "print(porter.stem(\"wolves\"))"
   ]
  },
  {
   "cell_type": "code",
   "execution_count": 7,
   "id": "ad6ad6da-768b-4231-873e-7af2dfd7a4f9",
   "metadata": {},
   "outputs": [
    {
     "name": "stdout",
     "output_type": "stream",
     "text": [
      "unhappi\n",
      "unhappi\n"
     ]
    }
   ],
   "source": [
    "# Example 8: Stemming words with prefixes\n",
    "print(porter.stem(\"unhappy\"))\n",
    "print(snowball.stem(\"unhappy\"))"
   ]
  },
  {
   "cell_type": "code",
   "execution_count": null,
   "id": "d3947638-6210-43da-b706-5569f6e0e579",
   "metadata": {},
   "outputs": [],
   "source": []
  }
 ],
 "metadata": {
  "kernelspec": {
   "display_name": "Python 3 (ipykernel)",
   "language": "python",
   "name": "python3"
  },
  "language_info": {
   "codemirror_mode": {
    "name": "ipython",
    "version": 3
   },
   "file_extension": ".py",
   "mimetype": "text/x-python",
   "name": "python",
   "nbconvert_exporter": "python",
   "pygments_lexer": "ipython3",
   "version": "3.13.5"
  }
 },
 "nbformat": 4,
 "nbformat_minor": 5
}
