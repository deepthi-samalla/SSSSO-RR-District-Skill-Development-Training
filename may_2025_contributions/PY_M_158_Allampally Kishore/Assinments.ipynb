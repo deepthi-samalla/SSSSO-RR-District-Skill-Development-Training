{
 "cells": [
  {
   "cell_type": "code",
   "execution_count": null,
   "id": "1163f40a",
   "metadata": {},
   "outputs": [
    {
     "name": "stdout",
     "output_type": "stream",
     "text": [
      "Hello, World!\n"
     ]
    }
   ],
   "source": [
    "#!/usr/bin/env python3\n",
    "\n",
    "def greet():\n",
    "    print(\"Hello, World!\")\n",
    "\n",
    "if __name__ == \"__main__\":\n",
    "    greet()"
   ]
  },
  {
   "cell_type": "code",
   "execution_count": null,
   "id": "ffb255eb",
   "metadata": {},
   "outputs": [
    {
     "name": "stdout",
     "output_type": "stream",
     "text": [
      "Sairam, Good Morning\n",
      "Have a nice day\n"
     ]
    }
   ],
   "source": [
    "print(\"Sairam, Good Morning\")\n",
    "print(\"Have a nice day\")\n"
   ]
  },
  {
   "cell_type": "code",
   "execution_count": null,
   "id": "f361a765",
   "metadata": {},
   "outputs": [
    {
     "name": "stdout",
     "output_type": "stream",
     "text": [
      "He wished, \"Sairam\".\n"
     ]
    }
   ],
   "source": [
    "print('He wished, \"Sairam\".')\n",
    "\n"
   ]
  },
  {
   "cell_type": "code",
   "execution_count": null,
   "id": "af7fdeba",
   "metadata": {},
   "outputs": [
    {
     "name": "stdout",
     "output_type": "stream",
     "text": [
      "He wished, \"Sairam\".\n"
     ]
    }
   ],
   "source": [
    "print(\"He wished, \\\"Sairam\\\".\")"
   ]
  },
  {
   "cell_type": "code",
   "execution_count": null,
   "id": "bdc4d9f3",
   "metadata": {},
   "outputs": [
    {
     "name": "stdout",
     "output_type": "stream",
     "text": [
      "He wished, \"Sairam\".\n"
     ]
    }
   ],
   "source": [
    "print(\"He wished, \\\"Sairam\\\".\")"
   ]
  },
  {
   "cell_type": "code",
   "execution_count": null,
   "id": "e1f37670",
   "metadata": {},
   "outputs": [
    {
     "name": "stdout",
     "output_type": "stream",
     "text": [
      "He wished, \"Sairam\".\n"
     ]
    }
   ],
   "source": [
    "sentence = 'Sairam'\n",
    "print(f'He wished, \"{sentence}\".')\n"
   ]
  },
  {
   "cell_type": "code",
   "execution_count": null,
   "id": "6b5d3fff",
   "metadata": {},
   "outputs": [],
   "source": [
    "multiline_text = \"\"\"This is line one.\n",
    "This is line two.\n",
    "This is line three.\"\"\""
   ]
  },
  {
   "cell_type": "code",
   "execution_count": null,
   "id": "d18513ca",
   "metadata": {},
   "outputs": [
    {
     "name": "stdout",
     "output_type": "stream",
     "text": [
      "This is line one.\n",
      "\n",
      "This is line two.\n",
      "\n",
      "This is line three.\n"
     ]
    }
   ],
   "source": [
    "multiline_text = \"\"\"This is line one.\n",
    "\n",
    "This is line two.\n",
    "\n",
    "This is line three.\"\"\"\n",
    " \n",
    "print(f\"{multiline_text}\")\n",
    " "
   ]
  },
  {
   "cell_type": "code",
   "execution_count": null,
   "id": "8e7c741a",
   "metadata": {},
   "outputs": [
    {
     "name": "stdout",
     "output_type": "stream",
     "text": [
      "PythonWorld\n"
     ]
    }
   ],
   "source": [
    "print(\"Hello World\\rPython\")"
   ]
  },
  {
   "cell_type": "code",
   "execution_count": null,
   "id": "f39af545",
   "metadata": {},
   "outputs": [
    {
     "name": "stdout",
     "output_type": "stream",
     "text": [
      "1236\n"
     ]
    }
   ],
   "source": [
    "print('1234\\b\\b\\b6')"
   ]
  },
  {
   "cell_type": "code",
   "execution_count": null,
   "id": "fe0cea51",
   "metadata": {},
   "outputs": [
    {
     "name": "stdout",
     "output_type": "stream",
     "text": [
      "1236\n"
     ]
    }
   ],
   "source": [
    "print('1234\\b\\b\\b6')"
   ]
  },
  {
   "cell_type": "code",
   "execution_count": null,
   "id": "f30d83ef",
   "metadata": {},
   "outputs": [
    {
     "name": "stdout",
     "output_type": "stream",
     "text": [
      "Sairam ^/\\^ !!\n"
     ]
    }
   ],
   "source": [
    "print(\"Sairam ^/\\\\^ !!\")\n"
   ]
  },
  {
   "cell_type": "code",
   "execution_count": null,
   "id": "9f24b4cd",
   "metadata": {},
   "outputs": [
    {
     "name": "stdout",
     "output_type": "stream",
     "text": [
      "Sairam ^/\\^ !!\n"
     ]
    },
    {
     "name": "stderr",
     "output_type": "stream",
     "text": [
      "<>:1: SyntaxWarning: invalid escape sequence '\\^'\n",
      "<>:1: SyntaxWarning: invalid escape sequence '\\^'\n",
      "C:\\Users\\Admin\\AppData\\Local\\Temp\\ipykernel_2420\\3525806525.py:1: SyntaxWarning: invalid escape sequence '\\^'\n",
      "  print(\"Sairam ^/\\^ !!\")\n"
     ]
    }
   ],
   "source": [
    "print(\"Sairam ^/\\^ !!\")"
   ]
  },
  {
   "cell_type": "code",
   "execution_count": null,
   "id": "3fedc67b",
   "metadata": {},
   "outputs": [
    {
     "name": "stdout",
     "output_type": "stream",
     "text": [
      "Sairam ^/\\^ !!\n"
     ]
    }
   ],
   "source": [
    "print(\"Sairam ^/\\\\^ !!\")"
   ]
  },
  {
   "cell_type": "code",
   "execution_count": null,
   "id": "75884b72",
   "metadata": {},
   "outputs": [
    {
     "name": "stdout",
     "output_type": "stream",
     "text": [
      "Even\n",
      "odd\n"
     ]
    }
   ],
   "source": [
    "number=45\n",
    "print(\"Even\")\n",
    "print(\"odd\")"
   ]
  },
  {
   "cell_type": "code",
   "execution_count": null,
   "id": "e7523815",
   "metadata": {},
   "outputs": [
    {
     "name": "stdout",
     "output_type": "stream",
     "text": [
      "even\n"
     ]
    }
   ],
   "source": [
    "number=45\n",
    "if number/2:\n",
    "    print(\"even\")\n",
    "else:\n",
    "    print(\"odd\")"
   ]
  },
  {
   "cell_type": "code",
   "execution_count": null,
   "id": "cf6fb04f",
   "metadata": {},
   "outputs": [
    {
     "name": "stdout",
     "output_type": "stream",
     "text": [
      "0\n",
      "2\n",
      "4\n",
      "6\n",
      "8\n",
      "10\n",
      "12\n",
      "14\n",
      "16\n",
      "18\n",
      "20\n"
     ]
    }
   ],
   "source": [
    "for i in range(21):\n",
    "    if i % 2 == 0:\n",
    "        print(i)\n"
   ]
  },
  {
   "cell_type": "code",
   "execution_count": null,
   "id": "5941630e",
   "metadata": {},
   "outputs": [
    {
     "name": "stdout",
     "output_type": "stream",
     "text": [
      "0\n",
      "2\n",
      "4\n",
      "6\n",
      "8\n",
      "10\n",
      "12\n",
      "14\n",
      "16\n",
      "18\n",
      "20\n"
     ]
    }
   ],
   "source": [
    "for i in range(0, 21, 2):\n",
    "    print(i)\n"
   ]
  },
  {
   "cell_type": "code",
   "execution_count": null,
   "id": "0d97ebad",
   "metadata": {},
   "outputs": [
    {
     "name": "stdout",
     "output_type": "stream",
     "text": [
      "0 2 4 6 8 10 12 14 16 18 20\n"
     ]
    }
   ],
   "source": [
    "print(*range(0, 21, 2))\n"
   ]
  },
  {
   "cell_type": "code",
   "execution_count": null,
   "id": "090c12f8",
   "metadata": {},
   "outputs": [
    {
     "name": "stdout",
     "output_type": "stream",
     "text": [
      "0\n",
      "2\n",
      "4\n",
      "6\n",
      "8\n",
      "10\n",
      "12\n",
      "14\n",
      "16\n",
      "18\n",
      "20\n"
     ]
    }
   ],
   "source": [
    "num = 0\n",
    "while num <= 20:\n",
    "    print(num)\n",
    "    num += 2\n"
   ]
  },
  {
   "cell_type": "code",
   "execution_count": null,
   "id": "ae65058f",
   "metadata": {},
   "outputs": [
    {
     "name": "stdout",
     "output_type": "stream",
     "text": [
      "1\n",
      "2\n",
      "3\n",
      "4\n",
      "5\n"
     ]
    }
   ],
   "source": [
    "count = 1\n",
    "while count <= 5:\n",
    "    print(count)    \n",
    "    count += 1"
   ]
  },
  {
   "cell_type": "code",
   "execution_count": null,
   "id": "65fe233d",
   "metadata": {},
   "outputs": [
    {
     "name": "stdout",
     "output_type": "stream",
     "text": [
      "apple\n",
      "banana\n"
     ]
    }
   ],
   "source": [
    "# 1. Accessing elements\n",
    "fruits = [\"apple\", \"banana\", \"cherry\"]\n",
    "print(fruits[0])  # Output: apple\n",
    "print(fruits[1])  # Output: apple"
   ]
  },
  {
   "cell_type": "code",
   "execution_count": null,
   "id": "a8e2aaed",
   "metadata": {},
   "outputs": [
    {
     "name": "stdout",
     "output_type": "stream",
     "text": [
      "['apple', 'banana', 'cherry', 'orange']\n"
     ]
    }
   ],
   "source": [
    "# 2. Adding elements\n",
    "fruits.append(\"orange\")\n",
    "print(fruits)\n",
    "# Output: ['apple', 'banana', 'cherry', 'orange']"
   ]
  },
  {
   "cell_type": "code",
   "execution_count": null,
   "id": "f5003deb",
   "metadata": {},
   "outputs": [
    {
     "name": "stdout",
     "output_type": "stream",
     "text": [
      "['apple', 'cherry', 'orange']\n"
     ]
    }
   ],
   "source": [
    "# 3. Removing elements\n",
    "fruits.remove(\"banana\")\n",
    "print(fruits)\n",
    "# Output: ['apple', 'cherry', 'orange']"
   ]
  },
  {
   "cell_type": "code",
   "execution_count": null,
   "id": "72be56b1",
   "metadata": {},
   "outputs": [
    {
     "name": "stdout",
     "output_type": "stream",
     "text": [
      "[20, 30, 40]\n"
     ]
    }
   ],
   "source": [
    "# 4. Slicing lists\n",
    "numbers = [10, 20, 30, 40, 50]\n",
    "print(numbers[1:4])\n",
    "# Output: [20, 30, 40]"
   ]
  },
  {
   "cell_type": "code",
   "execution_count": null,
   "id": "208423ac",
   "metadata": {},
   "outputs": [
    {
     "name": "stdout",
     "output_type": "stream",
     "text": [
      "[0, 1, 4, 9, 16, 25]\n"
     ]
    }
   ],
   "source": [
    "# 5. List comprehension\n",
    "squares = [x**2 for x in range(6)]\n",
    "print(squares)\n",
    "# Output: [0, 1, 4, 9, 16, 25]"
   ]
  },
  {
   "cell_type": "code",
   "execution_count": null,
   "id": "5326a2b4",
   "metadata": {},
   "outputs": [],
   "source": [
    "tuple\n"
   ]
  },
  {
   "cell_type": "code",
   "execution_count": null,
   "id": "9327da29",
   "metadata": {},
   "outputs": [
    {
     "name": "stdout",
     "output_type": "stream",
     "text": [
      "green\n"
     ]
    }
   ],
   "source": [
    "# 1. Accessing elements\n",
    "colors = (\"red\", \"green\", \"blue\")\n",
    "print(colors[1])  # Output: green"
   ]
  },
  {
   "cell_type": "code",
   "execution_count": null,
   "id": "34c7ea9e",
   "metadata": {},
   "outputs": [
    {
     "name": "stdout",
     "output_type": "stream",
     "text": [
      "(1, 2)\n",
      "2\n"
     ]
    }
   ],
   "source": [
    "# 2. Nested tuples\n",
    "nested = ((1, 2), (3, 4))\n",
    "print(nested[0])    # Output: (1, 2)\n",
    "print(nested[0][1]) # Output: 2"
   ]
  },
  {
   "cell_type": "code",
   "execution_count": null,
   "id": "5288a94e",
   "metadata": {},
   "outputs": [
    {
     "name": "stdout",
     "output_type": "stream",
     "text": [
      "10\n",
      "20\n"
     ]
    }
   ],
   "source": [
    "# 3. Tuple unpacking\n",
    "point = (10, 20)\n",
    "x, y = point\n",
    "print(x)  # Output: 10\n",
    "print(y)  # Output: 20"
   ]
  },
  {
   "cell_type": "code",
   "execution_count": null,
   "id": "b1e06ffa",
   "metadata": {},
   "outputs": [
    {
     "name": "stdout",
     "output_type": "stream",
     "text": [
      "<class 'tuple'>\n"
     ]
    }
   ],
   "source": [
    "# 4. Single element tuple (note the comma)\n",
    "single = (5,)\n",
    "print(type(single))  # Output: <class 'tuple'>"
   ]
  },
  {
   "cell_type": "code",
   "execution_count": null,
   "id": "2c9cd0a7",
   "metadata": {},
   "outputs": [
    {
     "name": "stdout",
     "output_type": "stream",
     "text": [
      "point A\n"
     ]
    }
   ],
   "source": [
    "# 5. Using tuples as dictionary keys\n",
    "my_dict = { (1, 2): \"point A\", (3, 4): \"point B\" }\n",
    "print(my_dict[(1, 2)])  # Output: point A"
   ]
  },
  {
   "cell_type": "code",
   "execution_count": null,
   "id": "0ff72c4f",
   "metadata": {},
   "outputs": [],
   "source": [
    "set\n"
   ]
  },
  {
   "cell_type": "code",
   "execution_count": null,
   "id": "c4bb6a3a",
   "metadata": {},
   "outputs": [
    {
     "name": "stdout",
     "output_type": "stream",
     "text": [
      "{'apple', 'cherry', 'banana'}\n"
     ]
    }
   ],
   "source": [
    "# 1. Creating and printing a set\n",
    "fruits = {\"apple\", \"banana\", \"cherry\"}\n",
    "print(fruits)  # Output: {'banana', 'apple', 'cherry'}"
   ]
  },
  {
   "cell_type": "code",
   "execution_count": null,
   "id": "f915ff01",
   "metadata": {},
   "outputs": [
    {
     "name": "stdout",
     "output_type": "stream",
     "text": [
      "{'apple', 'cherry', 'banana', 'orange'}\n"
     ]
    }
   ],
   "source": [
    "# 2. Adding elements to a set\n",
    "fruits.add(\"orange\")\n",
    "print(fruits)"
   ]
  },
  {
   "cell_type": "code",
   "execution_count": null,
   "id": "3bae6e3e",
   "metadata": {},
   "outputs": [
    {
     "name": "stdout",
     "output_type": "stream",
     "text": [
      "{'apple', 'cherry', 'orange'}\n"
     ]
    }
   ],
   "source": [
    "# 3. Removing elements from a set\n",
    "fruits.remove(\"banana\")\n",
    "print(fruits)"
   ]
  },
  {
   "cell_type": "code",
   "execution_count": null,
   "id": "578df1d0",
   "metadata": {},
   "outputs": [
    {
     "name": "stdout",
     "output_type": "stream",
     "text": [
      "{1, 2, 3, 4, 5}\n",
      "{3}\n"
     ]
    }
   ],
   "source": [
    "# 4. Set operations: union and intersection\n",
    "a = {1, 2, 3}\n",
    "b = {3, 4, 5}\n",
    "print(a.union(b))        # Output: {1, 2, 3, 4, 5}\n",
    "print(a.intersection(b)) # Output: {3}"
   ]
  },
  {
   "cell_type": "code",
   "execution_count": null,
   "id": "e0d947cc",
   "metadata": {},
   "outputs": [
    {
     "name": "stdout",
     "output_type": "stream",
     "text": [
      "True\n"
     ]
    }
   ],
   "source": [
    "# 5. Checking membership\n",
    "print(\"apple\" in fruits)  # Output: True or False depending on current set contents"
   ]
  },
  {
   "cell_type": "code",
   "execution_count": null,
   "id": "5d33e119",
   "metadata": {},
   "outputs": [
    {
     "name": "stdout",
     "output_type": "stream",
     "text": [
      "10\n"
     ]
    }
   ],
   "source": [
    "# 1. Summing elements\n",
    "from functools import reduce\n",
    "numbers = [1, 2, 3, 4]\n",
    "total = reduce(lambda x, y: x + y, numbers)\n",
    "print(total)  # Output: 10"
   ]
  },
  {
   "cell_type": "code",
   "execution_count": null,
   "id": "3a6732f3",
   "metadata": {},
   "outputs": [
    {
     "name": "stdout",
     "output_type": "stream",
     "text": [
      "<re.Match object; span=(9, 14), match='apple'>\n"
     ]
    }
   ],
   "source": [
    "import re\n",
    "pattern = r\"apple\"\n",
    "text = \"I ate an apple.\"\n",
    "print(re.search(pattern, text))"
   ]
  },
  {
   "cell_type": "code",
   "execution_count": null,
   "id": "fa13d91d",
   "metadata": {},
   "outputs": [
    {
     "ename": "ModuleNotFoundError",
     "evalue": "No module named 'numpy'",
     "output_type": "error",
     "traceback": [
      "\u001b[31m---------------------------------------------------------------------------\u001b[39m",
      "\u001b[31mModuleNotFoundError\u001b[39m                       Traceback (most recent call last)",
      "\u001b[36mCell\u001b[39m\u001b[36m \u001b[39m\u001b[32mIn[5]\u001b[39m\u001b[32m, line 1\u001b[39m\n\u001b[32m----> \u001b[39m\u001b[32m1\u001b[39m \u001b[38;5;28;01mimport\u001b[39;00m\u001b[38;5;250m \u001b[39m\u001b[34;01mnumpy\u001b[39;00m\u001b[38;5;250m \u001b[39m\u001b[38;5;28;01mas\u001b[39;00m\u001b[38;5;250m \u001b[39m\u001b[34;01mnp\u001b[39;00m\n\u001b[32m      3\u001b[39m \u001b[38;5;66;03m# Create a 1D array\u001b[39;00m\n\u001b[32m      4\u001b[39m arr = np.array([\u001b[32m1\u001b[39m, \u001b[32m2\u001b[39m, \u001b[32m3\u001b[39m, \u001b[32m4\u001b[39m])\n",
      "\u001b[31mModuleNotFoundError\u001b[39m: No module named 'numpy'"
     ]
    }
   ],
   "source": [
    "import numpy as np\n",
    "\n",
    "# Create a 1D array\n",
    "arr = np.array([1, 2, 3, 4])\n",
    "print(\"1D Array:\", arr)\n",
    "\n",
    "# Create a 2D array\n",
    "mat = np.array([[1, 2], [3, 4]])\n",
    "print(\"2D Array:\\n\", mat)\n",
    "\n",
    "# Element-wise operations\n",
    "print(\"Squared:\", arr ** 2)\n"
   ]
  },
  {
   "cell_type": "code",
   "execution_count": null,
   "id": "8b273fd3",
   "metadata": {},
   "outputs": [
    {
     "name": "stdout",
     "output_type": "stream",
     "text": [
      "Collecting numpy\n",
      "  Downloading numpy-2.3.1-cp313-cp313-win_amd64.whl.metadata (60 kB)\n",
      "Downloading numpy-2.3.1-cp313-cp313-win_amd64.whl (12.7 MB)\n",
      "   ---------------------------------------- 0.0/12.7 MB ? eta -:--:--\n",
      "   -- ------------------------------------- 0.8/12.7 MB 5.7 MB/s eta 0:00:03\n",
      "   ----- ---------------------------------- 1.8/12.7 MB 4.3 MB/s eta 0:00:03\n",
      "   -------- ------------------------------- 2.6/12.7 MB 4.2 MB/s eta 0:00:03\n",
      "   ---------- ----------------------------- 3.4/12.7 MB 3.8 MB/s eta 0:00:03\n",
      "   ------------- -------------------------- 4.2/12.7 MB 4.1 MB/s eta 0:00:03\n",
      "   --------------- ------------------------ 5.0/12.7 MB 4.0 MB/s eta 0:00:02\n",
      "   ------------------ --------------------- 5.8/12.7 MB 4.0 MB/s eta 0:00:02\n",
      "   -------------------- ------------------- 6.6/12.7 MB 3.9 MB/s eta 0:00:02\n",
      "   ----------------------- ---------------- 7.6/12.7 MB 3.9 MB/s eta 0:00:02\n",
      "   -------------------------- ------------- 8.4/12.7 MB 3.9 MB/s eta 0:00:02\n",
      "   ---------------------------- ----------- 9.2/12.7 MB 3.9 MB/s eta 0:00:01\n",
      "   ------------------------------- -------- 10.0/12.7 MB 3.9 MB/s eta 0:00:01\n",
      "   --------------------------------- ------ 10.7/12.7 MB 3.9 MB/s eta 0:00:01\n",
      "   ------------------------------------ --- 11.5/12.7 MB 3.9 MB/s eta 0:00:01\n",
      "   -------------------------------------- - 12.3/12.7 MB 3.9 MB/s eta 0:00:01\n",
      "   ---------------------------------------- 12.7/12.7 MB 3.8 MB/s eta 0:00:00\n",
      "Installing collected packages: numpy\n",
      "Successfully installed numpy-2.3.1\n"
     ]
    },
    {
     "name": "stderr",
     "output_type": "stream",
     "text": [
      "\n",
      "[notice] A new release of pip is available: 25.0.1 -> 25.1.1\n",
      "[notice] To update, run: python.exe -m pip install --upgrade pip\n"
     ]
    }
   ],
   "source": [
    "!pip install numpy\n",
    " "
   ]
  },
  {
   "cell_type": "code",
   "execution_count": null,
   "id": "1112d3c5",
   "metadata": {},
   "outputs": [
    {
     "name": "stdout",
     "output_type": "stream",
     "text": [
      "Collecting duckdb\n",
      "  Downloading duckdb-1.3.1-cp313-cp313-win_amd64.whl.metadata (7.2 kB)\n",
      "Downloading duckdb-1.3.1-cp313-cp313-win_amd64.whl (11.3 MB)\n",
      "   ---------------------------------------- 0.0/11.3 MB ? eta -:--:--\n",
      "   -- ------------------------------------- 0.8/11.3 MB 6.2 MB/s eta 0:00:02\n",
      "   ------ --------------------------------- 1.8/11.3 MB 4.4 MB/s eta 0:00:03\n",
      "   --------- ------------------------------ 2.6/11.3 MB 4.1 MB/s eta 0:00:03\n",
      "   ------------ --------------------------- 3.4/11.3 MB 4.1 MB/s eta 0:00:02\n",
      "   -------------- ------------------------- 4.2/11.3 MB 4.1 MB/s eta 0:00:02\n",
      "   ----------------- ---------------------- 5.0/11.3 MB 4.0 MB/s eta 0:00:02\n",
      "   -------------------- ------------------- 5.8/11.3 MB 3.9 MB/s eta 0:00:02\n",
      "   ----------------------- ---------------- 6.6/11.3 MB 3.9 MB/s eta 0:00:02\n",
      "   ------------------------- -------------- 7.3/11.3 MB 3.9 MB/s eta 0:00:02\n",
      "   ---------------------------- ----------- 8.1/11.3 MB 3.9 MB/s eta 0:00:01\n",
      "   ------------------------------- -------- 8.9/11.3 MB 3.9 MB/s eta 0:00:01\n",
      "   ---------------------------------- ----- 9.7/11.3 MB 3.8 MB/s eta 0:00:01\n",
      "   ------------------------------------- -- 10.5/11.3 MB 3.8 MB/s eta 0:00:01\n",
      "   ---------------------------------------  11.3/11.3 MB 3.8 MB/s eta 0:00:01\n",
      "   ---------------------------------------- 11.3/11.3 MB 3.7 MB/s eta 0:00:00\n",
      "Installing collected packages: duckdb\n",
      "Successfully installed duckdb-1.3.1\n"
     ]
    },
    {
     "name": "stderr",
     "output_type": "stream",
     "text": [
      "\n",
      "[notice] A new release of pip is available: 25.0.1 -> 25.1.1\n",
      "[notice] To update, run: python.exe -m pip install --upgrade pip\n"
     ]
    }
   ],
   "source": [
    "!pip install duckdb"
   ]
  },
  {
   "cell_type": "code",
   "execution_count": null,
   "id": "2e1200b7",
   "metadata": {},
   "outputs": [
    {
     "name": "stdout",
     "output_type": "stream",
     "text": [
      "Collecting pandas\n",
      "  Downloading pandas-2.3.0-cp313-cp313-win_amd64.whl.metadata (19 kB)\n",
      "Requirement already satisfied: numpy>=1.26.0 in c:\\users\\admin\\appdata\\local\\programs\\python\\python313\\lib\\site-packages (from pandas) (2.3.1)\n",
      "Requirement already satisfied: python-dateutil>=2.8.2 in c:\\users\\admin\\appdata\\roaming\\python\\python313\\site-packages (from pandas) (2.9.0.post0)\n",
      "Collecting pytz>=2020.1 (from pandas)\n",
      "  Downloading pytz-2025.2-py2.py3-none-any.whl.metadata (22 kB)\n",
      "Collecting tzdata>=2022.7 (from pandas)\n",
      "  Downloading tzdata-2025.2-py2.py3-none-any.whl.metadata (1.4 kB)\n",
      "Requirement already satisfied: six>=1.5 in c:\\users\\admin\\appdata\\roaming\\python\\python313\\site-packages (from python-dateutil>=2.8.2->pandas) (1.17.0)\n",
      "Downloading pandas-2.3.0-cp313-cp313-win_amd64.whl (11.0 MB)\n",
      "   ---------------------------------------- 0.0/11.0 MB ? eta -:--:--\n",
      "   -- ------------------------------------- 0.8/11.0 MB 5.8 MB/s eta 0:00:02\n",
      "   ------ --------------------------------- 1.8/11.0 MB 4.3 MB/s eta 0:00:03\n",
      "   --------- ------------------------------ 2.6/11.0 MB 3.9 MB/s eta 0:00:03\n",
      "   ------------ --------------------------- 3.4/11.0 MB 4.1 MB/s eta 0:00:02\n",
      "   --------------- ------------------------ 4.2/11.0 MB 4.0 MB/s eta 0:00:02\n",
      "   ------------------ --------------------- 5.0/11.0 MB 4.0 MB/s eta 0:00:02\n",
      "   --------------------- ------------------ 5.8/11.0 MB 4.0 MB/s eta 0:00:02\n",
      "   ----------------------- ---------------- 6.6/11.0 MB 3.9 MB/s eta 0:00:02\n",
      "   -------------------------- ------------- 7.3/11.0 MB 3.9 MB/s eta 0:00:01\n",
      "   ----------------------------- ---------- 8.1/11.0 MB 3.8 MB/s eta 0:00:01\n",
      "   -------------------------------- ------- 8.9/11.0 MB 3.8 MB/s eta 0:00:01\n",
      "   ----------------------------------- ---- 9.7/11.0 MB 3.8 MB/s eta 0:00:01\n",
      "   -------------------------------------- - 10.5/11.0 MB 3.8 MB/s eta 0:00:01\n",
      "   ---------------------------------------- 11.0/11.0 MB 3.7 MB/s eta 0:00:00\n",
      "Downloading pytz-2025.2-py2.py3-none-any.whl (509 kB)\n",
      "Downloading tzdata-2025.2-py2.py3-none-any.whl (347 kB)\n",
      "Installing collected packages: pytz, tzdata, pandas\n",
      "Successfully installed pandas-2.3.0 pytz-2025.2 tzdata-2025.2\n"
     ]
    },
    {
     "name": "stderr",
     "output_type": "stream",
     "text": [
      "\n",
      "[notice] A new release of pip is available: 25.0.1 -> 25.1.1\n",
      "[notice] To update, run: python.exe -m pip install --upgrade pip\n"
     ]
    }
   ],
   "source": [
    "!pip install pandas"
   ]
  },
  {
   "cell_type": "code",
   "execution_count": null,
   "id": "019f738c",
   "metadata": {},
   "outputs": [
    {
     "name": "stdout",
     "output_type": "stream",
     "text": [
      "Collecting SQL\n",
      "  Using cached sql-2022.4.0.tar.gz (4.2 kB)\n",
      "  Installing build dependencies: started\n",
      "  Installing build dependencies: finished with status 'done'\n",
      "  Getting requirements to build wheel: started\n",
      "  Getting requirements to build wheel: finished with status 'done'\n",
      "  Preparing metadata (pyproject.toml): started\n",
      "  Preparing metadata (pyproject.toml): finished with status 'done'\n",
      "Building wheels for collected packages: SQL\n",
      "  Building wheel for SQL (pyproject.toml): started\n",
      "  Building wheel for SQL (pyproject.toml): finished with status 'done'\n",
      "  Created wheel for SQL: filename=sql-2022.4.0-py3-none-any.whl size=4405 sha256=de5b1f1da0f8f26533be603071a25ea76940c527f595305244af8d218d50374f\n",
      "  Stored in directory: c:\\users\\admin\\appdata\\local\\pip\\cache\\wheels\\b9\\f5\\43\\10aae492653e6ae01b8fa471562fb9f1b2e4f91ad01f573c88\n",
      "Successfully built SQL\n",
      "Installing collected packages: SQL\n",
      "Successfully installed SQL-2022.4.0\n"
     ]
    },
    {
     "name": "stderr",
     "output_type": "stream",
     "text": [
      "\n",
      "[notice] A new release of pip is available: 25.0.1 -> 25.1.1\n",
      "[notice] To update, run: python.exe -m pip install --upgrade pip\n"
     ]
    }
   ],
   "source": [
    "!pip install SQL "
   ]
  },
  {
   "cell_type": "code",
   "execution_count": null,
   "id": "414fc2de",
   "metadata": {},
   "outputs": [],
   "source": [
    "# Example 1: Run a SQL query on a Pandas DataFrame\n",
    "df = pd.DataFrame({\"id\": [1, 2, 3], \"value\": [10, 20, 30]})\n",
    "result = duckdb.query(\"SELECT * FROM df WHERE value > 15\").df()\n",
    "print(result)"
   ]
  },
  {
   "cell_type": "code",
   "execution_count": null,
   "id": "adc748c4",
   "metadata": {},
   "outputs": [],
   "source": []
  }
 ],
 "metadata": {
  "kernelspec": {
   "display_name": "Python 3",
   "language": "python",
   "name": "python3"
  },
  "language_info": {
   "codemirror_mode": {
    "name": "ipython",
    "version": 3
   },
   "file_extension": ".py",
   "mimetype": "text/x-python",
   "name": "python",
   "nbconvert_exporter": "python",
   "pygments_lexer": "ipython3",
   "version": "3.13.3"
  }
 },
 "nbformat": 4,
 "nbformat_minor": 5
}
