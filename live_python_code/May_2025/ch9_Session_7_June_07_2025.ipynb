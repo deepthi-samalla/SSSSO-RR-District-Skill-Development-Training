{
 "cells": [
  {
   "cell_type": "code",
   "execution_count": null,
   "id": "ff34dd58",
   "metadata": {},
   "outputs": [
    {
     "name": "stdout",
     "output_type": "stream",
     "text": [
      "4.0\n",
      "3.141592653589793\n"
     ]
    }
   ],
   "source": [
    "import math\n",
    "\n",
    "print(f\"demo : {math.sqrt(16)}\")  # Output: 4.0\n",
    "print(f\"demo : {math.pi}\")      # Output: 3.141592653589793"
   ]
  },
  {
   "cell_type": "code",
   "execution_count": 2,
   "id": "35f06554",
   "metadata": {},
   "outputs": [
    {
     "name": "stdout",
     "output_type": "stream",
     "text": [
      "demo : 120\n",
      "demo : 8.0\n",
      "demo : 6\n",
      "demo : 1.0\n",
      "demo : 1.0\n"
     ]
    }
   ],
   "source": [
    "print(f\"demo : {math.factorial(5)}\")  # Output: 120\n",
    "print(f\"demo : {math.pow(2, 3)}\")      # Output: 8.0\n",
    "print(f\"demo : {math.gcd(48, 18)}\")    # Output: 6\n",
    "print(f\"demo : {math.sin(math.pi / 2)}\")  # Output: 1.0\n",
    "print(f\"demo : {math.cos(0)}\")  # Output: 1.0\n"
   ]
  },
  {
   "cell_type": "code",
   "execution_count": null,
   "id": "cd02a4ae",
   "metadata": {},
   "outputs": [],
   "source": []
  },
  {
   "cell_type": "code",
   "execution_count": null,
   "id": "2ba139b6",
   "metadata": {},
   "outputs": [],
   "source": []
  }
 ],
 "metadata": {
  "kernelspec": {
   "display_name": "Python 3",
   "language": "python",
   "name": "python3"
  },
  "language_info": {
   "codemirror_mode": {
    "name": "ipython",
    "version": 3
   },
   "file_extension": ".py",
   "mimetype": "text/x-python",
   "name": "python",
   "nbconvert_exporter": "python",
   "pygments_lexer": "ipython3",
   "version": "3.13.3"
  }
 },
 "nbformat": 4,
 "nbformat_minor": 5
}
