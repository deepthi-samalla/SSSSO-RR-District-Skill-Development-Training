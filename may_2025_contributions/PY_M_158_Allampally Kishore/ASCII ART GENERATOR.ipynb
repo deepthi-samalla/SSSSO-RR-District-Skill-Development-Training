{
 "cells": [
  {
   "cell_type": "code",
   "execution_count": 1,
   "id": "0fb77218",
   "metadata": {},
   "outputs": [
    {
     "ename": "ModuleNotFoundError",
     "evalue": "No module named 'pyfiglet'",
     "output_type": "error",
     "traceback": [
      "\u001b[31m---------------------------------------------------------------------------\u001b[39m",
      "\u001b[31mModuleNotFoundError\u001b[39m                       Traceback (most recent call last)",
      "\u001b[36mCell\u001b[39m\u001b[36m \u001b[39m\u001b[32mIn[1]\u001b[39m\u001b[32m, line 1\u001b[39m\n\u001b[32m----> \u001b[39m\u001b[32m1\u001b[39m \u001b[38;5;28;01mimport\u001b[39;00m\u001b[38;5;250m \u001b[39m\u001b[34;01mpyfiglet\u001b[39;00m\n\u001b[32m      3\u001b[39m \u001b[38;5;28;01mdef\u001b[39;00m\u001b[38;5;250m \u001b[39m\u001b[34mdraw_box\u001b[39m(size, filled=\u001b[38;5;28;01mTrue\u001b[39;00m):\n\u001b[32m      4\u001b[39m     \u001b[38;5;28;01mfor\u001b[39;00m i \u001b[38;5;129;01min\u001b[39;00m \u001b[38;5;28mrange\u001b[39m(size):\n",
      "\u001b[31mModuleNotFoundError\u001b[39m: No module named 'pyfiglet'"
     ]
    }
   ],
   "source": [
    "import pyfiglet\n",
    "\n",
    "def draw_box(size, filled=True):\n",
    "    for i in range(size):\n",
    "        if filled or i == 0 or i == size - 1:\n",
    "            print('*' * size)\n",
    "        else:\n",
    "            print('*' + ' ' * (size - 2) + '*')\n",
    "\n",
    "def draw_triangle(size, filled=True):\n",
    "    for i in range(1, size + 1):\n",
    "        if filled or i == 1 or i == size:\n",
    "            print('*' * i)\n",
    "        else:\n",
    "            print('*' + ' ' * (i - 2) + '*')\n",
    "\n",
    "def text_to_ascii(text):\n",
    "    ascii_banner = pyfiglet.figlet_format(text)\n",
    "    print(ascii_banner)\n",
    "\n",
    "def main():\n",
    "    print(\"Welcome to the ASCII Art Generator!\")\n",
    "    print(\"Choose an option:\")\n",
    "    print(\"1. Draw Box\")\n",
    "    print(\"2. Draw Triangle\")\n",
    "    print(\"3. Convert Text to ASCII Banner\")\n",
    "\n",
    "    choice = input(\"Enter your choice (1/2/3): \")\n",
    "\n",
    "    if choice == '1':\n",
    "        size = int(input(\"Enter size of box: \"))\n",
    "        style = input(\"Filled or hollow? (f/h): \").lower()\n",
    "        draw_box(size, filled=(style == 'f'))\n",
    "    elif choice == '2':\n",
    "        size = int(input(\"Enter size of triangle: \"))\n",
    "        style = input(\"Filled or hollow? (f/h): \").lower()\n",
    "        draw_triangle(size, filled=(style == 'f'))\n",
    "    elif choice == '3':\n",
    "        text = input(\"Enter text to convert: \")\n",
    "        text_to_ascii(text)\n",
    "    else:\n",
    "        print(\"Invalid choice. Please try again.\")\n",
    "\n",
    "if __name__ == \"__main__\":\n",
    "    main()\n",
    "\n"
   ]
  },
  {
   "cell_type": "code",
   "execution_count": 2,
   "id": "36a52ae7",
   "metadata": {},
   "outputs": [
    {
     "ename": "ModuleNotFoundError",
     "evalue": "No module named 'pyfiglet'",
     "output_type": "error",
     "traceback": [
      "\u001b[31m---------------------------------------------------------------------------\u001b[39m",
      "\u001b[31mModuleNotFoundError\u001b[39m                       Traceback (most recent call last)",
      "\u001b[36mCell\u001b[39m\u001b[36m \u001b[39m\u001b[32mIn[2]\u001b[39m\u001b[32m, line 1\u001b[39m\n\u001b[32m----> \u001b[39m\u001b[32m1\u001b[39m \u001b[38;5;28;01mimport\u001b[39;00m\u001b[38;5;250m \u001b[39m\u001b[34;01mpyfiglet\u001b[39;00m\n",
      "\u001b[31mModuleNotFoundError\u001b[39m: No module named 'pyfiglet'"
     ]
    }
   ],
   "source": [
    "import pyfiglet"
   ]
  },
  {
   "cell_type": "code",
   "execution_count": 3,
   "id": "92baa00f",
   "metadata": {},
   "outputs": [
    {
     "name": "stdout",
     "output_type": "stream",
     "text": [
      "Collecting pyfiglet\n",
      "  Downloading pyfiglet-1.0.3-py3-none-any.whl.metadata (7.4 kB)\n",
      "Downloading pyfiglet-1.0.3-py3-none-any.whl (1.1 MB)\n",
      "   ---------------------------------------- 0.0/1.1 MB ? eta -:--:--\n",
      "   -------------------------------------- - 1.0/1.1 MB 6.6 MB/s eta 0:00:01\n",
      "   ---------------------------------------- 1.1/1.1 MB 4.0 MB/s eta 0:00:00\n",
      "Installing collected packages: pyfiglet\n",
      "Successfully installed pyfiglet-1.0.3\n",
      "Note: you may need to restart the kernel to use updated packages.\n"
     ]
    },
    {
     "name": "stderr",
     "output_type": "stream",
     "text": [
      "\n",
      "[notice] A new release of pip is available: 25.0.1 -> 25.1.1\n",
      "[notice] To update, run: python.exe -m pip install --upgrade pip\n"
     ]
    }
   ],
   "source": [
    "pip install pyfiglet"
   ]
  },
  {
   "cell_type": "code",
   "execution_count": 4,
   "id": "9239b642",
   "metadata": {},
   "outputs": [
    {
     "name": "stdout",
     "output_type": "stream",
     "text": [
      "Welcome to the ASCII Art Generator!\n",
      "Choose an option:\n",
      "1. Draw Box\n",
      "2. Draw Triangle\n",
      "3. Convert Text to ASCII Banner\n",
      "Invalid choice. Please try again.\n"
     ]
    }
   ],
   "source": [
    "import pyfiglet\n",
    "\n",
    "def draw_box(size, filled=True):\n",
    "    for i in range(size):\n",
    "        if filled or i == 0 or i == size - 1:\n",
    "            print('*' * size)\n",
    "        else:\n",
    "            print('*' + ' ' * (size - 2) + '*')\n",
    "\n",
    "def draw_triangle(size, filled=True):\n",
    "    for i in range(1, size + 1):\n",
    "        if filled or i == 1 or i == size:\n",
    "            print('*' * i)\n",
    "        else:\n",
    "            print('*' + ' ' * (i - 2) + '*')\n",
    "\n",
    "def text_to_ascii(text):\n",
    "    ascii_banner = pyfiglet.figlet_format(text)\n",
    "    print(ascii_banner)\n",
    "\n",
    "def main():\n",
    "    print(\"Welcome to the ASCII Art Generator!\")\n",
    "    print(\"Choose an option:\")\n",
    "    print(\"1. Draw Box\")\n",
    "    print(\"2. Draw Triangle\")\n",
    "    print(\"3. Convert Text to ASCII Banner\")\n",
    "\n",
    "    choice = input(\"Enter your choice (1/2/3): \")\n",
    "\n",
    "    if choice == '1':\n",
    "        size = int(input(\"Enter size of box: \"))\n",
    "        style = input(\"Filled or hollow? (f/h): \").lower()\n",
    "        draw_box(size, filled=(style == 'f'))\n",
    "    elif choice == '2':\n",
    "        size = int(input(\"Enter size of triangle: \"))\n",
    "        style = input(\"Filled or hollow? (f/h): \").lower()\n",
    "        draw_triangle(size, filled=(style == 'f'))\n",
    "    elif choice == '3':\n",
    "        text = input(\"Enter text to convert: \")\n",
    "        text_to_ascii(text)\n",
    "    else:\n",
    "        print(\"Invalid choice. Please try again.\")\n",
    "\n",
    "if __name__ == \"__main__\":\n",
    "    main()\n"
   ]
  }
 ],
 "metadata": {
  "kernelspec": {
   "display_name": "Python 3",
   "language": "python",
   "name": "python3"
  },
  "language_info": {
   "codemirror_mode": {
    "name": "ipython",
    "version": 3
   },
   "file_extension": ".py",
   "mimetype": "text/x-python",
   "name": "python",
   "nbconvert_exporter": "python",
   "pygments_lexer": "ipython3",
   "version": "3.13.3"
  }
 },
 "nbformat": 4,
 "nbformat_minor": 5
}
