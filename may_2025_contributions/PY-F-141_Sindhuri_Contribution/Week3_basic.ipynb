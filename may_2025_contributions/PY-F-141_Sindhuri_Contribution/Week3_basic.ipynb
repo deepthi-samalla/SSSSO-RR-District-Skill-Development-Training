{
 "cells": [
  {
   "cell_type": "code",
   "execution_count": 1,
   "id": "72ec2c26",
   "metadata": {},
   "outputs": [
    {
     "name": "stdout",
     "output_type": "stream",
     "text": [
      "[1, 2, 3, 4, 5, 6, 7, 8, 9, 10]\n"
     ]
    }
   ],
   "source": [
    "\n",
    "# Create a list of numbers from 1 to 10\n",
    "numbers = list(range(1, 11))\n",
    "\n",
    "# Print the list\n",
    "print(numbers)\n"
   ]
  },
  {
   "cell_type": "code",
   "execution_count": 4,
   "id": "6bdabefe",
   "metadata": {},
   "outputs": [
    {
     "name": "stdout",
     "output_type": "stream",
     "text": [
      "guava\n"
     ]
    }
   ],
   "source": [
    "fruits = (\"apple\", \"banana\", \"guava\", \"mango\")\n",
    "print(fruits[2])"
   ]
  },
  {
   "cell_type": "code",
   "execution_count": 5,
   "id": "c7a82aa4",
   "metadata": {},
   "outputs": [
    {
     "name": "stdout",
     "output_type": "stream",
     "text": [
      "8\n"
     ]
    }
   ],
   "source": [
    "def add(a,b):\n",
    "    return a+b\n",
    "print(add(3,5))"
   ]
  },
  {
   "cell_type": "code",
   "execution_count": 8,
   "id": "4d37b45b",
   "metadata": {},
   "outputs": [
    {
     "name": "stdout",
     "output_type": "stream",
     "text": [
      "5\n"
     ]
    }
   ],
   "source": [
    "set = {1,2,3,4,5}\n",
    "print(len(set))"
   ]
  },
  {
   "cell_type": "code",
   "execution_count": 10,
   "id": "6498d4c5",
   "metadata": {},
   "outputs": [
    {
     "name": "stdout",
     "output_type": "stream",
     "text": [
      "{'Alice': 85, 'Bob': 92, 'Charlie': 78}\n"
     ]
    }
   ],
   "source": [
    "\n",
    "# Create a dictionary with student names and their scores\n",
    "student_scores = {\"Alice\": 85,\"Bob\": 92,\"Charlie\": 78\n",
    "}\n",
    "\n",
    "# Print the dictionary\n",
    "print(student_scores)\n"
   ]
  },
  {
   "cell_type": "code",
   "execution_count": 11,
   "id": "656d9589",
   "metadata": {},
   "outputs": [
    {
     "name": "stdout",
     "output_type": "stream",
     "text": [
      "The tuple is: (10, 20, 30, 40, 50)\n"
     ]
    }
   ],
   "source": [
    "\n",
    "# Create a list of numbers\n",
    "number_list = [10, 20, 30, 40, 50]\n",
    "\n",
    "# Convert the list to a tuple\n",
    "number_tuple = tuple(number_list)\n",
    "\n",
    "# Print the tuple\n",
    "print(\"The tuple is:\", number_tuple)\n"
   ]
  },
  {
   "cell_type": "code",
   "execution_count": 12,
   "id": "3260b269",
   "metadata": {},
   "outputs": [
    {
     "name": "stdout",
     "output_type": "stream",
     "text": [
      "apple\n",
      "banana\n",
      "carrot\n",
      "mango\n"
     ]
    }
   ],
   "source": [
    "strings = [\"apple\", \"banana\", \"carrot\", \"mango\"]\n",
    "for x in strings:\n",
    "    print(x)"
   ]
  },
  {
   "cell_type": "code",
   "execution_count": 16,
   "id": "75d5ac6f",
   "metadata": {},
   "outputs": [
    {
     "name": "stdout",
     "output_type": "stream",
     "text": [
      "name\n",
      "age\n",
      "town\n"
     ]
    }
   ],
   "source": [
    "dict = {\"name\": \"Sindhu\", \"age\": 33, \"town\": \"Hyd\"}\n",
    "for key in dict.keys():\n",
    "    print(key)\n",
    "        "
   ]
  },
  {
   "cell_type": "code",
   "execution_count": 20,
   "id": "6016415e",
   "metadata": {},
   "outputs": [
    {
     "name": "stdout",
     "output_type": "stream",
     "text": [
      "The max is 5\n"
     ]
    }
   ],
   "source": [
    "def maximum(a,b,c):\n",
    "    return(max(a,b,c))\n",
    "maxi = maximum(3,4,5)\n",
    "print(\"The max is\", maxi)"
   ]
  },
  {
   "cell_type": "code",
   "execution_count": 24,
   "id": "986ab102",
   "metadata": {},
   "outputs": [
    {
     "name": "stdout",
     "output_type": "stream",
     "text": [
      "{1, 2, 3, 4, 5, 6, 8}\n",
      "true\n",
      "true\n",
      "true\n",
      "true\n",
      "true\n",
      "true\n",
      "true\n"
     ]
    }
   ],
   "source": [
    "set = {1,2,3,4,5}\n",
    "set.add(6)\n",
    "set.add(8)\n",
    "print(set)\n",
    "elemnt_check = 6\n",
    "for elemnt_check in set:\n",
    "    print(\"true\")"
   ]
  }
 ],
 "metadata": {
  "kernelspec": {
   "display_name": "base",
   "language": "python",
   "name": "python3"
  },
  "language_info": {
   "codemirror_mode": {
    "name": "ipython",
    "version": 3
   },
   "file_extension": ".py",
   "mimetype": "text/x-python",
   "name": "python",
   "nbconvert_exporter": "python",
   "pygments_lexer": "ipython3",
   "version": "3.12.7"
  }
 },
 "nbformat": 4,
 "nbformat_minor": 5
}
