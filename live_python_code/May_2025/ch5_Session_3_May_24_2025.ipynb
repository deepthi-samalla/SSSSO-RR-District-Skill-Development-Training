{
 "cells": [
  {
   "cell_type": "code",
   "execution_count": 9,
   "id": "12a4efb0",
   "metadata": {},
   "outputs": [
    {
     "name": "stdout",
     "output_type": "stream",
     "text": [
      "P\n",
      "t\n"
     ]
    }
   ],
   "source": [
    "# Example 1: Accessing characters using positive index\n",
    "text = \"Python\"\n",
    "print(text[0])   # Output: 'P'\n",
    "print(text[2])   # Output: 't'"
   ]
  },
  {
   "cell_type": "code",
   "execution_count": 10,
   "id": "bf200283",
   "metadata": {},
   "outputs": [
    {
     "name": "stdout",
     "output_type": "stream",
     "text": [
      "P\n",
      "n\n",
      "PYTHON\n",
      "6\n",
      "Welcome to Python programming!\n"
     ]
    }
   ],
   "source": [
    "text = \"Python\"\n",
    "print(text[0])       # P\n",
    "print(text[-1])      # n\n",
    "print(text.upper())  # PYTHON\n",
    "print(len(text))     # 6\n",
    "print(f\"Welcome to {text} programming!\")"
   ]
  },
  {
   "cell_type": "code",
   "execution_count": 11,
   "id": "95a3ad4b",
   "metadata": {},
   "outputs": [
    {
     "name": "stdout",
     "output_type": "stream",
     "text": [
      "P\n",
      "n\n",
      "PYTHON\n",
      "6\n",
      "Welcome to Python programming!\n"
     ]
    }
   ],
   "source": [
    "text = \"Python\"\n",
    "print(text[0])       # P\n",
    "print(text[-1])      # n\n",
    "print(text.upper())  # PYTHON\n",
    "print(len(text))     # 6\n",
    "print(f\"Welcome to {text} programming!\")"
   ]
  },
  {
   "cell_type": "code",
   "execution_count": 12,
   "id": "44848a30",
   "metadata": {},
   "outputs": [
    {
     "name": "stdout",
     "output_type": "stream",
     "text": [
      "P\n",
      "t\n"
     ]
    }
   ],
   "source": [
    "# Example 1: Accessing characters using positive index\n",
    "text = \"Python\"\n",
    "print(text[0])   # Output: 'P'\n",
    "print(text[2])   # Output: 't'"
   ]
  },
  {
   "cell_type": "code",
   "execution_count": 13,
   "id": "1b142858",
   "metadata": {},
   "outputs": [
    {
     "name": "stdout",
     "output_type": "stream",
     "text": [
      "n\n",
      "h\n"
     ]
    }
   ],
   "source": [
    "# Example 2: Accessing characters using negative index\n",
    "text = \"Python\"\n",
    "print(text[-1])  # Output: 'n'\n",
    "print(text[-3])  # Output: 'h'"
   ]
  },
  {
   "cell_type": "code",
   "execution_count": 14,
   "id": "e8f65921",
   "metadata": {},
   "outputs": [
    {
     "ename": "IndexError",
     "evalue": "string index out of range",
     "output_type": "error",
     "traceback": [
      "\u001b[31m---------------------------------------------------------------------------\u001b[39m",
      "\u001b[31mIndexError\u001b[39m                                Traceback (most recent call last)",
      "\u001b[36mCell\u001b[39m\u001b[36m \u001b[39m\u001b[32mIn[14]\u001b[39m\u001b[32m, line 3\u001b[39m\n\u001b[32m      1\u001b[39m \u001b[38;5;66;03m# Example 3: IndexError when index is out of range\u001b[39;00m\n\u001b[32m      2\u001b[39m text = \u001b[33m\"\u001b[39m\u001b[33mHi\u001b[39m\u001b[33m\"\u001b[39m\n\u001b[32m----> \u001b[39m\u001b[32m3\u001b[39m \u001b[38;5;28mprint\u001b[39m(\u001b[43mtext\u001b[49m\u001b[43m[\u001b[49m\u001b[32;43m5\u001b[39;49m\u001b[43m]\u001b[49m)  \u001b[38;5;66;03m# Uncommenting this will raise IndexError\u001b[39;00m\n",
      "\u001b[31mIndexError\u001b[39m: string index out of range"
     ]
    }
   ],
   "source": [
    "# Example 3: IndexError when index is out of range\n",
    "text = \"Hi\"\n",
    "print(text[5])  # Uncommenting this will raise IndexError"
   ]
  },
  {
   "cell_type": "code",
   "execution_count": null,
   "id": "3f251fdc",
   "metadata": {},
   "outputs": [
    {
     "name": "stdout",
     "output_type": "stream",
     "text": [
      "Character at index 0 is C\n",
      "Character at index 1 is o\n",
      "Character at index 2 is d\n",
      "Character at index 3 is e\n"
     ]
    }
   ],
   "source": [
    "# Example 4: Loop through characters using index\n",
    "text = \"Code\"\n",
    "for i in range(len(text)):\n",
    "    print(f\"Character at index {i} is {text[i]}\")"
   ]
  },
  {
   "cell_type": "code",
   "execution_count": null,
   "id": "01144ad7",
   "metadata": {},
   "outputs": [
    {
     "name": "stdout",
     "output_type": "stream",
     "text": [
      "Second character of your name: o\n"
     ]
    }
   ],
   "source": [
    "# Example 5: Using indexing with user input\n",
    "name = input(\"Enter your name: \")\n",
    "if len(name) >= 2:\n",
    "    print(\"Second character of your name:\", name[1])"
   ]
  },
  {
   "cell_type": "code",
   "execution_count": 19,
   "id": "de05d399",
   "metadata": {},
   "outputs": [
    {
     "name": "stdout",
     "output_type": "stream",
     "text": [
      "2831818893296 2831818893296\n",
      "True\n",
      "2831818893296 2831829118320\n",
      "False\n"
     ]
    }
   ],
   "source": [
    "# Example 1: Two identical string literals share the same memory\n",
    "a = \"hello\"\n",
    "b = \"hello\"\n",
    "print(id(a), id(b))       # Same id\n",
    "print(a is b)             # True\n",
    "\n",
    "b = \"changed_hello\"\n",
    "print(id(a), id(b))      \n",
    "print(a is b)            "
   ]
  },
  {
   "cell_type": "code",
   "execution_count": null,
   "id": "31b291df",
   "metadata": {},
   "outputs": [
    {
     "name": "stdout",
     "output_type": "stream",
     "text": [
      "2831822630864 2831823914016\n",
      "True\n",
      "False\n"
     ]
    }
   ],
   "source": [
    "# Example 2: Strings created differently may have different ids\n",
    "x = \"world\"\n",
    "y = \"\".join([\"w\", \"o\", \"r\", \"l\", \"d\"]) #world\n",
    "print(id(x), id(y))       # Likely different ids\n",
    "# x -> world\n",
    "# y -> world\n",
    "print(x == y)             # True (same content)\n",
    "print(x is y)             # False (different objects)"
   ]
  },
  {
   "cell_type": "code",
   "execution_count": 20,
   "id": "b2c057ef",
   "metadata": {},
   "outputs": [
    {
     "name": "stdout",
     "output_type": "stream",
     "text": [
      "2831822628560\n",
      "2831824149392\n"
     ]
    }
   ],
   "source": [
    "# Example 3: Reassigning changes identity\n",
    "msg = \"Hi\"\n",
    "print(id(msg))\n",
    "msg = \"Hello\"\n",
    "print(id(msg))            # Different id after reassignment"
   ]
  },
  {
   "cell_type": "code",
   "execution_count": 21,
   "id": "230187cd",
   "metadata": {},
   "outputs": [
    {
     "name": "stdout",
     "output_type": "stream",
     "text": [
      "True\n",
      "2831722922560 2831722922560\n"
     ]
    }
   ],
   "source": [
    "# Example 4: Small string interning in Python\n",
    "a = \"py\"\n",
    "b = \"py\"\n",
    "print(a is b)             # True (interned)\n",
    "print(id(a), id(b))"
   ]
  },
  {
   "cell_type": "code",
   "execution_count": 22,
   "id": "829b0ffb",
   "metadata": {},
   "outputs": [
    {
     "name": "stdout",
     "output_type": "stream",
     "text": [
      "True\n",
      "True\n"
     ]
    }
   ],
   "source": [
    "# Example 5: Comparing object ids\n",
    "s1 = \"example\"\n",
    "s2 = \"example\"\n",
    "s3 = s1\n",
    "print(s1 is s2)           # True (may be interned)\n",
    "print(s1 is s3)           # True (same reference)"
   ]
  },
  {
   "cell_type": "code",
   "execution_count": 23,
   "id": "74fe27bf",
   "metadata": {},
   "outputs": [
    {
     "name": "stdout",
     "output_type": "stream",
     "text": [
      "13\n"
     ]
    }
   ],
   "source": [
    "# Example 1: len() - Get the length of the string\n",
    "text = \"Hello, World!\"\n",
    "print(len(text))"
   ]
  },
  {
   "cell_type": "code",
   "execution_count": 26,
   "id": "d878e8c8",
   "metadata": {},
   "outputs": [
    {
     "name": "stdout",
     "output_type": "stream",
     "text": [
      "123\n",
      "<class 'str'>\n"
     ]
    }
   ],
   "source": [
    "# Example 2: str() - Convert another data type to a string\n",
    "number = 123\n",
    "converted = str(number)\n",
    "print(converted)           # \"123\"\n",
    "print(type(converted))     # <class 'str'>"
   ]
  },
  {
   "cell_type": "code",
   "execution_count": 27,
   "id": "bc951e76",
   "metadata": {},
   "outputs": [
    {
     "name": "stdout",
     "output_type": "stream",
     "text": [
      "<class 'str'>\n"
     ]
    }
   ],
   "source": [
    "# Example 3: type() - Check the type of the object\n",
    "word = \"Python\"\n",
    "print(type(word))          # <class 'str'>"
   ]
  },
  {
   "cell_type": "code",
   "execution_count": 28,
   "id": "147f1ff4",
   "metadata": {},
   "outputs": [
    {
     "name": "stdout",
     "output_type": "stream",
     "text": [
      "Hello Sai\n"
     ]
    }
   ],
   "source": [
    "# Example 4: print() - Display output to the console\n",
    "name = \"Sai\"\n",
    "print(\"Hello\", name)       # Hello Sai"
   ]
  },
  {
   "cell_type": "code",
   "execution_count": 29,
   "id": "a685375c",
   "metadata": {},
   "outputs": [
    {
     "name": "stdout",
     "output_type": "stream",
     "text": [
      "Hi Sai\n"
     ]
    }
   ],
   "source": [
    "# Example 5: input() - Get input from the user\n",
    "# Uncomment to test interactively\n",
    "user_input = input(\"Enter your name: \")\n",
    "print(\"Hi\", user_input)"
   ]
  },
  {
   "cell_type": "code",
   "execution_count": 30,
   "id": "7d7a369b",
   "metadata": {},
   "outputs": [
    {
     "name": "stdout",
     "output_type": "stream",
     "text": [
      "HELLO WORLD\n"
     ]
    }
   ],
   "source": [
    "# Example 1: upper() - Convert to uppercase\n",
    "msg = \"hello world\"\n",
    "print(msg.upper())         # HELLO WORLD"
   ]
  },
  {
   "cell_type": "code",
   "execution_count": 31,
   "id": "6f30b5f7",
   "metadata": {},
   "outputs": [
    {
     "name": "stdout",
     "output_type": "stream",
     "text": [
      "Hello, Sai!\n"
     ]
    }
   ],
   "source": [
    "# Example 1: Using format() with positional arguments\n",
    "print(\"Hello, {}!\".format(\"Sai\"))  # Hello, Sai!"
   ]
  },
  {
   "cell_type": "code",
   "execution_count": 32,
   "id": "1cc26de8",
   "metadata": {},
   "outputs": [
    {
     "name": "stdout",
     "output_type": "stream",
     "text": [
      "Hello, Sai!\n"
     ]
    }
   ],
   "source": [
    "name = \"Sai\"\n",
    "print(f\"Hello, {name}!\")  # Hello, Sai!"
   ]
  },
  {
   "cell_type": "code",
   "execution_count": 33,
   "id": "cf29c2c9",
   "metadata": {},
   "outputs": [
    {
     "name": "stdout",
     "output_type": "stream",
     "text": [
      "Left       |   Center   |      Right\n"
     ]
    }
   ],
   "source": [
    "# Example 5: Padding and alignment\n",
    "print(\"{:<10} | {:^10} | {:>10}\".format(\"Left\", \"Center\", \"Right\"))\n",
    "# Left       |   Center   |      Right"
   ]
  },
  {
   "cell_type": "code",
   "execution_count": 35,
   "id": "69fda7c8",
   "metadata": {},
   "outputs": [
    {
     "name": "stdout",
     "output_type": "stream",
     "text": [
      "Hello\n"
     ]
    }
   ],
   "source": [
    "text = \"Hello, World!\"\n",
    "print(text[0:5])"
   ]
  },
  {
   "cell_type": "code",
   "execution_count": 36,
   "id": "d55bf1eb",
   "metadata": {},
   "outputs": [
    {
     "name": "stdout",
     "output_type": "stream",
     "text": [
      "World!\n"
     ]
    }
   ],
   "source": [
    "print(text[7:])"
   ]
  },
  {
   "cell_type": "code",
   "execution_count": 38,
   "id": "4e8674e5",
   "metadata": {},
   "outputs": [
    {
     "name": "stdout",
     "output_type": "stream",
     "text": [
      "Hello\n",
      "Hello\n"
     ]
    }
   ],
   "source": [
    "# 3. Slice from start to index 4\n",
    "print(text[:5])   # Output: Hello\n",
    "print(text[0:5])"
   ]
  },
  {
   "cell_type": "code",
   "execution_count": 39,
   "id": "92f4994a",
   "metadata": {},
   "outputs": [
    {
     "name": "stdout",
     "output_type": "stream",
     "text": [
      "Hello, World!\n"
     ]
    }
   ],
   "source": [
    "# 4. Slice entire string\n",
    "print(text[:])    # Output: Hello, World!"
   ]
  },
  {
   "cell_type": "code",
   "execution_count": 40,
   "id": "dfd2c2de",
   "metadata": {},
   "outputs": [
    {
     "name": "stdout",
     "output_type": "stream",
     "text": [
      "Hlo ol!\n"
     ]
    }
   ],
   "source": [
    "# 5. Step slicing - every 2nd character\n",
    "print(text[::2])  # Output: Hlo ol!"
   ]
  },
  {
   "cell_type": "code",
   "execution_count": 41,
   "id": "15b4ebec",
   "metadata": {},
   "outputs": [
    {
     "name": "stdout",
     "output_type": "stream",
     "text": [
      "!\n"
     ]
    }
   ],
   "source": [
    "# 6. Last character\n",
    "print(text[-1])    # Output: !"
   ]
  },
  {
   "cell_type": "code",
   "execution_count": 42,
   "id": "a8029880",
   "metadata": {},
   "outputs": [
    {
     "name": "stdout",
     "output_type": "stream",
     "text": [
      "Hello, World\n"
     ]
    }
   ],
   "source": [
    "print(text[:-1])    # Output: !"
   ]
  },
  {
   "cell_type": "code",
   "execution_count": 43,
   "id": "b05a8223",
   "metadata": {},
   "outputs": [
    {
     "name": "stdout",
     "output_type": "stream",
     "text": [
      "World!\n"
     ]
    }
   ],
   "source": [
    "# 7. Last 6 characters\n",
    "print(text[-6:])   # Output: World!"
   ]
  },
  {
   "cell_type": "code",
   "execution_count": null,
   "id": "73436e3f",
   "metadata": {},
   "outputs": [
    {
     "name": "stdout",
     "output_type": "stream",
     "text": [
      "World\n"
     ]
    }
   ],
   "source": [
    "print(text[-6:-1])"
   ]
  },
  {
   "cell_type": "code",
   "execution_count": 45,
   "id": "9bdd96df",
   "metadata": {},
   "outputs": [
    {
     "name": "stdout",
     "output_type": "stream",
     "text": [
      "World\n"
     ]
    }
   ],
   "source": [
    "print(text[-6:-1]) "
   ]
  },
  {
   "cell_type": "code",
   "execution_count": 46,
   "id": "4346d412",
   "metadata": {},
   "outputs": [
    {
     "name": "stdout",
     "output_type": "stream",
     "text": [
      "!dlroW ,olleH\n"
     ]
    }
   ],
   "source": [
    "print(text[::-1])  # Output: !dlroW ,olleH"
   ]
  },
  {
   "cell_type": "code",
   "execution_count": 47,
   "id": "7ddfc431",
   "metadata": {},
   "outputs": [
    {
     "name": "stdout",
     "output_type": "stream",
     "text": [
      "dlroW\n"
     ]
    }
   ],
   "source": [
    "print(text[7:12][::-1])  # Output: dlroW"
   ]
  },
  {
   "cell_type": "code",
   "execution_count": 48,
   "id": "d4dc4572",
   "metadata": {},
   "outputs": [
    {
     "name": "stdout",
     "output_type": "stream",
     "text": [
      "Hello, World!\n"
     ]
    }
   ],
   "source": [
    "print(text[0:100]) # Output: Hello, World!"
   ]
  },
  {
   "cell_type": "code",
   "execution_count": 49,
   "id": "63283647",
   "metadata": {},
   "outputs": [
    {
     "ename": "ValueError",
     "evalue": "slice step cannot be zero",
     "output_type": "error",
     "traceback": [
      "\u001b[31m---------------------------------------------------------------------------\u001b[39m",
      "\u001b[31mValueError\u001b[39m                                Traceback (most recent call last)",
      "\u001b[36mCell\u001b[39m\u001b[36m \u001b[39m\u001b[32mIn[49]\u001b[39m\u001b[32m, line 1\u001b[39m\n\u001b[32m----> \u001b[39m\u001b[32m1\u001b[39m \u001b[38;5;28mprint\u001b[39m(\u001b[43mtext\u001b[49m\u001b[43m[\u001b[49m\u001b[43m:\u001b[49m\u001b[43m:\u001b[49m\u001b[32;43m0\u001b[39;49m\u001b[43m]\u001b[49m)\n",
      "\u001b[31mValueError\u001b[39m: slice step cannot be zero"
     ]
    }
   ],
   "source": [
    "print(text[::0])"
   ]
  },
  {
   "cell_type": "code",
   "execution_count": 50,
   "id": "fa8d6640",
   "metadata": {},
   "outputs": [
    {
     "name": "stdout",
     "output_type": "stream",
     "text": [
      "H\n"
     ]
    }
   ],
   "source": [
    "print(text[::50])  # Output: H"
   ]
  },
  {
   "cell_type": "code",
   "execution_count": 51,
   "id": "d711c8d3",
   "metadata": {},
   "outputs": [
    {
     "name": "stdout",
     "output_type": "stream",
     "text": [
      "00042\n",
      "007\n",
      "123\n"
     ]
    }
   ],
   "source": [
    "num_str = \"42\"\n",
    "\n",
    "print(num_str.zfill(5))    # Output: 00042\n",
    "print(\"7\".zfill(3))        # Output: 007\n",
    "print(\"123\".zfill(2))      # Output: 123 (no change)"
   ]
  },
  {
   "cell_type": "code",
   "execution_count": 54,
   "id": "8bfdb428",
   "metadata": {},
   "outputs": [
    {
     "name": "stdout",
     "output_type": "stream",
     "text": [
      "PYTHON PROGRAMMING USAGE\n",
      "python programming usage\n",
      "Python Programming Usage\n",
      "Python programming usage\n",
      "PYTHON PROGRAMMING USAGE\n"
     ]
    }
   ],
   "source": [
    "text = \"python programming usage\"\n",
    "\n",
    "\n",
    "print(text.upper())    # Output: PYTHON\n",
    "print(text.lower())    # Output: python\n",
    "print(text.title())    # Output: Python\n",
    "print(text.capitalize()) # Output: Python\n",
    "print(text.swapcase()) # Output: pYTHON"
   ]
  },
  {
   "cell_type": "code",
   "execution_count": 59,
   "id": "473745ec",
   "metadata": {},
   "outputs": [
    {
     "name": "stdout",
     "output_type": "stream",
     "text": [
      "Check if a string is a palindrome.\n"
     ]
    }
   ],
   "source": [
    "def is_palindrome(s):\n",
    "    \"\"\"Check if a string is a palindrome.\"\"\"\n",
    "    # print(object)\n",
    "\n",
    "__doc__ = is_palindrome.__doc__\n",
    "print(__doc__)  # Output: Check if a string is a palindrome.\n",
    "    \n"
   ]
  },
  {
   "cell_type": "code",
   "execution_count": null,
   "id": "113d162c",
   "metadata": {},
   "outputs": [],
   "source": []
  },
  {
   "cell_type": "code",
   "execution_count": 61,
   "id": "8256e654",
   "metadata": {},
   "outputs": [
    {
     "name": "stdout",
     "output_type": "stream",
     "text": [
      "This is line one. \n",
      "\n",
      "This is line two. \n",
      "\n",
      "This is line three.\n"
     ]
    }
   ],
   "source": [
    "multiline_text = \"\"\"This is line one. \\n\n",
    "This is line two. \\n\n",
    "This is line three.\"\"\"\n",
    "print(multiline_text)"
   ]
  },
  {
   "cell_type": "code",
   "execution_count": 66,
   "id": "a0ca8875",
   "metadata": {},
   "outputs": [
    {
     "name": "stdout",
     "output_type": "stream",
     "text": [
      "Hello, \\n World!\n"
     ]
    }
   ],
   "source": [
    "example = \"Hello, \\\\n World!\"\n",
    "print(example)  # Output: Hello, \\n World!"
   ]
  },
  {
   "cell_type": "code",
   "execution_count": 67,
   "id": "788eab17",
   "metadata": {},
   "outputs": [
    {
     "name": "stdout",
     "output_type": "stream",
     "text": [
      "Byelo\n"
     ]
    }
   ],
   "source": [
    "# Example 4: Carriage return with string formatting\n",
    "text = \"Hello\\rBye\"\n",
    "print(text)"
   ]
  },
  {
   "cell_type": "code",
   "execution_count": 68,
   "id": "7466f0e9",
   "metadata": {},
   "outputs": [
    {
     "name": "stdout",
     "output_type": "stream",
     "text": [
      "SecondLine\n",
      "Third Line\n"
     ]
    }
   ],
   "source": [
    "# Example 5: Mixing carriage return with newline\n",
    "print(\"First Line\\rSecond\\r\\nThird Line\")"
   ]
  },
  {
   "cell_type": "code",
   "execution_count": 63,
   "id": "1023118b",
   "metadata": {},
   "outputs": [
    {
     "name": "stdout",
     "output_type": "stream",
     "text": [
      "This is line one. \n",
      "\n",
      "This is line two. \n",
      "\n",
      "This is line three.\n"
     ]
    }
   ],
   "source": [
    "multiline_text = \"\"\"This is line one. \\n\n",
    "This is line two. \\n\n",
    "This is line three.\"\"\"\n",
    "print(multiline_text)"
   ]
  },
  {
   "cell_type": "code",
   "execution_count": null,
   "id": "101b2bea",
   "metadata": {},
   "outputs": [
    {
     "name": "stdout",
     "output_type": "stream",
     "text": [
      "Pytho\n"
     ]
    }
   ],
   "source": [
    "print(\"Python\\b\\b\\b\")"
   ]
  },
  {
   "cell_type": "code",
   "execution_count": 72,
   "id": "ebc66039",
   "metadata": {},
   "outputs": [
    {
     "name": "stdout",
     "output_type": "stream",
     "text": [
      "12346\n"
     ]
    }
   ],
   "source": [
    "print(\"12345\\b6\")"
   ]
  },
  {
   "cell_type": "code",
   "execution_count": null,
   "id": "5eb34235",
   "metadata": {},
   "outputs": [],
   "source": [
    "C:\\\\\\\\Users\\\\\\\\Admin\\\\\\\\Documents\n",
    "C://Users//Admin//Documents"
   ]
  },
  {
   "cell_type": "code",
   "execution_count": 75,
   "id": "9619e41d",
   "metadata": {},
   "outputs": [
    {
     "name": "stdout",
     "output_type": "stream",
     "text": [
      "She said, \"Hello!\"\n"
     ]
    }
   ],
   "source": [
    "print(\"She said, \\\"Hello!\\\"\")"
   ]
  },
  {
   "cell_type": "code",
   "execution_count": null,
   "id": "82029589",
   "metadata": {},
   "outputs": [],
   "source": [
    "a = 'sai'\n",
    "a = \"sai\""
   ]
  },
  {
   "cell_type": "code",
   "execution_count": 77,
   "id": "4fa48129",
   "metadata": {},
   "outputs": [
    {
     "ename": "SyntaxError",
     "evalue": "unterminated string literal (detected at line 1) (2093283196.py, line 1)",
     "output_type": "error",
     "traceback": [
      "  \u001b[36mCell\u001b[39m\u001b[36m \u001b[39m\u001b[32mIn[77]\u001b[39m\u001b[32m, line 1\u001b[39m\n\u001b[31m    \u001b[39m\u001b[31mprint('It's a beautiful day!')\u001b[39m\n                                ^\n\u001b[31mSyntaxError\u001b[39m\u001b[31m:\u001b[39m unterminated string literal (detected at line 1)\n"
     ]
    }
   ],
   "source": [
    "print('It's a beautiful day!')"
   ]
  },
  {
   "cell_type": "code",
   "execution_count": 78,
   "id": "0801e529",
   "metadata": {},
   "outputs": [
    {
     "name": "stdout",
     "output_type": "stream",
     "text": [
      "Alert!\u0007\n"
     ]
    }
   ],
   "source": [
    "print(\"Alert!\\a\")"
   ]
  }
 ],
 "metadata": {
  "kernelspec": {
   "display_name": "Python 3",
   "language": "python",
   "name": "python3"
  },
  "language_info": {
   "codemirror_mode": {
    "name": "ipython",
    "version": 3
   },
   "file_extension": ".py",
   "mimetype": "text/x-python",
   "name": "python",
   "nbconvert_exporter": "python",
   "pygments_lexer": "ipython3",
   "version": "3.13.3"
  }
 },
 "nbformat": 4,
 "nbformat_minor": 5
}
