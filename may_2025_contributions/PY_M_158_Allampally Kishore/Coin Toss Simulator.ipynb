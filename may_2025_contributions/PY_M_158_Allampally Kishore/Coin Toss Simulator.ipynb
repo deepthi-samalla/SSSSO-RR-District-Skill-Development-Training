{
 "cells": [
  {
   "cell_type": "code",
   "execution_count": 1,
   "id": "faacbbfa",
   "metadata": {},
   "outputs": [
    {
     "name": "stdout",
     "output_type": "stream",
     "text": [
      "\n",
      "🪙 Results after 1 flips:\n",
      "Heads: 0\n",
      "Tails: 1\n"
     ]
    }
   ],
   "source": [
    "import random\n",
    "\n",
    "# User input\n",
    "num_flips = int(input(\"How many times would you like to flip the coin? \"))\n",
    "\n",
    "# Simulation\n",
    "results = {'Heads': 0, 'Tails': 0}\n",
    "for _ in range(num_flips):\n",
    "    flip = random.choice(['Heads', 'Tails'])\n",
    "    results[flip] += 1\n",
    "\n",
    "# Output\n",
    "print(f\"\\n🪙 Results after {num_flips} flips:\")\n",
    "print(f\"Heads: {results['Heads']}\")\n",
    "print(f\"Tails: {results['Tails']}\")\n"
   ]
  }
 ],
 "metadata": {
  "kernelspec": {
   "display_name": "Python 3",
   "language": "python",
   "name": "python3"
  },
  "language_info": {
   "codemirror_mode": {
    "name": "ipython",
    "version": 3
   },
   "file_extension": ".py",
   "mimetype": "text/x-python",
   "name": "python",
   "nbconvert_exporter": "python",
   "pygments_lexer": "ipython3",
   "version": "3.13.3"
  }
 },
 "nbformat": 4,
 "nbformat_minor": 5
}
