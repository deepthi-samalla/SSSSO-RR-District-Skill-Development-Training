{
 "cells": [
  {
   "cell_type": "code",
   "execution_count": 1,
   "id": "a6a8906e",
   "metadata": {},
   "outputs": [
    {
     "name": "stdout",
     "output_type": "stream",
     "text": [
      "\n",
      "You rolled a 5!\n",
      "\n",
      "+-------+\n",
      "| ●   ● |\n",
      "|   ●   |\n",
      "| ●   ● |\n",
      "+-------+\n",
      "\n",
      "You rolled a 4!\n",
      "\n",
      "+-------+\n",
      "| ●   ● |\n",
      "|       |\n",
      "| ●   ● |\n",
      "+-------+\n",
      "👋 Goodbye!\n"
     ]
    }
   ],
   "source": [
    "import random\n",
    "\n",
    "# ASCII representations of dice faces\n",
    "dice_faces = {\n",
    "    1: [\"+-------+\",\n",
    "        \"|       |\",\n",
    "        \"|   ●   |\",\n",
    "        \"|       |\",\n",
    "        \"+-------+\"],\n",
    "    2: [\"+-------+\",\n",
    "        \"| ●     |\",\n",
    "        \"|       |\",\n",
    "        \"|     ● |\",\n",
    "        \"+-------+\"],\n",
    "    3: [\"+-------+\",\n",
    "        \"| ●     |\",\n",
    "        \"|   ●   |\",\n",
    "        \"|     ● |\",\n",
    "        \"+-------+\"],\n",
    "    4: [\"+-------+\",\n",
    "        \"| ●   ● |\",\n",
    "        \"|       |\",\n",
    "        \"| ●   ● |\",\n",
    "        \"+-------+\"],\n",
    "    5: [\"+-------+\",\n",
    "        \"| ●   ● |\",\n",
    "        \"|   ●   |\",\n",
    "        \"| ●   ● |\",\n",
    "        \"+-------+\"],\n",
    "    6: [\"+-------+\",\n",
    "        \"| ●   ● |\",\n",
    "        \"| ●   ● |\",\n",
    "        \"| ●   ● |\",\n",
    "        \"+-------+\"]\n",
    "}\n",
    "\n",
    "# Dice rolling loop\n",
    "while True:\n",
    "    user_input = input(\"🎲 Press Enter to roll the dice or 'q' to quit: \").lower()\n",
    "    if user_input == 'q':\n",
    "        print(\"👋 Goodbye!\")\n",
    "        break\n",
    "    roll = random.randint(1, 6)\n",
    "    print(f\"\\nYou rolled a {roll}!\\n\")\n",
    "    for line in dice_faces[roll]:\n",
    "        print(line)\n"
   ]
  }
 ],
 "metadata": {
  "kernelspec": {
   "display_name": "Python 3",
   "language": "python",
   "name": "python3"
  },
  "language_info": {
   "codemirror_mode": {
    "name": "ipython",
    "version": 3
   },
   "file_extension": ".py",
   "mimetype": "text/x-python",
   "name": "python",
   "nbconvert_exporter": "python",
   "pygments_lexer": "ipython3",
   "version": "3.13.3"
  }
 },
 "nbformat": 4,
 "nbformat_minor": 5
}
