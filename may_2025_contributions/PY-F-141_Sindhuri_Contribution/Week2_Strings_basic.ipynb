{
 "cells": [
  {
   "cell_type": "code",
   "execution_count": 3,
   "id": "c391d5e7-247c-4eb0-8da7-4015f3bc61ef",
   "metadata": {},
   "outputs": [
    {
     "name": "stdout",
     "output_type": "stream",
     "text": [
      "first p\n",
      "last n\n"
     ]
    }
   ],
   "source": [
    "data = \"python\"\n",
    "print(\"first\", data[0])\n",
    "print(\"last\", data[-1])"
   ]
  },
  {
   "cell_type": "code",
   "execution_count": 8,
   "id": "cde9badc-d982-42ce-b9de-6fdb9e8a26ac",
   "metadata": {},
   "outputs": [
    {
     "name": "stdin",
     "output_type": "stream",
     "text": [
      "Enter a string:  madam\n"
     ]
    },
    {
     "name": "stdout",
     "output_type": "stream",
     "text": [
      "\"madam\" is a palindrome.\n"
     ]
    }
   ],
   "source": [
    "\n",
    "def is_palindrome(s):\n",
    "     s = s.replace(\" \", \"\").lower()\n",
    "     return s == s[::-1]\n",
    "\n",
    "# Example usage\n",
    "user_input = input(\"Enter a string: \")\n",
    "if is_palindrome(user_input):\n",
    "     print(f'\"{user_input}\" is a palindrome.')\n",
    "else:\n",
    "     print(f'\"{user_input}\" is not a palindrome.')\n",
    "\n"
   ]
  },
  {
   "cell_type": "code",
   "execution_count": 9,
   "id": "eabf0bc9-864f-460e-ab7b-9c20bb082caa",
   "metadata": {},
   "outputs": [
    {
     "name": "stdin",
     "output_type": "stream",
     "text": [
      "Enter a string:  python\n"
     ]
    },
    {
     "name": "stdout",
     "output_type": "stream",
     "text": [
      "The length of the string is: 6\n"
     ]
    }
   ],
   "source": [
    "\n",
    "# Get input from the user\n",
    "user_input = input(\"Enter a string: \")\n",
    "\n",
    "# Use len() to find the length\n",
    "length = len(user_input)\n",
    "\n",
    "# Display the result\n",
    "print(f\"The length of the string is: {length}\")\n",
    "\n"
   ]
  },
  {
   "cell_type": "code",
   "execution_count": 10,
   "id": "1b14709d-b5db-44b3-adbc-a435b1db2abf",
   "metadata": {},
   "outputs": [
    {
     "name": "stdin",
     "output_type": "stream",
     "text": [
      "Enter a string:  PyThon\n"
     ]
    },
    {
     "name": "stdout",
     "output_type": "stream",
     "text": [
      "Uppercase: PYTHON\n",
      "Lowercase: python\n"
     ]
    }
   ],
   "source": [
    "\n",
    "# Get input from the user\n",
    "user_input = input(\"Enter a string: \")\n",
    "\n",
    "# Convert to uppercase and lowercase\n",
    "uppercase_version = user_input.upper()\n",
    "lowercase_version = user_input.lower()\n",
    "\n",
    "# Display the results\n",
    "print(f\"Uppercase: {uppercase_version}\")\n",
    "print(f\"Lowercase: {lowercase_version}\")\n"
   ]
  },
  {
   "cell_type": "code",
   "execution_count": 11,
   "id": "8d80a6cf-703a-46d8-8b6b-0f981040a45f",
   "metadata": {},
   "outputs": [
    {
     "name": "stdin",
     "output_type": "stream",
     "text": [
      "Enter the first string:  python\n",
      "Enter the second string:  program\n"
     ]
    },
    {
     "name": "stdout",
     "output_type": "stream",
     "text": [
      "Using + operator: pythonprogram\n",
      "Using .format(): pythonprogram\n"
     ]
    }
   ],
   "source": [
    "\n",
    "# Get input from the user\n",
    "string1 = input(\"Enter the first string: \")\n",
    "string2 = input(\"Enter the second string: \")\n",
    "\n",
    "# Concatenation using + operator\n",
    "concat_plus = string1 + string2\n",
    "\n",
    "# Concatenation using .format()\n",
    "concat_format = \"{}{}\".format(string1, string2)\n",
    "\n",
    "# Display the results\n",
    "print(f\"Using + operator: {concat_plus}\")\n",
    "print(f\"Using .format(): {concat_format}\")\n"
   ]
  },
  {
   "cell_type": "code",
   "execution_count": 12,
   "id": "4fa843b6-b6e2-47fc-8167-9f9ec320443f",
   "metadata": {},
   "outputs": [
    {
     "name": "stdin",
     "output_type": "stream",
     "text": [
      "Enter a string:  program\n"
     ]
    },
    {
     "name": "stdout",
     "output_type": "stream",
     "text": [
      "Characters in the string:\n",
      "Character at index 0: p\n",
      "Character at index 1: r\n",
      "Character at index 2: o\n",
      "Character at index 3: g\n",
      "Character at index 4: r\n",
      "Character at index 5: a\n",
      "Character at index 6: m\n"
     ]
    }
   ],
   "source": [
    "\n",
    "# Get input from the user\n",
    "user_input = input(\"Enter a string: \")\n",
    "\n",
    "# Print each character using indexing and a loop\n",
    "print(\"Characters in the string:\")\n",
    "for i in range(len(user_input)):\n",
    "     print(f\"Character at index {i}: {user_input[i]}\")\n"
   ]
  },
  {
   "cell_type": "code",
   "execution_count": 13,
   "id": "953e49c0-9b13-4ac0-abaf-0374cd8fe133",
   "metadata": {},
   "outputs": [
    {
     "name": "stdin",
     "output_type": "stream",
     "text": [
      "Enter a string:  python program\n"
     ]
    },
    {
     "name": "stdout",
     "output_type": "stream",
     "text": [
      "Every second character from index 1 to 10: yhnpo\n"
     ]
    }
   ],
   "source": [
    "\n",
    "# Get input from the user\n",
    "user_input = input(\"Enter a string: \")\n",
    "\n",
    "# Slice from index 1 to 10 (exclusive), taking every second character\n",
    "sliced = user_input[1:10:2]\n",
    "\n",
    "# Display the result\n",
    "print(f\"Every second character from index 1 to 10: {sliced}\")\n"
   ]
  },
  {
   "cell_type": "code",
   "execution_count": 14,
   "id": "b48980a2-aaac-4e3c-b8e0-be3d8075d568",
   "metadata": {},
   "outputs": [
    {
     "name": "stdin",
     "output_type": "stream",
     "text": [
      "Enter a string:  world\n",
      "Enter the character to count:  o\n"
     ]
    },
    {
     "name": "stdout",
     "output_type": "stream",
     "text": [
      "The character 'o' appears 1 time(s) in the string.\n"
     ]
    }
   ],
   "source": [
    "\n",
    "# Get input from the user\n",
    "user_input = input(\"Enter a string: \")\n",
    "char_to_count = input(\"Enter the character to count: \")\n",
    "\n",
    "# Use count() to find the number of occurrences\n",
    "count = user_input.count(char_to_count)\n",
    "\n",
    "# Display the result\n",
    "print(f\"The character '{char_to_count}' appears {count} time(s) in the string.\")\n"
   ]
  },
  {
   "cell_type": "code",
   "execution_count": 18,
   "id": "fa220372-0503-43d9-9aa1-8cda295150c6",
   "metadata": {},
   "outputs": [
    {
     "name": "stdin",
     "output_type": "stream",
     "text": [
      "Enter the main string:  world\n",
      "Enter the substring to search for:  or\n"
     ]
    },
    {
     "name": "stdout",
     "output_type": "stream",
     "text": [
      "The substring 'or' is present in the 'world'.\n"
     ]
    }
   ],
   "source": [
    "\n",
    "# Get input from the user\n",
    "main_string = input(\"Enter the main string: \")\n",
    "substring = input(\"Enter the substring to search for: \")\n",
    "\n",
    "# Check if the substring is in the main string\n",
    "if substring in main_string:\n",
    "     print(f\"The substring '{substring}' is present in the '{main_string}'.\")\n",
    "else:\n",
    "     print(f\"The substring '{substring}' is NOT present in the '{main_string}'.\")\n"
   ]
  },
  {
   "cell_type": "code",
   "execution_count": 19,
   "id": "8cee4897-26b7-4153-a880-3ed07bc74ec4",
   "metadata": {},
   "outputs": [
    {
     "name": "stdin",
     "output_type": "stream",
     "text": [
      "Enter your name:  Sindhu\n"
     ]
    },
    {
     "name": "stdout",
     "output_type": "stream",
     "text": [
      "Hello, Sindhu! Welcome!\n"
     ]
    }
   ],
   "source": [
    "\n",
    "# Get the user's name\n",
    "name = input(\"Enter your name: \")\n",
    "\n",
    "# Print a greeting using .format()\n",
    "greeting = \"Hello, {}! Welcome!\".format(name)\n",
    "\n",
    "# Display the greeting\n",
    "print(greeting)\n"
   ]
  },
  {
   "cell_type": "code",
   "execution_count": null,
   "id": "1581ce40-61a9-4c58-a71f-be0fe2fb898f",
   "metadata": {},
   "outputs": [],
   "source": []
  }
 ],
 "metadata": {
  "kernelspec": {
   "display_name": "Python 3 (ipykernel)",
   "language": "python",
   "name": "python3"
  },
  "language_info": {
   "codemirror_mode": {
    "name": "ipython",
    "version": 3
   },
   "file_extension": ".py",
   "mimetype": "text/x-python",
   "name": "python",
   "nbconvert_exporter": "python",
   "pygments_lexer": "ipython3",
   "version": "3.12.7"
  }
 },
 "nbformat": 4,
 "nbformat_minor": 5
}
