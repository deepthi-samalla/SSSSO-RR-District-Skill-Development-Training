{
 "cells": [
  {
   "cell_type": "code",
   "execution_count": 2,
   "id": "2c9272ad",
   "metadata": {},
   "outputs": [
    {
     "name": "stdout",
     "output_type": "stream",
     "text": [
      "\n",
      "📆 Calendar:\n",
      "\n",
      "    October 2025\n",
      "Mo Tu We Th Fr Sa Su\n",
      "       1  2  3  4  5\n",
      " 6  7  8  9 10 11 12\n",
      "13 14 15 16 17 18 19\n",
      "20 21 22 23 24 25 26\n",
      "27 28 29 30 31\n",
      "\n"
     ]
    }
   ],
   "source": [
    "import calendar\n",
    "\n",
    "# User input\n",
    "choice = input(\"View calendar for (m)onth or (y)ear? \").lower()\n",
    "\n",
    "if choice == 'm':\n",
    "    year = int(input(\"Enter year (e.g. 2025): \"))\n",
    "    month = int(input(\"Enter month (1–12): \"))\n",
    "    print(\"\\n📆 Calendar:\\n\")\n",
    "    print(calendar.month(year, month))\n",
    "elif choice == 'y':\n",
    "    year = int(input(\"Enter year (e.g. 2025): \"))\n",
    "    print(\"\\n📅 Full Year Calendar:\\n\")\n",
    "    print(calendar.calendar(year))\n",
    "else:\n",
    "    print(\"❌ Invalid choice. Please enter 'm' or 'y'.\")\n"
   ]
  }
 ],
 "metadata": {
  "kernelspec": {
   "display_name": "Python 3",
   "language": "python",
   "name": "python3"
  },
  "language_info": {
   "codemirror_mode": {
    "name": "ipython",
    "version": 3
   },
   "file_extension": ".py",
   "mimetype": "text/x-python",
   "name": "python",
   "nbconvert_exporter": "python",
   "pygments_lexer": "ipython3",
   "version": "3.13.3"
  }
 },
 "nbformat": 4,
 "nbformat_minor": 5
}
