{
 "cells": [
  {
   "cell_type": "code",
   "execution_count": null,
   "id": "f09e8406",
   "metadata": {},
   "outputs": [],
   "source": []
  },
  {
   "cell_type": "code",
   "execution_count": null,
   "id": "51b32698",
   "metadata": {},
   "outputs": [],
   "source": []
  },
  {
   "cell_type": "code",
   "execution_count": 2,
   "id": "8e09032e",
   "metadata": {},
   "outputs": [
    {
     "name": "stdout",
     "output_type": "stream",
     "text": [
      "apple\n",
      "banana\n",
      "cherry\n"
     ]
    }
   ],
   "source": [
    "# 1. Accessing elements\n",
    "fruits = [\"apple\", \"banana\", \"cherry\"]\n",
    "print(fruits[0])  # Output: apple\n",
    "print(fruits[1])\n",
    "print(fruits[2])"
   ]
  },
  {
   "cell_type": "code",
   "execution_count": 3,
   "id": "bc630c78",
   "metadata": {},
   "outputs": [
    {
     "name": "stdout",
     "output_type": "stream",
     "text": [
      "['apple', 'banana', 'cherry', 'orange']\n"
     ]
    }
   ],
   "source": [
    "# 2. Adding elements\n",
    "fruits.append(\"orange\")\n",
    "print(fruits)\n",
    "# Output: ['apple', 'banana', 'cherry', 'orange']"
   ]
  },
  {
   "cell_type": "code",
   "execution_count": 4,
   "id": "665a0164",
   "metadata": {},
   "outputs": [
    {
     "name": "stdout",
     "output_type": "stream",
     "text": [
      "['apple', 'cherry', 'orange']\n"
     ]
    }
   ],
   "source": [
    "# 3. Removing elements\n",
    "fruits.remove(\"banana\")\n",
    "print(fruits)\n",
    "# Output: ['apple', 'cherry', 'orange']\n",
    "  "
   ]
  },
  {
   "cell_type": "code",
   "execution_count": 5,
   "id": "fefa3167",
   "metadata": {},
   "outputs": [
    {
     "name": "stdout",
     "output_type": "stream",
     "text": [
      "[20, 30, 40]\n"
     ]
    }
   ],
   "source": [
    "# 4. Slicing lists\n",
    "numbers = [10, 20, 30, 40, 50]\n",
    "print(numbers[1:4])\n",
    "# Output: [20, 30, 40]"
   ]
  },
  {
   "cell_type": "code",
   "execution_count": 7,
   "id": "3c5b9f16",
   "metadata": {},
   "outputs": [
    {
     "name": "stdout",
     "output_type": "stream",
     "text": [
      "[0, 1, 4, 9, 16, 25]\n",
      "[0, 1, 4, 9, 16, 25]\n"
     ]
    }
   ],
   "source": [
    "sq = []\n",
    "for x in range(6):\n",
    "    sq.append(x**2)\n",
    "print(sq)\n",
    "\n",
    "# 5. List comprehension\n",
    "squares = [x**2 for x in range(6)]\n",
    "print(squares)\n",
    "# Output: [0, 1, 4, 9, 16, 25]"
   ]
  },
  {
   "cell_type": "markdown",
   "id": "895eb8ff",
   "metadata": {},
   "source": [
    "Tuples"
   ]
  },
  {
   "cell_type": "code",
   "execution_count": 8,
   "id": "bb20a2d7",
   "metadata": {},
   "outputs": [
    {
     "name": "stdout",
     "output_type": "stream",
     "text": [
      "green\n"
     ]
    }
   ],
   "source": [
    "# 1. Accessing elements\n",
    "colors = (\"red\", \"green\", \"blue\")\n",
    "print(colors[1])  # Output: green"
   ]
  },
  {
   "cell_type": "code",
   "execution_count": 11,
   "id": "39a43934",
   "metadata": {},
   "outputs": [
    {
     "name": "stdout",
     "output_type": "stream",
     "text": [
      "(1, 2)\n",
      "2\n",
      "3\n",
      "4\n",
      "([1, 2], [3, 4], [], [5, 6], 'John', 'Doe', 7, 8, 9, 10, 11, 12, 13, 14, 15)\n"
     ]
    }
   ],
   "source": [
    "# 2. Nested tuples\n",
    "nested = ((1, 2), (3, 4))\n",
    "print(nested[0])    # Output: (1, 2)\n",
    "print(nested[0][1]) # Output: 2\n",
    "print(nested[1][0]) # Output: 3\n",
    "print(nested[1][1]) # Output: 4\n",
    "\n",
    "example2 = ([1,2], [3,4], [], [5,6], \"John\", \"Doe\", 7, 8, 9, 10, 11, 12, 13, 14, 15)\n",
    "print(example2)\n"
   ]
  },
  {
   "cell_type": "code",
   "execution_count": 12,
   "id": "012bd29f",
   "metadata": {},
   "outputs": [
    {
     "name": "stdout",
     "output_type": "stream",
     "text": [
      "10\n",
      "20\n"
     ]
    }
   ],
   "source": [
    "# 3. Tuple unpacking\n",
    "point = (10, 20)\n",
    "x, y = point\n",
    "print(x)  # Output: 10\n",
    "print(y)  # Output: 20"
   ]
  },
  {
   "cell_type": "code",
   "execution_count": 14,
   "id": "d06a2da4",
   "metadata": {},
   "outputs": [
    {
     "name": "stdout",
     "output_type": "stream",
     "text": [
      "(5,)\n",
      "<class 'tuple'>\n"
     ]
    }
   ],
   "source": [
    "# 4. Single element tuple (note the comma)\n",
    "single = (5,)\n",
    "print(single)  # Output: (5,)\n",
    "print(type(single))  # Output: <class 'tuple'>"
   ]
  },
  {
   "cell_type": "code",
   "execution_count": 15,
   "id": "d05fd604",
   "metadata": {},
   "outputs": [
    {
     "name": "stdout",
     "output_type": "stream",
     "text": [
      "point A\n"
     ]
    }
   ],
   "source": [
    "# 5. Using tuples as dictionary keys\n",
    "my_dict = { \n",
    "    (1, 2): \"point A\", \n",
    "    (3, 4): \"point B\" \n",
    "    }\n",
    "print(my_dict[(1, 2)])  # Output: point A"
   ]
  },
  {
   "cell_type": "code",
   "execution_count": 19,
   "id": "1758336c",
   "metadata": {},
   "outputs": [
    {
     "name": "stdout",
     "output_type": "stream",
     "text": [
      "1\n",
      "2\n",
      "3\n",
      "4\n",
      "5\n",
      "1426925249424\n",
      "(1, 2, 3, 4, 5)\n",
      "1426925249424\n",
      "(1, 2, 3, 4, 5)\n",
      "(1, 2, 3, 4, 5)\n",
      "(1, 2, 3, 4, 5, 6, 7, 8, 9, 10)\n"
     ]
    }
   ],
   "source": [
    "numbers_till_five = (1, 2, 3, 4, 5)\n",
    "print(numbers_till_five[0])  # Output: 1\n",
    "print(numbers_till_five[1])  # Output: 2\n",
    "print(numbers_till_five[2])  # Output: 3\n",
    "print(numbers_till_five[3])  # Output: 4\n",
    "print(numbers_till_five[4])  # Output: 5\n",
    "\n",
    "print(id(numbers_till_five))\n",
    "print(numbers_till_five)\n",
    "\n",
    "numbers_till_five_ten = (1, 2, 3, 4, 5, 6, 7, 8, 9, 10)\n",
    "print(id(numbers_till_five))\n",
    "print(numbers_till_five)\n",
    "\n",
    "print(numbers_till_five)\n",
    "print(numbers_till_five_ten)"
   ]
  },
  {
   "cell_type": "markdown",
   "id": "2f8dddf7",
   "metadata": {},
   "source": [
    "Sets in Python"
   ]
  },
  {
   "cell_type": "code",
   "execution_count": 20,
   "id": "7ed3938b",
   "metadata": {},
   "outputs": [
    {
     "name": "stdout",
     "output_type": "stream",
     "text": [
      "{1, 2, 3}\n"
     ]
    }
   ],
   "source": [
    "my_set = {1, 2, 3}\n",
    "print(my_set)  # Output: {1, 2, 3}\n",
    "\n",
    "\n",
    "# empty_set = set()  # Note: {} creates an empty dictionary, not a set"
   ]
  },
  {
   "cell_type": "code",
   "execution_count": 25,
   "id": "6e1ec800",
   "metadata": {},
   "outputs": [
    {
     "name": "stdout",
     "output_type": "stream",
     "text": [
      "<class 'set'>\n",
      "set()\n",
      "{}\n",
      "<class 'dict'>\n"
     ]
    }
   ],
   "source": [
    "empty_set = set()\n",
    "print(type(empty_set)) \n",
    "print(empty_set)\n",
    "\n",
    "empty_dict_flower_brackets = {}\n",
    "print(empty_dict_flower_brackets)\n",
    "print(type(empty_dict_flower_brackets)) "
   ]
  },
  {
   "cell_type": "code",
   "execution_count": 26,
   "id": "7b768a01",
   "metadata": {},
   "outputs": [
    {
     "name": "stdout",
     "output_type": "stream",
     "text": [
      "{'cherry', 'banana', 'apple'}\n"
     ]
    }
   ],
   "source": [
    "# 1. Creating and printing a set\n",
    "fruits = {\"apple\", \"banana\", \"cherry\"}\n",
    "print(fruits)  # Output: {'banana', 'apple', 'cherry'}"
   ]
  },
  {
   "cell_type": "code",
   "execution_count": 34,
   "id": "53944bf8",
   "metadata": {},
   "outputs": [
    {
     "name": "stdout",
     "output_type": "stream",
     "text": [
      "{'cherry', 'banana', 'apple'}\n",
      "['cherry', 'banana', 'apple']\n"
     ]
    }
   ],
   "source": [
    "fruits = {\"apple\", \"apple\", \"apple\", \"apple\", \"banana\", \"cherry\"}\n",
    "print(fruits)\n",
    "\n",
    "# print(fruits[0])\n",
    "list_fruits = list(fruits)\n",
    "print(list_fruits)  # Output: 'banana' (or 'apple', order is not guaranteed)"
   ]
  },
  {
   "cell_type": "code",
   "execution_count": 30,
   "id": "54a2ce13",
   "metadata": {},
   "outputs": [
    {
     "name": "stdout",
     "output_type": "stream",
     "text": [
      "{'cherry', 'orange', 'banana', 'apple'}\n"
     ]
    }
   ],
   "source": [
    "# 2. Adding elements to a set\n",
    "fruits.add(\"orange\")\n",
    "print(fruits)"
   ]
  },
  {
   "cell_type": "code",
   "execution_count": 35,
   "id": "f71376b1",
   "metadata": {},
   "outputs": [
    {
     "name": "stdout",
     "output_type": "stream",
     "text": [
      "{'cherry', 'apple'}\n"
     ]
    }
   ],
   "source": [
    "# 3. Removing elements from a set\n",
    "fruits.remove(\"banana\")\n",
    "print(fruits)"
   ]
  },
  {
   "cell_type": "code",
   "execution_count": 36,
   "id": "920600c1",
   "metadata": {},
   "outputs": [
    {
     "name": "stdout",
     "output_type": "stream",
     "text": [
      "{1, 2, 3, 4, 5}\n",
      "{3}\n"
     ]
    }
   ],
   "source": [
    "# 4. Set operations: union and intersection\n",
    "a = {1, 2, 3}\n",
    "b = {3, 4, 5}\n",
    "print(a.union(b))        # Output: {1, 2, 3, 4, 5}\n",
    "print(a.intersection(b)) # Output: {3}"
   ]
  },
  {
   "cell_type": "code",
   "execution_count": 37,
   "id": "24c0b788",
   "metadata": {},
   "outputs": [
    {
     "name": "stdout",
     "output_type": "stream",
     "text": [
      "True\n"
     ]
    }
   ],
   "source": [
    "# 5. Checking membership\n",
    "print(\"apple\" in fruits)  # Output: True or False depending on current set contents"
   ]
  },
  {
   "cell_type": "code",
   "execution_count": 39,
   "id": "ccbc4b2c",
   "metadata": {},
   "outputs": [
    {
     "name": "stdout",
     "output_type": "stream",
     "text": [
      "frozenset({1, 2, 3})\n",
      "<class 'frozenset'>\n",
      "1426925959008\n",
      "------------------------------\n",
      "frozenset({1, 2, 3, 4, 5})\n",
      "<class 'frozenset'>\n",
      "1426925955200\n",
      "------------------------------\n",
      "{1, 2, 3}\n",
      "<class 'set'>\n",
      "1426925959008\n",
      "------------------------------\n",
      "{1, 2, 3, 4, 5}\n",
      "<class 'set'>\n",
      "1426925959008\n"
     ]
    }
   ],
   "source": [
    "my_frozenset = frozenset([1, 2, 3, 2])\n",
    "print(my_frozenset)  # Output: frozenset({1, 2, 3})\n",
    "print(type(my_frozenset))  # Output: <class 'frozenset'>\n",
    "print(id(my_frozenset))  # Unique identifier for the frozenset\n",
    "print(\"------------------------------\")\n",
    "\n",
    "my_frozenset = frozenset([1, 2, 3, 4, 5])\n",
    "print(my_frozenset)\n",
    "print(type(my_frozenset))  \n",
    "print(id(my_frozenset)) \n",
    "print(\"------------------------------\")\n",
    "\n",
    "normal_Set = {1, 2, 3, 2}\n",
    "print(normal_Set)  # Output: {1, 2, 3, 4, 5}\n",
    "print(type(normal_Set))  # Output: <class 'set'>\n",
    "print(id(normal_Set))  # Unique identifier for the set\n",
    "print(\"------------------------------\")\n",
    "\n",
    "normal_Set.add(4)\n",
    "normal_Set.add(5)\n",
    "print(normal_Set)  # Output: {1, 2, 3, 4, 5}\n",
    "print(type(normal_Set))  # Output: <class 'set'>\n",
    "print(id(normal_Set))  # Unique identifier for the set\n",
    "\n"
   ]
  },
  {
   "cell_type": "code",
   "execution_count": 40,
   "id": "b4bd5b48",
   "metadata": {},
   "outputs": [
    {
     "name": "stdout",
     "output_type": "stream",
     "text": [
      "{frozenset({1, 2}): 'a', frozenset({3, 4}): 'b'}\n"
     ]
    }
   ],
   "source": [
    "# 3. Using frozensets as dictionary keys (allowed because they are immutable)\n",
    "fs1 = frozenset([1, 2])\n",
    "fs2 = frozenset([3, 4])\n",
    "my_dict = {\n",
    "    fs1: \"a\", \n",
    "    fs2: \"b\"\n",
    "    }\n",
    "print(my_dict)"
   ]
  },
  {
   "cell_type": "code",
   "execution_count": null,
   "id": "d9b80ee6",
   "metadata": {},
   "outputs": [],
   "source": []
  },
  {
   "cell_type": "markdown",
   "id": "541c1c53",
   "metadata": {},
   "source": [
    "Dictionaries in Python"
   ]
  },
  {
   "cell_type": "code",
   "execution_count": 49,
   "id": "748b2bc9",
   "metadata": {},
   "outputs": [
    {
     "name": "stdout",
     "output_type": "stream",
     "text": [
      "{'name': 'Bob', 'name2': 'Charlie', 'name3': 'Charlie', 'age': 30}\n",
      "<class 'dict'>\n",
      "1426932524224\n",
      "Bob\n",
      "30\n"
     ]
    }
   ],
   "source": [
    "my_dict = {\n",
    "    \"name\": \"Alice\", \n",
    "    \"name\" : \"Bob\",\n",
    "    \"name2\" : \"Charlie\",\n",
    "    \"name3\" : \"Charlie\",\n",
    "    \"age\": 30\n",
    "    }\n",
    "\n",
    "print(my_dict)\n",
    "print(type(my_dict))  # Output: <class 'dict'>\n",
    "print(id(my_dict))  # Unique identifier for the dictionary\n",
    "print(my_dict[\"name\"])  # Output: Alice\n",
    "print(my_dict[\"age\"])  # Output: 30\n",
    "\n",
    "\n",
    "empty_dict = {}  # Empty dictionary\n",
    "empty_set = set()  # Empty set"
   ]
  },
  {
   "cell_type": "code",
   "execution_count": 50,
   "id": "ca44ea6c",
   "metadata": {},
   "outputs": [
    {
     "name": "stdout",
     "output_type": "stream",
     "text": [
      "{'name': 'Bob', 'name2': 'Charlie', 'name3': 'Charlie', 'age': 30, 'email': 'abc@gmail.com'}\n"
     ]
    }
   ],
   "source": [
    "my_dict[\"email\"] = \"abc@gmail.com\"\n",
    "print(my_dict)  # Output: {'name': 'Bob', 'name2': 'Charlie', 'name3': 'Charlie', 'age': 30, 'email': '"
   ]
  },
  {
   "cell_type": "code",
   "execution_count": 51,
   "id": "93cc9e29",
   "metadata": {},
   "outputs": [
    {
     "name": "stdout",
     "output_type": "stream",
     "text": [
      "{'name': 'Bob', 'name2': 'Charlie', 'name3': 'Charlie', 'age': 20, 'email': 'abc@gmail.com'}\n"
     ]
    }
   ],
   "source": [
    "my_dict[\"age\"] = 20\n",
    "print(my_dict)  # Output: {'name': 'Bob', 'name2': 'Charlie', 'name3': 'Charlie', 'age': 20, 'email': '"
   ]
  },
  {
   "cell_type": "code",
   "execution_count": 52,
   "id": "9a9efffb",
   "metadata": {},
   "outputs": [
    {
     "name": "stdout",
     "output_type": "stream",
     "text": [
      "name : Bob\n",
      "name2 : Charlie\n",
      "name3 : Charlie\n",
      "age : 20\n",
      "email : abc@gmail.com\n"
     ]
    }
   ],
   "source": [
    "for key, value in my_dict.items():\n",
    "    print(key, \":\", value)"
   ]
  },
  {
   "cell_type": "markdown",
   "id": "62ef90fb",
   "metadata": {},
   "source": [
    "Functions in Python"
   ]
  },
  {
   "cell_type": "code",
   "execution_count": 55,
   "id": "22d8e8a9",
   "metadata": {},
   "outputs": [
    {
     "name": "stdout",
     "output_type": "stream",
     "text": [
      "Hello, World!\n",
      "Hello, World!\n",
      "Hello, World!\n",
      "Hello, World!\n",
      "Hello, World!\n"
     ]
    }
   ],
   "source": [
    "def greet():\n",
    "    print(\"Hello, World!\")\n",
    "\n",
    "greet()\n",
    "greet()\n",
    "greet()\n",
    "greet()\n",
    "greet()\n",
    "# # Output: Hello, World!"
   ]
  },
  {
   "cell_type": "code",
   "execution_count": 63,
   "id": "2e368626",
   "metadata": {},
   "outputs": [
    {
     "name": "stdout",
     "output_type": "stream",
     "text": [
      "The sum of 3 and 5 is: 8\n",
      "The sum of 4 and 4 is: 8\n",
      "The sum of 8 and 9 is: 17\n",
      "The sum of 11 and 12 is: 23\n"
     ]
    }
   ],
   "source": [
    "def add(a, b):\n",
    "    return a + b\n",
    "\n",
    "def print_Add(a, b):\n",
    "    print(f\"The sum of {a} and {b} is: {add(a, b)}\")\n",
    "\n",
    "def print_Add_master():\n",
    "    print_Add(3, 5)\n",
    "    print_Add(4, 4)\n",
    "    print_Add(8, 9)\n",
    "    print_Add(11, 12)\n",
    "\n",
    "print_Add_master()"
   ]
  },
  {
   "cell_type": "code",
   "execution_count": 64,
   "id": "63084020",
   "metadata": {},
   "outputs": [
    {
     "name": "stdout",
     "output_type": "stream",
     "text": [
      "The sum of 3 and 5 is: 8\n",
      "The sum of 4 and 4 is: 8\n",
      "The sum of 8 and 9 is: 17\n",
      "The sum of 11 and 12 is: 23\n"
     ]
    }
   ],
   "source": [
    "print_Add_master()"
   ]
  },
  {
   "cell_type": "code",
   "execution_count": 65,
   "id": "cc245251",
   "metadata": {},
   "outputs": [
    {
     "name": "stdout",
     "output_type": "stream",
     "text": [
      "The sum of 3 and 5 is: 8\n",
      "The sum of 4 and 4 is: 8\n",
      "The sum of 8 and 9 is: 17\n",
      "The sum of 11 and 12 is: 23\n"
     ]
    }
   ],
   "source": [
    "print_Add_master()"
   ]
  },
  {
   "cell_type": "code",
   "execution_count": 66,
   "id": "b0dd8a06",
   "metadata": {},
   "outputs": [
    {
     "name": "stdout",
     "output_type": "stream",
     "text": [
      "120\n"
     ]
    }
   ],
   "source": [
    "def factorial(n):\n",
    "    if n == 0:\n",
    "        return 1\n",
    "    else:\n",
    "        return n * factorial(n-1) #recursion -> recursive function call\n",
    "\n",
    "print(factorial(5))\n",
    "# Output: 120\n",
    "\n",
    "\n",
    "\n",
    "# 5 * 4 * 3 * 2 * 1"
   ]
  },
  {
   "cell_type": "code",
   "execution_count": null,
   "id": "e9719b62",
   "metadata": {},
   "outputs": [
    {
     "name": "stdout",
     "output_type": "stream",
     "text": [
      "Calculating fibonacci(5)\n",
      "Calculating fibonacci(4)\n",
      "Calculating fibonacci(3)\n",
      "Calculating fibonacci(2)\n",
      "Calculating fibonacci(2)\n",
      "Calculating fibonacci(3)\n",
      "Calculating fibonacci(2)\n",
      "5\n"
     ]
    }
   ],
   "source": [
    "def fibonacci(n):\n",
    "    if n <= 0:\n",
    "        return 0\n",
    "    elif n == 1:\n",
    "        return 1\n",
    "    else:\n",
    "        print(f\"Calculating fibonacci({n})\")\n",
    "        return fibonacci(n-1) + fibonacci(n-2)  # recursive function call\n",
    "    \n",
    "print(fibonacci(5))  # Output: 5\n",
    "\n",
    "# 1 1 2 3 5 8 13 21 34 55 89 "
   ]
  },
  {
   "cell_type": "code",
   "execution_count": 70,
   "id": "be606a7d",
   "metadata": {},
   "outputs": [
    {
     "name": "stdout",
     "output_type": "stream",
     "text": [
      "Hello, Guest!\n",
      "Hello, Alice!\n"
     ]
    }
   ],
   "source": [
    "def greet_person(name=\"Guest\"): #default argument / default parameter\n",
    "    print(f\"Hello, {name}!\")\n",
    "\n",
    "greet_person()\n",
    "\n",
    "greet_person(\"Alice\")"
   ]
  },
  {
   "cell_type": "code",
   "execution_count": null,
   "id": "dc1e59f8",
   "metadata": {},
   "outputs": [],
   "source": []
  },
  {
   "cell_type": "markdown",
   "id": "3674af84",
   "metadata": {},
   "source": [
    "Iterators in Python"
   ]
  },
  {
   "cell_type": "code",
   "execution_count": 77,
   "id": "c26548e0",
   "metadata": {},
   "outputs": [
    {
     "name": "stdout",
     "output_type": "stream",
     "text": [
      "[1, 2, 3, 4, 5]\n",
      "1\n",
      "2\n",
      "3\n",
      "4\n",
      "5\n"
     ]
    },
    {
     "ename": "StopIteration",
     "evalue": "",
     "output_type": "error",
     "traceback": [
      "\u001b[31m---------------------------------------------------------------------------\u001b[39m",
      "\u001b[31mStopIteration\u001b[39m                             Traceback (most recent call last)",
      "\u001b[36mCell\u001b[39m\u001b[36m \u001b[39m\u001b[32mIn[77]\u001b[39m\u001b[32m, line 11\u001b[39m\n\u001b[32m      9\u001b[39m \u001b[38;5;28mprint\u001b[39m(\u001b[38;5;28mnext\u001b[39m(it)) \u001b[38;5;66;03m# Output: 4\u001b[39;00m\n\u001b[32m     10\u001b[39m \u001b[38;5;28mprint\u001b[39m(\u001b[38;5;28mnext\u001b[39m(it))  \u001b[38;5;66;03m# Output: 5\u001b[39;00m\n\u001b[32m---> \u001b[39m\u001b[32m11\u001b[39m \u001b[38;5;28mprint\u001b[39m(\u001b[38;5;28;43mnext\u001b[39;49m\u001b[43m(\u001b[49m\u001b[43mit\u001b[49m\u001b[43m)\u001b[49m)\n",
      "\u001b[31mStopIteration\u001b[39m: "
     ]
    }
   ],
   "source": [
    "numbers = [1, 2, 3, 4, 5]\n",
    "print(numbers)\n",
    "\n",
    "# Using an iterator to access elements\n",
    "it = iter(numbers)\n",
    "print(next(it))  # Output: 1\n",
    "print(next(it))  # Output: 2\n",
    "print(next(it))  # Output: 3\n",
    "print(next(it)) # Output: 4\n",
    "print(next(it))  # Output: 5\n",
    "print(next(it))"
   ]
  },
  {
   "cell_type": "code",
   "execution_count": 78,
   "id": "907f9500",
   "metadata": {},
   "outputs": [
    {
     "name": "stdout",
     "output_type": "stream",
     "text": [
      "apple\n",
      "banana\n"
     ]
    }
   ],
   "source": [
    "\n",
    "fruits = [\"apple\", \"banana\", \"cherry\"]\n",
    "fruit_iter = iter(fruits)\n",
    "print(next(fruit_iter))  # Output: apple\n",
    "print(next(fruit_iter))  # Output: banana"
   ]
  },
  {
   "cell_type": "code",
   "execution_count": 79,
   "id": "5e735b17",
   "metadata": {},
   "outputs": [
    {
     "name": "stdout",
     "output_type": "stream",
     "text": [
      "apple\n",
      "banana\n",
      "cherry\n"
     ]
    }
   ],
   "source": [
    "for fruit in fruits:\n",
    "    print(fruit)"
   ]
  },
  {
   "cell_type": "code",
   "execution_count": 80,
   "id": "d9cf7c89",
   "metadata": {},
   "outputs": [
    {
     "name": "stdout",
     "output_type": "stream",
     "text": [
      "3\n",
      "2\n",
      "1\n"
     ]
    }
   ],
   "source": [
    "class CountDown:\n",
    "    def __init__(self, start):\n",
    "        self.current = start\n",
    "\n",
    "    def __iter__(self):\n",
    "        return self\n",
    "\n",
    "    def __next__(self):\n",
    "        if self.current <= 0:\n",
    "            raise StopIteration\n",
    "        num = self.current\n",
    "        self.current -= 1\n",
    "        return num\n",
    "\n",
    "cd = CountDown(3)\n",
    "for num in cd:\n",
    "    print(num)"
   ]
  },
  {
   "cell_type": "code",
   "execution_count": null,
   "id": "b2602890",
   "metadata": {},
   "outputs": [],
   "source": [
    "from collections.abc import Iterator\n",
    "\n",
    "print(isinstance(it, Iterator))         # True\n",
    "print(isinstance(nums, Iterator))       # False\n",
    "print(isinstance(iter(nums), Iterator)) # True"
   ]
  }
 ],
 "metadata": {
  "kernelspec": {
   "display_name": "Python 3",
   "language": "python",
   "name": "python3"
  },
  "language_info": {
   "codemirror_mode": {
    "name": "ipython",
    "version": 3
   },
   "file_extension": ".py",
   "mimetype": "text/x-python",
   "name": "python",
   "nbconvert_exporter": "python",
   "pygments_lexer": "ipython3",
   "version": "3.13.3"
  }
 },
 "nbformat": 4,
 "nbformat_minor": 5
}
