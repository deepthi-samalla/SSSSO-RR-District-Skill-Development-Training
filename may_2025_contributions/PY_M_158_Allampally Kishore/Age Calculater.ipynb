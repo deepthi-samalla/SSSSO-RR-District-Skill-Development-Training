{
 "cells": [
  {
   "cell_type": "code",
   "execution_count": 1,
   "id": "73786bb3",
   "metadata": {},
   "outputs": [
    {
     "name": "stdout",
     "output_type": "stream",
     "text": [
      "Your age is: 42 years, 8 months, and 28 days.\n"
     ]
    }
   ],
   "source": [
    "from datetime import date\n",
    "\n",
    "def calculate_age(birth_date):\n",
    "    today = date.today()\n",
    "    # Subtract birth date from current date\n",
    "    years = today.year - birth_date.year\n",
    "    months = today.month - birth_date.month\n",
    "    days = today.day - birth_date.day\n",
    "\n",
    "    # Adjust for incomplete months and days\n",
    "    if days < 0:\n",
    "        months -= 1\n",
    "        days += (date(today.year, today.month, 1) - date(today.year, today.month - 1, 1)).days\n",
    "    if months < 0:\n",
    "        years -= 1\n",
    "        months += 12\n",
    "\n",
    "    return years, months, days\n",
    "\n",
    "def main():\n",
    "    try:\n",
    "        year = int(input(\"Enter your birth year (e.g., 1995): \"))\n",
    "        month = int(input(\"Enter your birth month (1-12): \"))\n",
    "        day = int(input(\"Enter your birth day (1-31): \"))\n",
    "        birth_date = date(year, month, day)\n",
    "\n",
    "        if birth_date > date.today():\n",
    "            print(\"Birth date cannot be in the future!\")\n",
    "            return\n",
    "\n",
    "        age_years, age_months, age_days = calculate_age(birth_date)\n",
    "        print(f\"Your age is: {age_years} years, {age_months} months, and {age_days} days.\")\n",
    "    except ValueError:\n",
    "        print(\"Invalid input. Please enter numeric values for year, month, and day.\")\n",
    "\n",
    "if __name__ == \"__main__\":\n",
    "    main()\n"
   ]
  }
 ],
 "metadata": {
  "kernelspec": {
   "display_name": "Python 3",
   "language": "python",
   "name": "python3"
  },
  "language_info": {
   "codemirror_mode": {
    "name": "ipython",
    "version": 3
   },
   "file_extension": ".py",
   "mimetype": "text/x-python",
   "name": "python",
   "nbconvert_exporter": "python",
   "pygments_lexer": "ipython3",
   "version": "3.13.3"
  }
 },
 "nbformat": 4,
 "nbformat_minor": 5
}
