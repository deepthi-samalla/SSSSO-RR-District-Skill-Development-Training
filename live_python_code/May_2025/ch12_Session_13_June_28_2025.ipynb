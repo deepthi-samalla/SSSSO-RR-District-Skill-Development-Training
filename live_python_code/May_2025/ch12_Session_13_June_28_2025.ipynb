{
 "cells": [
  {
   "cell_type": "code",
   "execution_count": 2,
   "id": "f7f8eb53",
   "metadata": {},
   "outputs": [],
   "source": [
    "import duckdb"
   ]
  },
  {
   "cell_type": "code",
   "execution_count": 6,
   "id": "9c3e6bf9",
   "metadata": {},
   "outputs": [],
   "source": [
    "import duckdb\n",
    "import pandas as pd"
   ]
  },
  {
   "cell_type": "markdown",
   "id": "49714475",
   "metadata": {},
   "source": [
    "!pip install duckdb pandas"
   ]
  },
  {
   "cell_type": "code",
   "execution_count": 22,
   "id": "37c3a72d",
   "metadata": {},
   "outputs": [
    {
     "name": "stdout",
     "output_type": "stream",
     "text": [
      "   id  value\n",
      "0   2     20\n",
      "1   3     30\n",
      "   id  value\n",
      "0   1     10\n",
      "1   2     20\n",
      "2   3     30\n"
     ]
    }
   ],
   "source": [
    "# Example 1: Run a SQL query on a Pandas DataFrame\n",
    "# sql query --> we use on MysQL, SQLite, PostgreSQL, etc.\n",
    "# pandas DataFrame --> we use in Python for data manipulation, data frames are like tables\n",
    "\n",
    "# conda install -c conda-forge duckdb\n",
    "# pip install duckdb\n",
    "\n",
    "df = pd.DataFrame({\"id\": [1, 2, 3], \"value\": [10, 20, 30]})\n",
    "# result = duckdb.query(\"SELECT * FROM df WHERE value > 15\").df()\n",
    "result = duckdb.query(\"SELECT * FROM df WHERE value > 15\").df()\n",
    "print(result)\n",
    "\n",
    "print(df)"
   ]
  },
  {
   "cell_type": "code",
   "execution_count": 23,
   "id": "cb8797d1",
   "metadata": {},
   "outputs": [
    {
     "name": "stdout",
     "output_type": "stream",
     "text": [
      "[(42,)]\n"
     ]
    }
   ],
   "source": [
    "# Example 2: Simple SELECT query\n",
    "# SELECT 42 AS answer -> meaning of the line is to select the value 42 and label it as 'answer'\n",
    "# This is a simple query that returns a single value\n",
    "# duckdb.query() executes the SQL query and fetches the result\n",
    "# .fetchall() retrieves all rows from the result set\n",
    "print(duckdb.query(\"SELECT 42 AS answer\").fetchall())\n"
   ]
  },
  {
   "cell_type": "code",
   "execution_count": 8,
   "id": "369cce72",
   "metadata": {},
   "outputs": [
    {
     "name": "stdout",
     "output_type": "stream",
     "text": [
      "    name\n",
      "0  items\n",
      "    name\n",
      "0  items\n",
      "items_table : \n",
      " Empty DataFrame\n",
      "Columns: [name, price]\n",
      "Index: []\n"
     ]
    }
   ],
   "source": [
    "# Example 3: Create a DuckDB table\n",
    "# duckdb.query(\"CREATE TABLE items (name VARCHAR, price INTEGER)\")\n",
    "import duckdb\n",
    "print(duckdb.query(\"SHOW TABLES\").df())  # Show all tables in the DuckDB database\n",
    "# duckdb.query(\"CREATE TABLE items (name VARCHAR, price INTEGER)\")\n",
    "print(duckdb.query(\"SHOW TABLES\").df())\n",
    "\n",
    "items_table = duckdb.query(\"SELECT * FROM items\").df()\n",
    "print(f\"items_table : \\n {items_table}\")"
   ]
  },
  {
   "cell_type": "code",
   "execution_count": 9,
   "id": "2c82806b",
   "metadata": {},
   "outputs": [],
   "source": [
    "# Example 4: Insert values\n",
    "duckdb.query(\"INSERT INTO items VALUES ('Pen', 10), ('Book', 30)\")"
   ]
  },
  {
   "cell_type": "code",
   "execution_count": 10,
   "id": "3f1a6157",
   "metadata": {},
   "outputs": [
    {
     "name": "stdout",
     "output_type": "stream",
     "text": [
      "   name  price\n",
      "0   Pen     10\n",
      "1  Book     30\n"
     ]
    }
   ],
   "source": [
    "# Example 5: Select from table\n",
    "print(duckdb.query(\"SELECT * FROM items\").fetchdf())"
   ]
  },
  {
   "cell_type": "code",
   "execution_count": 11,
   "id": "16f1cb3a",
   "metadata": {},
   "outputs": [
    {
     "name": "stdout",
     "output_type": "stream",
     "text": [
      "(20.0,)\n"
     ]
    }
   ],
   "source": [
    "# Example 6: Aggregate functions\n",
    "print(duckdb.query(\"SELECT AVG(price) FROM items\").fetchone())"
   ]
  },
  {
   "cell_type": "code",
   "execution_count": 13,
   "id": "e24dbf25",
   "metadata": {},
   "outputs": [
    {
     "name": "stdout",
     "output_type": "stream",
     "text": [
      "   id   name\n",
      "0   1  Alice\n",
      "1   2    Bob\n",
      "   id  score\n",
      "0   1     90\n",
      "1   2     85\n",
      "    name  score\n",
      "0  Alice     90\n",
      "1    Bob     85\n"
     ]
    }
   ],
   "source": [
    "import pandas as pd\n",
    "# Example 7: Join operations\n",
    "users = pd.DataFrame({\"id\": [1, 2], \"name\": [\"Alice\", \"Bob\"]})\n",
    "print(users)\n",
    "scores = pd.DataFrame({\"id\": [1, 2], \"score\": [90, 85]})\n",
    "print(scores)\n",
    "query = \"SELECT u.name, s.score FROM users u JOIN scores s ON u.id = s.id\"\n",
    "print(duckdb.query(query).df())"
   ]
  },
  {
   "cell_type": "code",
   "execution_count": 14,
   "id": "bf8a8778",
   "metadata": {},
   "outputs": [
    {
     "name": "stdout",
     "output_type": "stream",
     "text": [
      "   name  price\n",
      "0   Pen     10\n",
      "1  Book     30\n"
     ]
    }
   ],
   "source": [
    "# Example 9: Export to Pandas\n",
    "data = duckdb.query(\"SELECT * FROM items\").df()\n",
    "print(data)\n"
   ]
  },
  {
   "cell_type": "code",
   "execution_count": 15,
   "id": "02215e5e",
   "metadata": {},
   "outputs": [
    {
     "name": "stdout",
     "output_type": "stream",
     "text": [
      "(6,)\n"
     ]
    }
   ],
   "source": [
    "# Example 10: Using SQL functions\n",
    "# LENGTH function to get the length of a string\n",
    "# This is similar to the LENGTH function in MySQL, PostgreSQL, etc.\n",
    "# It returns the number of characters in the string 'DuckDB'\n",
    "# duckdb.query() executes the SQL query and fetches the result\n",
    "# .fetchone() retrieves a single row from the result set\n",
    "print(duckdb.query(\"SELECT LENGTH('DuckDB')\").fetchone())"
   ]
  },
  {
   "cell_type": "code",
   "execution_count": 16,
   "id": "c1853746",
   "metadata": {},
   "outputs": [],
   "source": [
    "import sqlite3"
   ]
  },
  {
   "cell_type": "code",
   "execution_count": 17,
   "id": "edd1726d",
   "metadata": {},
   "outputs": [
    {
     "name": "stderr",
     "output_type": "stream",
     "text": [
      "DEBUG:root:x = 5\n",
      "INFO:root:This is an info message\n",
      "DEBUG:root:This is a debug message\n",
      "WARNING:root:This is a warning message\n",
      "ERROR:root:This is an error message\n",
      "CRITICAL:root:This is a critical message\n"
     ]
    }
   ],
   "source": [
    "# Example 3: Logging instead of print debugging\n",
    "import logging\n",
    "logging.basicConfig(level=logging.DEBUG)\n",
    "x = 5\n",
    "logging.debug(f\"x = {x}\")\n",
    "\n",
    "# Various logging levels\n",
    "logging.info(\"This is an info message\")\n",
    "logging.debug(\"This is a debug message\")\n",
    "logging.warning(\"This is a warning message\")\n",
    "logging.error(\"This is an error message\")\n",
    "logging.critical(\"This is a critical message\")"
   ]
  }
 ],
 "metadata": {
  "kernelspec": {
   "display_name": "Python 3",
   "language": "python",
   "name": "python3"
  },
  "language_info": {
   "codemirror_mode": {
    "name": "ipython",
    "version": 3
   },
   "file_extension": ".py",
   "mimetype": "text/x-python",
   "name": "python",
   "nbconvert_exporter": "python",
   "pygments_lexer": "ipython3",
   "version": "3.13.4"
  }
 },
 "nbformat": 4,
 "nbformat_minor": 5
}
