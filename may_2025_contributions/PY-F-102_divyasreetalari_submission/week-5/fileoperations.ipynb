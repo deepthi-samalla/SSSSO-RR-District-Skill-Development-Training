{
 "cells": [
  {
   "cell_type": "markdown",
   "id": "93cc065d",
   "metadata": {},
   "source": [
    "#### file operations read write and append\n"
   ]
  },
  {
   "cell_type": "code",
   "execution_count": 2,
   "id": "d5959af8",
   "metadata": {},
   "outputs": [],
   "source": [
    "with open('binaryfile.bin', 'wb') as file:\n",
    "    data = bytes([120, 3, 255, 0])\n",
    "    file.write(data)"
   ]
  },
  {
   "cell_type": "code",
   "execution_count": 15,
   "id": "e6c45242",
   "metadata": {},
   "outputs": [
    {
     "name": "stdout",
     "output_type": "stream",
     "text": [
      "hellowelcome to python world welcome to python world\n",
      " welcome to python world\n"
     ]
    }
   ],
   "source": [
    "with open('sample.txt', 'r') as file:\n",
    "    print(file.read())\n",
    "    "
   ]
  },
  {
   "cell_type": "code",
   "execution_count": null,
   "id": "db47af49",
   "metadata": {},
   "outputs": [
    {
     "name": "stdout",
     "output_type": "stream",
     "text": [
      "25\n"
     ]
    }
   ],
   "source": [
    "with open('sample.txt','a') as file:\n",
    "    print(file.write('\\n welcome to python world'))"
   ]
  },
  {
   "cell_type": "code",
   "execution_count": null,
   "id": "55c16bc0",
   "metadata": {},
   "outputs": [
    {
     "name": "stdout",
     "output_type": "stream",
     "text": [
      "5\n"
     ]
    }
   ],
   "source": [
    "with open('sample.txt', 'w') as file:\n",
    "    print(file.write(\"hello\"))"
   ]
  },
  {
   "cell_type": "code",
   "execution_count": 19,
   "id": "17a1fc3c",
   "metadata": {},
   "outputs": [],
   "source": [
    "\"\"\"with open('hello.json','r+') as file:\n",
    "    print(file.read())\"\"\"#ArithmeticError\n",
    "with open('sample.txt','r+') as file:\n",
    "    content= file.read()\n",
    "    file.seek(0)\n",
    "    file.write('Updated content\\\\n')\n",
    "\n",
    "\n"
   ]
  },
  {
   "cell_type": "code",
   "execution_count": 24,
   "id": "4f734833",
   "metadata": {},
   "outputs": [],
   "source": [
    "with open('sample.json','w+') as file:\n",
    "    #content= file.write()\n",
    "    #file.seek(0)\n",
    "    file.write('{\"name\" : divya\", \"age: 30\", id:\"py-f-102\"}')"
   ]
  },
  {
   "cell_type": "code",
   "execution_count": 25,
   "id": "1ab190b6",
   "metadata": {},
   "outputs": [
    {
     "name": "stdout",
     "output_type": "stream",
     "text": [
      "{\"name\" : divya\", \"age: 30\", id:\"py-f-102\"}\n"
     ]
    }
   ],
   "source": [
    "with open('sample.json','r') as file:\n",
    "    print(file.read())"
   ]
  }
 ],
 "metadata": {
  "kernelspec": {
   "display_name": "base",
   "language": "python",
   "name": "python3"
  },
  "language_info": {
   "codemirror_mode": {
    "name": "ipython",
    "version": 3
   },
   "file_extension": ".py",
   "mimetype": "text/x-python",
   "name": "python",
   "nbconvert_exporter": "python",
   "pygments_lexer": "ipython3",
   "version": "undefined.undefined.undefined"
  }
 },
 "nbformat": 4,
 "nbformat_minor": 5
}
