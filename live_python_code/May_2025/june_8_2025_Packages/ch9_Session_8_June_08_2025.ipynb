{
 "cells": [
  {
   "cell_type": "code",
   "execution_count": null,
   "id": "c7a8820e",
   "metadata": {},
   "outputs": [],
   "source": [
    "import Demo_Project #package name\n",
    "print(dir(Demo_Project))"
   ]
  },
  {
   "cell_type": "code",
   "execution_count": null,
   "id": "161c6a14",
   "metadata": {},
   "outputs": [],
   "source": [
    "# my_utils internally not importing any other modules\n",
    "\n",
    "import Demo_Project.my_utils\n",
    "print(dir(Demo_Project))"
   ]
  },
  {
   "cell_type": "code",
   "execution_count": null,
   "id": "11bcacb9",
   "metadata": {},
   "outputs": [],
   "source": [
    "# math_functions internally not importing any other modules\n",
    "\n",
    "import Demo_Project.math_functions\n",
    "print(dir(Demo_Project))\n",
    "\n"
   ]
  },
  {
   "cell_type": "markdown",
   "id": "8fe685a0",
   "metadata": {},
   "source": [
    "### from_keyword_demo.py internally importing other modules:\n",
    "    ### from math_functions import addition\n",
    "    ### from math_function_copy import addition as add, addition_copy\n",
    "\n",
    "Detailed Explanation Provided in this link : https://saikrishnavadali05.github.io/TechTreasure/Python_Programming/09-Modules-and-Packages/packages-issues.html "
   ]
  },
  {
   "cell_type": "code",
   "execution_count": null,
   "id": "01d21a55",
   "metadata": {},
   "outputs": [],
   "source": [
    "import Demo_Project.from_keyword_demo\n",
    "\n",
    "# Absolute and Relative Import Errors"
   ]
  },
  {
   "cell_type": "markdown",
   "id": "acaf2f26",
   "metadata": {},
   "source": [
    "### using_modules_demo.py internally importing other modules:\n",
    "    ### import my_utils\n",
    "    ### import math_functions"
   ]
  },
  {
   "cell_type": "code",
   "execution_count": null,
   "id": "7bb9b007",
   "metadata": {},
   "outputs": [],
   "source": [
    "import Demo_Project.using_modules_demo\n",
    "print(dir(Demo_Project))"
   ]
  },
  {
   "cell_type": "code",
   "execution_count": null,
   "id": "c47f9d5d",
   "metadata": {},
   "outputs": [],
   "source": [
    "print(dir(Demo_Project))"
   ]
  },
  {
   "cell_type": "code",
   "execution_count": null,
   "id": "69ae270b",
   "metadata": {},
   "outputs": [],
   "source": [
    "# In calculator_wrong.py, imports are like this:\n",
    "# from math_functions import addition\n",
    "# from math_function_copy import addition_copy\n",
    "\n",
    "import Demo_Project.calculator_wrong\n",
    "print(dir(Demo_Project))"
   ]
  },
  {
   "cell_type": "code",
   "execution_count": null,
   "id": "d9757eec",
   "metadata": {},
   "outputs": [],
   "source": [
    "# In calculator_correct.py, imports are like this:\n",
    "# from .math_functions import addition\n",
    "# from .math_function_copy import addition_copy\n",
    "\n",
    "\n",
    "import Demo_Project.calculator_correct\n",
    "print(dir(Demo_Project))"
   ]
  },
  {
   "cell_type": "code",
   "execution_count": null,
   "id": "842581f7",
   "metadata": {},
   "outputs": [],
   "source": [
    "# In calculator_wrong.py, imports are like this:\n",
    "# from math_functions import addition\n",
    "# from math_function_copy import addition_copy\n",
    "\n",
    "import Demo_Project.calculator_wrong\n",
    "print(dir(Demo_Project))"
   ]
  },
  {
   "cell_type": "markdown",
   "id": "34436be6",
   "metadata": {},
   "source": [
    "Namespaces"
   ]
  },
  {
   "cell_type": "code",
   "execution_count": null,
   "id": "cbb09e1a",
   "metadata": {},
   "outputs": [],
   "source": [
    "x = \"global\"\n",
    "\n",
    "def outer():\n",
    "    x = \"enclosing\"\n",
    "    \n",
    "    def inner():\n",
    "        x = \"local\"\n",
    "        print(x)\n",
    "\n",
    "    inner()\n",
    "\n",
    "outer()  # Output: local\n",
    "\n",
    "# global x ->  outer() x -> inner() x -> print(x)  # Output: local"
   ]
  },
  {
   "cell_type": "code",
   "execution_count": null,
   "id": "55022e68",
   "metadata": {},
   "outputs": [],
   "source": [
    "x = \"global\"\n",
    "print(x)\n",
    "\n",
    "# Function Definition\n",
    "def outer():\n",
    "    x = \"enclosing\"\n",
    "    print(x)\n",
    "\n",
    "    # Inner Function Definition\n",
    "    def inner():\n",
    "        x = \"local\"\n",
    "        print(x)\n",
    "\n",
    "    # Inner Function Call\n",
    "    inner()\n",
    "\n",
    "# Function call\n",
    "outer()  # Output: local\n",
    "\n",
    "\n"
   ]
  },
  {
   "cell_type": "code",
   "execution_count": null,
   "id": "54d0dcde",
   "metadata": {},
   "outputs": [],
   "source": [
    "def print():\n",
    "    print(\"This is a custom print function.\")\n",
    "\n",
    "print()\n",
    "\n",
    "# Overwriting built-in functions is not recommended"
   ]
  },
  {
   "cell_type": "code",
   "execution_count": 1,
   "id": "c89760ad",
   "metadata": {},
   "outputs": [
    {
     "name": "stdout",
     "output_type": "stream",
     "text": [
      "enclosing\n"
     ]
    },
    {
     "ename": "NameError",
     "evalue": "name 'x' is not defined",
     "output_type": "error",
     "traceback": [
      "\u001b[31m---------------------------------------------------------------------------\u001b[39m",
      "\u001b[31mNameError\u001b[39m                                 Traceback (most recent call last)",
      "\u001b[36mCell\u001b[39m\u001b[36m \u001b[39m\u001b[32mIn[1]\u001b[39m\u001b[32m, line 14\u001b[39m\n\u001b[32m     10\u001b[39m     inner()\n\u001b[32m     12\u001b[39m outer()  \u001b[38;5;66;03m# Output: enclosing\u001b[39;00m\n\u001b[32m---> \u001b[39m\u001b[32m14\u001b[39m \u001b[38;5;28mprint\u001b[39m(\u001b[43mx\u001b[49m)\n\u001b[32m     16\u001b[39m \u001b[38;5;66;03m# LEGB rule -> Local, Enclosing, Global, Built-in\u001b[39;00m\n",
      "\u001b[31mNameError\u001b[39m: name 'x' is not defined"
     ]
    }
   ],
   "source": [
    "# x = \"global\"\n",
    "\n",
    "def outer():\n",
    "    x = \"enclosing\"\n",
    "    \n",
    "    def inner():\n",
    "        # x = \"local\"\n",
    "        print(x)\n",
    "    \n",
    "    inner()\n",
    "\n",
    "outer()  # Output: enclosing\n",
    "\n",
    "print(x)\n",
    "\n",
    "# LEGB rule -> Local, Enclosing, Global, Built-in\n"
   ]
  },
  {
   "cell_type": "code",
   "execution_count": 2,
   "id": "f7237baf",
   "metadata": {},
   "outputs": [
    {
     "name": "stdout",
     "output_type": "stream",
     "text": [
      "10\n",
      "5\n"
     ]
    }
   ],
   "source": [
    "x = 5\n",
    "\n",
    "def func():\n",
    "    x = 10  # Shadows global x\n",
    "    print(x)\n",
    "\n",
    "func()       # Output: 10\n",
    "print(x)     # Output: 5"
   ]
  },
  {
   "cell_type": "code",
   "execution_count": 3,
   "id": "80d3cdab",
   "metadata": {},
   "outputs": [
    {
     "name": "stdout",
     "output_type": "stream",
     "text": [
      "{'__name__': '__main__', '__doc__': 'Automatically created module for IPython interactive environment', '__package__': None, '__loader__': None, '__spec__': None, '__builtin__': <module 'builtins' (built-in)>, '__builtins__': <module 'builtins' (built-in)>, '_ih': ['', '# x = \"global\"\\n\\ndef outer():\\n    x = \"enclosing\"\\n\\n    def inner():\\n        # x = \"local\"\\n        print(x)\\n\\n    inner()\\n\\nouter()  # Output: enclosing\\n\\nprint(x)\\n\\n# LEGB rule -> Local, Enclosing, Global, Built-in', 'x = 5\\n\\ndef func():\\n    x = 10  # Shadows global x\\n    print(x)\\n\\nfunc()       # Output: 10\\nprint(x)     # Output: 5', \"x = 42\\n# print(globals()['x'])  # Access x from global scope\\nprint(globals())\\n\\ndef demo():\\n    y = 99\\n    print(locals())     # Shows local variables\\n\\ndemo()\"], '_oh': {}, '_dh': [WindowsPath('e:/SSSSO-RR-District-Skill-Development-Training/live_python_code/May_2025/june_8_2025_Packages')], 'In': ['', '# x = \"global\"\\n\\ndef outer():\\n    x = \"enclosing\"\\n\\n    def inner():\\n        # x = \"local\"\\n        print(x)\\n\\n    inner()\\n\\nouter()  # Output: enclosing\\n\\nprint(x)\\n\\n# LEGB rule -> Local, Enclosing, Global, Built-in', 'x = 5\\n\\ndef func():\\n    x = 10  # Shadows global x\\n    print(x)\\n\\nfunc()       # Output: 10\\nprint(x)     # Output: 5', \"x = 42\\n# print(globals()['x'])  # Access x from global scope\\nprint(globals())\\n\\ndef demo():\\n    y = 99\\n    print(locals())     # Shows local variables\\n\\ndemo()\"], 'Out': {}, 'get_ipython': <bound method InteractiveShell.get_ipython of <ipykernel.zmqshell.ZMQInteractiveShell object at 0x000002320CB5F380>>, 'exit': <IPython.core.autocall.ZMQExitAutocall object at 0x000002320CBF0C20>, 'quit': <IPython.core.autocall.ZMQExitAutocall object at 0x000002320CBF0C20>, 'open': <function open at 0x000002320A876160>, '_': '', '__': '', '___': '', '__vsc_ipynb_file__': 'e:\\\\SSSSO-RR-District-Skill-Development-Training\\\\live_python_code\\\\May_2025\\\\june_8_2025_Packages\\\\ch9_Session_8_June_08_2025.ipynb', '_i': 'x = 5\\n\\ndef func():\\n    x = 10  # Shadows global x\\n    print(x)\\n\\nfunc()       # Output: 10\\nprint(x)     # Output: 5', '_ii': '# x = \"global\"\\n\\ndef outer():\\n    x = \"enclosing\"\\n    \\n    def inner():\\n        # x = \"local\"\\n        print(x)\\n    \\n    inner()\\n\\nouter()  # Output: enclosing\\n\\nprint(x)\\n\\n# LEGB rule -> Local, Enclosing, Global, Built-in', '_iii': '', '_i1': '# x = \"global\"\\n\\ndef outer():\\n    x = \"enclosing\"\\n    \\n    def inner():\\n        # x = \"local\"\\n        print(x)\\n    \\n    inner()\\n\\nouter()  # Output: enclosing\\n\\nprint(x)\\n\\n# LEGB rule -> Local, Enclosing, Global, Built-in', 'outer': <function outer at 0x000002320CD4E840>, '_i2': 'x = 5\\n\\ndef func():\\n    x = 10  # Shadows global x\\n    print(x)\\n\\nfunc()       # Output: 10\\nprint(x)     # Output: 5', 'x': 42, 'func': <function func at 0x000002320D3287C0>, '_i3': \"x = 42\\n# print(globals()['x'])  # Access x from global scope\\nprint(globals())\\n\\ndef demo():\\n    y = 99\\n    print(locals())     # Shows local variables\\n\\ndemo()\"}\n",
      "{'y': 99}\n"
     ]
    }
   ],
   "source": [
    "x = 42\n",
    "# print(globals()['x'])  # Access x from global scope\n",
    "print(globals())\n",
    "\n",
    "def demo():\n",
    "    y = 99\n",
    "    print(locals())     # Shows local variables\n",
    "\n",
    "demo()"
   ]
  }
 ],
 "metadata": {
  "kernelspec": {
   "display_name": "Python 3",
   "language": "python",
   "name": "python3"
  },
  "language_info": {
   "codemirror_mode": {
    "name": "ipython",
    "version": 3
   },
   "file_extension": ".py",
   "mimetype": "text/x-python",
   "name": "python",
   "nbconvert_exporter": "python",
   "pygments_lexer": "ipython3",
   "version": "3.13.3"
  }
 },
 "nbformat": 4,
 "nbformat_minor": 5
}
