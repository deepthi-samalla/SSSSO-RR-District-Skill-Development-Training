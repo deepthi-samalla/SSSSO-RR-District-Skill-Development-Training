{
 "cells": [
  {
   "cell_type": "code",
   "execution_count": 1,
   "id": "a79e1f30",
   "metadata": {},
   "outputs": [
    {
     "ename": "ValueError",
     "evalue": "invalid literal for int() with base 10: ''",
     "output_type": "error",
     "traceback": [
      "\u001b[31m---------------------------------------------------------------------------\u001b[39m",
      "\u001b[31mValueError\u001b[39m                                Traceback (most recent call last)",
      "\u001b[36mCell\u001b[39m\u001b[36m \u001b[39m\u001b[32mIn[1]\u001b[39m\u001b[32m, line 16\u001b[39m\n\u001b[32m     14\u001b[39m \u001b[38;5;66;03m# User interaction\u001b[39;00m\n\u001b[32m     15\u001b[39m mode = \u001b[38;5;28minput\u001b[39m(\u001b[33m\"\u001b[39m\u001b[33mEncrypt or Decrypt? (e/d): \u001b[39m\u001b[33m\"\u001b[39m).lower()\n\u001b[32m---> \u001b[39m\u001b[32m16\u001b[39m shift = \u001b[38;5;28;43mint\u001b[39;49m\u001b[43m(\u001b[49m\u001b[38;5;28;43minput\u001b[39;49m\u001b[43m(\u001b[49m\u001b[33;43m\"\u001b[39;49m\u001b[33;43mEnter shift key (e.g. 3): \u001b[39;49m\u001b[33;43m\"\u001b[39;49m\u001b[43m)\u001b[49m\u001b[43m)\u001b[49m\n\u001b[32m     17\u001b[39m message = \u001b[38;5;28minput\u001b[39m(\u001b[33m\"\u001b[39m\u001b[33mEnter your message: \u001b[39m\u001b[33m\"\u001b[39m)\n\u001b[32m     19\u001b[39m output = caesar_cipher(message, shift, mode=\u001b[33m'\u001b[39m\u001b[33mencrypt\u001b[39m\u001b[33m'\u001b[39m \u001b[38;5;28;01mif\u001b[39;00m mode == \u001b[33m'\u001b[39m\u001b[33me\u001b[39m\u001b[33m'\u001b[39m \u001b[38;5;28;01melse\u001b[39;00m \u001b[33m'\u001b[39m\u001b[33mdecrypt\u001b[39m\u001b[33m'\u001b[39m)\n",
      "\u001b[31mValueError\u001b[39m: invalid literal for int() with base 10: ''"
     ]
    }
   ],
   "source": [
    "# Caesar Cipher in Jupyter Notebook\n",
    "\n",
    "def caesar_cipher(text, shift, mode='encrypt'):\n",
    "    result = ''\n",
    "    for char in text:\n",
    "        if char.isalpha():\n",
    "            base = ord('A') if char.isupper() else ord('a')\n",
    "            offset = shift if mode == 'encrypt' else -shift\n",
    "            result += chr((ord(char) - base + offset) % 26 + base)\n",
    "        else:\n",
    "            result += char\n",
    "    return result\n",
    "\n",
    "# User interaction\n",
    "mode = input(\"Encrypt or Decrypt? (e/d): \").lower()\n",
    "shift = int(input(\"Enter shift key (e.g. 3): \"))\n",
    "message = input(\"Enter your message: \")\n",
    "\n",
    "output = caesar_cipher(message, shift, mode='encrypt' if mode == 'e' else 'decrypt')\n",
    "print(f\"\\n🔐 Result: {output}\")\n"
   ]
  }
 ],
 "metadata": {
  "kernelspec": {
   "display_name": "Python 3",
   "language": "python",
   "name": "python3"
  },
  "language_info": {
   "codemirror_mode": {
    "name": "ipython",
    "version": 3
   },
   "file_extension": ".py",
   "mimetype": "text/x-python",
   "name": "python",
   "nbconvert_exporter": "python",
   "pygments_lexer": "ipython3",
   "version": "3.13.3"
  }
 },
 "nbformat": 4,
 "nbformat_minor": 5
}
