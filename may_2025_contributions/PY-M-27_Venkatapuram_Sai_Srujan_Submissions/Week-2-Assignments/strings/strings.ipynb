{
 "cells": [
  {
   "cell_type": "code",
   "execution_count": null,
   "id": "c66bc0b1",
   "metadata": {},
   "outputs": [],
   "source": [
    "#1. Write a Python program to get the first and last character of a string\n",
    "\n",
    "# Get input from the user\n",
    "user_string = input(\"Enter a string: \")\n",
    "\n",
    "# Check if the string is not empty\n",
    "if len(user_string) > 0:\n",
    "    first_char = user_string[0]\n",
    "    last_char = user_string[-1]\n",
    "    print(\"First character:\", first_char)\n",
    "    print(\"Last character:\", last_char)\n",
    "else:\n",
    "    print(\"Empty string entered.\")\n"
   ]
  },
  {
   "cell_type": "code",
   "execution_count": null,
   "id": "cc42bc3e",
   "metadata": {},
   "outputs": [],
   "source": [
    "#2. Check whether a string is palindrome or not (e.g., \"madam\").\n",
    "\n",
    "word = \"madam\"\n",
    "\n",
    "\"\"\"\n",
    "word[::-1] reverses the string.\n",
    "\n",
    "The program compares the original and reversed strings.\n",
    "\n",
    "\"\"\"\n",
    "\n",
    "# Check if the string is equal to its reverse\n",
    "if word == word[::-1]:\n",
    "    print(f'\"{word}\" is a palindrome.')\n",
    "else:\n",
    "    print(f'\"{word}\" is not a palindrome.')\n",
    "\n"
   ]
  },
  {
   "cell_type": "code",
   "execution_count": 1,
   "id": "a4c8875c",
   "metadata": {},
   "outputs": [
    {
     "name": "stdout",
     "output_type": "stream",
     "text": [
      "Hello world Hows everything going\n"
     ]
    }
   ],
   "source": [
    "#17. Remove all punctuation from a sentence (hint: use string.punctuation).\n",
    "\n",
    "import string\n",
    "\n",
    "sentence = \"Hello, world! How's everything going?\"\n",
    "no_punctuation = \"\".join(char for char in sentence if char not in string.punctuation)\n",
    "\n",
    "print(no_punctuation)\n"
   ]
  },
  {
   "cell_type": "code",
   "execution_count": null,
   "id": "cb7bb886",
   "metadata": {},
   "outputs": [],
   "source": [
    "#20. Write a function that takes a sentence and returns only the words with more than 4 letters.\n",
    "\n",
    "def words_longer_than_four(sentence):\n",
    "    words = sentence.split()\n",
    "    long_words = [word for word in words if len(word) > 4]\n",
    "    return long_words\n",
    "\n",
    "# Example usage:\n",
    "sentence = \"This sentence contains several longwords and short ones.\"\n",
    "print(words_longer_than_four(sentence))\n"
   ]
  },
  {
   "cell_type": "code",
   "execution_count": 2,
   "id": "b7bfc05a",
   "metadata": {},
   "outputs": [
    {
     "name": "stdout",
     "output_type": "stream",
     "text": [
      "Name: Sai Srujan, Age: 25, City: Hyderabad\n"
     ]
    }
   ],
   "source": [
    "#21. Create a custom string formatting function using format() and positional arguments.\n",
    "\n",
    "def format_profile(name, age, city):\n",
    "    # Using positional arguments with format()\n",
    "    return \"Name: {}, Age: {}, City: {}\".format(name, age, city)\n",
    "\n",
    "# Example usage\n",
    "formatted_string = format_profile(\"Sai Srujan\", 25, \"Hyderabad\")\n",
    "print(formatted_string)"
   ]
  },
  {
   "cell_type": "code",
   "execution_count": 3,
   "id": "046a2ff4",
   "metadata": {},
   "outputs": [
    {
     "name": "stdout",
     "output_type": "stream",
     "text": [
      "The longest word is: easy-to-learn\n"
     ]
    }
   ],
   "source": [
    "#22. Write a program to find the longest word in a sentence.\n",
    "\n",
    "sentence = \"Python is a powerful and easy-to-learn programming language\"\n",
    "\n",
    "# Split sentence into words\n",
    "words = sentence.split()\n",
    "\n",
    "# Find the longest word\n",
    "longest = max(words, key=len)\n",
    "\n",
    "# Print the result\n",
    "print(\"The longest word is:\", longest)"
   ]
  },
  {
   "cell_type": "code",
   "execution_count": 4,
   "id": "78526cb2",
   "metadata": {},
   "outputs": [
    {
     "name": "stdout",
     "output_type": "stream",
     "text": [
      "{'S': 2, 'a': 2, 'i': 1, ' ': 1, 'r': 1, 'u': 1, 'j': 1, 'n': 1}\n"
     ]
    }
   ],
   "source": [
    "#23. Count the frequency of each character in a string and display as a dictionary.\n",
    "\n",
    "text = \"Sai Srujan\"\n",
    "\n",
    "# Initialize an empty dictionary\n",
    "char_freq = {}\n",
    "\n",
    "# Loop through each character\n",
    "for char in text:\n",
    "    if char in char_freq:\n",
    "        char_freq[char] += 1\n",
    "    else:\n",
    "        char_freq[char] = 1\n",
    "\n",
    "# Print the character frequency dictionary\n",
    "print(char_freq)\n"
   ]
  },
  {
   "cell_type": "code",
   "execution_count": 5,
   "id": "29c49a51",
   "metadata": {},
   "outputs": [
    {
     "name": "stdout",
     "output_type": "stream",
     "text": [
      "Normalized: This is a test. With multiple spaces.\n"
     ]
    }
   ],
   "source": [
    "\n",
    "#25. Write a function to normalize whitespace in a string (multiple spaces to one).\n",
    "\n",
    "import re\n",
    "\n",
    "\"\"\"\n",
    "\\s+ matches any sequence of whitespace (spaces, tabs, newlines).\n",
    "\n",
    "re.sub(..., ' ') replaces those with a single space.\n",
    "\n",
    ".strip() removes any extra space at the beginning or end.\n",
    "\n",
    "\"\"\"\n",
    "\n",
    "def normalize_whitespace(text):\n",
    "    # Replace all groups of whitespace with a single space and strip leading/trailing spaces\n",
    "    return re.sub(r'\\s+', ' ', text).strip()\n",
    "\n",
    "input_text = \"This   is   a     test.\\nWith  multiple\\tspaces.\"\n",
    "normalized = normalize_whitespace(input_text)\n",
    "print(\"Normalized:\", normalized)\n",
    "\n",
    "\n",
    "\n"
   ]
  },
  {
   "cell_type": "code",
   "execution_count": 6,
   "id": "d96f0fda",
   "metadata": {},
   "outputs": [
    {
     "name": "stdout",
     "output_type": "stream",
     "text": [
      "Hash value: -1965491428718055503\n"
     ]
    }
   ],
   "source": [
    "#27. Generate a unique hash from a string using hash() and explain its use case.\n",
    "\n",
    "text = \"OpenAI\"\n",
    "\n",
    "text_hash = hash(text)\n",
    "\n",
    "print(\"Hash value:\", text_hash)\n"
   ]
  },
  {
   "cell_type": "code",
   "execution_count": 7,
   "id": "fee9ee3a",
   "metadata": {},
   "outputs": [
    {
     "name": "stdout",
     "output_type": "stream",
     "text": [
      "True\n",
      "False\n"
     ]
    }
   ],
   "source": [
    "#28. Check if one string is a rotation of another (e.g., \"abc\" and \"cab\").\n",
    "\n",
    "def is_rotation(s1, s2):\n",
    "    if len(s1) != len(s2):\n",
    "        return False\n",
    "    return s2 in (s1 + s1)\n",
    "\n",
    "# Example usage:\n",
    "print(is_rotation(\"abc\", \"cab\"))  # Output: True\n",
    "print(is_rotation(\"abc\", \"acb\"))  # Output: False\n"
   ]
  }
 ],
 "metadata": {
  "kernelspec": {
   "display_name": "base",
   "language": "python",
   "name": "python3"
  },
  "language_info": {
   "codemirror_mode": {
    "name": "ipython",
    "version": 3
   },
   "file_extension": ".py",
   "mimetype": "text/x-python",
   "name": "python",
   "nbconvert_exporter": "python",
   "pygments_lexer": "ipython3",
   "version": "3.7.6"
  }
 },
 "nbformat": 4,
 "nbformat_minor": 5
}
