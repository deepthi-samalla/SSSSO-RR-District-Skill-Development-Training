{
 "cells": [
  {
   "cell_type": "markdown",
   "id": "fa7ef13e",
   "metadata": {},
   "source": [
    "# Using Boolean Values"
   ]
  },
  {
   "cell_type": "code",
   "execution_count": 1,
   "id": "3c9d988d",
   "metadata": {},
   "outputs": [
    {
     "name": "stdout",
     "output_type": "stream",
     "text": [
      "a is True\n",
      "b is False\n"
     ]
    }
   ],
   "source": [
    "a = True\n",
    "b = False\n",
    "\n",
    "if a:\n",
    "    print(\"a is True\")\n",
    "\n",
    "if not b:\n",
    "    print(\"b is False\")"
   ]
  },
  {
   "cell_type": "markdown",
   "id": "7b3f16f8",
   "metadata": {},
   "source": [
    "# Boolean Operations"
   ]
  },
  {
   "cell_type": "code",
   "execution_count": 2,
   "id": "1090ce35",
   "metadata": {},
   "outputs": [
    {
     "name": "stdout",
     "output_type": "stream",
     "text": [
      "False\n",
      "True\n",
      "False\n"
     ]
    }
   ],
   "source": [
    "x = True\n",
    "y = False\n",
    "\n",
    "print(x and y)  # Output: False\n",
    "print(x or y)   # Output: True\n",
    "print(not x)    # Output: False"
   ]
  },
  {
   "cell_type": "markdown",
   "id": "37206b6e",
   "metadata": {},
   "source": [
    "# Best Practices with Booleans"
   ]
  },
  {
   "cell_type": "code",
   "execution_count": 4,
   "id": "db0d52c7",
   "metadata": {},
   "outputs": [
    {
     "name": "stdout",
     "output_type": "stream",
     "text": [
      "Active\n",
      "Active\n"
     ]
    }
   ],
   "source": [
    "is_active = True\n",
    "# Prefer this:\n",
    "if is_active:\n",
    "    print(\"Active\")\n",
    "\n",
    "# Over this:\n",
    "if is_active == True:\n",
    "    print(\"Active\")"
   ]
  },
  {
   "cell_type": "markdown",
   "id": "f0a22b96",
   "metadata": {},
   "source": [
    "# Example: Simple Login Check"
   ]
  },
  {
   "cell_type": "code",
   "execution_count": 7,
   "id": "8cbe291f",
   "metadata": {},
   "outputs": [
    {
     "name": "stdout",
     "output_type": "stream",
     "text": [
      "False\n",
      "Login failed.\n"
     ]
    }
   ],
   "source": [
    "username = \"user2\"\n",
    "password = \"password123\"\n",
    "\n",
    "def check_login(user, pwd):\n",
    "    is_authenticated = (user == \"user1\") and (pwd == \"password123\")\n",
    "    return is_authenticated\n",
    "\n",
    "\n",
    "print(check_login(username, password))\n",
    "if check_login(username, password):\n",
    "    print(\"Login successful!\")\n",
    "else:\n",
    "    print(\"Login failed.\")"
   ]
  },
  {
   "cell_type": "code",
   "execution_count": 9,
   "id": "ae7bb636",
   "metadata": {},
   "outputs": [],
   "source": [
    "a = [1, 2, 3]\n",
    "b = 5\n",
    "if b is a:\n",
    "    print('y')"
   ]
  },
  {
   "cell_type": "code",
   "execution_count": null,
   "id": "4cc46068",
   "metadata": {},
   "outputs": [],
   "source": []
  }
 ],
 "metadata": {
  "kernelspec": {
   "display_name": "Python 3 (ipykernel)",
   "language": "python",
   "name": "python3"
  },
  "language_info": {
   "codemirror_mode": {
    "name": "ipython",
    "version": 3
   },
   "file_extension": ".py",
   "mimetype": "text/x-python",
   "name": "python",
   "nbconvert_exporter": "python",
   "pygments_lexer": "ipython3",
   "version": "3.7.3"
  }
 },
 "nbformat": 4,
 "nbformat_minor": 5
}
