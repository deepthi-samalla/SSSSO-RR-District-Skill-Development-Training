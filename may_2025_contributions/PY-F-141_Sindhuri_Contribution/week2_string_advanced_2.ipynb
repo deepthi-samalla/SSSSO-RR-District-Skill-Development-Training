{
 "cells": [
  {
   "cell_type": "code",
   "execution_count": 2,
   "id": "f5533847-31bd-456a-8fdd-34cf8096b38c",
   "metadata": {},
   "outputs": [
    {
     "name": "stdin",
     "output_type": "stream",
     "text": [
      "Enter a string:  my name is sindhu\n",
      "Enter the length of substrings (k):  6\n"
     ]
    },
    {
     "name": "stdout",
     "output_type": "stream",
     "text": [
      "Unique substrings of length 6: {'me is ', 'ame is', ' name ', 'e is s', ' is si', 'is sin', ' sindh', 'name i', 'y name', 'my nam', 's sind', 'sindhu'}\n"
     ]
    }
   ],
   "source": [
    "def unique_substrings(s, k):\n",
    " if k > len(s) or k <= 0:\n",
    "    return set()\n",
    " substrings = set()\n",
    " for i in range(len(s) - k + 1):\n",
    "      substr = s[i:i+k]\n",
    "      substrings.add(substr)\n",
    " return substrings\n",
    "\n",
    "    \n",
    "# Example usage\n",
    "user_input = input(\"Enter a string: \")\n",
    "k = int(input(\"Enter the length of substrings (k): \"))\n",
    "result = unique_substrings(user_input, k)\n",
    "print(f\"Unique substrings of length {k}: {result}\")\n"
   ]
  },
  {
   "cell_type": "code",
   "execution_count": 7,
   "id": "097cb6ff-52d4-4dd7-b38b-c77732bd22e6",
   "metadata": {},
   "outputs": [
    {
     "name": "stdin",
     "output_type": "stream",
     "text": [
      "Enter the first string:  cat\n",
      "Enter the second string:  tca\n"
     ]
    },
    {
     "name": "stdout",
     "output_type": "stream",
     "text": [
      "\"tca\" is a rotation of \"cat\".\n"
     ]
    }
   ],
   "source": [
    "# Check if lengths are equal and s2 is a substring of s1+s1\n",
    "def is_rotation(s1, s2):\n",
    "     return len(s1) == len(s2) and s2 in (s1 + s1)\n",
    "\n",
    "# Example usage\n",
    "str1 = input(\"Enter the first string: \")\n",
    "str2 = input(\"Enter the second string: \")\n",
    "\n",
    "if is_rotation(str1, str2):\n",
    "     print(f'\"{str2}\" is a rotation of \"{str1}\".')\n",
    "else:\n",
    "     print(f'\"{str2}\" is NOT a rotation of \"{str1}\".')\n"
   ]
  },
  {
   "cell_type": "code",
   "execution_count": 15,
   "id": "c8f31cde-f223-42cc-9084-db1b39f9c6c0",
   "metadata": {},
   "outputs": [
    {
     "name": "stdin",
     "output_type": "stream",
     "text": [
      "Enter a string to compress:  aabbcc\n"
     ]
    },
    {
     "name": "stdout",
     "output_type": "stream",
     "text": [
      "Compressed string: a2b2c2\n"
     ]
    }
   ],
   "source": [
    "\n",
    "def compress_string(s):\n",
    "     if not s:\n",
    "          return \"\"\n",
    "\n",
    "     compressed = []\n",
    "     count = 1\n",
    "\n",
    "     for i in range(1, len(s)):\n",
    "          if s[i] == s[i - 1]:\n",
    "               count += 1\n",
    "          else:\n",
    "               compressed.append(s[i - 1] + str(count))\n",
    "               count = 1\n",
    "     compressed.append(s[-1] + str(count))\n",
    "\n",
    "     return ''.join(compressed)\n",
    "\n",
    "# Example usage\n",
    "user_input = input(\"Enter a string to compress: \")\n",
    "compressed_output = compress_string(user_input)\n",
    "print(f\"Compressed string: {compressed_output}\")\n"
   ]
  },
  {
   "cell_type": "code",
   "execution_count": null,
   "id": "ba39968d-2fdc-4571-9d75-16ec67927ccd",
   "metadata": {},
   "outputs": [],
   "source": [
    "\n",
    "@log_io\n",
    "def reverse_string(s):\n",
    "     return s[::-1]\n",
    "\n",
    "# Test the decorated function\n",
    "user_input = input(\"Enter a string: \")\n",
    "reversed_str = reverse_string(user_input)\n"
   ]
  },
  {
   "cell_type": "code",
   "execution_count": null,
   "id": "1120d6d7-1c9e-441b-b196-0296041017d3",
   "metadata": {},
   "outputs": [],
   "source": []
  },
  {
   "cell_type": "code",
   "execution_count": null,
   "id": "4eaa2145-c0b0-4d47-bb27-2396ac3f8829",
   "metadata": {},
   "outputs": [],
   "source": []
  },
  {
   "cell_type": "code",
   "execution_count": null,
   "id": "795e7fb4-8e2b-4947-abc6-0508b43dccad",
   "metadata": {},
   "outputs": [],
   "source": []
  }
 ],
 "metadata": {
  "kernelspec": {
   "display_name": "Python 3 (ipykernel)",
   "language": "python",
   "name": "python3"
  },
  "language_info": {
   "codemirror_mode": {
    "name": "ipython",
    "version": 3
   },
   "file_extension": ".py",
   "mimetype": "text/x-python",
   "name": "python",
   "nbconvert_exporter": "python",
   "pygments_lexer": "ipython3",
   "version": "3.12.7"
  }
 },
 "nbformat": 4,
 "nbformat_minor": 5
}
