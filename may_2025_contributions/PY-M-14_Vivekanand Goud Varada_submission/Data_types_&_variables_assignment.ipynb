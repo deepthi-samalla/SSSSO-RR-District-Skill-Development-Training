{
 "cells": [
  {
   "cell_type": "code",
   "execution_count": 22,
   "id": "d6d42a9a",
   "metadata": {},
   "outputs": [
    {
     "name": "stdout",
     "output_type": "stream",
     "text": [
      "My name is Vivekanand Goud Varada\n",
      "I am 23 years old\n",
      "My height is 5.1 feet\n"
     ]
    }
   ],
   "source": [
    "#Create a variable to store your name, age, and height. Print all three.\n",
    "my_name = \"Vivekanand Goud Varada\"\n",
    "age = 23 # in years\n",
    "height = 5.10 # in feet\n",
    "print(\"My name is\", my_name)\n",
    "print(\"I am\", age, \"years old\")\n",
    "print(\"My height is\", height, \"feet\")\n"
   ]
  },
  {
   "cell_type": "code",
   "execution_count": 25,
   "id": "b5e64305",
   "metadata": {},
   "outputs": [
    {
     "name": "stdout",
     "output_type": "stream",
     "text": [
      "<class 'int'>\n"
     ]
    }
   ],
   "source": [
    "#Assign an integer value to a variable and print its type using type().\n",
    "A = 108 \n",
    "print(type(A))"
   ]
  },
  {
   "cell_type": "code",
   "execution_count": 24,
   "id": "385a2962",
   "metadata": {},
   "outputs": [
    {
     "name": "stdout",
     "output_type": "stream",
     "text": [
      "value of V is 9.8 and its type is <class 'float'>\n",
      "value of X is (2-5j) and its type is <class 'complex'>\n"
     ]
    }
   ],
   "source": [
    "#Declare a float variable and a complex variable. Print their values and types.\n",
    "V = 9.80 # float variable\n",
    "X = 2 - 5j # complex variable\n",
    "print(\"value of V is\", V, \"and its type is\", type(V))\n",
    "print(\"value of X is\", X, \"and its type is\", type(X))\n"
   ]
  },
  {
   "cell_type": "code",
   "execution_count": 39,
   "id": "584570ed",
   "metadata": {},
   "outputs": [
    {
     "name": "stdout",
     "output_type": "stream",
     "text": [
      "We won the Toss\n"
     ]
    }
   ],
   "source": [
    "#Store a boolean value in a variable and use it in a conditional statement.\n",
    "Toss = \"heads\"  # boolean variable\n",
    "if Toss == \"heads\":\n",
    "    print(\"We won the Toss\")\n",
    "else:\n",
    "    print(\"We lost the Toss\")\n"
   ]
  },
  {
   "cell_type": "code",
   "execution_count": 48,
   "id": "9d354177",
   "metadata": {},
   "outputs": [
    {
     "name": "stdout",
     "output_type": "stream",
     "text": [
      "The result of the division is: 12.5\n"
     ]
    }
   ],
   "source": [
    "#Take two numbers as input and convert them to float before performing division.\n",
    "num1 = input(\"Enter first number: \")\n",
    "num2 = input(\"Enter second number: \")\n",
    "num1 = float(num1)\n",
    "num2 = float(num2)\n",
    "# Perform division and print the result\n",
    "result = num1 / num2\n",
    "print(\"The result of the division is:\", result)\n",
    "\n",
    "\n",
    "\n",
    "\n"
   ]
  },
  {
   "cell_type": "code",
   "execution_count": 51,
   "id": "84695e58",
   "metadata": {},
   "outputs": [
    {
     "name": "stdout",
     "output_type": "stream",
     "text": [
      "9\n"
     ]
    }
   ],
   "source": [
    "#Convert a float value to an integer and observe the result.\n",
    "gravity = 9.81 # float value\n",
    "G = int(gravity) # converting float to integer\n",
    "print(G)"
   ]
  },
  {
   "cell_type": "code",
   "execution_count": 52,
   "id": "f77c6915",
   "metadata": {},
   "outputs": [
    {
     "name": "stdout",
     "output_type": "stream",
     "text": [
      "3.0\n",
      "4.0\n"
     ]
    }
   ],
   "source": [
    "#Use the complex() function to create a complex number and print its real and imaginary parts.\n",
    "complex_number = 3 + 4j\n",
    "print(complex_number.real) # prints the real part\n",
    "print(complex_number.imag) # prints the imaginary part\n"
   ]
  },
  {
   "cell_type": "code",
   "execution_count": 54,
   "id": "9e25f86b",
   "metadata": {},
   "outputs": [
    {
     "name": "stdout",
     "output_type": "stream",
     "text": [
      "10 20.5 Hello\n"
     ]
    }
   ],
   "source": [
    "#Declare multiple variables in a single line and assign values to them.\n",
    "x, y, z = 10, 20.5, \"Hello\"\n",
    "print(x,y,z)\n"
   ]
  },
  {
   "cell_type": "code",
   "execution_count": 59,
   "id": "251be27d",
   "metadata": {},
   "outputs": [
    {
     "name": "stdout",
     "output_type": "stream",
     "text": [
      "<class 'str'>\n"
     ]
    }
   ],
   "source": [
    "#Store your city name in a variable and check if it’s of type str.\n",
    "city = \"hyderabad\"\n",
    "print(type(city))"
   ]
  },
  {
   "cell_type": "code",
   "execution_count": 64,
   "id": "f859f349",
   "metadata": {},
   "outputs": [
    {
     "name": "stdout",
     "output_type": "stream",
     "text": [
      "the square of the number is: 64\n"
     ]
    }
   ],
   "source": [
    "#Use input() to get a number from the user, convert it to int, and print the square of it.\n",
    "num1 = input(\"enter a number:\")\n",
    "num1 = int(num1) # converting input to integer\n",
    "square = num1 ** 2 # calculating square\n",
    "print(\"the square of the number is:\", square)"
   ]
  },
  {
   "cell_type": "code",
   "execution_count": null,
   "id": "d5de7cf1",
   "metadata": {},
   "outputs": [
    {
     "name": "stdout",
     "output_type": "stream",
     "text": [
      "The data type of the value you entered is: <class 'str'>\n"
     ]
    }
   ],
   "source": [
    "#advanced question\n",
    "#Write a function that accepts any number and returns its data type.\n",
    "def check_data_type_of_input(value_str):\n",
    "    \"\"\"\n",
    "    Attempts to determine the most appropriate data type for a string input.\n",
    "    \"\"\"\n",
    "    try:\n",
    "        # Try converting to int\n",
    "        return type(int(value_str))\n",
    "    except ValueError:\n",
    "        try:\n",
    "            # If not an int, try converting to float\n",
    "            return type(float(value_str))\n",
    "        except ValueError:\n",
    "            # If not a number, it's a string\n",
    "            return type(value_str)\n",
    "\n",
    "# Get input from the user\n",
    "user_input = input(\"Enter any value: \")\n",
    "\n",
    "# Determine the data type based on conversion attempts\n",
    "data_type = check_data_type_of_input(user_input)\n",
    "\n",
    "print(\"The data type of the value you entered is:\", data_type)"
   ]
  }
 ],
 "metadata": {
  "kernelspec": {
   "display_name": ".venv",
   "language": "python",
   "name": "python3"
  },
  "language_info": {
   "codemirror_mode": {
    "name": "ipython",
    "version": 3
   },
   "file_extension": ".py",
   "mimetype": "text/x-python",
   "name": "python",
   "nbconvert_exporter": "python",
   "pygments_lexer": "ipython3",
   "version": "3.13.3"
  }
 },
 "nbformat": 4,
 "nbformat_minor": 5
}
