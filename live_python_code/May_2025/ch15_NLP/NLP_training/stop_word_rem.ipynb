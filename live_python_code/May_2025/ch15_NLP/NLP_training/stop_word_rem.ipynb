{
 "cells": [
  {
   "cell_type": "code",
   "execution_count": 1,
   "id": "13820e03-eb1c-49a7-8122-63ac14b73099",
   "metadata": {},
   "outputs": [],
   "source": [
    "import nltk\n",
    "from nltk.corpus import stopwords\n",
    "from nltk.tokenize import word_tokenize\n",
    "\n",
    "stop_words = set(stopwords.words('english'))\n",
    "text = \"This is a sample sentence, showing off the stopwords filtration.\""
   ]
  },
  {
   "cell_type": "code",
   "execution_count": 2,
   "id": "6d264fb0-9549-44b3-aa66-e34417e5bdcd",
   "metadata": {},
   "outputs": [
    {
     "name": "stdout",
     "output_type": "stream",
     "text": [
      "Original: ['This', 'is', 'a', 'sample', 'sentence', ',', 'showing', 'off', 'the', 'stopwords', 'filtration', '.']\n",
      "Filtered: ['sample', 'sentence', ',', 'showing', 'stopwords', 'filtration', '.']\n"
     ]
    }
   ],
   "source": [
    "words = word_tokenize(text)\n",
    "\n",
    "filtered_sentence = [w for w in words if w.lower() not in stop_words]\n",
    "print(\"Original:\", words)\n",
    "print(\"Filtered:\", filtered_sentence)"
   ]
  },
  {
   "cell_type": "code",
   "execution_count": 4,
   "id": "eeaab848-86cc-4161-94b8-0e75ec4eaa23",
   "metadata": {},
   "outputs": [
    {
     "name": "stdout",
     "output_type": "stream",
     "text": [
      "Filtered with custom stopwords: ['sentence', ',', 'stopwords', 'filtration', '.']\n"
     ]
    }
   ],
   "source": [
    "# Example 2: Custom stopwords list\n",
    "custom_stopwords = stop_words.union({\"sample\", \"showing\"})\n",
    "filtered_custom = [w for w in words if w.lower() not in custom_stopwords]\n",
    "print(\"Filtered with custom stopwords:\", filtered_custom)"
   ]
  },
  {
   "cell_type": "code",
   "execution_count": 5,
   "id": "ba4c9a57-befc-4298-8dac-5c91c4fcf0b2",
   "metadata": {},
   "outputs": [
    {
     "name": "stdout",
     "output_type": "stream",
     "text": [
      "Number of stopwords: 5\n"
     ]
    }
   ],
   "source": [
    "# Example 3: Counting stopwords in text\n",
    "stopword_count = sum(1 for w in words if w.lower() in stop_words)\n",
    "print(\"Number of stopwords:\", stopword_count)"
   ]
  },
  {
   "cell_type": "code",
   "execution_count": 6,
   "id": "b4a07c15-7c3f-4eea-9916-b25a51bb6c99",
   "metadata": {},
   "outputs": [
    {
     "name": "stdout",
     "output_type": "stream",
     "text": [
      "Spanish stopwords sample: ['ti', 'habré', 'hayamos', 'pero', 'tuvierais', 'entre', 'donde', 'habida', 'tengáis', 'hubiéramos']\n"
     ]
    }
   ],
   "source": [
    "# Example 5: Stopwords in other languages\n",
    "spanish_stopwords = set(stopwords.words('spanish'))\n",
    "print(\"Spanish stopwords sample:\", list(spanish_stopwords)[:10])"
   ]
  },
  {
   "cell_type": "code",
   "execution_count": 7,
   "id": "336e6711-0db0-4b40-9b4b-c121d3c80327",
   "metadata": {},
   "outputs": [
    {
     "name": "stdout",
     "output_type": "stream",
     "text": [
      "'the' is stopword? True\n",
      "'Python' is stopword? False\n"
     ]
    }
   ],
   "source": [
    "# Example 6: Checking if a word is a stopword\n",
    "print(\"'the' is stopword?\", 'the' in stop_words)\n",
    "print(\"'Python' is stopword?\", 'Python' in stop_words)"
   ]
  },
  {
   "cell_type": "code",
   "execution_count": null,
   "id": "f46051cf-6987-48bb-8349-7d001c89d616",
   "metadata": {},
   "outputs": [],
   "source": []
  }
 ],
 "metadata": {
  "kernelspec": {
   "display_name": "Python 3 (ipykernel)",
   "language": "python",
   "name": "python3"
  },
  "language_info": {
   "codemirror_mode": {
    "name": "ipython",
    "version": 3
   },
   "file_extension": ".py",
   "mimetype": "text/x-python",
   "name": "python",
   "nbconvert_exporter": "python",
   "pygments_lexer": "ipython3",
   "version": "3.13.5"
  }
 },
 "nbformat": 4,
 "nbformat_minor": 5
}
