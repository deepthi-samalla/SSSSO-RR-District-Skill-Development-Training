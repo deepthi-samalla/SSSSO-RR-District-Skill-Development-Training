{
 "cells": [
  {
   "cell_type": "code",
   "execution_count": 1,
   "id": "21840885-95e6-43f2-b298-9455b866c7ac",
   "metadata": {},
   "outputs": [
    {
     "name": "stdout",
     "output_type": "stream",
     "text": [
      "Defaulting to user installation because normal site-packages is not writeable\n",
      "Requirement already satisfied: flask in c:\\programdata\\anaconda3\\lib\\site-packages (3.0.3)\n",
      "Requirement already satisfied: nest_asyncio in c:\\programdata\\anaconda3\\lib\\site-packages (1.6.0)\n",
      "Requirement already satisfied: Werkzeug>=3.0.0 in c:\\programdata\\anaconda3\\lib\\site-packages (from flask) (3.0.3)\n",
      "Requirement already satisfied: Jinja2>=3.1.2 in c:\\programdata\\anaconda3\\lib\\site-packages (from flask) (3.1.4)\n",
      "Requirement already satisfied: itsdangerous>=2.1.2 in c:\\programdata\\anaconda3\\lib\\site-packages (from flask) (2.2.0)\n",
      "Requirement already satisfied: click>=8.1.3 in c:\\programdata\\anaconda3\\lib\\site-packages (from flask) (8.1.7)\n",
      "Requirement already satisfied: blinker>=1.6.2 in c:\\programdata\\anaconda3\\lib\\site-packages (from flask) (1.6.2)\n",
      "Requirement already satisfied: colorama in c:\\programdata\\anaconda3\\lib\\site-packages (from click>=8.1.3->flask) (0.4.6)\n",
      "Requirement already satisfied: MarkupSafe>=2.0 in c:\\programdata\\anaconda3\\lib\\site-packages (from Jinja2>=3.1.2->flask) (2.1.3)\n"
     ]
    }
   ],
   "source": [
    "!pip install flask nest_asyncio"
   ]
  },
  {
   "cell_type": "code",
   "execution_count": 2,
   "id": "8d05c8ed-f051-4d42-925e-33de1427a1ac",
   "metadata": {},
   "outputs": [
    {
     "name": "stdout",
     "output_type": "stream",
     "text": [
      " * Serving Flask app '__main__'\n",
      " * Debug mode: off\n"
     ]
    },
    {
     "name": "stderr",
     "output_type": "stream",
     "text": [
      "WARNING: This is a development server. Do not use it in a production deployment. Use a production WSGI server instead.\n",
      " * Running on http://127.0.0.1:5000\n",
      "Press CTRL+C to quit\n",
      "127.0.0.1 - - [08/Aug/2025 21:45:00] \"GET / HTTP/1.1\" 200 -\n",
      "127.0.0.1 - - [08/Aug/2025 21:45:01] \"GET /favicon.ico HTTP/1.1\" 404 -\n"
     ]
    }
   ],
   "source": [
    "from flask import Flask, render_template_string, request\n",
    "import nest_asyncio\n",
    "import threading\n",
    "\n",
    "# Allow Flask to run within Jupyter Notebook\n",
    "nest_asyncio.apply()\n",
    "\n",
    "# Define the Flask app\n",
    "app = Flask(__name__)\n",
    "\n",
    "# Exchange rates (base: USD)\n",
    "EXCHANGE_RATES = {\n",
    "    'USD': 1.0,\n",
    "    'EUR': 0.93,\n",
    "    'INR': 83.2,\n",
    "    'GBP': 0.78,\n",
    "    'JPY': 141.1\n",
    "}\n",
    "\n",
    "# HTML template as a string\n",
    "HTML_TEMPLATE = \"\"\"\n",
    "<!DOCTYPE html>\n",
    "<html>\n",
    "<head>\n",
    "    <title>Currency Converter</title>\n",
    "    <style>\n",
    "        body { font-family: Arial; background-color: #f0f0f0; text-align: center; padding-top: 50px; }\n",
    "        input, select, button { padding: 10px; margin: 10px; width: 220px; }\n",
    "        button { background-color: #008CBA; color: white; border: none; }\n",
    "    </style>\n",
    "</head>\n",
    "<body>\n",
    "    <h1>Currency Converter</h1>\n",
    "    <form method=\"POST\">\n",
    "        <input type=\"text\" name=\"amount\" placeholder=\"Enter amount\" required><br>\n",
    "        <select name=\"from_currency\">\n",
    "            {% for currency in currencies %}\n",
    "                <option value=\"{{ currency }}\">{{ currency }}</option>\n",
    "            {% endfor %}\n",
    "        </select>\n",
    "        to\n",
    "        <select name=\"to_currency\">\n",
    "            {% for currency in currencies %}\n",
    "                <option value=\"{{ currency }}\">{{ currency }}</option>\n",
    "            {% endfor %}\n",
    "        </select><br>\n",
    "        <button type=\"submit\">Convert</button>\n",
    "    </form>\n",
    "\n",
    "    {% if result %}\n",
    "        <h2>{{ result }}</h2>\n",
    "    {% elif error %}\n",
    "        <h2 style=\"color:red;\">{{ error }}</h2>\n",
    "    {% endif %}\n",
    "</body>\n",
    "</html>\n",
    "\"\"\"\n",
    "\n",
    "# Route handler\n",
    "@app.route('/', methods=['GET', 'POST'])\n",
    "def index():\n",
    "    result = None\n",
    "    error = None\n",
    "    currencies = EXCHANGE_RATES.keys()\n",
    "\n",
    "    if request.method == 'POST':\n",
    "        try:\n",
    "            amount = float(request.form['amount'])\n",
    "            from_currency = request.form['from_currency']\n",
    "            to_currency = request.form['to_currency']\n",
    "\n",
    "            if from_currency not in EXCHANGE_RATES or to_currency not in EXCHANGE_RATES:\n",
    "                error = \"Invalid currency selection.\"\n",
    "            else:\n",
    "                usd_amount = amount / EXCHANGE_RATES[from_currency]\n",
    "                converted = usd_amount * EXCHANGE_RATES[to_currency]\n",
    "                result = f\"{amount} {from_currency} = {round(converted, 2)} {to_currency}\"\n",
    "        except ValueError:\n",
    "            error = \"Please enter a valid number.\"\n",
    "\n",
    "    return render_template_string(HTML_TEMPLATE, currencies=currencies, result=result, error=error)\n",
    "\n",
    "# Run Flask app in separate thread so Jupyter doesn’t block\n",
    "def run_app():\n",
    "    app.run(port=5000)\n",
    "\n",
    "thread = threading.Thread(target=run_app)\n",
    "thread.start()\n"
   ]
  },
  {
   "cell_type": "code",
   "execution_count": null,
   "id": "c74dca96-7e1b-4b3d-8db1-11c6ab016df8",
   "metadata": {},
   "outputs": [],
   "source": []
  }
 ],
 "metadata": {
  "kernelspec": {
   "display_name": "Python 3 (ipykernel)",
   "language": "python",
   "name": "python3"
  },
  "language_info": {
   "codemirror_mode": {
    "name": "ipython",
    "version": 3
   },
   "file_extension": ".py",
   "mimetype": "text/x-python",
   "name": "python",
   "nbconvert_exporter": "python",
   "pygments_lexer": "ipython3",
   "version": "3.12.7"
  }
 },
 "nbformat": 4,
 "nbformat_minor": 5
}
