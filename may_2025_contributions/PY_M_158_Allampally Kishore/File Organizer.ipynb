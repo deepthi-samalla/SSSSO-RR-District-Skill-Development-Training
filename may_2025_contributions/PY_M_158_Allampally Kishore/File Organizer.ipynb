{
 "cells": [
  {
   "cell_type": "code",
   "execution_count": null,
   "id": "86478813",
   "metadata": {},
   "outputs": [],
   "source": []
  },
  {
   "cell_type": "code",
   "execution_count": 1,
   "id": "4cee38d4",
   "metadata": {},
   "outputs": [
    {
     "name": "stdout",
     "output_type": "stream",
     "text": [
      "Moved: 1.py → Scripts\n",
      "Moved: Address book.ipynb → Others\n",
      "Moved: Age Calculater.ipynb → Others\n",
      "Moved: ASCII ART GENERATOR.ipynb → Others\n",
      "Moved: ASCIIArt.py → Scripts\n",
      "Moved: Assinments.ipynb → Others\n",
      "Moved: BMI Calculater.ipynb → Others\n",
      "Moved: Caesar Cipher .ipynb → Others\n",
      "Moved: Calendar Display.ipynb → Others\n",
      "Moved: Coin Toss Simulator.ipynb → Others\n",
      "Moved: contacts.json → Others\n",
      "Moved: Currency Converter (Simple).ipynb → Others\n",
      "Moved: Dice Roll Simulator.ipynb → Others\n",
      "Moved: duckdb.ipynb → Others\n",
      "Moved: Expence Tracker.ipynb → Others\n",
      "Moved: expenses.csv → Others\n",
      "Moved: File Organizer.ipynb → Others\n",
      "Moved: Sample.txt → Docs\n"
     ]
    }
   ],
   "source": [
    "import os\n",
    "from pathlib import Path\n",
    "import shutil\n",
    "\n",
    "# Define file type mapping\n",
    "file_types = {\n",
    "    'Images': ['.jpg', '.jpeg', '.png', '.gif'],\n",
    "    'Docs': ['.pdf', '.docx', '.txt', '.xlsx'],\n",
    "    'Audio': ['.mp3', '.wav'],\n",
    "    'Video': ['.mp4', '.mov'],\n",
    "    'Archives': ['.zip', '.rar'],\n",
    "    'Scripts': ['.py', '.js', '.html', '.css']\n",
    "}\n",
    "\n",
    "# Target directory (can be customized)\n",
    "target_dir = Path.cwd()\n",
    "\n",
    "# Organize files\n",
    "for item in os.scandir(target_dir):\n",
    "    if item.is_file():\n",
    "        file_ext = Path(item.name).suffix.lower()\n",
    "        moved = False\n",
    "        for folder, extensions in file_types.items():\n",
    "            if file_ext in extensions:\n",
    "                dest_folder = target_dir / folder\n",
    "                dest_folder.mkdir(exist_ok=True)\n",
    "                shutil.move(item.path, dest_folder / item.name)\n",
    "                print(f\"Moved: {item.name} → {folder}\")\n",
    "                moved = True\n",
    "                break\n",
    "        if not moved:\n",
    "            other_folder = target_dir / 'Others'\n",
    "            other_folder.mkdir(exist_ok=True)\n",
    "            shutil.move(item.path, other_folder / item.name)\n",
    "            print(f\"Moved: {item.name} → Others\")\n"
   ]
  }
 ],
 "metadata": {
  "kernelspec": {
   "display_name": "Python 3",
   "language": "python",
   "name": "python3"
  },
  "language_info": {
   "codemirror_mode": {
    "name": "ipython",
    "version": 3
   },
   "file_extension": ".py",
   "mimetype": "text/x-python",
   "name": "python",
   "nbconvert_exporter": "python",
   "pygments_lexer": "ipython3",
   "version": "3.13.3"
  }
 },
 "nbformat": 4,
 "nbformat_minor": 5
}
