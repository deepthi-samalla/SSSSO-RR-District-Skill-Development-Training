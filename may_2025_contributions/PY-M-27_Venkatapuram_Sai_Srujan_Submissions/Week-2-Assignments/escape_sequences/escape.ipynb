{
 "cells": [
  {
   "cell_type": "code",
   "execution_count": 15,
   "id": "12e76145",
   "metadata": {},
   "outputs": [
    {
     "name": "stdout",
     "output_type": "stream",
     "text": [
      "Escape sequences found:\n",
      "\\n: 2\n",
      "\\t: 1\n",
      "\\r: 1\n",
      "\\\\: 1\n",
      "\\\": 1\n",
      "\n",
      "Total escape sequences: 6\n"
     ]
    }
   ],
   "source": [
    "#29. Write a program that counts the number of escape sequences in a given string and outputs their types.\n",
    "import re\n",
    "from collections import Counter\n",
    "\n",
    "def count_escape_sequences(s):\n",
    "    # Match common escape sequences (2-char only)\n",
    "    escape_pattern = r'\\\\[abfnrtv\\'\"\\\\]'  # basic common escape sequences\n",
    "    matches = re.findall(escape_pattern, s)\n",
    "\n",
    "    counter = Counter(matches)\n",
    "\n",
    "    print(\"Escape sequences found:\")\n",
    "    for seq, count in counter.items():\n",
    "        print(f\"{seq}: {count}\")\n",
    "    print(f\"\\nTotal escape sequences: {sum(counter.values())}\")\n",
    "\n",
    "# Example input string with escapes\n",
    "test_string = \"Line1\\\\nLine2\\\\tTabbed\\\\nNew\\\\rCarriage\\\\\\\\Backslash\\\\\\\"Quote\"\n",
    "\n",
    "count_escape_sequences(test_string)\n"
   ]
  },
  {
   "cell_type": "code",
   "execution_count": 16,
   "id": "fe469c32",
   "metadata": {},
   "outputs": [
    {
     "name": "stdout",
     "output_type": "stream",
     "text": [
      "Line 1:\tThis is the first line.\n",
      "Line 2:\tThis is the second line.\n",
      "Line 3:\tAnd this is the third line.\n"
     ]
    }
   ],
   "source": [
    "#22. Create a function that takes a multiline string and prints each line prefixed with a line number using escape sequences.\n",
    "\n",
    "def print_with_line_numbers(multiline_text):\n",
    "    lines = multiline_text.splitlines()  # Split into lines\n",
    "    for i, line in enumerate(lines, start=1):\n",
    "        print(f\"Line {i}:\\t{line}\")\n",
    "\n",
    "# Example usage\n",
    "text = \"\"\"This is the first line.\n",
    "This is the second line.\n",
    "And this is the third line.\"\"\"\n",
    "\n",
    "print_with_line_numbers(text)\n"
   ]
  },
  {
   "cell_type": "code",
   "execution_count": 18,
   "id": "9ef937c8",
   "metadata": {},
   "outputs": [
    {
     "name": "stdout",
     "output_type": "stream",
     "text": [
      "Text: The path is C:\\Users\\Name\\Documents\n",
      "Pattern used: \\\\\n",
      "Number of backslashes found: 3\n"
     ]
    }
   ],
   "source": [
    "#24. Write code that demonstrates how to escape backslashes correctly in regular expressions within strings\n",
    "\n",
    "import re\n",
    "\n",
    "# Example string\n",
    "text = \"The path is C:\\\\Users\\\\Name\\\\Documents\"\n",
    "\n",
    "\n",
    "# Pattern to find a literal backslash (\\)   \n",
    "# We need to use four backslashes: \\\\\\\\\n",
    "# - \"\\\\\" in Python becomes \"\\\" (a literal backslash)\n",
    "# - So \"\\\\\\\\\" in Python becomes \"\\\\\" in regex, which matches a literal backslash\n",
    "\n",
    "pattern = r\"\\\\\"\n",
    "\n",
    "matches = re.findall(pattern, text)\n",
    "\n",
    "print(f\"Text: {text}\")\n",
    "print(f\"Pattern used: {pattern}\")\n",
    "print(f\"Number of backslashes found: {len(matches)}\")\n"
   ]
  },
  {
   "cell_type": "code",
   "execution_count": 19,
   "id": "e5ed6af5",
   "metadata": {},
   "outputs": [
    {
     "name": "stdout",
     "output_type": "stream",
     "text": [
      "Regular String Output:\n",
      "Line1\n",
      "Line2\tTabbed\n",
      "\n",
      "Raw String Output:\n",
      "Line1\\nLine2\\tTabbed\n"
     ]
    }
   ],
   "source": [
    "#15. Demonstrate the difference between printing a string with and without escape sequences using raw strings (prefix r).\n",
    "\n",
    "# Regular string with escape sequences\n",
    "regular_string = \"Line1\\nLine2\\tTabbed\"\n",
    "\n",
    "# Raw string (no escape sequences are processed)\n",
    "raw_string = r\"Line1\\nLine2\\tTabbed\"\n",
    "\n",
    "print(\"Regular String Output:\")\n",
    "print(regular_string)\n",
    "\n",
    "print(\"\\nRaw String Output:\")\n",
    "print(raw_string)\n"
   ]
  },
  {
   "cell_type": "code",
   "execution_count": 20,
   "id": "9112b57d",
   "metadata": {},
   "outputs": [
    {
     "name": "stdout",
     "output_type": "stream",
     "text": [
      "Progress: [####################] 100%\n",
      "Done!\n"
     ]
    }
   ],
   "source": [
    "#16. Write a program that prints a progress bar animation using carriage return \\r.\n",
    "\n",
    "import time\n",
    "import sys\n",
    "\n",
    "def progress_bar(total=20, delay=0.1):\n",
    "    for i in range(total + 1):\n",
    "        percent = int((i / total) * 100)\n",
    "        bar = '#' * i + '-' * (total - i)\n",
    "        sys.stdout.write(f\"\\rProgress: [{bar}] {percent}%\")\n",
    "        sys.stdout.flush()\n",
    "        time.sleep(delay)\n",
    "    print(\"\\nDone!\")\n",
    "\n",
    "# Run the progress bar\n",
    "progress_bar()\n"
   ]
  },
  {
   "cell_type": "code",
   "execution_count": null,
   "id": "6ae76b81",
   "metadata": {},
   "outputs": [],
   "source": [
    "#26. Create a program that logs errors by printing error messages with a beep sound \\a and formatting using tabs and newlines.\n",
    "\n",
    "import time\n",
    "\n",
    "def log_error(error_code, message):\n",
    "    # \\a = bell sound, \\t = tab, \\n = newline\n",
    "    formatted_error = f\"\\a[ERROR]\\n\\tCode:\\t{error_code}\\n\\tMessage:\\t{message}\\n\"\n",
    "    print(formatted_error)\n",
    "\n",
    "# Simulate some error events\n",
    "errors = [\n",
    "    (101, \"File not found.\"),\n",
    "    (202, \"Connection timeout.\"),\n",
    "    (303, \"Access denied.\"),\n",
    "    (404, \"Resource unavailable.\"),\n",
    "]\n",
    "\n",
    "# Log each error with a delay\n",
    "for code, msg in errors:\n",
    "    log_error(code, msg)\n",
    "    time.sleep(1)  # Pause to simulate log time\n"
   ]
  }
 ],
 "metadata": {
  "kernelspec": {
   "display_name": "base",
   "language": "python",
   "name": "python3"
  },
  "language_info": {
   "codemirror_mode": {
    "name": "ipython",
    "version": 3
   },
   "file_extension": ".py",
   "mimetype": "text/x-python",
   "name": "python",
   "nbconvert_exporter": "python",
   "pygments_lexer": "ipython3",
   "version": "3.7.6"
  }
 },
 "nbformat": 4,
 "nbformat_minor": 5
}
