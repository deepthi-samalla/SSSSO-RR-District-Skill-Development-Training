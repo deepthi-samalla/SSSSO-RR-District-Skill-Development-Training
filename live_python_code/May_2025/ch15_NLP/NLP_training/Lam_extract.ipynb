{
 "cells": [
  {
   "cell_type": "code",
   "execution_count": 1,
   "id": "936345dd-2a74-4bcf-b782-2071bfe8d2db",
   "metadata": {},
   "outputs": [
    {
     "name": "stdout",
     "output_type": "stream",
     "text": [
      "['running', 'run', 'runner', 'better', 'cat', 'study', 'wolf', 'wa', 'goose']\n"
     ]
    }
   ],
   "source": [
    "from nltk.stem import WordNetLemmatizer\n",
    "from nltk.corpus import wordnet\n",
    "\n",
    "lemmatizer = WordNetLemmatizer()\n",
    "\n",
    "words = [\"running\", \"runs\", \"runner\", \"better\", \"cats\", \"studies\", \"wolves\", \"was\", \"geese\"]\n",
    "\n",
    "# Example 1: Lemmatize without POS (default noun)\n",
    "print([lemmatizer.lemmatize(word) for word in words])"
   ]
  },
  {
   "cell_type": "code",
   "execution_count": 2,
   "id": "22ab7358-00e5-4b88-ba03-c41f05348f72",
   "metadata": {},
   "outputs": [
    {
     "name": "stdout",
     "output_type": "stream",
     "text": [
      "['run', 'run', 'runner', 'better', 'cat', 'study', 'wolves', 'be', 'geese']\n"
     ]
    }
   ],
   "source": [
    "# Example 2: Lemmatize as verb\n",
    "print([lemmatizer.lemmatize(word, pos='v') for word in words])"
   ]
  },
  {
   "cell_type": "code",
   "execution_count": 3,
   "id": "afba2ab4-3667-4671-b278-c7e7a5c2145e",
   "metadata": {},
   "outputs": [
    {
     "name": "stdout",
     "output_type": "stream",
     "text": [
      "wolf\n",
      "goose\n"
     ]
    }
   ],
   "source": [
    "# Example 5: Lemmatize plural nouns\n",
    "print(lemmatizer.lemmatize(\"wolves\"))\n",
    "print(lemmatizer.lemmatize(\"geese\"))"
   ]
  },
  {
   "cell_type": "code",
   "execution_count": 4,
   "id": "a3a72d0b-8963-4f06-baf8-16aef452e328",
   "metadata": {},
   "outputs": [
    {
     "name": "stdout",
     "output_type": "stream",
     "text": [
      "['The', 'cat', 'be', 'run', 'fast']\n"
     ]
    }
   ],
   "source": [
    "# Example 6: Lemmatize with context (sentence)\n",
    "sentence = [\"The\", \"cats\", \"are\", \"running\", \"fast\"]\n",
    "print([lemmatizer.lemmatize(word, pos='v') if word in [\"running\", \"are\"] else lemmatizer.lemmatize(word) for word in sentence])"
   ]
  },
  {
   "cell_type": "code",
   "execution_count": 5,
   "id": "9906b340-fabe-4bc3-a532-1905a5d9bfff",
   "metadata": {},
   "outputs": [
    {
     "name": "stdout",
     "output_type": "stream",
     "text": [
      "fast\n",
      "fast\n"
     ]
    }
   ],
   "source": [
    "# Example 8: Lemmatize adjectives\n",
    "print(lemmatizer.lemmatize(\"faster\", pos='a'))\n",
    "print(lemmatizer.lemmatize(\"fastest\", pos='a'))"
   ]
  },
  {
   "cell_type": "code",
   "execution_count": 6,
   "id": "19856f53-cedb-4908-a936-3445dcb2d8ca",
   "metadata": {},
   "outputs": [
    {
     "name": "stdout",
     "output_type": "stream",
     "text": [
      "happiness\n"
     ]
    }
   ],
   "source": [
    "# Example 9: Lemmatize words with suffixes\n",
    "print(lemmatizer.lemmatize(\"happiness\", pos='n'))"
   ]
  },
  {
   "cell_type": "code",
   "execution_count": 7,
   "id": "97fcf912-a75b-41c3-933d-0308636e005d",
   "metadata": {},
   "outputs": [
    {
     "name": "stdout",
     "output_type": "stream",
     "text": [
      "multiuser\n"
     ]
    }
   ],
   "source": [
    "# Example 10: Lemmatize compound words (no change)\n",
    "print(lemmatizer.lemmatize(\"multiuser\"))"
   ]
  },
  {
   "cell_type": "code",
   "execution_count": null,
   "id": "cf29e6a0-2e8f-44ae-8a40-178a2d6cabc2",
   "metadata": {},
   "outputs": [],
   "source": []
  }
 ],
 "metadata": {
  "kernelspec": {
   "display_name": "Python 3 (ipykernel)",
   "language": "python",
   "name": "python3"
  },
  "language_info": {
   "codemirror_mode": {
    "name": "ipython",
    "version": 3
   },
   "file_extension": ".py",
   "mimetype": "text/x-python",
   "name": "python",
   "nbconvert_exporter": "python",
   "pygments_lexer": "ipython3",
   "version": "3.13.5"
  }
 },
 "nbformat": 4,
 "nbformat_minor": 5
}
