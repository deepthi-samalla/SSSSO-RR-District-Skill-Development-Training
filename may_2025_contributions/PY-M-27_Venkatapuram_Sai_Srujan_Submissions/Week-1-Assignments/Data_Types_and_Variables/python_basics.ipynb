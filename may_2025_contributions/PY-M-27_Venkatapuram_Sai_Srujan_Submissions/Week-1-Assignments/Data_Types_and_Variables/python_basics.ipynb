{
 "cells": [
  {
   "cell_type": "code",
   "execution_count": 5,
   "id": "5b26c004",
   "metadata": {},
   "outputs": [
    {
     "name": "stdout",
     "output_type": "stream",
     "text": [
      "Sai Srujan\n",
      "25\n"
     ]
    }
   ],
   "source": [
    "# 1. Write a Python program that prints your name and age on separate lines.\n",
    "print(\"Sai Srujan\\n25\")\n",
    "\n",
    "\n",
    "#2. Add comments to explain what your program does in Question 1\n",
    "\n",
    "# Here, In the above program \\n is an escape sequence in Python that represents a newline character.\n",
    "# So, by adding \\n after the name, the age will be displayed on new line\n"
   ]
  },
  {
   "cell_type": "code",
   "execution_count": 6,
   "id": "721b635f",
   "metadata": {},
   "outputs": [
    {
     "name": "stdout",
     "output_type": "stream",
     "text": [
      "Current Year: 2025\n",
      "Expected Graduation Year: 2027\n"
     ]
    }
   ],
   "source": [
    "\n",
    "#13. Write a script that prints the current year and your expected graduation year using variables.\n",
    "from datetime import datetime\n",
    "\n",
    "# Get the current year using datetime\n",
    "current_year = datetime.now().year\n",
    "\n",
    "graduation_year = 2027 \n",
    "\n",
    "print(f\"Current Year: {current_year}\")\n",
    "print(f\"Expected Graduation Year: {graduation_year}\")\n"
   ]
  },
  {
   "cell_type": "code",
   "execution_count": 7,
   "id": "c235f34c",
   "metadata": {},
   "outputs": [
    {
     "name": "stdout",
     "output_type": "stream",
     "text": [
      "My name is Sai Srujan, I study in the Automotive Electronics department at BITS-Pilani.\n"
     ]
    }
   ],
   "source": [
    "#15. Print a formatted string showing your name, department, and college using f-strings.\n",
    "name = \"Sai Srujan\"\n",
    "department = \"Automotive Electronics\"\n",
    "college = \"BITS-Pilani\"\n",
    "\n",
    "print(f\"My name is {name}, I study in the {department} department at {college}.\")\n"
   ]
  },
  {
   "cell_type": "code",
   "execution_count": 8,
   "id": "87513984",
   "metadata": {},
   "outputs": [
    {
     "name": "stdout",
     "output_type": "stream",
     "text": [
      "Hello!\n"
     ]
    }
   ],
   "source": [
    "#16. Write a program that uses indentation correctly to define a function that prints \"Hello!\".\n",
    "\n",
    "def say_hello():\n",
    "    print(\"Hello!\")\n",
    "\n",
    "say_hello()\n"
   ]
  },
  {
   "cell_type": "code",
   "execution_count": 9,
   "id": "536e98da",
   "metadata": {},
   "outputs": [
    {
     "name": "stdout",
     "output_type": "stream",
     "text": [
      "Hello, Sai Srujan!\n",
      "Always think of the Lord\n"
     ]
    }
   ],
   "source": [
    "\n",
    "#19 Write a script that contains incorrect indentation. Then correct it and explain the changes.\n",
    "\n",
    "#Incorrect Indentation Example:\n",
    "\"\"\"\n",
    "def greet(name):\n",
    "print(f\"Hello, {name}!\")\n",
    "  print(\"Welcome to the Python world.\")\n",
    "\n",
    "greet(\"Alice\")\n",
    "\"\"\"\n",
    "\n",
    "#Corrected Version:\n",
    "\n",
    "def greet(name):\n",
    "    print(f\"Hello, {name}!\")\n",
    "    print(\"Always think of the Lord\")\n",
    "\n",
    "greet(\"Sai Srujan\")"
   ]
  },
  {
   "cell_type": "code",
   "execution_count": 10,
   "id": "bf294309",
   "metadata": {},
   "outputs": [
    {
     "name": "stdout",
     "output_type": "stream",
     "text": [
      "Hello\n",
      "World\n",
      "HelloWorld\n"
     ]
    }
   ],
   "source": [
    "#20. Compare and demonstrate how print behaves with and without end-line characters (end=\"\").\n",
    "\n",
    "#Without end-line\n",
    "print(\"Hello\")\n",
    "print(\"World\")\n",
    "\n",
    "#With end-line\n",
    "print(\"Hello\", end=\"\")\n",
    "print(\"World\")\n"
   ]
  },
  {
   "cell_type": "code",
   "execution_count": 11,
   "id": "ffd19be6",
   "metadata": {},
   "outputs": [
    {
     "name": "stdout",
     "output_type": "stream",
     "text": [
      "You are an adult.\n"
     ]
    }
   ],
   "source": [
    "\n",
    "#24. Use indentation to structure a decision tree using if-elif-else blocks clearly.\n",
    "\n",
    "age = 25\n",
    "\n",
    "if age < 0 or age > 150:\n",
    "    print(\"Invalid age. Please enter an age between 0 and 150.\")\n",
    "elif age < 13:\n",
    "    print(\"You are a child.\")\n",
    "elif 13 <= age < 20:\n",
    "    print(\"You are a teenager.\")\n",
    "elif 20 <= age < 60:\n",
    "    print(\"You are an adult.\")\n",
    "else:\n",
    "    print(\"You are a senior.\")\n"
   ]
  },
  {
   "cell_type": "code",
   "execution_count": 12,
   "id": "adf99f92",
   "metadata": {},
   "outputs": [
    {
     "name": "stdout",
     "output_type": "stream",
     "text": [
      "Access granted.\n"
     ]
    }
   ],
   "source": [
    "\n",
    "#25. Use the continuation character in an if-statement condition spanning multiple lines.\n",
    "\n",
    "age_n = 25\n",
    "has_id = True\n",
    "is_member = True\n",
    "\n",
    "if age_n >= 18 and has_id == True and \\\n",
    "   is_member == True:\n",
    "    print(\"Access granted.\")\n",
    "else:\n",
    "    print(\"Access denied.\")"
   ]
  },
  {
   "cell_type": "code",
   "execution_count": null,
   "id": "783a1220",
   "metadata": {},
   "outputs": [],
   "source": [
    "#26. Create a script with nested loops and use proper indentation to maintain clarity.\n",
    "\n",
    "for i in range(1, 4):         # Outer loop runs from 1 to 3\n",
    "    print(f\"Outer loop iteration {i}:\")\n",
    "    \n",
    "    for j in range(1, 4):     # Inner loop runs from 1 to 3\n",
    "        print(f\"  Inner loop iteration {j}\")\n",
    "    \n",
    "    print() # Blank line for better readability between outer loop iterations\n"
   ]
  }
 ],
 "metadata": {
  "kernelspec": {
   "display_name": "base",
   "language": "python",
   "name": "python3"
  },
  "language_info": {
   "codemirror_mode": {
    "name": "ipython",
    "version": 3
   },
   "file_extension": ".py",
   "mimetype": "text/x-python",
   "name": "python",
   "nbconvert_exporter": "python",
   "pygments_lexer": "ipython3",
   "version": "3.7.6"
  }
 },
 "nbformat": 4,
 "nbformat_minor": 5
}
