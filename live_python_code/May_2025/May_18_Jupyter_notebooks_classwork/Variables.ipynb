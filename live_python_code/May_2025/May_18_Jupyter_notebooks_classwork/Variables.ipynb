{
 "cells": [
  {
   "cell_type": "markdown",
   "id": "75e46ef9",
   "metadata": {},
   "source": [
    "# Variable Assignment"
   ]
  },
  {
   "cell_type": "code",
   "execution_count": 1,
   "id": "99879865",
   "metadata": {},
   "outputs": [],
   "source": [
    "x = 10\n",
    "name = \"Sai\"\n",
    "is_active = True"
   ]
  },
  {
   "cell_type": "markdown",
   "id": "afa5dc77",
   "metadata": {},
   "source": [
    "# Dynamic Typing"
   ]
  },
  {
   "cell_type": "code",
   "execution_count": 2,
   "id": "f76a6902",
   "metadata": {},
   "outputs": [],
   "source": [
    "x = 10        # integer\n",
    "x = \"Hello\"   # now a string"
   ]
  },
  {
   "cell_type": "markdown",
   "id": "2f5b15bd",
   "metadata": {},
   "source": [
    "# Multiple Assignment"
   ]
  },
  {
   "cell_type": "code",
   "execution_count": 24,
   "id": "9662f1b4",
   "metadata": {},
   "outputs": [
    {
     "name": "stdout",
     "output_type": "stream",
     "text": [
      "1 2 3 Sai 27\n"
     ]
    }
   ],
   "source": [
    "a, b, c = 1, 2, 3\n",
    "name, age = \"Sai\", 27\n",
    "print(a, b, c,name, age )"
   ]
  },
  {
   "cell_type": "markdown",
   "id": "62608b5a",
   "metadata": {},
   "source": [
    "# Constants"
   ]
  },
  {
   "cell_type": "code",
   "execution_count": 4,
   "id": "a81bf040",
   "metadata": {},
   "outputs": [],
   "source": [
    "PI = 3.14159\n",
    "MAX_CONNECTIONS = 10"
   ]
  },
  {
   "cell_type": "code",
   "execution_count": 5,
   "id": "e431ad5e",
   "metadata": {},
   "outputs": [],
   "source": [
    "total = 1 + 2 + 3 + \\\n",
    "        4 + 5 + 6"
   ]
  },
  {
   "cell_type": "code",
   "execution_count": 6,
   "id": "8d421787",
   "metadata": {},
   "outputs": [
    {
     "data": {
      "text/plain": [
       "21"
      ]
     },
     "execution_count": 6,
     "metadata": {},
     "output_type": "execute_result"
    }
   ],
   "source": [
    "total"
   ]
  },
  {
   "cell_type": "code",
   "execution_count": 14,
   "id": "f8eef6b0",
   "metadata": {},
   "outputs": [
    {
     "name": "stdout",
     "output_type": "stream",
     "text": [
      "3\n",
      "1\n",
      "2\n",
      "3\n"
     ]
    }
   ],
   "source": [
    "l = [a,b,c]\n",
    "print(len(l))\n",
    "#range(5)\n",
    "for i in range(len(l)):\n",
    "    print(l[i])"
   ]
  },
  {
   "cell_type": "code",
   "execution_count": 15,
   "id": "8cf163a5",
   "metadata": {},
   "outputs": [],
   "source": [
    "student = {\n",
    "    \"name\": \"Alice\",\n",
    "    \"age\": 21,\n",
    "    \"course\": \"Python\"\n",
    "}"
   ]
  },
  {
   "cell_type": "code",
   "execution_count": 25,
   "id": "87cd77c3",
   "metadata": {},
   "outputs": [],
   "source": [
    "employee = {\n",
    "    \"id\": 101,\n",
    "    \"name\": \"Sai Krishna\",\n",
    "    \"role\": \"Engineer\"\n",
    "}"
   ]
  },
  {
   "cell_type": "code",
   "execution_count": 27,
   "id": "a1283c85",
   "metadata": {},
   "outputs": [
    {
     "data": {
      "text/plain": [
       "{'id': 101, 'name': 'Sai Krishna', 'role': 'Engineer', 'location': 'Hyderabad'}"
      ]
     },
     "execution_count": 27,
     "metadata": {},
     "output_type": "execute_result"
    }
   ],
   "source": [
    "employee[\"location\"] = \"Hyderabad\"\n",
    "employee"
   ]
  },
  {
   "cell_type": "code",
   "execution_count": 16,
   "id": "ed13753f",
   "metadata": {},
   "outputs": [
    {
     "data": {
      "text/plain": [
       "'Alice'"
      ]
     },
     "execution_count": 16,
     "metadata": {},
     "output_type": "execute_result"
    }
   ],
   "source": [
    "student[\"name\"]"
   ]
  },
  {
   "cell_type": "code",
   "execution_count": 17,
   "id": "2792cd32",
   "metadata": {},
   "outputs": [],
   "source": [
    "colors = {\"red\", \"green\", \"blue\"}"
   ]
  },
  {
   "cell_type": "code",
   "execution_count": 18,
   "id": "2c4f6041",
   "metadata": {},
   "outputs": [
    {
     "data": {
      "text/plain": [
       "{'blue', 'green', 'red'}"
      ]
     },
     "execution_count": 18,
     "metadata": {},
     "output_type": "execute_result"
    }
   ],
   "source": [
    "colors"
   ]
  },
  {
   "cell_type": "code",
   "execution_count": 20,
   "id": "0d1ec8f3",
   "metadata": {},
   "outputs": [
    {
     "data": {
      "text/plain": [
       "{1, 2}"
      ]
     },
     "execution_count": 20,
     "metadata": {},
     "output_type": "execute_result"
    }
   ],
   "source": [
    "l = [1,2,1]\n",
    "set(l)"
   ]
  },
  {
   "cell_type": "code",
   "execution_count": 21,
   "id": "36a51d6f",
   "metadata": {},
   "outputs": [
    {
     "data": {
      "text/plain": [
       "['a', 'b', 'c']"
      ]
     },
     "execution_count": 21,
     "metadata": {},
     "output_type": "execute_result"
    }
   ],
   "source": [
    "int(\"5\")        # 5\n",
    "str(10)         # \"10\"\n",
    "list(\"abc\") "
   ]
  },
  {
   "cell_type": "code",
   "execution_count": 23,
   "id": "0c7aa8ac",
   "metadata": {},
   "outputs": [
    {
     "data": {
      "text/plain": [
       "True"
      ]
     },
     "execution_count": 23,
     "metadata": {},
     "output_type": "execute_result"
    }
   ],
   "source": [
    "type(10)                 # <class 'int'>\n",
    "isinstance(3.14, float)"
   ]
  },
  {
   "cell_type": "code",
   "execution_count": null,
   "id": "a9237d8f",
   "metadata": {},
   "outputs": [],
   "source": []
  }
 ],
 "metadata": {
  "kernelspec": {
   "display_name": "Python 3 (ipykernel)",
   "language": "python",
   "name": "python3"
  },
  "language_info": {
   "codemirror_mode": {
    "name": "ipython",
    "version": 3
   },
   "file_extension": ".py",
   "mimetype": "text/x-python",
   "name": "python",
   "nbconvert_exporter": "python",
   "pygments_lexer": "ipython3",
   "version": "3.7.3"
  }
 },
 "nbformat": 4,
 "nbformat_minor": 5
}
