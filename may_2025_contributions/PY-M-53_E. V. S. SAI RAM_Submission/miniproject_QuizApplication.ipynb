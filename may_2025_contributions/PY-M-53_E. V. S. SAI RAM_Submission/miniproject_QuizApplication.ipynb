{
 "cells": [
  {
   "cell_type": "code",
   "execution_count": 1,
   "id": "ebb349bd-e3a3-4e31-b5b0-ca5246c13a13",
   "metadata": {},
   "outputs": [
    {
     "name": "stdout",
     "output_type": "stream",
     "text": [
      "\n",
      "Welcome to the Quiz!\n",
      "Answer each question by typing 1-4 and pressing Enter.\n",
      "\n",
      "Q1: What is the capital of France?\n",
      "  1. Paris\n",
      "  2. London\n",
      "  3. Rome\n",
      "  4. Berlin\n"
     ]
    },
    {
     "name": "stdin",
     "output_type": "stream",
     "text": [
      "Your answer (1-4):  1\n"
     ]
    },
    {
     "name": "stdout",
     "output_type": "stream",
     "text": [
      "✅ Correct!\n",
      "\n",
      "Q2: Which planet is known as the Red Planet?\n",
      "  1. Earth\n",
      "  2. Jupiter\n",
      "  3. Mars\n",
      "  4. Venus\n"
     ]
    },
    {
     "name": "stdin",
     "output_type": "stream",
     "text": [
      "Your answer (1-4):  3\n"
     ]
    },
    {
     "name": "stdout",
     "output_type": "stream",
     "text": [
      "✅ Correct!\n",
      "\n",
      "Q3: What is the largest ocean on Earth?\n",
      "  1. Atlantic\n",
      "  2. Arctic\n",
      "  3. Pacific\n",
      "  4. Indian\n"
     ]
    },
    {
     "name": "stdin",
     "output_type": "stream",
     "text": [
      "Your answer (1-4):  3\n"
     ]
    },
    {
     "name": "stdout",
     "output_type": "stream",
     "text": [
      "✅ Correct!\n",
      "\n",
      "Q4: Who wrote 'Romeo and Juliet'?\n",
      "  1. William Shakespeare\n",
      "  2. Charles Dickens\n",
      "  3. Mark Twain\n",
      "  4. Jane Austen\n"
     ]
    },
    {
     "name": "stdin",
     "output_type": "stream",
     "text": [
      "Your answer (1-4):  3\n"
     ]
    },
    {
     "name": "stdout",
     "output_type": "stream",
     "text": [
      "❌ Wrong! The correct answer was: William Shakespeare\n",
      "\n",
      "Q5: Who is first prime minister of india?\n",
      "  1. BR.Ambedkar\n",
      "  2. LB.Shastri\n",
      "  3. Nehru\n",
      "  4. Gandhi\n"
     ]
    },
    {
     "name": "stdin",
     "output_type": "stream",
     "text": [
      "Your answer (1-4):  3\n"
     ]
    },
    {
     "name": "stdout",
     "output_type": "stream",
     "text": [
      "✅ Correct!\n",
      "\n",
      "Q6: Which company made alto car?\n",
      "  1. Honda\n",
      "  2. KIA\n",
      "  3. BYD\n",
      "  4. Maruti\n"
     ]
    },
    {
     "name": "stdin",
     "output_type": "stream",
     "text": [
      "Your answer (1-4):  4\n"
     ]
    },
    {
     "name": "stdout",
     "output_type": "stream",
     "text": [
      "✅ Correct!\n",
      "\n",
      "Quiz finished! You scored 5 out of 6.\n",
      "Your percentage: 83.33%\n"
     ]
    }
   ],
   "source": [
    "import json\n",
    "import random\n",
    "import time\n",
    "\n",
    "def load_questions(filename):\n",
    "    try:\n",
    "        with open(filename, 'r') as f:\n",
    "            return json.load(f)\n",
    "    except FileNotFoundError:\n",
    "        print(f\"File {filename} not found.\")\n",
    "        return []\n",
    "    except json.JSONDecodeError:\n",
    "        print(\"Error decoding JSON.\")\n",
    "        return []\n",
    "\n",
    "\n",
    "def get_user_answer():\n",
    "\n",
    "    answer = input(\"Your answer (1-4): \").strip()\n",
    "    if answer not in ['1', '2', '3', '4']:\n",
    "        print(\"Invalid input. Moving to next question.\\n\")\n",
    "        return None\n",
    "    else :\n",
    "        return int(answer)\n",
    "\n",
    "    \n",
    "\n",
    "def run_quiz(questions):\n",
    "    score = 0\n",
    "    print(\"\\nWelcome to the Quiz!\")\n",
    "    print(\"Answer each question by typing 1-4 and pressing Enter.\\n\")\n",
    "\n",
    "    for i, q in enumerate(questions, start=1):\n",
    "        print(f\"Q{i}: {q['question']}\")\n",
    "        options = q['options'][:]\n",
    "        random.shuffle(options)\n",
    "\n",
    "        correct_answer_text = q['options'][q['answer'] - 1]\n",
    "        correct_index = options.index(correct_answer_text) + 1\n",
    "\n",
    "        for idx, opt in enumerate(options, start=1):\n",
    "            print(f\"  {idx}. {opt}\")\n",
    "\n",
    "        \n",
    "        user_choice = get_user_answer()\n",
    "        \n",
    "        if user_choice is None:\n",
    "            print(f\"The correct answer was: {correct_answer_text}\\n\")\n",
    "            continue\n",
    "\n",
    "        if user_choice == correct_index:\n",
    "            print(\"✅ Correct!\\n\")\n",
    "            score += 1\n",
    "        else:\n",
    "            print(f\"❌ Wrong! The correct answer was: {correct_answer_text}\\n\")\n",
    "\n",
    "    print(f\"Quiz finished! You scored {score} out of {len(questions)}.\")\n",
    "    print(f\"Your percentage: {(score / len(questions)) * 100:.2f}%\")\n",
    "\n",
    "if __name__ == \"__main__\":\n",
    "    filename = \"quiz.json\"\n",
    "    questions = load_questions(filename)\n",
    "    if questions:\n",
    "        run_quiz(questions)\n"
   ]
  },
  {
   "cell_type": "code",
   "execution_count": null,
   "id": "6c853799-83e3-42ef-ac94-337e31181db5",
   "metadata": {},
   "outputs": [],
   "source": []
  }
 ],
 "metadata": {
  "kernelspec": {
   "display_name": "Python 3 (ipykernel)",
   "language": "python",
   "name": "python3"
  },
  "language_info": {
   "codemirror_mode": {
    "name": "ipython",
    "version": 3
   },
   "file_extension": ".py",
   "mimetype": "text/x-python",
   "name": "python",
   "nbconvert_exporter": "python",
   "pygments_lexer": "ipython3",
   "version": "3.12.7"
  }
 },
 "nbformat": 4,
 "nbformat_minor": 5
}
