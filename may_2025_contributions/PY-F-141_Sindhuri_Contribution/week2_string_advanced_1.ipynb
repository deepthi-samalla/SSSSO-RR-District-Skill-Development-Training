{
 "cells": [
  {
   "cell_type": "code",
   "execution_count": 2,
   "id": "53518f2d-9815-4f9d-bbc8-a9911c4da49c",
   "metadata": {},
   "outputs": [
    {
     "name": "stdin",
     "output_type": "stream",
     "text": [
      "Enter your name:  Sindhu\n",
      "Enter your age:  32\n",
      "Enter your city:  hyd\n"
     ]
    },
    {
     "name": "stdout",
     "output_type": "stream",
     "text": [
      "Hello, Sindhu! You are 32 years old and live in hyd.\n",
      "Hello, Sindhu! You are 32 years old and live in hyd.\n"
     ]
    }
   ],
   "source": [
    "\n",
    "name = input(\"Enter your name: \")\n",
    "age = input(\"Enter your age: \")\n",
    "city = input(\"Enter your city: \")\n",
    "\n",
    "print(\"Hello, {}! You are {} years old and live in {}.\".format(name, age, city))\n",
    "print(f\"Hello, {name}! You are {age} years old and live in {city}.\")\n"
   ]
  },
  {
   "cell_type": "code",
   "execution_count": 3,
   "id": "461b51f2-4871-4132-8f2c-642b4c35326d",
   "metadata": {},
   "outputs": [
    {
     "name": "stdin",
     "output_type": "stream",
     "text": [
      "Enter a sentence:  I am very good\n"
     ]
    },
    {
     "name": "stdout",
     "output_type": "stream",
     "text": [
      "The longest word is: very\n"
     ]
    }
   ],
   "source": [
    "\n",
    "# Example usage\n",
    "user_input = input(\"Enter a sentence: \")\n",
    "words = user_input.split()\n",
    "longest = max(words, key=len)\n",
    "print(f\"The longest word is: {longest}\")\n",
    "\n"
   ]
  },
  {
   "cell_type": "code",
   "execution_count": 15,
   "id": "979df19d-bc22-4bcd-a71e-134395a2373a",
   "metadata": {},
   "outputs": [
    {
     "name": "stdin",
     "output_type": "stream",
     "text": [
      "Enter a string:  programming\n"
     ]
    },
    {
     "name": "stdout",
     "output_type": "stream",
     "text": [
      "Character frequency dictionary:\n",
      "{'p': 1, 'r': 2, 'o': 1, 'g': 2, 'a': 1, 'm': 2, 'i': 1, 'n': 1}\n"
     ]
    }
   ],
   "source": [
    "\n",
    "def count_char_frequency(s):\n",
    "     frequency = {}\n",
    "     for char in s:\n",
    "          if char in frequency:\n",
    "               frequency[char] += 1\n",
    "          else:\n",
    "               frequency[char] = 1\n",
    "     return frequency\n",
    "\n",
    "# Example usage\n",
    "user_input = input(\"Enter a string: \")\n",
    "char_freq = count_char_frequency(user_input)\n",
    "print(\"Character frequency dictionary:\")\n",
    "print(char_freq)\n",
    "\n",
    "\n",
    "     \n",
    "\n"
   ]
  },
  {
   "cell_type": "code",
   "execution_count": 28,
   "id": "6e7e14ed-8ae6-4138-a0f1-70d9e5b7fcf2",
   "metadata": {},
   "outputs": [
    {
     "ename": "IndentationError",
     "evalue": "unindent does not match any outer indentation level (<string>, line 9)",
     "output_type": "error",
     "traceback": [
      "\u001b[1;36m  File \u001b[1;32m<string>:9\u001b[1;36m\u001b[0m\n\u001b[1;33m    else:\u001b[0m\n\u001b[1;37m         ^\u001b[0m\n\u001b[1;31mIndentationError\u001b[0m\u001b[1;31m:\u001b[0m unindent does not match any outer indentation level\n"
     ]
    }
   ],
   "source": [
    "\n",
    "def caesar_cipher_encrypt(text, shift):\n",
    "     result = \"\"\n",
    "     for char in text:\n",
    "          if char.isalpha():\n",
    "            # Shift within uppercase or lowercase letters\n",
    "               base = ord('A') if char.isupper() else ord('a')\n",
    "               shifted = (ord(char) - base + shift) % 26 + base\n",
    "               result += chr(shifted)\n",
    "          else:\n",
    "            # Leave non-alphabet characters unchanged\n",
    "               result += char\n",
    "     return result\n",
    "\n",
    "# Example usage\n",
    "message = input(\"Enter a message to encrypt: \")\n"
   ]
  },
  {
   "cell_type": "code",
   "execution_count": null,
   "id": "abdf64d0-3a22-433d-9cf6-fe64a438563f",
   "metadata": {},
   "outputs": [],
   "source": [
    "# Split the string into words and join them with a single space\n",
    "def normalize_whitespace(text):\n",
    "     return ' '.join(text.split())\n",
    "\n",
    "# Example usage\n",
    "user_input = input(\"Enter a string with irregular spacing: \")\n",
    "normalized = normalize_whitespace(user_input)\n",
    "print(f\"Normalized string: {normalized}\")\n"
   ]
  },
  {
   "cell_type": "code",
   "execution_count": 32,
   "id": "4aabff12-e149-4a2b-a6a1-6875efd34265",
   "metadata": {},
   "outputs": [
    {
     "name": "stdin",
     "output_type": "stream",
     "text": [
      "Enter a string to hash:  hello\n"
     ]
    },
    {
     "name": "stdout",
     "output_type": "stream",
     "text": [
      "Hash value: 329172076400495787\n"
     ]
    }
   ],
   "source": [
    "\n",
    "def generate_string_hash(text):\n",
    "     return hash(text)\n",
    "\n",
    "# Example usage\n",
    "user_input = input(\"Enter a string to hash: \")\n",
    "hashed_value = generate_string_hash(user_input)\n",
    "print(f\"Hash value: {hashed_value}\")\n"
   ]
  },
  {
   "cell_type": "code",
   "execution_count": 38,
   "id": "ef161e21-1f24-4212-b832-13b52ba54ae6",
   "metadata": {},
   "outputs": [
    {
     "name": "stdin",
     "output_type": "stream",
     "text": [
      "Enter a string:  my name is sindhu\n",
      "Enter the length of substrings (k):  sindhu\n"
     ]
    },
    {
     "ename": "ValueError",
     "evalue": "invalid literal for int() with base 10: 'sindhu'",
     "output_type": "error",
     "traceback": [
      "\u001b[1;31m---------------------------------------------------------------------------\u001b[0m",
      "\u001b[1;31mValueError\u001b[0m                                Traceback (most recent call last)",
      "Cell \u001b[1;32mIn[38], line 12\u001b[0m\n\u001b[0;32m     10\u001b[0m \u001b[38;5;66;03m# Example usage\u001b[39;00m\n\u001b[0;32m     11\u001b[0m user_input \u001b[38;5;241m=\u001b[39m \u001b[38;5;28minput\u001b[39m(\u001b[38;5;124m\"\u001b[39m\u001b[38;5;124mEnter a string: \u001b[39m\u001b[38;5;124m\"\u001b[39m)\n\u001b[1;32m---> 12\u001b[0m k \u001b[38;5;241m=\u001b[39m \u001b[38;5;28mint\u001b[39m(\u001b[38;5;28minput\u001b[39m(\u001b[38;5;124m\"\u001b[39m\u001b[38;5;124mEnter the length of substrings (k): \u001b[39m\u001b[38;5;124m\"\u001b[39m))\n\u001b[0;32m     13\u001b[0m result \u001b[38;5;241m=\u001b[39m unique_substrings(user_input, k)\n\u001b[0;32m     14\u001b[0m \u001b[38;5;28mprint\u001b[39m(\u001b[38;5;124mf\u001b[39m\u001b[38;5;124m\"\u001b[39m\u001b[38;5;124mUnique substrings of length \u001b[39m\u001b[38;5;132;01m{\u001b[39;00mk\u001b[38;5;132;01m}\u001b[39;00m\u001b[38;5;124m: \u001b[39m\u001b[38;5;132;01m{\u001b[39;00mresult\u001b[38;5;132;01m}\u001b[39;00m\u001b[38;5;124m\"\u001b[39m)\n",
      "\u001b[1;31mValueError\u001b[0m: invalid literal for int() with base 10: 'sindhu'"
     ]
    }
   ],
   "source": [
    "\n",
    "\n",
    "def unique_substrings(s, k):\n",
    "     if k > len(s) or k <= 0:\n",
    "        return set()\n",
    "     substrings = set()\n",
    "     for i in range(len(s) - k + 1):\n",
    "          substr = s[i:i+k]\n",
    "          substrings.add(substr)\n",
    "     return substrings\n",
    "\n",
    "# Example usage\n",
    "user_input = input(\"Enter a string: \")\n",
    "k = int(input(\"Enter the length of substrings (k): \"))\n",
    "result = unique_substrings(user_input, k)\n",
    "print(f\"Unique substrings of length {k}: {result}\")\n",
    "\n"
   ]
  },
  {
   "cell_type": "code",
   "execution_count": null,
   "id": "181f5263-3921-47ce-80fc-14c76aa8f4f5",
   "metadata": {},
   "outputs": [],
   "source": []
  },
  {
   "cell_type": "code",
   "execution_count": null,
   "id": "d2e87c8c-d0dd-4257-a534-22eab0fe695b",
   "metadata": {},
   "outputs": [],
   "source": []
  }
 ],
 "metadata": {
  "kernelspec": {
   "display_name": "Python 3 (ipykernel)",
   "language": "python",
   "name": "python3"
  },
  "language_info": {
   "codemirror_mode": {
    "name": "ipython",
    "version": 3
   },
   "file_extension": ".py",
   "mimetype": "text/x-python",
   "name": "python",
   "nbconvert_exporter": "python",
   "pygments_lexer": "ipython3",
   "version": "3.12.7"
  }
 },
 "nbformat": 4,
 "nbformat_minor": 5
}
