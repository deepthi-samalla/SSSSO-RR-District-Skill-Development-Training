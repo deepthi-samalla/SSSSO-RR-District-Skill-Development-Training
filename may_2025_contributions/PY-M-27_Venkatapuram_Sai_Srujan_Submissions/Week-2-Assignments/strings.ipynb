{
 "cells": [
  {
   "cell_type": "code",
   "execution_count": 13,
   "id": "c66bc0b1",
   "metadata": {},
   "outputs": [
    {
     "name": "stdout",
     "output_type": "stream",
     "text": [
      "\"madam\" is a palindrome.\n"
     ]
    }
   ],
   "source": [
    "#2. Check whether a string is palindrome or not (e.g., \"madam\").\n",
    "\n",
    "word = \"madam\"\n",
    "\n",
    "\"\"\"\n",
    "word[::-1] reverses the string.\n",
    "\n",
    "The program compares the original and reversed strings.\n",
    "\n",
    "\"\"\"\n",
    "\n",
    "# Check if the string is equal to its reverse\n",
    "if word == word[::-1]:\n",
    "    print(f'\"{word}\" is a palindrome.')\n",
    "else:\n",
    "    print(f'\"{word}\" is not a palindrome.')\n",
    "\n",
    "\n"
   ]
  },
  {
   "cell_type": "code",
   "execution_count": 14,
   "id": "b7bfc05a",
   "metadata": {},
   "outputs": [
    {
     "name": "stdout",
     "output_type": "stream",
     "text": [
      "Name: Sai Srujan, Age: 25, City: Hyderabad\n"
     ]
    }
   ],
   "source": [
    "#21. Create a custom string formatting function using format() and positional arguments.\n",
    "\n",
    "def format_profile(name, age, city):\n",
    "    # Using positional arguments with format()\n",
    "    return \"Name: {}, Age: {}, City: {}\".format(name, age, city)\n",
    "\n",
    "# Example usage\n",
    "formatted_string = format_profile(\"Sai Srujan\", 25, \"Hyderabad\")\n",
    "print(formatted_string)"
   ]
  },
  {
   "cell_type": "code",
   "execution_count": 15,
   "id": "046a2ff4",
   "metadata": {},
   "outputs": [
    {
     "name": "stdout",
     "output_type": "stream",
     "text": [
      "The longest word is: easy-to-learn\n"
     ]
    }
   ],
   "source": [
    "#22. Write a program to find the longest word in a sentence.\n",
    "\n",
    "sentence = \"Python is a powerful and easy-to-learn programming language\"\n",
    "\n",
    "# Split sentence into words\n",
    "words = sentence.split()\n",
    "\n",
    "# Find the longest word\n",
    "longest = max(words, key=len)\n",
    "\n",
    "# Print the result\n",
    "print(\"The longest word is:\", longest)"
   ]
  },
  {
   "cell_type": "code",
   "execution_count": 16,
   "id": "78526cb2",
   "metadata": {},
   "outputs": [
    {
     "name": "stdout",
     "output_type": "stream",
     "text": [
      "{'S': 2, 'a': 2, 'i': 1, ' ': 1, 'r': 1, 'u': 1, 'j': 1, 'n': 1}\n"
     ]
    }
   ],
   "source": [
    "#23. Count the frequency of each character in a string and display as a dictionary.\n",
    "\n",
    "text = \"Sai Srujan\"\n",
    "\n",
    "# Initialize an empty dictionary\n",
    "char_freq = {}\n",
    "\n",
    "# Loop through each character\n",
    "for char in text:\n",
    "    if char in char_freq:\n",
    "        char_freq[char] += 1\n",
    "    else:\n",
    "        char_freq[char] = 1\n",
    "\n",
    "# Print the character frequency dictionary\n",
    "print(char_freq)\n"
   ]
  },
  {
   "cell_type": "code",
   "execution_count": 17,
   "id": "29c49a51",
   "metadata": {},
   "outputs": [
    {
     "name": "stdout",
     "output_type": "stream",
     "text": [
      "Normalized: This is a test. With multiple spaces.\n"
     ]
    }
   ],
   "source": [
    "\n",
    "#25. Write a function to normalize whitespace in a string (multiple spaces to one).\n",
    "\n",
    "import re\n",
    "\n",
    "\"\"\"\n",
    "\\s+ matches any sequence of whitespace (spaces, tabs, newlines).\n",
    "\n",
    "re.sub(..., ' ') replaces those with a single space.\n",
    "\n",
    ".strip() removes any extra space at the beginning or end.\n",
    "\n",
    "\"\"\"\n",
    "\n",
    "def normalize_whitespace(text):\n",
    "    # Replace all groups of whitespace with a single space and strip leading/trailing spaces\n",
    "    return re.sub(r'\\s+', ' ', text).strip()\n",
    "\n",
    "input_text = \"This   is   a     test.\\nWith  multiple\\tspaces.\"\n",
    "normalized = normalize_whitespace(input_text)\n",
    "print(\"Normalized:\", normalized)\n",
    "\n",
    "\n",
    "\n"
   ]
  },
  {
   "cell_type": "code",
   "execution_count": 18,
   "id": "d96f0fda",
   "metadata": {},
   "outputs": [
    {
     "name": "stdout",
     "output_type": "stream",
     "text": [
      "Hash value: -4401589978510006879\n"
     ]
    }
   ],
   "source": [
    "#27. Generate a unique hash from a string using hash() and explain its use case.\n",
    "\n",
    "text = \"OpenAI\"\n",
    "\n",
    "text_hash = hash(text)\n",
    "\n",
    "print(\"Hash value:\", text_hash)\n"
   ]
  }
 ],
 "metadata": {
  "kernelspec": {
   "display_name": "base",
   "language": "python",
   "name": "python3"
  },
  "language_info": {
   "codemirror_mode": {
    "name": "ipython",
    "version": 3
   },
   "file_extension": ".py",
   "mimetype": "text/x-python",
   "name": "python",
   "nbconvert_exporter": "python",
   "pygments_lexer": "ipython3",
   "version": "3.7.6"
  }
 },
 "nbformat": 4,
 "nbformat_minor": 5
}
