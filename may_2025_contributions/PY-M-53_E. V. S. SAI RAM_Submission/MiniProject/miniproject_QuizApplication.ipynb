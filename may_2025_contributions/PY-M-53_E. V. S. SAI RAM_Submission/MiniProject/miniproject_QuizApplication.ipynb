{
 "cells": [
  {
   "cell_type": "code",
   "execution_count": 2,
   "id": "ebb349bd-e3a3-4e31-b5b0-ca5246c13a13",
   "metadata": {},
   "outputs": [
    {
     "ename": "NameError",
     "evalue": "name 'json' is not defined",
     "output_type": "error",
     "traceback": [
      "\u001b[1;31m---------------------------------------------------------------------------\u001b[0m",
      "\u001b[1;31mNameError\u001b[0m                                 Traceback (most recent call last)",
      "Cell \u001b[1;32mIn[2], line 8\u001b[0m, in \u001b[0;36mload_questions\u001b[1;34m(filename)\u001b[0m\n\u001b[0;32m      7\u001b[0m     \u001b[38;5;28;01mwith\u001b[39;00m \u001b[38;5;28mopen\u001b[39m(filename, \u001b[38;5;124m'\u001b[39m\u001b[38;5;124mr\u001b[39m\u001b[38;5;124m'\u001b[39m) \u001b[38;5;28;01mas\u001b[39;00m f:\n\u001b[1;32m----> 8\u001b[0m         \u001b[38;5;28;01mreturn\u001b[39;00m json\u001b[38;5;241m.\u001b[39mload(f)\n\u001b[0;32m      9\u001b[0m \u001b[38;5;28;01mexcept\u001b[39;00m \u001b[38;5;167;01mFileNotFoundError\u001b[39;00m:\n",
      "\u001b[1;31mNameError\u001b[0m: name 'json' is not defined",
      "\nDuring handling of the above exception, another exception occurred:\n",
      "\u001b[1;31mNameError\u001b[0m                                 Traceback (most recent call last)",
      "Cell \u001b[1;32mIn[2], line 68\u001b[0m\n\u001b[0;32m     66\u001b[0m \u001b[38;5;28;01mif\u001b[39;00m \u001b[38;5;18m__name__\u001b[39m \u001b[38;5;241m==\u001b[39m \u001b[38;5;124m\"\u001b[39m\u001b[38;5;124m__main__\u001b[39m\u001b[38;5;124m\"\u001b[39m:\n\u001b[0;32m     67\u001b[0m     filename \u001b[38;5;241m=\u001b[39m \u001b[38;5;124m\"\u001b[39m\u001b[38;5;124mquiz.json\u001b[39m\u001b[38;5;124m\"\u001b[39m\n\u001b[1;32m---> 68\u001b[0m     questions \u001b[38;5;241m=\u001b[39m load_questions(filename)\n\u001b[0;32m     69\u001b[0m     \u001b[38;5;28;01mif\u001b[39;00m questions:\n\u001b[0;32m     70\u001b[0m         run_quiz(questions)\n",
      "Cell \u001b[1;32mIn[2], line 12\u001b[0m, in \u001b[0;36mload_questions\u001b[1;34m(filename)\u001b[0m\n\u001b[0;32m     10\u001b[0m     \u001b[38;5;28mprint\u001b[39m(\u001b[38;5;124mf\u001b[39m\u001b[38;5;124m\"\u001b[39m\u001b[38;5;124mFile \u001b[39m\u001b[38;5;132;01m{\u001b[39;00mfilename\u001b[38;5;132;01m}\u001b[39;00m\u001b[38;5;124m not found.\u001b[39m\u001b[38;5;124m\"\u001b[39m)\n\u001b[0;32m     11\u001b[0m     \u001b[38;5;28;01mreturn\u001b[39;00m []\n\u001b[1;32m---> 12\u001b[0m \u001b[38;5;28;01mexcept\u001b[39;00m json\u001b[38;5;241m.\u001b[39mJSONDecodeError:\n\u001b[0;32m     13\u001b[0m     \u001b[38;5;28mprint\u001b[39m(\u001b[38;5;124m\"\u001b[39m\u001b[38;5;124mError decoding JSON.\u001b[39m\u001b[38;5;124m\"\u001b[39m)\n\u001b[0;32m     14\u001b[0m     \u001b[38;5;28;01mreturn\u001b[39;00m []\n",
      "\u001b[1;31mNameError\u001b[0m: name 'json' is not defined"
     ]
    }
   ],
   "source": [
    "import json\n",
    "import random\n",
    "import time\n",
    "\n",
    "def load_questions(filename):\n",
    "    try:\n",
    "        with open(filename, 'r') as f:\n",
    "            return json.load(f)\n",
    "    except FileNotFoundError:\n",
    "        print(f\"File {filename} not found.\")\n",
    "        return []\n",
    "    except json.JSONDecodeError:\n",
    "        print(\"Error decoding JSON.\")\n",
    "        return []\n",
    "\n",
    "def countdown(seconds=5):\n",
    "    print(\"\\nGet ready! The next question appears in:\")\n",
    "    for i in range(seconds, 0, -1):\n",
    "        print(f\"{i}...\", end='', flush=True)\n",
    "        time.sleep(1)\n",
    "        print(\" \", end='')\n",
    "    print(\"\\n\")\n",
    "\n",
    "def get_user_answer():\n",
    "    answer = input(\"Your answer (1-4): \").strip()\n",
    "    if answer not in ['1', '2', '3', '4']:\n",
    "        print(\"Invalid input. Moving to next question.\\n\")\n",
    "        return None\n",
    "    else:\n",
    "        return int(answer)\n",
    "\n",
    "def run_quiz(questions):\n",
    "    score = 0\n",
    "    print(\"\\nWelcome to the Quiz!\")\n",
    "    print(\"Answer each question by typing 1-4 and pressing Enter.\\n\")\n",
    "\n",
    "    random.shuffle(questions)  # Shuffle question order\n",
    "\n",
    "    for i, q in enumerate(questions, start=1):\n",
    "        countdown(5)  # 5-second countdown before each question\n",
    "        print(f\"Q{i}: {q['question']}\")\n",
    "        options = q['options'][:]\n",
    "        random.shuffle(options)\n",
    "\n",
    "        correct_answer_text = q['options'][q['answer'] - 1]\n",
    "        correct_index = options.index(correct_answer_text) + 1\n",
    "\n",
    "        for idx, opt in enumerate(options, start=1):\n",
    "            print(f\"  {idx}. {opt}\")\n",
    "\n",
    "        user_choice = get_user_answer()\n",
    "\n",
    "        if user_choice is None:\n",
    "            print(f\"The correct answer was: {correct_answer_text}\\n\")\n",
    "            continue\n",
    "\n",
    "        if user_choice == correct_index:\n",
    "            print(\"✅ Correct!\\n\")\n",
    "            score += 1\n",
    "        else:\n",
    "            print(f\"❌ Wrong! The correct answer was: {correct_answer_text}\\n\")\n",
    "\n",
    "    print(f\"Quiz finished! You scored {score} out of {len(questions)}.\")\n",
    "    print(f\"Your percentage: {(score / len(questions)) * 100:.2f}%\")\n",
    "\n",
    "if __name__ == \"__main__\":\n",
    "    filename = \"quiz.json\"\n",
    "    questions = load_questions(filename)\n",
    "    if questions:\n",
    "        run_quiz(questions)\n"
   ]
  },
  {
   "cell_type": "code",
   "execution_count": null,
   "id": "6c853799-83e3-42ef-ac94-337e31181db5",
   "metadata": {},
   "outputs": [],
   "source": []
  }
 ],
 "metadata": {
  "kernelspec": {
   "display_name": "Python 3 (ipykernel)",
   "language": "python",
   "name": "python3"
  },
  "language_info": {
   "codemirror_mode": {
    "name": "ipython",
    "version": 3
   },
   "file_extension": ".py",
   "mimetype": "text/x-python",
   "name": "python",
   "nbconvert_exporter": "python",
   "pygments_lexer": "ipython3",
   "version": "3.12.7"
  }
 },
 "nbformat": 4,
 "nbformat_minor": 5
}
