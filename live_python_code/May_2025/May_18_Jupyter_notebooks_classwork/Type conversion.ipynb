{
 "cells": [
  {
   "cell_type": "markdown",
   "id": "2a5f6a3e",
   "metadata": {},
   "source": [
    "# Implicit Conversion Examples"
   ]
  },
  {
   "cell_type": "code",
   "execution_count": 1,
   "id": "22b42c6b",
   "metadata": {},
   "outputs": [
    {
     "name": "stdout",
     "output_type": "stream",
     "text": [
      "7.5\n",
      "<class 'float'>\n"
     ]
    }
   ],
   "source": [
    "# Python automatically converts int to float in expressions\n",
    "a = 5     # int\n",
    "b = 2.5   # float\n",
    "c = a + b # a converted to float automatically\n",
    "print(c)  # Output: 7.5 (float)\n",
    "print(type(c))  # <class 'float'>"
   ]
  },
  {
   "cell_type": "markdown",
   "id": "fbebfe0f",
   "metadata": {},
   "source": [
    "# Explicit Conversion Examples"
   ]
  },
  {
   "cell_type": "code",
   "execution_count": 2,
   "id": "ffcac0bb",
   "metadata": {},
   "outputs": [
    {
     "name": "stdout",
     "output_type": "stream",
     "text": [
      "9\n",
      "5.0\n",
      "100\n",
      "42\n",
      "3.14\n",
      "False\n",
      "True\n",
      "False\n",
      "True\n"
     ]
    }
   ],
   "source": [
    "# Convert float to int (note: decimal part is truncated)\n",
    "f = 9.8\n",
    "i = int(f)\n",
    "print(i)  # Output: 9\n",
    "\n",
    "# Convert int to float\n",
    "i = 5\n",
    "f = float(i)\n",
    "print(f)  # Output: 5.0\n",
    "\n",
    "# Convert int to string\n",
    "i = 100\n",
    "s = str(i)\n",
    "print(s)  # Output: \"100\"\n",
    "\n",
    "# Convert string to int (string must represent a valid integer)\n",
    "s = \"42\"\n",
    "i = int(s)\n",
    "print(i)  # Output: 42\n",
    "\n",
    "# Convert string to float\n",
    "s = \"3.14\"\n",
    "f = float(s)\n",
    "print(f)  # Output: 3.14\n",
    "\n",
    "# Convert other types to boolean\n",
    "print(bool(0))      # False\n",
    "print(bool(10))     # True\n",
    "print(bool(\"\"))     # False\n",
    "print(bool(\"False\")) # True (non-empty string)"
   ]
  },
  {
   "cell_type": "code",
   "execution_count": null,
   "id": "c2943602",
   "metadata": {},
   "outputs": [],
   "source": [
    "# Get two numbers as input and add them\n",
    "\n",
    "num1 = input(\"Enter first number: \")  # input returns string\n",
    "num2 = input(\"Enter second number: \")\n",
    "\n",
    "# Convert strings to int before adding\n",
    "sum_ = int(num1) + int(num2)\n",
    "\n",
    "print(\"Sum is:\", sum_)"
   ]
  },
  {
   "cell_type": "code",
   "execution_count": null,
   "id": "1e0860e8",
   "metadata": {},
   "outputs": [],
   "source": [
    "a = 'hello'\n",
    "b = str(10)\n",
    "a + b"
   ]
  },
  {
   "cell_type": "code",
   "execution_count": null,
   "id": "2f7c1c82",
   "metadata": {},
   "outputs": [],
   "source": []
  }
 ],
 "metadata": {
  "kernelspec": {
   "display_name": "Python 3 (ipykernel)",
   "language": "python",
   "name": "python3"
  },
  "language_info": {
   "codemirror_mode": {
    "name": "ipython",
    "version": 3
   },
   "file_extension": ".py",
   "mimetype": "text/x-python",
   "name": "python",
   "nbconvert_exporter": "python",
   "pygments_lexer": "ipython3",
   "version": "3.7.3"
  }
 },
 "nbformat": 4,
 "nbformat_minor": 5
}
