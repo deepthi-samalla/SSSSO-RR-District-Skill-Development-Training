{
 "cells": [
  {
   "cell_type": "code",
   "execution_count": 1,
   "id": "10420c83",
   "metadata": {},
   "outputs": [
    {
     "name": "stdout",
     "output_type": "stream",
     "text": [
      "Vivekanand Goud Varada\n"
     ]
    }
   ],
   "source": [
    "print(\"Vivekanand Goud Varada\")"
   ]
  },
  {
   "cell_type": "code",
   "execution_count": null,
   "id": "b4f28c7e",
   "metadata": {},
   "outputs": [],
   "source": [
    "#The above print() function outputs my name."
   ]
  },
  {
   "cell_type": "code",
   "execution_count": 5,
   "id": "dc5aa21f",
   "metadata": {},
   "outputs": [
    {
     "name": "stdout",
     "output_type": "stream",
     "text": [
      "12\n"
     ]
    }
   ],
   "source": [
    "print(5+7)"
   ]
  },
  {
   "cell_type": "code",
   "execution_count": 7,
   "id": "5483803b",
   "metadata": {},
   "outputs": [
    {
     "name": "stdout",
     "output_type": "stream",
     "text": [
      "Vivekanand \n",
      "Goud \n",
      "Varada\n"
     ]
    }
   ],
   "source": [
    "#printing three lines using single print () with newline characters\n",
    "print(\"Vivekanand \\nGoud \\nVarada\")"
   ]
  },
  {
   "cell_type": "code",
   "execution_count": 10,
   "id": "bca7023b",
   "metadata": {},
   "outputs": [
    {
     "data": {
      "text/plain": [
       "'this text is \\nfor trying multiline \\ncomments.'"
      ]
     },
     "execution_count": 10,
     "metadata": {},
     "output_type": "execute_result"
    }
   ],
   "source": [
    "'''this text is \n",
    "for trying multiline \n",
    "comments.'''"
   ]
  },
  {
   "cell_type": "code",
   "execution_count": 15,
   "id": "74039422",
   "metadata": {},
   "outputs": [
    {
     "name": "stdout",
     "output_type": "stream",
     "text": [
      "The number is greater than 10.\n"
     ]
    }
   ],
   "source": [
    "# Prompting the user to enter a number\n",
    "number = int(input(\"Enter a number: \"))\n",
    "\n",
    "# Check if the number is greater than 10\n",
    "if number > 10:\n",
    "    # This block executes if the condition is True\n",
    "    print(\"The number is greater than 10.\")\n"
   ]
  },
  {
   "cell_type": "code",
   "execution_count": 18,
   "id": "af77d0ef",
   "metadata": {},
   "outputs": [
    {
     "name": "stdout",
     "output_type": "stream",
     "text": [
      "28\n"
     ]
    }
   ],
   "source": [
    "result = 2+2+2+2+2+2+2+2+2+2+\\\n",
    "            2+2+2+2\n",
    "print (result)\n"
   ]
  },
  {
   "cell_type": "code",
   "execution_count": 24,
   "id": "cdcc5456",
   "metadata": {},
   "outputs": [
    {
     "name": "stdout",
     "output_type": "stream",
     "text": [
      "Name: Nandu\n",
      "Age: 24\n",
      "Height: 5.1\n"
     ]
    }
   ],
   "source": [
    "#promting to define variables\n",
    "name = \"Nandu\"\n",
    "age = 24\n",
    "height = 5.10\n",
    "\n",
    "#print using formatted strings\n",
    "print(f\"Name: {name}\")\n",
    "print(f\"Age: {age}\")\n",
    "print(f\"Height: {height}\")"
   ]
  },
  {
   "cell_type": "code",
   "execution_count": 27,
   "id": "44887209",
   "metadata": {},
   "outputs": [
    {
     "name": "stdout",
     "output_type": "stream",
     "text": [
      "starting process--->\n",
      " First level: condition met\n",
      "  second level: condition met\n",
      "   Third level: condition met\n"
     ]
    }
   ],
   "source": [
    "#zero level\n",
    "print(\"starting process--->\")\n",
    "\n",
    "#First level of nesting\n",
    "if True:\n",
    "    print(\" First level: condition met\")\n",
    "\n",
    "    #Second level of nesting\n",
    "    if True:\n",
    "        print(\"  second level: condition met\")\n",
    "\n",
    "        #Third level of nesting\n",
    "        if True:\n",
    "            print(\"   Third level: condition met\")\n",
    "            \n"
   ]
  },
  {
   "cell_type": "code",
   "execution_count": null,
   "id": "7b91cb89",
   "metadata": {},
   "outputs": [
    {
     "name": "stdout",
     "output_type": "stream",
     "text": [
      "Hello, --f=c:\\Users\\vivek\\AppData\\Roaming\\jupyter\\runtime\\kernel-v3df1a9813d1dee1328391094b7e678e33c4bc8aa7.json! Welcome to the program.\n"
     ]
    }
   ],
   "source": [
    "import sys\n",
    "\n",
    "if len(sys.argv) > 1:\n",
    "    user_name = sys.argv[1]\n",
    "    print(f\"Hello, {user_name}! Welcome to the program.\")\n",
    "else:\n",
    "    print(\"Hello! Please provide your name as a command-line argument.\")"
   ]
  },
  {
   "cell_type": "code",
   "execution_count": null,
   "id": "76c770e0",
   "metadata": {},
   "outputs": [
    {
     "name": "stdout",
     "output_type": "stream",
     "text": [
      "Hello!\n"
     ]
    }
   ],
   "source": [
    "#using indentation correctly to define a function that prints a Hello\n",
    "\n",
    "def wishing():\n",
    "    print(\"Hello!\")\n",
    "\n",
    "wishing()"
   ]
  },
  {
   "cell_type": "code",
   "execution_count": 37,
   "id": "83a30786",
   "metadata": {},
   "outputs": [
    {
     "name": "stdout",
     "output_type": "stream",
     "text": [
      "Expected graduation year: 2029\n"
     ]
    }
   ],
   "source": [
    "current_year = 2025\n",
    "your_expected_graduation_year = current_year + 4\n",
    "\n",
    "print(f\"Expected graduation year: {current_year + 4}\")"
   ]
  }
 ],
 "metadata": {
  "kernelspec": {
   "display_name": ".venv",
   "language": "python",
   "name": "python3"
  },
  "language_info": {
   "codemirror_mode": {
    "name": "ipython",
    "version": 3
   },
   "file_extension": ".py",
   "mimetype": "text/x-python",
   "name": "python",
   "nbconvert_exporter": "python",
   "pygments_lexer": "ipython3",
   "version": "3.13.3"
  }
 },
 "nbformat": 4,
 "nbformat_minor": 5
}
