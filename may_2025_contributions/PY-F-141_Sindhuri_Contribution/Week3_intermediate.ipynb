{
 "cells": [
  {
   "cell_type": "code",
   "execution_count": 1,
   "id": "ed3e18b0",
   "metadata": {},
   "outputs": [
    {
     "name": "stdout",
     "output_type": "stream",
     "text": [
      "[2, 4, 6, 8, 10, 12, 14, 16, 18, 20, 22, 24, 26, 28, 30, 32, 34, 36, 38, 40, 42, 44, 46, 48, 50]\n"
     ]
    }
   ],
   "source": [
    "\n",
    "def get_even_numbers():\n",
    "    return [num for num in range(1, 51) if num % 2 == 0]\n",
    "\n",
    "# Example usage\n",
    "even_numbers = get_even_numbers()\n",
    "print(even_numbers)\n"
   ]
  },
  {
   "cell_type": "code",
   "execution_count": 2,
   "id": "4649842b",
   "metadata": {},
   "outputs": [
    {
     "name": "stdout",
     "output_type": "stream",
     "text": [
      "{1: 1, 2: 4, 3: 9, 4: 16, 5: 25}\n"
     ]
    }
   ],
   "source": [
    "\n",
    "squares_dict = {num: num**2 for num in range(1, 6)}\n",
    "print(squares_dict)\n"
   ]
  },
  {
   "cell_type": "code",
   "execution_count": 3,
   "id": "bb8a223c",
   "metadata": {},
   "outputs": [
    {
     "name": "stdout",
     "output_type": "stream",
     "text": [
      "15\n"
     ]
    }
   ],
   "source": [
    "tuple = (1,2,3,4,5)\n",
    "print(sum(tuple))\n"
   ]
  },
  {
   "cell_type": "code",
   "execution_count": 4,
   "id": "8532a8f2",
   "metadata": {},
   "outputs": [
    {
     "name": "stdout",
     "output_type": "stream",
     "text": [
      "{1, 2, 3, 4, 5, 6, 7}\n"
     ]
    }
   ],
   "source": [
    "a = {1,2,3,4,5}\n",
    "b = {6,7,3,4,5}\n",
    "result= a.union(b)\n",
    "print(result)"
   ]
  },
  {
   "cell_type": "code",
   "execution_count": 5,
   "id": "a5f60394",
   "metadata": {},
   "outputs": [
    {
     "name": "stdout",
     "output_type": "stream",
     "text": [
      "items_0: 0\n",
      "items_1: 10\n",
      "items_2: 20\n",
      "items_3: 30\n",
      "items_4: 40\n",
      "items_5: 50\n"
     ]
    }
   ],
   "source": [
    "OrderedDict = {}\n",
    "\n",
    "for i in range(6):\n",
    "    OrderedDict[f\"items_{i}\"] = i*10\n",
    "\n",
    "\n",
    "for key, value in OrderedDict.items():\n",
    "    print(f\"{key}: {value}\")\n",
    "\n"
   ]
  },
  {
   "cell_type": "code",
   "execution_count": 32,
   "id": "fe5d765e",
   "metadata": {},
   "outputs": [
    {
     "name": "stdout",
     "output_type": "stream",
     "text": [
      "banana\n",
      "apple\n",
      "cherry\n"
     ]
    }
   ],
   "source": [
    "\n",
    "sample_dict = {'banana': 3, 'apple': 5, 'cherry': 2}\n",
    "for key in sample_dict.keys():\n",
    "    #sort = sorted(key)\n",
    "    print(key)\n",
    "\n",
    "\n",
    "\n"
   ]
  },
  {
   "cell_type": "code",
   "execution_count": 34,
   "id": "1ea1ba0e",
   "metadata": {},
   "outputs": [
    {
     "name": "stdout",
     "output_type": "stream",
     "text": [
      "{' ', 'd', 'r', 'l', 'o', 'h', 'e', 'w'}\n"
     ]
    }
   ],
   "source": [
    "\n",
    "# Example usage\n",
    "text = \"hello world\"\n",
    "list = list(text)\n",
    "unique=set(list)\n",
    "print(unique)\n"
   ]
  },
  {
   "cell_type": "code",
   "execution_count": 41,
   "id": "c2c574b1",
   "metadata": {},
   "outputs": [
    {
     "name": "stdout",
     "output_type": "stream",
     "text": [
      "{'h': 1, 'e': 1, 'l': 3, 'o': 2, ' ': 1, 'w': 1, 'r': 1, 'd': 1}\n"
     ]
    }
   ],
   "source": [
    "# Example usage\n",
    "text = \"hello world\"\n",
    "\n",
    "#char_list = list(text)\n",
    "frequency_dict = {}\n",
    "\n",
    "for char in text:\n",
    "    if char in frequency_dict:\n",
    "        frequency_dict[char] += 1\n",
    "    else:\n",
    "        frequency_dict[char] = 1\n",
    "\n",
    "print(frequency_dict)\n",
    "\n",
    "\n"
   ]
  },
  {
   "cell_type": "code",
   "execution_count": 44,
   "id": "764f5a45",
   "metadata": {},
   "outputs": [
    {
     "name": "stdout",
     "output_type": "stream",
     "text": [
      "sample_set is empty\n"
     ]
    }
   ],
   "source": [
    "\n",
    "sample_set = {1, 2, 3, 4}\n",
    "empty = sample_set.clear()\n",
    "if len(sample_set)==0:\n",
    "    print(\"sample_set is empty\")"
   ]
  }
 ],
 "metadata": {
  "kernelspec": {
   "display_name": "base",
   "language": "python",
   "name": "python3"
  },
  "language_info": {
   "codemirror_mode": {
    "name": "ipython",
    "version": 3
   },
   "file_extension": ".py",
   "mimetype": "text/x-python",
   "name": "python",
   "nbconvert_exporter": "python",
   "pygments_lexer": "ipython3",
   "version": "3.12.7"
  }
 },
 "nbformat": 4,
 "nbformat_minor": 5
}
