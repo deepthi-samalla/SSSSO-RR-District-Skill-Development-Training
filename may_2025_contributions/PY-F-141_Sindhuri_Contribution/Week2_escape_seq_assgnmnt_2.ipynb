{
 "cells": [
  {
   "cell_type": "code",
   "execution_count": 1,
   "id": "c8fc6db8-8e17-498b-ac95-5788522629ea",
   "metadata": {},
   "outputs": [
    {
     "name": "stdin",
     "output_type": "stream",
     "text": [
      "Enter a string (you can include \\n for newlines):  sfsVb  \\nsfadf\n"
     ]
    },
    {
     "name": "stdout",
     "output_type": "stream",
     "text": [
      "Processed string: sfsVb   sfadf\n"
     ]
    }
   ],
   "source": [
    "\n",
    "# Read input from the user\n",
    "user_input = input(\"Enter a string (you can include \\\\n for newlines): \")\n",
    "\n",
    "# Replace newline escape sequences with a space\n",
    "processed_input = user_input.replace(\"\\\\n\", \" \")\n",
    "\n",
    "# Print the result\n",
    "print(\"Processed string:\", processed_input)\n"
   ]
  },
  {
   "cell_type": "code",
   "execution_count": 2,
   "id": "56e5a3b4-b216-4685-9f20-de9360c11c4e",
   "metadata": {},
   "outputs": [
    {
     "name": "stdout",
     "output_type": "stream",
     "text": [
      "Line 1:\tThis is the first line.\n",
      "Line 2:\tThis is the second line.\n",
      "Line 3:\tAnd this is the third line.\n"
     ]
    }
   ],
   "source": [
    "\n",
    "def print_numbered_lines(multiline_string):\n",
    "     lines = multiline_string.splitlines()\n",
    "     for i, line in enumerate(lines, start=1):\n",
    "          print(f\"Line {i}:\\t{line}\")\n",
    "\n",
    "# Example usage\n",
    "sample_text = \"\"\"This is the first line.\n",
    "This is the second line.\n",
    "And this is the third line.\"\"\"\n",
    "\n",
    "print_numbered_lines(sample_text)\n"
   ]
  },
  {
   "cell_type": "code",
   "execution_count": 3,
   "id": "c05f1f46-d3e4-437d-8a09-ed635db14b87",
   "metadata": {},
   "outputs": [
    {
     "name": "stdout",
     "output_type": "stream",
     "text": [
      "Current Time: 15:18:46\n",
      "Clock stopped.\n"
     ]
    }
   ],
   "source": [
    "\n",
    "import time\n",
    "import datetime\n",
    "\n",
    "try:\n",
    "     while True:\n",
    "          current_time = datetime.datetime.now().strftime(\"%H:%M:%S\")\n",
    "          print(f\"\\rCurrent Time: {current_time}\", end=\"\", flush=True)\n",
    "          time.sleep(1)\n",
    "except KeyboardInterrupt:\n",
    "     print(\"\\nClock stopped.\")\n"
   ]
  },
  {
   "cell_type": "code",
   "execution_count": 10,
   "id": "94f927e5-f3d6-4860-b7b7-34c03194e285",
   "metadata": {},
   "outputs": [
    {
     "name": "stdout",
     "output_type": "stream",
     "text": [
      "Match found: C:\\Users\\Alice\\Documents\\file.txt\n"
     ]
    }
   ],
   "source": [
    "\n",
    "import re\n",
    "\n",
    "# Example string with file paths\n",
    "text = \"The file is located at C:\\\\Users\\\\Alice\\\\Documents\\\\file.txt\"\n",
    "\n",
    "# Incorrect: This will raise an error or not match as expected\n",
    "# pattern = \"\\Users\\Alice\"  # Python interprets \\U as a Unicode escape\n",
    "\n",
    "# Correct: Use raw string (r\"\") to avoid double escaping\n",
    "pattern = r\"C:\\\\Users\\\\Alice\\\\Documents\\\\file\\.txt\"\n",
    "\n",
    "# Search using the pattern\n",
    "match = re.search(pattern, text)\n",
    "\n",
    "if match:\n",
    "     print(\"Match found:\", match.group())\n",
    "else:\n",
    "     print(\"No match found.\")\n"
   ]
  },
  {
   "cell_type": "code",
   "execution_count": 9,
   "id": "72b9fbbb-4d53-4378-a8d1-d60194ddd56e",
   "metadata": {},
   "outputs": [
    {
     "name": "stdout",
     "output_type": "stream",
     "text": [
      "Employee Report\n",
      "\n",
      "Name\t\tDepartment\tSalary\n",
      "----------------------------------------\n",
      "Alice\t\tHR\t\t₹50,000\n",
      "Bob\t\tEngineering\t₹75,000\n",
      "Charlie\t\tMarketing\t₹60,000\n",
      "\n",
      "Note:\n",
      "\t- Salaries are in INR.\n",
      "\t- Data is confidential.\n",
      "\n"
     ]
    }
   ],
   "source": [
    "\n",
    "def print_formatted_table():\n",
    "     print(\"Employee Report\\n\")\n",
    "     print(\"Name\\t\\tDepartment\\tSalary\")\n",
    "     print(\"----------------------------------------\")\n",
    "     print(\"Alice\\t\\tHR\\t\\t₹50,000\")\n",
    "     print(\"Bob\\t\\tEngineering\\t₹75,000\")\n",
    "     print(\"Charlie\\t\\tMarketing\\t₹60,000\\n\")\n",
    "\n",
    "     print(\"Note:\\n\\t- Salaries are in INR.\\n\\t- Data is confidential.\\n\")\n",
    "\n",
    "print_formatted_table()\n"
   ]
  },
  {
   "cell_type": "code",
   "execution_count": 14,
   "id": "ca258f02-e614-4de5-8057-2cd73978076e",
   "metadata": {},
   "outputs": [
    {
     "name": "stdout",
     "output_type": "stream",
     "text": [
      "\u0007[ERROR]\tTime: 2025-05-30 15:27:31\n",
      "\tCode: 404\n",
      "\tMessage: File not found\n",
      "\n",
      "\u0007[ERROR]\tTime: 2025-05-30 15:27:31\n",
      "\tCode: 403\n",
      "\tMessage: Access denied\n",
      "\n"
     ]
    }
   ],
   "source": [
    "\n",
    "import time\n",
    "\n",
    "def log_error(error_message, error_code):\n",
    "     timestamp = time.strftime(\"%Y-%m-%d %H:%M:%S\")\n",
    "     formatted_message = (f\"\\a[ERROR]\\tTime: {timestamp}\\n\"\n",
    "         f\"\\tCode: {error_code}\\n\"\n",
    "         f\"\\tMessage: {error_message}\\n\"\n",
    "        )\n",
    "     print(formatted_message)\n",
    "\n",
    "# Example usage\n",
    "log_error(\"File not found\", 404)\n",
    "log_error(\"Access denied\", 403)\n"
   ]
  },
  {
   "cell_type": "code",
   "execution_count": 16,
   "id": "c59aefa7-9e75-4127-b319-6dff34a67083",
   "metadata": {},
   "outputs": [
    {
     "name": "stdout",
     "output_type": "stream",
     "text": [
      "Cleaned string: HelloWorldThisisTest\n"
     ]
    }
   ],
   "source": [
    "\n",
    "import re\n",
    "\n",
    "# This regex matches common escape sequences like \\n, \\t, \\r, \\a, etc.\n",
    "def clean_escape_characters(input_string):\n",
    "     cleaned_string = re.sub(r'\\\\[abfnrtv\\\\\\'\"]', '', input_string)\n",
    "     return cleaned_string\n",
    "\n",
    "# Example usage\n",
    "raw_input = \"Hello\\\\nWorld\\\\tThis\\\\ris\\\\aTest\"\n",
    "cleaned = clean_escape_characters(raw_input)\n",
    "print(\"Cleaned string:\", cleaned)\n"
   ]
  },
  {
   "cell_type": "code",
   "execution_count": 21,
   "id": "6ceaf87d-bee7-4dba-9044-fdeb3c77b64c",
   "metadata": {},
   "outputs": [
    {
     "name": "stdout",
     "output_type": "stream",
     "text": []
    }
   ],
   "source": [
    "\n",
    "import time\n",
    "import sys\n",
    "\n",
    "# Type out the text\n",
    "def animate_text(text, delay=0.1):\n",
    "     for char in text:\n",
    "          print(char, end='', flush=True)\n",
    "          time.sleep(delay)\n",
    " \n",
    "# Pause before deleting\n",
    "     time.sleep(0.5)\n",
    "\n",
    "# Delete the text using backspaces\n",
    "     for _ in text:\n",
    "           print('\\b \\b', end='', flush=True)\n",
    "           time.sleep(delay)\n",
    "\n",
    "# Example usage\n",
    "animate_text(\"Loading...\")\n"
   ]
  },
  {
   "cell_type": "code",
   "execution_count": 34,
   "id": "c892f13d-95c5-4aab-85b0-289867958893",
   "metadata": {},
   "outputs": [
    {
     "name": "stdout",
     "output_type": "stream",
     "text": [
      "Escape Sequences Found:\n",
      "'\\\\n': 2 time(s)\n",
      "\n",
      "Total escape sequences: 7\n",
      "'\\\\t': 1 time(s)\n",
      "\n",
      "Total escape sequences: 7\n",
      "'\\\\r': 1 time(s)\n",
      "\n",
      "Total escape sequences: 7\n",
      "'\\\\b': 1 time(s)\n",
      "\n",
      "Total escape sequences: 7\n",
      "'\\\\a': 1 time(s)\n",
      "\n",
      "Total escape sequences: 7\n",
      "'\\\\f': 1 time(s)\n",
      "\n",
      "Total escape sequences: 7\n"
     ]
    }
   ],
   "source": [
    "\n",
    "import re\n",
    "from collections import Counter\n",
    "# Regex pattern to match common escape sequences\n",
    "def count_escape_sequences(input_string):\n",
    "     pattern = r'\\\\[abfnrtv\\\\\\'\"]'\n",
    "     matches = re.findall(pattern, input_string)\n",
    "     counts = Counter(matches)\n",
    "     print(\"Escape Sequences Found:\")\n",
    "     for esc, count in counts.items():\n",
    "          print(f\"{esc!r}: {count} time(s)\")\n",
    "          print(f\"\\nTotal escape sequences: {sum(counts.values())}\")\n",
    "\n",
    "# Example usage\n",
    "test_string = \"Line1\\\\nLine2\\\\tTabbed\\\\nNewLine\\\\rCarriage\\\\bBackspace\\\\aBell\\\\fFormFeed\"\n",
    "count_escape_sequences(test_string)\n"
   ]
  },
  {
   "cell_type": "code",
   "execution_count": 37,
   "id": "262e9e1a-02a0-4f90-8b71-b4885097dd21",
   "metadata": {},
   "outputs": [
    {
     "name": "stdin",
     "output_type": "stream",
     "text": [
      "Enter a file path:  c/folder/windows\n"
     ]
    },
    {
     "name": "stdout",
     "output_type": "stream",
     "text": [
      "Raw string format: r\"c/folder/windows\"\n"
     ]
    }
   ],
   "source": [
    "\n",
    "def convert_to_raw_string(path):\n",
    "# Escape backslashes by replacing \\ with \\\\\n",
    "     escaped_path = path.replace(\"\\\\\", \"\\\\\\\\\")\n",
    "# Wrap in raw string format\n",
    "     raw_string = f'r\"{escaped_path}\"'\n",
    "     return raw_string\n",
    "\n",
    "# Example usage\n",
    "user_input = input(\"Enter a file path: \")\n",
    "converted = convert_to_raw_string(user_input)\n",
    "print(\"Raw string format:\", converted)\n"
   ]
  },
  {
   "cell_type": "code",
   "execution_count": null,
   "id": "d8eab13b-03c4-4279-bddc-7cf8e14ef486",
   "metadata": {},
   "outputs": [],
   "source": []
  }
 ],
 "metadata": {
  "kernelspec": {
   "display_name": "Python 3 (ipykernel)",
   "language": "python",
   "name": "python3"
  },
  "language_info": {
   "codemirror_mode": {
    "name": "ipython",
    "version": 3
   },
   "file_extension": ".py",
   "mimetype": "text/x-python",
   "name": "python",
   "nbconvert_exporter": "python",
   "pygments_lexer": "ipython3",
   "version": "3.12.7"
  }
 },
 "nbformat": 4,
 "nbformat_minor": 5
}
