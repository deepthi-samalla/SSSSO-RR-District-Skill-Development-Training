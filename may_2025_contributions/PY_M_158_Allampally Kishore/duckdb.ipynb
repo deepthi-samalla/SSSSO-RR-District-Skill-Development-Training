{
 "cells": [
  {
   "cell_type": "code",
   "execution_count": 1,
   "id": "dc635ce2",
   "metadata": {},
   "outputs": [
    {
     "name": "stdout",
     "output_type": "stream",
     "text": [
      "   id  value\n",
      "0   2     20\n",
      "1   3     30\n"
     ]
    }
   ],
   "source": [
    "import duckdb\n",
    "import pandas as pd\n",
    "\n",
    "# Example 1: Run a SQL query on a Pandas DataFrame\n",
    "df = pd.DataFrame({\"id\": [1, 2, 3], \"value\": [10, 20, 30]})\n",
    "result = duckdb.query(\"SELECT * FROM df WHERE value > 15\").df()\n",
    "print(result)"
   ]
  }
 ],
 "metadata": {
  "kernelspec": {
   "display_name": "Python 3",
   "language": "python",
   "name": "python3"
  },
  "language_info": {
   "codemirror_mode": {
    "name": "ipython",
    "version": 3
   },
   "file_extension": ".py",
   "mimetype": "text/x-python",
   "name": "python",
   "nbconvert_exporter": "python",
   "pygments_lexer": "ipython3",
   "version": "3.13.3"
  }
 },
 "nbformat": 4,
 "nbformat_minor": 5
}
