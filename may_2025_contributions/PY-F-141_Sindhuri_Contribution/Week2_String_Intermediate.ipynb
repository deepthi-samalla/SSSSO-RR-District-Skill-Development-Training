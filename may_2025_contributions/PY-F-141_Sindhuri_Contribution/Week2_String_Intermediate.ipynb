{
 "cells": [
  {
   "cell_type": "code",
   "execution_count": 2,
   "id": "2ab667a1-68a1-4fd1-8aac-e08abf049fc7",
   "metadata": {},
   "outputs": [
    {
     "name": "stdin",
     "output_type": "stream",
     "text": [
      "Enter a string to reverse:  done\n"
     ]
    },
    {
     "name": "stdout",
     "output_type": "stream",
     "text": [
      "Reversed string: enod\n"
     ]
    }
   ],
   "source": [
    "\n",
    "def reverse_string(s):\n",
    "     return s[::-1]\n",
    "\n",
    "# Example usage\n",
    "user_input = input(\"Enter a string to reverse: \")\n",
    "reversed_str = reverse_string(user_input)\n",
    "print(f\"Reversed string: {reversed_str}\")\n",
    "\n",
    "\n",
    "    "
   ]
  },
  {
   "cell_type": "code",
   "execution_count": 3,
   "id": "6e62c405-778e-4ccf-af06-650b87afd9dd",
   "metadata": {},
   "outputs": [
    {
     "name": "stdin",
     "output_type": "stream",
     "text": [
      "Enter a string:  alpha123\n"
     ]
    },
    {
     "name": "stdout",
     "output_type": "stream",
     "text": [
      "The string does not contain only digits.\n"
     ]
    }
   ],
   "source": [
    "\n",
    "# Get input from the user\n",
    "user_input = input(\"Enter a string: \")\n",
    "\n",
    "# Check if the string contains only digits\n",
    "if user_input.isdigit():\n",
    "     print(\"The string contains only digits.\")\n",
    "else:\n",
    "     print(\"The string does not contain only digits.\")\n"
   ]
  },
  {
   "cell_type": "code",
   "execution_count": 4,
   "id": "b6aa0a1f-6896-43b2-aa0b-ace280bc1a7d",
   "metadata": {},
   "outputs": [
    {
     "name": "stdin",
     "output_type": "stream",
     "text": [
      "Enter a string:  python program\n"
     ]
    },
    {
     "name": "stdout",
     "output_type": "stream",
     "text": [
      "Modified string: python-program\n"
     ]
    }
   ],
   "source": [
    "\n",
    "# Get input from the user\n",
    "user_input = input(\"Enter a string: \")\n",
    "\n",
    "# Replace spaces with dashes\n",
    "modified_string = user_input.replace(\" \", \"-\")\n",
    "\n",
    "# Display the result\n",
    "print(f\"Modified string: {modified_string}\")\n"
   ]
  },
  {
   "cell_type": "code",
   "execution_count": 6,
   "id": "b92cbe9a-11b3-4531-9a33-5716c22b2873",
   "metadata": {},
   "outputs": [
    {
     "name": "stdin",
     "output_type": "stream",
     "text": [
      "Enter a sentence:  welcome to python programming\n"
     ]
    },
    {
     "name": "stdout",
     "output_type": "stream",
     "text": [
      "Titled sentence: Welcome To Python Programming\n"
     ]
    }
   ],
   "source": [
    "\n",
    "#Get input from the user\n",
    "user_input = input(\"Enter a sentence: \")\n",
    "\n",
    "# Capitalize the first letter of every word\n",
    "titled_sentence = user_input.title()\n",
    "\n",
    "# Display the result\n",
    "print(f\"Titled sentence: {titled_sentence}\")\n"
   ]
  },
  {
   "cell_type": "code",
   "execution_count": 8,
   "id": "89caae94-a815-408e-b83b-cbc766b0f19e",
   "metadata": {},
   "outputs": [
    {
     "name": "stdin",
     "output_type": "stream",
     "text": [
      "Enter the first string:  Lower\n",
      "Enter the second string:  lower\n"
     ]
    },
    {
     "name": "stdout",
     "output_type": "stream",
     "text": [
      "The strings are equal (case-insensitive).\n"
     ]
    }
   ],
   "source": [
    "\n",
    "# Get input from the user\n",
    "string1 = input(\"Enter the first string: \")\n",
    "string2 = input(\"Enter the second string: \")\n",
    "\n",
    "# Compare strings ignoring case\n",
    "if string1.lower() == string2.lower():\n",
    "     print(\"The strings are equal (case-insensitive).\")\n",
    "else:\n",
    "     print(\"The strings are not equal.\")\n"
   ]
  },
  {
   "cell_type": "code",
   "execution_count": 14,
   "id": "f415cad1-698e-49a3-ac09-aa66a429fa08",
   "metadata": {},
   "outputs": [
    {
     "name": "stdin",
     "output_type": "stream",
     "text": [
      "Enter a comma-separated string:  hello, sindhu\n"
     ]
    },
    {
     "name": "stdout",
     "output_type": "stream",
     "text": [
      "The elements are:\n",
      "hello\n",
      "sindhu\n"
     ]
    }
   ],
   "source": [
    "\n",
    "# Get input from the user\n",
    "user_input = input(\"Enter a comma-separated string: \")\n",
    "\n",
    "# Split the string on commas\n",
    "elements = user_input.split(\",\")\n",
    "\n",
    "# Print each element\n",
    "print(\"The elements are:\")\n",
    "\n",
    "for element in elements:\n",
    "     print(element.strip())  # .strip() removes any leading/trailing spaces\n",
    "\n"
   ]
  },
  {
   "cell_type": "code",
   "execution_count": 16,
   "id": "e43bb987-9823-4509-8316-a111ec30142b",
   "metadata": {},
   "outputs": [
    {
     "name": "stdin",
     "output_type": "stream",
     "text": [
      "Enter a sentence:  hello \"team\"\n"
     ]
    },
    {
     "name": "stdout",
     "output_type": "stream",
     "text": [
      "Sentence without punctuation: hello team\n"
     ]
    }
   ],
   "source": [
    "\n",
    "import string\n",
    "\n",
    "# Get input from the user\n",
    "user_input = input(\"Enter a sentence: \")\n",
    "\n",
    "# Remove punctuation\n",
    "no_punctuation = ''.join(char for char in user_input if char not in string.punctuation)\n",
    "\n",
    "# Display the result\n",
    "print(f\"Sentence without punctuation: {no_punctuation}\")\n"
   ]
  },
  {
   "cell_type": "code",
   "execution_count": 17,
   "id": "13902893-958b-4493-bf6a-4061c31b7c5b",
   "metadata": {},
   "outputs": [
    {
     "name": "stdin",
     "output_type": "stream",
     "text": [
      "Enter an email address:  sindhu.elegant@gmail.com\n"
     ]
    },
    {
     "name": "stdout",
     "output_type": "stream",
     "text": [
      "The domain of the email address is: gmail.com\n"
     ]
    }
   ],
   "source": [
    "\n",
    "# Get input from the user\n",
    "email = input(\"Enter an email address: \")\n",
    "\n",
    "# Extract the domain using split()\n",
    "parts = email.split(\"@\")\n",
    "if len(parts) == 2:\n",
    "     domain = parts[1]\n",
    "     print(f\"The domain of the email address is: {domain}\")\n",
    "else:\n",
    "     print(\"Invalid email address format.\")\n"
   ]
  },
  {
   "cell_type": "code",
   "execution_count": 18,
   "id": "d50b733b-5b60-431f-87c9-2875a69c5fcc",
   "metadata": {},
   "outputs": [
    {
     "name": "stdin",
     "output_type": "stream",
     "text": [
      "Enter a string:  apply\n"
     ]
    },
    {
     "name": "stdout",
     "output_type": "stream",
     "text": [
      "The string starts with a vowel and ends with a consonant.\n"
     ]
    }
   ],
   "source": [
    "\n",
    "# Example usage\n",
    "user_input = input(\"Enter a string: \")\n",
    "\n",
    "user_input_1 = user_input.strip().lower()\n",
    "vowels = \"aeiou\"\n",
    "consonants = \"bcdfghjklmnpqrstvwxyz\"\n",
    "\n",
    "if user_input_1[0] in vowels and user_input_1[-1] in consonants:\n",
    "     print(\"The string starts with a vowel and ends with a consonant.\")\n",
    "else:\n",
    "     print(\"The string does NOT start with a vowel and end with a consonant.\")\n"
   ]
  },
  {
   "cell_type": "code",
   "execution_count": null,
   "id": "a1afe296-337b-4eb8-907b-105f04492377",
   "metadata": {},
   "outputs": [],
   "source": [
    "# Example usage\n",
    "user_input = input(\"Enter a sentence: \")\n",
    "words = user_input.split()\n",
    "\n",
    "for word in words:\n",
    "     if len(word)>4:\n",
    "          print(\"Words with more than 4 letters:\", word)\n",
    "\n"
   ]
  },
  {
   "cell_type": "code",
   "execution_count": null,
   "id": "d05566c7-b787-4cc8-b434-a3c145526218",
   "metadata": {},
   "outputs": [],
   "source": []
  }
 ],
 "metadata": {
  "kernelspec": {
   "display_name": "Python 3 (ipykernel)",
   "language": "python",
   "name": "python3"
  },
  "language_info": {
   "codemirror_mode": {
    "name": "ipython",
    "version": 3
   },
   "file_extension": ".py",
   "mimetype": "text/x-python",
   "name": "python",
   "nbconvert_exporter": "python",
   "pygments_lexer": "ipython3",
   "version": "3.12.7"
  }
 },
 "nbformat": 4,
 "nbformat_minor": 5
}
